{
 "cells": [
  {
   "cell_type": "markdown",
   "metadata": {
    "pycharm": {
     "name": "#%% md\n"
    }
   },
   "source": [
    "# Predicting Heart Disease"
   ]
  },
  {
   "cell_type": "markdown",
   "metadata": {
    "pycharm": {
     "name": "#%% md\n"
    }
   },
   "source": [
    "Image"
   ]
  },
  {
   "cell_type": "markdown",
   "metadata": {
    "pycharm": {
     "name": "#%% md\n"
    }
   },
   "source": [
    "Author: Xiaohua Su\n",
    "\n",
    "Date: May 17th, 2022"
   ]
  },
  {
   "cell_type": "markdown",
   "metadata": {
    "pycharm": {
     "name": "#%% md\n"
    }
   },
   "source": [
    "# Overview"
   ]
  },
  {
   "cell_type": "markdown",
   "source": [
    "As of 2020, heart disease is the leading cause of death in the US, with the disease claiming close to 700,000 that year. It is the leading cause of death regardless of gender and for most race/ethnicity. This disease can lead to early death in individuals, increase medical visits and a lost of productivity in our economy. As such, it is important to try to address this. My project aims to help build a predictive model for heart disease. By being able to predict whether a patient has heart disease or not, this can be used in hospital to flag doctors to discuss way to manage this disease and prevent early death and potentially slow/mitigate the disease progression."
   ],
   "metadata": {
    "collapsed": false,
    "pycharm": {
     "name": "#%% md\n"
    }
   }
  },
  {
   "cell_type": "markdown",
   "metadata": {
    "pycharm": {
     "name": "#%% md\n"
    }
   },
   "source": [
    "# Business Problem"
   ]
  },
  {
   "cell_type": "markdown",
   "metadata": {
    "pycharm": {
     "name": "#%% md\n"
    }
   },
   "source": [
    "With how prevalent heart disease is in the nation, it is important for doctors to discuss with their patients about early prevention. In order to do this, doctors would need to know more about a patient’s history in order to diagnose them with having heart disease, potentially requiring blood work in addition. Getting the results from the blood work usually happens after the patient’s is already out of the doctor’s office. Calls will then be made to discuss these results and potential follow up appointments will be made. \n",
    "\n",
    "Our model aims to predict whether a patient, who comes into a doctor’s office/hospital, has heart disease. By being able to predict if the patient has heart disease or not, we can then flag this patient for the doctor electronically. Instead of having to waiting for a phone call for a discussion on, that may not be between the patient and doctor, conversation between the doctor and patient about managing heart disease can begin. This flagging can help start the conversation between the doctor and patient about early prevention steps that can be made and can help lead the doctor in asking certain questions for further verification and testing."
   ]
  },
  {
   "cell_type": "markdown",
   "metadata": {
    "pycharm": {
     "name": "#%% md\n"
    }
   },
   "source": [
    "# Data"
   ]
  },
  {
   "cell_type": "markdown",
   "metadata": {
    "pycharm": {
     "name": "#%% md\n"
    }
   },
   "source": [
    "The data was taken from the [CDC's 2020 Behavorial Risk Factor Surveillance System](https://www.cdc.gov/brfss/annual_data/annual_2020.html) (BRFSS). Due to how large the data is, this data was not uploaded to the github but can be found where the data was taken underneath the data files section.\n",
    "\n",
    "It is a survey data performed between 2020 to 2021 from the CDC to monitor people's health-behavior, chronic health conditions, and use of services to help manage their disease. The data contains information of the individual such as `race` and `gender` that we will not use to avoid these biases in our models. A new column was created as the data does not specifically have a column called heart disease but instead has two two columns called `cvdinfr4` and `cvdcrhd4` that corresponded with whether the individual was ever told/diagnose with having a heart attack and told that they had coronary heart disease. Both questions, get at the issue of heart disease."
   ]
  },
  {
   "cell_type": "markdown",
   "metadata": {
    "pycharm": {
     "name": "#%% md\n"
    }
   },
   "source": [
    "# Imports and Loading in Data "
   ]
  },
  {
   "cell_type": "code",
   "execution_count": 1,
   "metadata": {
    "pycharm": {
     "name": "#%%\n"
    }
   },
   "outputs": [],
   "source": [
    "import pandas as pd\n",
    "\n",
    "\n",
    "from sklearn.model_selection import train_test_split, GridSearchCV\n",
    "from sklearn.preprocessing import MinMaxScaler, OneHotEncoder\n",
    "from sklearn.compose import ColumnTransformer\n",
    "from sklearn.linear_model import LogisticRegression\n",
    "from sklearn.ensemble import RandomForestClassifier\n",
    "from sklearn.dummy import DummyClassifier\n",
    "from sklearn.tree import DecisionTreeClassifier\n",
    "from sklearn.neighbors import KNeighborsClassifier\n",
    "from xgboost import XGBClassifier\n",
    "from sklearn.linear_model import BayesianRidge\n",
    "from sklearn.experimental import enable_iterative_imputer\n",
    "from sklearn.impute import IterativeImputer\n",
    "from sklearn.pipeline import Pipeline\n",
    "from sklearn.decomposition import PCA\n",
    "\n",
    "from imblearn.over_sampling import SMOTE\n",
    "from imblearn.pipeline import Pipeline as ImPipeline\n",
    "from imblearn.under_sampling import RandomUnderSampler\n",
    "\n",
    "from model import *\n",
    "import joblib\n",
    "\n",
    "# Warnings\n",
    "import warnings\n",
    "from statsmodels.tools.sm_exceptions import ConvergenceWarning\n",
    "warnings.simplefilter('ignore', ConvergenceWarning)"
   ]
  },
  {
   "cell_type": "code",
   "execution_count": 2,
   "metadata": {
    "pycharm": {
     "name": "#%%\n"
    }
   },
   "outputs": [],
   "source": [
    "pd.set_option('display.max_columns', None)"
   ]
  },
  {
   "cell_type": "code",
   "execution_count": 3,
   "metadata": {
    "pycharm": {
     "name": "#%%\n"
    }
   },
   "outputs": [],
   "source": [
    "heart_df = pd.read_csv('./Data/heart_df.csv')"
   ]
  },
  {
   "cell_type": "code",
   "execution_count": 4,
   "metadata": {
    "pycharm": {
     "name": "#%%\n"
    }
   },
   "outputs": [
    {
     "data": {
      "text/plain": "        state  general_health  physical_health  mental_health  \\\n0         1.0             2.0              3.0           30.0   \n1         1.0             3.0              0.0            0.0   \n2         1.0             3.0              0.0            0.0   \n3         1.0             2.0              0.0            0.0   \n4         1.0             4.0             20.0           30.0   \n...       ...             ...              ...            ...   \n331523   72.0             3.0              0.0            0.0   \n331524   72.0             3.0              0.0            0.0   \n331525   72.0             3.0              0.0            0.0   \n331526   72.0             3.0              0.0            0.0   \n331527   72.0             3.0              2.0            7.0   \n\n        health_insurance  health_care_doctors  no_doc_bc_cost  last_checkup  \\\n0                    2.0                  3.0             1.0           4.0   \n1                    1.0                  1.0             1.0           1.0   \n2                    1.0                  1.0             2.0           1.0   \n3                    1.0                  1.0             2.0           1.0   \n4                    1.0                  1.0             2.0           2.0   \n...                  ...                  ...             ...           ...   \n331523               2.0                  1.0             2.0           2.0   \n331524               1.0                  1.0             2.0           3.0   \n331525               1.0                  1.0             2.0           2.0   \n331526               1.0                  1.0             2.0           1.0   \n331527               1.0                  1.0             2.0           1.0   \n\n        excercise_30  sleep  stroke  asthma  skin_cancer  other_cancer  \\\n0                1.0    5.0     2.0     1.0          1.0           1.0   \n1                1.0    7.0     2.0     1.0          2.0           2.0   \n2                1.0    7.0     2.0     2.0          2.0           1.0   \n3                1.0    7.0     1.0     2.0          2.0           2.0   \n4                1.0    8.0     2.0     1.0          2.0           2.0   \n...              ...    ...     ...     ...          ...           ...   \n331523           1.0    6.0     2.0     2.0          2.0           2.0   \n331524           2.0   12.0     2.0     2.0          2.0           2.0   \n331525           1.0    8.0     2.0     2.0          2.0           2.0   \n331526           1.0    6.0     2.0     2.0          2.0           2.0   \n331527           2.0    6.0     1.0     1.0          2.0           2.0   \n\n        copd_type_issue  arthritis_anyform  depressive_disorder  \\\n0                   1.0                1.0                  1.0   \n1                   2.0                1.0                  1.0   \n2                   2.0                1.0                  2.0   \n3                   2.0                2.0                  2.0   \n4                   1.0                1.0                  2.0   \n...                 ...                ...                  ...   \n331523              2.0                2.0                  1.0   \n331524              2.0                2.0                  2.0   \n331525              2.0                2.0                  2.0   \n331526              2.0                2.0                  2.0   \n331527              2.0                2.0                  1.0   \n\n        kidney_disease  diabetes  education_lvl  rent_own  employment_status  \\\n0                  2.0       1.0            6.0       1.0                4.0   \n1                  2.0       3.0            6.0       1.0                7.0   \n2                  2.0       3.0            5.0       1.0                7.0   \n3                  2.0       3.0            6.0       2.0                7.0   \n4                  2.0       1.0            4.0       3.0                8.0   \n...                ...       ...            ...       ...                ...   \n331523             2.0       3.0            5.0       1.0                1.0   \n331524             2.0       3.0            3.0       2.0                5.0   \n331525             2.0       3.0            4.0       1.0                5.0   \n331526             2.0       3.0            6.0       1.0                1.0   \n331527             NaN       4.0            6.0       1.0                8.0   \n\n        income_level  weight_kg  height_m  difficulty_walking  \\\n0                1.0       48.0     170.0                 2.0   \n1               99.0        NaN     163.0                 2.0   \n2                7.0        NaN     173.0                 2.0   \n3                NaN       57.0     168.0                 2.0   \n4                5.0       82.0     175.0                 2.0   \n...              ...        ...       ...                 ...   \n331523          99.0       55.0     150.0                 2.0   \n331524           4.0       76.0     152.0                 2.0   \n331525           1.0       72.0     124.0                 2.0   \n331526          99.0       80.0     173.0                 2.0   \n331527           5.0       90.0     170.0                 2.0   \n\n        smoke100_lifetime  smokeless_tobacco_products  alcohol_consumption_30  \\\n0                     1.0                         3.0                     0.0   \n1                     NaN                         NaN                     NaN   \n2                     2.0                         3.0                     0.0   \n3                     2.0                         3.0                     0.0   \n4                     1.0                         1.0                     0.0   \n...                   ...                         ...                     ...   \n331523                2.0                         3.0                     0.0   \n331524                2.0                         3.0                     0.0   \n331525                2.0                         3.0                     0.0   \n331526                7.0                         3.0                     4.0   \n331527                2.0                         3.0                     0.0   \n\n        high_risk_situations  ecigaret  heart_disease  \n0                        2.0       1.0            0.0  \n1                        NaN       NaN            0.0  \n2                        2.0       2.0            0.0  \n3                        2.0       2.0            0.0  \n4                        2.0       1.0            0.0  \n...                      ...       ...            ...  \n331523                   2.0       NaN            0.0  \n331524                   2.0       NaN            0.0  \n331525                   2.0       NaN            0.0  \n331526                   2.0       NaN            0.0  \n331527                   2.0       NaN            0.0  \n\n[331528 rows x 32 columns]",
      "text/html": "<div>\n<style scoped>\n    .dataframe tbody tr th:only-of-type {\n        vertical-align: middle;\n    }\n\n    .dataframe tbody tr th {\n        vertical-align: top;\n    }\n\n    .dataframe thead th {\n        text-align: right;\n    }\n</style>\n<table border=\"1\" class=\"dataframe\">\n  <thead>\n    <tr style=\"text-align: right;\">\n      <th></th>\n      <th>state</th>\n      <th>general_health</th>\n      <th>physical_health</th>\n      <th>mental_health</th>\n      <th>health_insurance</th>\n      <th>health_care_doctors</th>\n      <th>no_doc_bc_cost</th>\n      <th>last_checkup</th>\n      <th>excercise_30</th>\n      <th>sleep</th>\n      <th>stroke</th>\n      <th>asthma</th>\n      <th>skin_cancer</th>\n      <th>other_cancer</th>\n      <th>copd_type_issue</th>\n      <th>arthritis_anyform</th>\n      <th>depressive_disorder</th>\n      <th>kidney_disease</th>\n      <th>diabetes</th>\n      <th>education_lvl</th>\n      <th>rent_own</th>\n      <th>employment_status</th>\n      <th>income_level</th>\n      <th>weight_kg</th>\n      <th>height_m</th>\n      <th>difficulty_walking</th>\n      <th>smoke100_lifetime</th>\n      <th>smokeless_tobacco_products</th>\n      <th>alcohol_consumption_30</th>\n      <th>high_risk_situations</th>\n      <th>ecigaret</th>\n      <th>heart_disease</th>\n    </tr>\n  </thead>\n  <tbody>\n    <tr>\n      <th>0</th>\n      <td>1.0</td>\n      <td>2.0</td>\n      <td>3.0</td>\n      <td>30.0</td>\n      <td>2.0</td>\n      <td>3.0</td>\n      <td>1.0</td>\n      <td>4.0</td>\n      <td>1.0</td>\n      <td>5.0</td>\n      <td>2.0</td>\n      <td>1.0</td>\n      <td>1.0</td>\n      <td>1.0</td>\n      <td>1.0</td>\n      <td>1.0</td>\n      <td>1.0</td>\n      <td>2.0</td>\n      <td>1.0</td>\n      <td>6.0</td>\n      <td>1.0</td>\n      <td>4.0</td>\n      <td>1.0</td>\n      <td>48.0</td>\n      <td>170.0</td>\n      <td>2.0</td>\n      <td>1.0</td>\n      <td>3.0</td>\n      <td>0.0</td>\n      <td>2.0</td>\n      <td>1.0</td>\n      <td>0.0</td>\n    </tr>\n    <tr>\n      <th>1</th>\n      <td>1.0</td>\n      <td>3.0</td>\n      <td>0.0</td>\n      <td>0.0</td>\n      <td>1.0</td>\n      <td>1.0</td>\n      <td>1.0</td>\n      <td>1.0</td>\n      <td>1.0</td>\n      <td>7.0</td>\n      <td>2.0</td>\n      <td>1.0</td>\n      <td>2.0</td>\n      <td>2.0</td>\n      <td>2.0</td>\n      <td>1.0</td>\n      <td>1.0</td>\n      <td>2.0</td>\n      <td>3.0</td>\n      <td>6.0</td>\n      <td>1.0</td>\n      <td>7.0</td>\n      <td>99.0</td>\n      <td>NaN</td>\n      <td>163.0</td>\n      <td>2.0</td>\n      <td>NaN</td>\n      <td>NaN</td>\n      <td>NaN</td>\n      <td>NaN</td>\n      <td>NaN</td>\n      <td>0.0</td>\n    </tr>\n    <tr>\n      <th>2</th>\n      <td>1.0</td>\n      <td>3.0</td>\n      <td>0.0</td>\n      <td>0.0</td>\n      <td>1.0</td>\n      <td>1.0</td>\n      <td>2.0</td>\n      <td>1.0</td>\n      <td>1.0</td>\n      <td>7.0</td>\n      <td>2.0</td>\n      <td>2.0</td>\n      <td>2.0</td>\n      <td>1.0</td>\n      <td>2.0</td>\n      <td>1.0</td>\n      <td>2.0</td>\n      <td>2.0</td>\n      <td>3.0</td>\n      <td>5.0</td>\n      <td>1.0</td>\n      <td>7.0</td>\n      <td>7.0</td>\n      <td>NaN</td>\n      <td>173.0</td>\n      <td>2.0</td>\n      <td>2.0</td>\n      <td>3.0</td>\n      <td>0.0</td>\n      <td>2.0</td>\n      <td>2.0</td>\n      <td>0.0</td>\n    </tr>\n    <tr>\n      <th>3</th>\n      <td>1.0</td>\n      <td>2.0</td>\n      <td>0.0</td>\n      <td>0.0</td>\n      <td>1.0</td>\n      <td>1.0</td>\n      <td>2.0</td>\n      <td>1.0</td>\n      <td>1.0</td>\n      <td>7.0</td>\n      <td>1.0</td>\n      <td>2.0</td>\n      <td>2.0</td>\n      <td>2.0</td>\n      <td>2.0</td>\n      <td>2.0</td>\n      <td>2.0</td>\n      <td>2.0</td>\n      <td>3.0</td>\n      <td>6.0</td>\n      <td>2.0</td>\n      <td>7.0</td>\n      <td>NaN</td>\n      <td>57.0</td>\n      <td>168.0</td>\n      <td>2.0</td>\n      <td>2.0</td>\n      <td>3.0</td>\n      <td>0.0</td>\n      <td>2.0</td>\n      <td>2.0</td>\n      <td>0.0</td>\n    </tr>\n    <tr>\n      <th>4</th>\n      <td>1.0</td>\n      <td>4.0</td>\n      <td>20.0</td>\n      <td>30.0</td>\n      <td>1.0</td>\n      <td>1.0</td>\n      <td>2.0</td>\n      <td>2.0</td>\n      <td>1.0</td>\n      <td>8.0</td>\n      <td>2.0</td>\n      <td>1.0</td>\n      <td>2.0</td>\n      <td>2.0</td>\n      <td>1.0</td>\n      <td>1.0</td>\n      <td>2.0</td>\n      <td>2.0</td>\n      <td>1.0</td>\n      <td>4.0</td>\n      <td>3.0</td>\n      <td>8.0</td>\n      <td>5.0</td>\n      <td>82.0</td>\n      <td>175.0</td>\n      <td>2.0</td>\n      <td>1.0</td>\n      <td>1.0</td>\n      <td>0.0</td>\n      <td>2.0</td>\n      <td>1.0</td>\n      <td>0.0</td>\n    </tr>\n    <tr>\n      <th>...</th>\n      <td>...</td>\n      <td>...</td>\n      <td>...</td>\n      <td>...</td>\n      <td>...</td>\n      <td>...</td>\n      <td>...</td>\n      <td>...</td>\n      <td>...</td>\n      <td>...</td>\n      <td>...</td>\n      <td>...</td>\n      <td>...</td>\n      <td>...</td>\n      <td>...</td>\n      <td>...</td>\n      <td>...</td>\n      <td>...</td>\n      <td>...</td>\n      <td>...</td>\n      <td>...</td>\n      <td>...</td>\n      <td>...</td>\n      <td>...</td>\n      <td>...</td>\n      <td>...</td>\n      <td>...</td>\n      <td>...</td>\n      <td>...</td>\n      <td>...</td>\n      <td>...</td>\n      <td>...</td>\n    </tr>\n    <tr>\n      <th>331523</th>\n      <td>72.0</td>\n      <td>3.0</td>\n      <td>0.0</td>\n      <td>0.0</td>\n      <td>2.0</td>\n      <td>1.0</td>\n      <td>2.0</td>\n      <td>2.0</td>\n      <td>1.0</td>\n      <td>6.0</td>\n      <td>2.0</td>\n      <td>2.0</td>\n      <td>2.0</td>\n      <td>2.0</td>\n      <td>2.0</td>\n      <td>2.0</td>\n      <td>1.0</td>\n      <td>2.0</td>\n      <td>3.0</td>\n      <td>5.0</td>\n      <td>1.0</td>\n      <td>1.0</td>\n      <td>99.0</td>\n      <td>55.0</td>\n      <td>150.0</td>\n      <td>2.0</td>\n      <td>2.0</td>\n      <td>3.0</td>\n      <td>0.0</td>\n      <td>2.0</td>\n      <td>NaN</td>\n      <td>0.0</td>\n    </tr>\n    <tr>\n      <th>331524</th>\n      <td>72.0</td>\n      <td>3.0</td>\n      <td>0.0</td>\n      <td>0.0</td>\n      <td>1.0</td>\n      <td>1.0</td>\n      <td>2.0</td>\n      <td>3.0</td>\n      <td>2.0</td>\n      <td>12.0</td>\n      <td>2.0</td>\n      <td>2.0</td>\n      <td>2.0</td>\n      <td>2.0</td>\n      <td>2.0</td>\n      <td>2.0</td>\n      <td>2.0</td>\n      <td>2.0</td>\n      <td>3.0</td>\n      <td>3.0</td>\n      <td>2.0</td>\n      <td>5.0</td>\n      <td>4.0</td>\n      <td>76.0</td>\n      <td>152.0</td>\n      <td>2.0</td>\n      <td>2.0</td>\n      <td>3.0</td>\n      <td>0.0</td>\n      <td>2.0</td>\n      <td>NaN</td>\n      <td>0.0</td>\n    </tr>\n    <tr>\n      <th>331525</th>\n      <td>72.0</td>\n      <td>3.0</td>\n      <td>0.0</td>\n      <td>0.0</td>\n      <td>1.0</td>\n      <td>1.0</td>\n      <td>2.0</td>\n      <td>2.0</td>\n      <td>1.0</td>\n      <td>8.0</td>\n      <td>2.0</td>\n      <td>2.0</td>\n      <td>2.0</td>\n      <td>2.0</td>\n      <td>2.0</td>\n      <td>2.0</td>\n      <td>2.0</td>\n      <td>2.0</td>\n      <td>3.0</td>\n      <td>4.0</td>\n      <td>1.0</td>\n      <td>5.0</td>\n      <td>1.0</td>\n      <td>72.0</td>\n      <td>124.0</td>\n      <td>2.0</td>\n      <td>2.0</td>\n      <td>3.0</td>\n      <td>0.0</td>\n      <td>2.0</td>\n      <td>NaN</td>\n      <td>0.0</td>\n    </tr>\n    <tr>\n      <th>331526</th>\n      <td>72.0</td>\n      <td>3.0</td>\n      <td>0.0</td>\n      <td>0.0</td>\n      <td>1.0</td>\n      <td>1.0</td>\n      <td>2.0</td>\n      <td>1.0</td>\n      <td>1.0</td>\n      <td>6.0</td>\n      <td>2.0</td>\n      <td>2.0</td>\n      <td>2.0</td>\n      <td>2.0</td>\n      <td>2.0</td>\n      <td>2.0</td>\n      <td>2.0</td>\n      <td>2.0</td>\n      <td>3.0</td>\n      <td>6.0</td>\n      <td>1.0</td>\n      <td>1.0</td>\n      <td>99.0</td>\n      <td>80.0</td>\n      <td>173.0</td>\n      <td>2.0</td>\n      <td>7.0</td>\n      <td>3.0</td>\n      <td>4.0</td>\n      <td>2.0</td>\n      <td>NaN</td>\n      <td>0.0</td>\n    </tr>\n    <tr>\n      <th>331527</th>\n      <td>72.0</td>\n      <td>3.0</td>\n      <td>2.0</td>\n      <td>7.0</td>\n      <td>1.0</td>\n      <td>1.0</td>\n      <td>2.0</td>\n      <td>1.0</td>\n      <td>2.0</td>\n      <td>6.0</td>\n      <td>1.0</td>\n      <td>1.0</td>\n      <td>2.0</td>\n      <td>2.0</td>\n      <td>2.0</td>\n      <td>2.0</td>\n      <td>1.0</td>\n      <td>NaN</td>\n      <td>4.0</td>\n      <td>6.0</td>\n      <td>1.0</td>\n      <td>8.0</td>\n      <td>5.0</td>\n      <td>90.0</td>\n      <td>170.0</td>\n      <td>2.0</td>\n      <td>2.0</td>\n      <td>3.0</td>\n      <td>0.0</td>\n      <td>2.0</td>\n      <td>NaN</td>\n      <td>0.0</td>\n    </tr>\n  </tbody>\n</table>\n<p>331528 rows × 32 columns</p>\n</div>"
     },
     "execution_count": 4,
     "metadata": {},
     "output_type": "execute_result"
    }
   ],
   "source": [
    "heart_df"
   ]
  },
  {
   "cell_type": "code",
   "execution_count": 5,
   "metadata": {
    "pycharm": {
     "name": "#%%\n"
    }
   },
   "outputs": [
    {
     "data": {
      "text/plain": "        state  general_health  physical_health  mental_health  \\\n0         1.0             2.0              3.0           30.0   \n1         1.0             3.0              0.0            0.0   \n2         1.0             3.0              0.0            0.0   \n3         1.0             2.0              0.0            0.0   \n4         1.0             4.0             20.0           30.0   \n...       ...             ...              ...            ...   \n331523   72.0             3.0              0.0            0.0   \n331524   72.0             3.0              0.0            0.0   \n331525   72.0             3.0              0.0            0.0   \n331526   72.0             3.0              0.0            0.0   \n331527   72.0             3.0              2.0            7.0   \n\n        health_insurance  health_care_doctors  no_doc_bc_cost  last_checkup  \\\n0                    2.0                  3.0             1.0           4.0   \n1                    1.0                  1.0             1.0           1.0   \n2                    1.0                  1.0             2.0           1.0   \n3                    1.0                  1.0             2.0           1.0   \n4                    1.0                  1.0             2.0           2.0   \n...                  ...                  ...             ...           ...   \n331523               2.0                  1.0             2.0           2.0   \n331524               1.0                  1.0             2.0           3.0   \n331525               1.0                  1.0             2.0           2.0   \n331526               1.0                  1.0             2.0           1.0   \n331527               1.0                  1.0             2.0           1.0   \n\n        excercise_30  sleep  stroke  asthma  skin_cancer  other_cancer  \\\n0                1.0    5.0     2.0     1.0          1.0           1.0   \n1                1.0    7.0     2.0     1.0          2.0           2.0   \n2                1.0    7.0     2.0     2.0          2.0           1.0   \n3                1.0    7.0     1.0     2.0          2.0           2.0   \n4                1.0    8.0     2.0     1.0          2.0           2.0   \n...              ...    ...     ...     ...          ...           ...   \n331523           1.0    6.0     2.0     2.0          2.0           2.0   \n331524           2.0   12.0     2.0     2.0          2.0           2.0   \n331525           1.0    8.0     2.0     2.0          2.0           2.0   \n331526           1.0    6.0     2.0     2.0          2.0           2.0   \n331527           2.0    6.0     1.0     1.0          2.0           2.0   \n\n        copd_type_issue  arthritis_anyform  depressive_disorder  \\\n0                   1.0                1.0                  1.0   \n1                   2.0                1.0                  1.0   \n2                   2.0                1.0                  2.0   \n3                   2.0                2.0                  2.0   \n4                   1.0                1.0                  2.0   \n...                 ...                ...                  ...   \n331523              2.0                2.0                  1.0   \n331524              2.0                2.0                  2.0   \n331525              2.0                2.0                  2.0   \n331526              2.0                2.0                  2.0   \n331527              2.0                2.0                  1.0   \n\n        kidney_disease  diabetes  education_lvl  rent_own  employment_status  \\\n0                  2.0       1.0            6.0       1.0                4.0   \n1                  2.0       3.0            6.0       1.0                7.0   \n2                  2.0       3.0            5.0       1.0                7.0   \n3                  2.0       3.0            6.0       2.0                7.0   \n4                  2.0       1.0            4.0       3.0                8.0   \n...                ...       ...            ...       ...                ...   \n331523             2.0       3.0            5.0       1.0                1.0   \n331524             2.0       3.0            3.0       2.0                5.0   \n331525             2.0       3.0            4.0       1.0                5.0   \n331526             2.0       3.0            6.0       1.0                1.0   \n331527             NaN       4.0            6.0       1.0                8.0   \n\n        income_level  weight_kg  height_m  difficulty_walking  \\\n0                1.0       48.0     170.0                 2.0   \n1               99.0        NaN     163.0                 2.0   \n2                7.0        NaN     173.0                 2.0   \n3                NaN       57.0     168.0                 2.0   \n4                5.0       82.0     175.0                 2.0   \n...              ...        ...       ...                 ...   \n331523          99.0       55.0     150.0                 2.0   \n331524           4.0       76.0     152.0                 2.0   \n331525           1.0       72.0     124.0                 2.0   \n331526          99.0       80.0     173.0                 2.0   \n331527           5.0       90.0     170.0                 2.0   \n\n        smoke100_lifetime  smokeless_tobacco_products  alcohol_consumption_30  \\\n0                     1.0                         3.0                     0.0   \n1                     NaN                         NaN                     NaN   \n2                     2.0                         3.0                     0.0   \n3                     2.0                         3.0                     0.0   \n4                     1.0                         1.0                     0.0   \n...                   ...                         ...                     ...   \n331523                2.0                         3.0                     0.0   \n331524                2.0                         3.0                     0.0   \n331525                2.0                         3.0                     0.0   \n331526                7.0                         3.0                     4.0   \n331527                2.0                         3.0                     0.0   \n\n        high_risk_situations  ecigaret  heart_disease  \n0                        2.0       1.0            0.0  \n1                        NaN       NaN            0.0  \n2                        2.0       2.0            0.0  \n3                        2.0       2.0            0.0  \n4                        2.0       1.0            0.0  \n...                      ...       ...            ...  \n331523                   2.0       NaN            0.0  \n331524                   2.0       NaN            0.0  \n331525                   2.0       NaN            0.0  \n331526                   2.0       NaN            0.0  \n331527                   2.0       NaN            0.0  \n\n[331528 rows x 32 columns]",
      "text/html": "<div>\n<style scoped>\n    .dataframe tbody tr th:only-of-type {\n        vertical-align: middle;\n    }\n\n    .dataframe tbody tr th {\n        vertical-align: top;\n    }\n\n    .dataframe thead th {\n        text-align: right;\n    }\n</style>\n<table border=\"1\" class=\"dataframe\">\n  <thead>\n    <tr style=\"text-align: right;\">\n      <th></th>\n      <th>state</th>\n      <th>general_health</th>\n      <th>physical_health</th>\n      <th>mental_health</th>\n      <th>health_insurance</th>\n      <th>health_care_doctors</th>\n      <th>no_doc_bc_cost</th>\n      <th>last_checkup</th>\n      <th>excercise_30</th>\n      <th>sleep</th>\n      <th>stroke</th>\n      <th>asthma</th>\n      <th>skin_cancer</th>\n      <th>other_cancer</th>\n      <th>copd_type_issue</th>\n      <th>arthritis_anyform</th>\n      <th>depressive_disorder</th>\n      <th>kidney_disease</th>\n      <th>diabetes</th>\n      <th>education_lvl</th>\n      <th>rent_own</th>\n      <th>employment_status</th>\n      <th>income_level</th>\n      <th>weight_kg</th>\n      <th>height_m</th>\n      <th>difficulty_walking</th>\n      <th>smoke100_lifetime</th>\n      <th>smokeless_tobacco_products</th>\n      <th>alcohol_consumption_30</th>\n      <th>high_risk_situations</th>\n      <th>ecigaret</th>\n      <th>heart_disease</th>\n    </tr>\n  </thead>\n  <tbody>\n    <tr>\n      <th>0</th>\n      <td>1.0</td>\n      <td>2.0</td>\n      <td>3.0</td>\n      <td>30.0</td>\n      <td>2.0</td>\n      <td>3.0</td>\n      <td>1.0</td>\n      <td>4.0</td>\n      <td>1.0</td>\n      <td>5.0</td>\n      <td>2.0</td>\n      <td>1.0</td>\n      <td>1.0</td>\n      <td>1.0</td>\n      <td>1.0</td>\n      <td>1.0</td>\n      <td>1.0</td>\n      <td>2.0</td>\n      <td>1.0</td>\n      <td>6.0</td>\n      <td>1.0</td>\n      <td>4.0</td>\n      <td>1.0</td>\n      <td>48.0</td>\n      <td>170.0</td>\n      <td>2.0</td>\n      <td>1.0</td>\n      <td>3.0</td>\n      <td>0.0</td>\n      <td>2.0</td>\n      <td>1.0</td>\n      <td>0.0</td>\n    </tr>\n    <tr>\n      <th>1</th>\n      <td>1.0</td>\n      <td>3.0</td>\n      <td>0.0</td>\n      <td>0.0</td>\n      <td>1.0</td>\n      <td>1.0</td>\n      <td>1.0</td>\n      <td>1.0</td>\n      <td>1.0</td>\n      <td>7.0</td>\n      <td>2.0</td>\n      <td>1.0</td>\n      <td>2.0</td>\n      <td>2.0</td>\n      <td>2.0</td>\n      <td>1.0</td>\n      <td>1.0</td>\n      <td>2.0</td>\n      <td>3.0</td>\n      <td>6.0</td>\n      <td>1.0</td>\n      <td>7.0</td>\n      <td>99.0</td>\n      <td>NaN</td>\n      <td>163.0</td>\n      <td>2.0</td>\n      <td>NaN</td>\n      <td>NaN</td>\n      <td>NaN</td>\n      <td>NaN</td>\n      <td>NaN</td>\n      <td>0.0</td>\n    </tr>\n    <tr>\n      <th>2</th>\n      <td>1.0</td>\n      <td>3.0</td>\n      <td>0.0</td>\n      <td>0.0</td>\n      <td>1.0</td>\n      <td>1.0</td>\n      <td>2.0</td>\n      <td>1.0</td>\n      <td>1.0</td>\n      <td>7.0</td>\n      <td>2.0</td>\n      <td>2.0</td>\n      <td>2.0</td>\n      <td>1.0</td>\n      <td>2.0</td>\n      <td>1.0</td>\n      <td>2.0</td>\n      <td>2.0</td>\n      <td>3.0</td>\n      <td>5.0</td>\n      <td>1.0</td>\n      <td>7.0</td>\n      <td>7.0</td>\n      <td>NaN</td>\n      <td>173.0</td>\n      <td>2.0</td>\n      <td>2.0</td>\n      <td>3.0</td>\n      <td>0.0</td>\n      <td>2.0</td>\n      <td>2.0</td>\n      <td>0.0</td>\n    </tr>\n    <tr>\n      <th>3</th>\n      <td>1.0</td>\n      <td>2.0</td>\n      <td>0.0</td>\n      <td>0.0</td>\n      <td>1.0</td>\n      <td>1.0</td>\n      <td>2.0</td>\n      <td>1.0</td>\n      <td>1.0</td>\n      <td>7.0</td>\n      <td>1.0</td>\n      <td>2.0</td>\n      <td>2.0</td>\n      <td>2.0</td>\n      <td>2.0</td>\n      <td>2.0</td>\n      <td>2.0</td>\n      <td>2.0</td>\n      <td>3.0</td>\n      <td>6.0</td>\n      <td>2.0</td>\n      <td>7.0</td>\n      <td>NaN</td>\n      <td>57.0</td>\n      <td>168.0</td>\n      <td>2.0</td>\n      <td>2.0</td>\n      <td>3.0</td>\n      <td>0.0</td>\n      <td>2.0</td>\n      <td>2.0</td>\n      <td>0.0</td>\n    </tr>\n    <tr>\n      <th>4</th>\n      <td>1.0</td>\n      <td>4.0</td>\n      <td>20.0</td>\n      <td>30.0</td>\n      <td>1.0</td>\n      <td>1.0</td>\n      <td>2.0</td>\n      <td>2.0</td>\n      <td>1.0</td>\n      <td>8.0</td>\n      <td>2.0</td>\n      <td>1.0</td>\n      <td>2.0</td>\n      <td>2.0</td>\n      <td>1.0</td>\n      <td>1.0</td>\n      <td>2.0</td>\n      <td>2.0</td>\n      <td>1.0</td>\n      <td>4.0</td>\n      <td>3.0</td>\n      <td>8.0</td>\n      <td>5.0</td>\n      <td>82.0</td>\n      <td>175.0</td>\n      <td>2.0</td>\n      <td>1.0</td>\n      <td>1.0</td>\n      <td>0.0</td>\n      <td>2.0</td>\n      <td>1.0</td>\n      <td>0.0</td>\n    </tr>\n    <tr>\n      <th>...</th>\n      <td>...</td>\n      <td>...</td>\n      <td>...</td>\n      <td>...</td>\n      <td>...</td>\n      <td>...</td>\n      <td>...</td>\n      <td>...</td>\n      <td>...</td>\n      <td>...</td>\n      <td>...</td>\n      <td>...</td>\n      <td>...</td>\n      <td>...</td>\n      <td>...</td>\n      <td>...</td>\n      <td>...</td>\n      <td>...</td>\n      <td>...</td>\n      <td>...</td>\n      <td>...</td>\n      <td>...</td>\n      <td>...</td>\n      <td>...</td>\n      <td>...</td>\n      <td>...</td>\n      <td>...</td>\n      <td>...</td>\n      <td>...</td>\n      <td>...</td>\n      <td>...</td>\n      <td>...</td>\n    </tr>\n    <tr>\n      <th>331523</th>\n      <td>72.0</td>\n      <td>3.0</td>\n      <td>0.0</td>\n      <td>0.0</td>\n      <td>2.0</td>\n      <td>1.0</td>\n      <td>2.0</td>\n      <td>2.0</td>\n      <td>1.0</td>\n      <td>6.0</td>\n      <td>2.0</td>\n      <td>2.0</td>\n      <td>2.0</td>\n      <td>2.0</td>\n      <td>2.0</td>\n      <td>2.0</td>\n      <td>1.0</td>\n      <td>2.0</td>\n      <td>3.0</td>\n      <td>5.0</td>\n      <td>1.0</td>\n      <td>1.0</td>\n      <td>99.0</td>\n      <td>55.0</td>\n      <td>150.0</td>\n      <td>2.0</td>\n      <td>2.0</td>\n      <td>3.0</td>\n      <td>0.0</td>\n      <td>2.0</td>\n      <td>NaN</td>\n      <td>0.0</td>\n    </tr>\n    <tr>\n      <th>331524</th>\n      <td>72.0</td>\n      <td>3.0</td>\n      <td>0.0</td>\n      <td>0.0</td>\n      <td>1.0</td>\n      <td>1.0</td>\n      <td>2.0</td>\n      <td>3.0</td>\n      <td>2.0</td>\n      <td>12.0</td>\n      <td>2.0</td>\n      <td>2.0</td>\n      <td>2.0</td>\n      <td>2.0</td>\n      <td>2.0</td>\n      <td>2.0</td>\n      <td>2.0</td>\n      <td>2.0</td>\n      <td>3.0</td>\n      <td>3.0</td>\n      <td>2.0</td>\n      <td>5.0</td>\n      <td>4.0</td>\n      <td>76.0</td>\n      <td>152.0</td>\n      <td>2.0</td>\n      <td>2.0</td>\n      <td>3.0</td>\n      <td>0.0</td>\n      <td>2.0</td>\n      <td>NaN</td>\n      <td>0.0</td>\n    </tr>\n    <tr>\n      <th>331525</th>\n      <td>72.0</td>\n      <td>3.0</td>\n      <td>0.0</td>\n      <td>0.0</td>\n      <td>1.0</td>\n      <td>1.0</td>\n      <td>2.0</td>\n      <td>2.0</td>\n      <td>1.0</td>\n      <td>8.0</td>\n      <td>2.0</td>\n      <td>2.0</td>\n      <td>2.0</td>\n      <td>2.0</td>\n      <td>2.0</td>\n      <td>2.0</td>\n      <td>2.0</td>\n      <td>2.0</td>\n      <td>3.0</td>\n      <td>4.0</td>\n      <td>1.0</td>\n      <td>5.0</td>\n      <td>1.0</td>\n      <td>72.0</td>\n      <td>124.0</td>\n      <td>2.0</td>\n      <td>2.0</td>\n      <td>3.0</td>\n      <td>0.0</td>\n      <td>2.0</td>\n      <td>NaN</td>\n      <td>0.0</td>\n    </tr>\n    <tr>\n      <th>331526</th>\n      <td>72.0</td>\n      <td>3.0</td>\n      <td>0.0</td>\n      <td>0.0</td>\n      <td>1.0</td>\n      <td>1.0</td>\n      <td>2.0</td>\n      <td>1.0</td>\n      <td>1.0</td>\n      <td>6.0</td>\n      <td>2.0</td>\n      <td>2.0</td>\n      <td>2.0</td>\n      <td>2.0</td>\n      <td>2.0</td>\n      <td>2.0</td>\n      <td>2.0</td>\n      <td>2.0</td>\n      <td>3.0</td>\n      <td>6.0</td>\n      <td>1.0</td>\n      <td>1.0</td>\n      <td>99.0</td>\n      <td>80.0</td>\n      <td>173.0</td>\n      <td>2.0</td>\n      <td>7.0</td>\n      <td>3.0</td>\n      <td>4.0</td>\n      <td>2.0</td>\n      <td>NaN</td>\n      <td>0.0</td>\n    </tr>\n    <tr>\n      <th>331527</th>\n      <td>72.0</td>\n      <td>3.0</td>\n      <td>2.0</td>\n      <td>7.0</td>\n      <td>1.0</td>\n      <td>1.0</td>\n      <td>2.0</td>\n      <td>1.0</td>\n      <td>2.0</td>\n      <td>6.0</td>\n      <td>1.0</td>\n      <td>1.0</td>\n      <td>2.0</td>\n      <td>2.0</td>\n      <td>2.0</td>\n      <td>2.0</td>\n      <td>1.0</td>\n      <td>NaN</td>\n      <td>4.0</td>\n      <td>6.0</td>\n      <td>1.0</td>\n      <td>8.0</td>\n      <td>5.0</td>\n      <td>90.0</td>\n      <td>170.0</td>\n      <td>2.0</td>\n      <td>2.0</td>\n      <td>3.0</td>\n      <td>0.0</td>\n      <td>2.0</td>\n      <td>NaN</td>\n      <td>0.0</td>\n    </tr>\n  </tbody>\n</table>\n<p>331528 rows × 32 columns</p>\n</div>"
     },
     "execution_count": 5,
     "metadata": {},
     "output_type": "execute_result"
    }
   ],
   "source": [
    "heart_df"
   ]
  },
  {
   "cell_type": "markdown",
   "metadata": {
    "pycharm": {
     "name": "#%% md\n"
    }
   },
   "source": [
    "Makes no sense to have due to business problem by that I mean typically will not be asked in a doctor's office because of the way it comes off/will seem like profiling and would have people questioning why are you asking some of these questions when it has nothing to do with their health. Not only that but `ecigaret` has 34% null values, which is a high percentage as such and the correlation with the target is really low."
   ]
  },
  {
   "cell_type": "code",
   "execution_count": 6,
   "metadata": {
    "pycharm": {
     "name": "#%%\n"
    }
   },
   "outputs": [],
   "source": [
    "heart_df.drop(columns = ['education_lvl', 'income_level', 'employment_status', 'rent_own', 'health_care_doctors','no_doc_bc_cost', 'smokeless_tobacco_products', 'high_risk_situations', 'ecigaret', 'state'], inplace = True)"
   ]
  },
  {
   "cell_type": "code",
   "execution_count": 7,
   "metadata": {
    "pycharm": {
     "name": "#%%\n"
    }
   },
   "outputs": [],
   "source": [
    "X = heart_df.drop(columns = ['heart_disease'])\n",
    "y = heart_df.heart_disease"
   ]
  },
  {
   "cell_type": "markdown",
   "metadata": {
    "pycharm": {
     "name": "#%% md\n"
    }
   },
   "source": [
    "# Preprocessing and Model Prep"
   ]
  },
  {
   "cell_type": "code",
   "execution_count": 8,
   "metadata": {
    "pycharm": {
     "name": "#%%\n"
    }
   },
   "outputs": [],
   "source": [
    "#train-test split with stratification\n",
    "X_train, X_test, y_train, y_test = train_test_split(X,y, stratify = y , random_state = 42)"
   ]
  },
  {
   "cell_type": "code",
   "execution_count": 9,
   "metadata": {
    "pycharm": {
     "name": "#%%\n"
    }
   },
   "outputs": [
    {
     "data": {
      "text/plain": "0.0    0.915426\n1.0    0.084574\nName: heart_disease, dtype: float64"
     },
     "execution_count": 9,
     "metadata": {},
     "output_type": "execute_result"
    }
   ],
   "source": [
    "y_train.value_counts(normalize = True)"
   ]
  },
  {
   "cell_type": "markdown",
   "metadata": {
    "pycharm": {
     "name": "#%% md\n"
    }
   },
   "source": [
    "Our target is heavily imbalance. As such I will need to SMOTE and use the imblearn version of pipelines. I will smote up to 15%. "
   ]
  },
  {
   "cell_type": "markdown",
   "metadata": {
    "pycharm": {
     "name": "#%% md\n"
    }
   },
   "source": [
    "#### Column Transformers"
   ]
  },
  {
   "cell_type": "markdown",
   "metadata": {
    "pycharm": {
     "name": "#%% md\n"
    }
   },
   "source": [
    "column transformer Pipelines will be built to prevent data leakage when we are doing cross validation as we need to scale and one-hot-encode our features. Different column transformers will be made as we will see how our model does with different amount of features."
   ]
  },
  {
   "cell_type": "code",
   "execution_count": 10,
   "metadata": {
    "pycharm": {
     "name": "#%%\n"
    }
   },
   "outputs": [
    {
     "data": {
      "text/plain": "        general_health  physical_health  mental_health  health_insurance  \\\n248413             1.0              0.0            0.0               1.0   \n91003              3.0              0.0            0.0               1.0   \n148075             1.0              0.0           10.0               1.0   \n273325             3.0              0.0            0.0               2.0   \n193206             1.0              0.0            0.0               1.0   \n...                ...              ...            ...               ...   \n298694             1.0              0.0            0.0               1.0   \n82524              3.0             15.0            0.0               1.0   \n289919             2.0              0.0            0.0               1.0   \n130280             5.0              5.0            5.0               1.0   \n229708             1.0              0.0            0.0               1.0   \n\n        last_checkup  excercise_30  sleep  stroke  asthma  skin_cancer  \\\n248413           2.0           1.0    6.0     2.0     2.0          2.0   \n91003            1.0           1.0    6.0     2.0     2.0          2.0   \n148075           2.0           1.0    6.0     2.0     2.0          2.0   \n273325           1.0           1.0    8.0     2.0     2.0          2.0   \n193206           1.0           1.0    8.0     2.0     2.0          2.0   \n...              ...           ...    ...     ...     ...          ...   \n298694           1.0           1.0    8.0     2.0     2.0          2.0   \n82524            1.0           2.0    7.0     2.0     2.0          2.0   \n289919           1.0           1.0    8.0     2.0     2.0          2.0   \n130280           1.0           1.0    6.0     2.0     2.0          2.0   \n229708           1.0           2.0    6.0     2.0     2.0          2.0   \n\n        other_cancer  copd_type_issue  arthritis_anyform  depressive_disorder  \\\n248413           2.0              2.0                2.0                  2.0   \n91003            2.0              2.0                2.0                  2.0   \n148075           2.0              2.0                2.0                  2.0   \n273325           2.0              2.0                2.0                  2.0   \n193206           2.0              2.0                2.0                  2.0   \n...              ...              ...                ...                  ...   \n298694           2.0              2.0                2.0                  2.0   \n82524            2.0              NaN                1.0                  2.0   \n289919           2.0              2.0                2.0                  2.0   \n130280           2.0              2.0                1.0                  1.0   \n229708           2.0              2.0                1.0                  2.0   \n\n        kidney_disease  diabetes  weight_kg  height_m  difficulty_walking  \\\n248413             2.0       3.0       73.0     165.0                 2.0   \n91003              2.0       3.0       55.0     175.0                 2.0   \n148075             2.0       3.0       50.0     168.0                 2.0   \n273325             2.0       3.0       55.0     152.0                 2.0   \n193206             2.0       3.0       62.0     165.0                 2.0   \n...                ...       ...        ...       ...                 ...   \n298694             2.0       3.0       82.0     168.0                 2.0   \n82524              2.0       3.0      100.0     160.0                 1.0   \n289919             2.0       3.0       68.0     168.0                 2.0   \n130280             2.0       1.0       91.0     175.0                 2.0   \n229708             2.0       3.0       86.0     155.0                 2.0   \n\n        smoke100_lifetime  alcohol_consumption_30  \n248413                2.0                     5.0  \n91003                 2.0                     0.0  \n148075                2.0                     4.0  \n273325                2.0                     0.0  \n193206                2.0                     4.0  \n...                   ...                     ...  \n298694                2.0                    30.0  \n82524                 1.0                     0.0  \n289919                2.0                     2.0  \n130280                2.0                     0.0  \n229708                2.0                     0.0  \n\n[248646 rows x 21 columns]",
      "text/html": "<div>\n<style scoped>\n    .dataframe tbody tr th:only-of-type {\n        vertical-align: middle;\n    }\n\n    .dataframe tbody tr th {\n        vertical-align: top;\n    }\n\n    .dataframe thead th {\n        text-align: right;\n    }\n</style>\n<table border=\"1\" class=\"dataframe\">\n  <thead>\n    <tr style=\"text-align: right;\">\n      <th></th>\n      <th>general_health</th>\n      <th>physical_health</th>\n      <th>mental_health</th>\n      <th>health_insurance</th>\n      <th>last_checkup</th>\n      <th>excercise_30</th>\n      <th>sleep</th>\n      <th>stroke</th>\n      <th>asthma</th>\n      <th>skin_cancer</th>\n      <th>other_cancer</th>\n      <th>copd_type_issue</th>\n      <th>arthritis_anyform</th>\n      <th>depressive_disorder</th>\n      <th>kidney_disease</th>\n      <th>diabetes</th>\n      <th>weight_kg</th>\n      <th>height_m</th>\n      <th>difficulty_walking</th>\n      <th>smoke100_lifetime</th>\n      <th>alcohol_consumption_30</th>\n    </tr>\n  </thead>\n  <tbody>\n    <tr>\n      <th>248413</th>\n      <td>1.0</td>\n      <td>0.0</td>\n      <td>0.0</td>\n      <td>1.0</td>\n      <td>2.0</td>\n      <td>1.0</td>\n      <td>6.0</td>\n      <td>2.0</td>\n      <td>2.0</td>\n      <td>2.0</td>\n      <td>2.0</td>\n      <td>2.0</td>\n      <td>2.0</td>\n      <td>2.0</td>\n      <td>2.0</td>\n      <td>3.0</td>\n      <td>73.0</td>\n      <td>165.0</td>\n      <td>2.0</td>\n      <td>2.0</td>\n      <td>5.0</td>\n    </tr>\n    <tr>\n      <th>91003</th>\n      <td>3.0</td>\n      <td>0.0</td>\n      <td>0.0</td>\n      <td>1.0</td>\n      <td>1.0</td>\n      <td>1.0</td>\n      <td>6.0</td>\n      <td>2.0</td>\n      <td>2.0</td>\n      <td>2.0</td>\n      <td>2.0</td>\n      <td>2.0</td>\n      <td>2.0</td>\n      <td>2.0</td>\n      <td>2.0</td>\n      <td>3.0</td>\n      <td>55.0</td>\n      <td>175.0</td>\n      <td>2.0</td>\n      <td>2.0</td>\n      <td>0.0</td>\n    </tr>\n    <tr>\n      <th>148075</th>\n      <td>1.0</td>\n      <td>0.0</td>\n      <td>10.0</td>\n      <td>1.0</td>\n      <td>2.0</td>\n      <td>1.0</td>\n      <td>6.0</td>\n      <td>2.0</td>\n      <td>2.0</td>\n      <td>2.0</td>\n      <td>2.0</td>\n      <td>2.0</td>\n      <td>2.0</td>\n      <td>2.0</td>\n      <td>2.0</td>\n      <td>3.0</td>\n      <td>50.0</td>\n      <td>168.0</td>\n      <td>2.0</td>\n      <td>2.0</td>\n      <td>4.0</td>\n    </tr>\n    <tr>\n      <th>273325</th>\n      <td>3.0</td>\n      <td>0.0</td>\n      <td>0.0</td>\n      <td>2.0</td>\n      <td>1.0</td>\n      <td>1.0</td>\n      <td>8.0</td>\n      <td>2.0</td>\n      <td>2.0</td>\n      <td>2.0</td>\n      <td>2.0</td>\n      <td>2.0</td>\n      <td>2.0</td>\n      <td>2.0</td>\n      <td>2.0</td>\n      <td>3.0</td>\n      <td>55.0</td>\n      <td>152.0</td>\n      <td>2.0</td>\n      <td>2.0</td>\n      <td>0.0</td>\n    </tr>\n    <tr>\n      <th>193206</th>\n      <td>1.0</td>\n      <td>0.0</td>\n      <td>0.0</td>\n      <td>1.0</td>\n      <td>1.0</td>\n      <td>1.0</td>\n      <td>8.0</td>\n      <td>2.0</td>\n      <td>2.0</td>\n      <td>2.0</td>\n      <td>2.0</td>\n      <td>2.0</td>\n      <td>2.0</td>\n      <td>2.0</td>\n      <td>2.0</td>\n      <td>3.0</td>\n      <td>62.0</td>\n      <td>165.0</td>\n      <td>2.0</td>\n      <td>2.0</td>\n      <td>4.0</td>\n    </tr>\n    <tr>\n      <th>...</th>\n      <td>...</td>\n      <td>...</td>\n      <td>...</td>\n      <td>...</td>\n      <td>...</td>\n      <td>...</td>\n      <td>...</td>\n      <td>...</td>\n      <td>...</td>\n      <td>...</td>\n      <td>...</td>\n      <td>...</td>\n      <td>...</td>\n      <td>...</td>\n      <td>...</td>\n      <td>...</td>\n      <td>...</td>\n      <td>...</td>\n      <td>...</td>\n      <td>...</td>\n      <td>...</td>\n    </tr>\n    <tr>\n      <th>298694</th>\n      <td>1.0</td>\n      <td>0.0</td>\n      <td>0.0</td>\n      <td>1.0</td>\n      <td>1.0</td>\n      <td>1.0</td>\n      <td>8.0</td>\n      <td>2.0</td>\n      <td>2.0</td>\n      <td>2.0</td>\n      <td>2.0</td>\n      <td>2.0</td>\n      <td>2.0</td>\n      <td>2.0</td>\n      <td>2.0</td>\n      <td>3.0</td>\n      <td>82.0</td>\n      <td>168.0</td>\n      <td>2.0</td>\n      <td>2.0</td>\n      <td>30.0</td>\n    </tr>\n    <tr>\n      <th>82524</th>\n      <td>3.0</td>\n      <td>15.0</td>\n      <td>0.0</td>\n      <td>1.0</td>\n      <td>1.0</td>\n      <td>2.0</td>\n      <td>7.0</td>\n      <td>2.0</td>\n      <td>2.0</td>\n      <td>2.0</td>\n      <td>2.0</td>\n      <td>NaN</td>\n      <td>1.0</td>\n      <td>2.0</td>\n      <td>2.0</td>\n      <td>3.0</td>\n      <td>100.0</td>\n      <td>160.0</td>\n      <td>1.0</td>\n      <td>1.0</td>\n      <td>0.0</td>\n    </tr>\n    <tr>\n      <th>289919</th>\n      <td>2.0</td>\n      <td>0.0</td>\n      <td>0.0</td>\n      <td>1.0</td>\n      <td>1.0</td>\n      <td>1.0</td>\n      <td>8.0</td>\n      <td>2.0</td>\n      <td>2.0</td>\n      <td>2.0</td>\n      <td>2.0</td>\n      <td>2.0</td>\n      <td>2.0</td>\n      <td>2.0</td>\n      <td>2.0</td>\n      <td>3.0</td>\n      <td>68.0</td>\n      <td>168.0</td>\n      <td>2.0</td>\n      <td>2.0</td>\n      <td>2.0</td>\n    </tr>\n    <tr>\n      <th>130280</th>\n      <td>5.0</td>\n      <td>5.0</td>\n      <td>5.0</td>\n      <td>1.0</td>\n      <td>1.0</td>\n      <td>1.0</td>\n      <td>6.0</td>\n      <td>2.0</td>\n      <td>2.0</td>\n      <td>2.0</td>\n      <td>2.0</td>\n      <td>2.0</td>\n      <td>1.0</td>\n      <td>1.0</td>\n      <td>2.0</td>\n      <td>1.0</td>\n      <td>91.0</td>\n      <td>175.0</td>\n      <td>2.0</td>\n      <td>2.0</td>\n      <td>0.0</td>\n    </tr>\n    <tr>\n      <th>229708</th>\n      <td>1.0</td>\n      <td>0.0</td>\n      <td>0.0</td>\n      <td>1.0</td>\n      <td>1.0</td>\n      <td>2.0</td>\n      <td>6.0</td>\n      <td>2.0</td>\n      <td>2.0</td>\n      <td>2.0</td>\n      <td>2.0</td>\n      <td>2.0</td>\n      <td>1.0</td>\n      <td>2.0</td>\n      <td>2.0</td>\n      <td>3.0</td>\n      <td>86.0</td>\n      <td>155.0</td>\n      <td>2.0</td>\n      <td>2.0</td>\n      <td>0.0</td>\n    </tr>\n  </tbody>\n</table>\n<p>248646 rows × 21 columns</p>\n</div>"
     },
     "execution_count": 10,
     "metadata": {},
     "output_type": "execute_result"
    }
   ],
   "source": [
    "X_train"
   ]
  },
  {
   "cell_type": "code",
   "execution_count": 11,
   "metadata": {
    "pycharm": {
     "name": "#%%\n"
    }
   },
   "outputs": [
    {
     "data": {
      "text/plain": "0.0     172226\n30.0     15644\n2.0      11154\n1.0       7804\n3.0       6586\n5.0       5716\n10.0      4157\n15.0      3970\n7.0       3564\n4.0       3368\n20.0      2511\n14.0      2236\n6.0        928\n25.0       901\n99.0       728\n8.0        704\n21.0       479\n12.0       465\n28.0       361\n29.0       159\n18.0       126\n16.0       103\n27.0       102\n17.0        81\n11.0        75\n13.0        66\n22.0        59\n26.0        58\n24.0        55\n23.0        36\n19.0        27\nName: physical_health, dtype: int64"
     },
     "execution_count": 11,
     "metadata": {},
     "output_type": "execute_result"
    }
   ],
   "source": [
    "X_train.physical_health.value_counts()"
   ]
  },
  {
   "cell_type": "code",
   "execution_count": 12,
   "metadata": {
    "pycharm": {
     "name": "#%%\n"
    }
   },
   "outputs": [],
   "source": [
    "continous = ['physical_health', 'mental_health', 'last_checkup' , 'excercise_30', 'sleep', 'weight_kg', \\\n",
    "               'height_m', 'alcohol_consumption_30']\n",
    "\n",
    "categorical = list(X.columns.drop(continous))"
   ]
  },
  {
   "cell_type": "code",
   "execution_count": 13,
   "metadata": {
    "pycharm": {
     "name": "#%%\n"
    }
   },
   "outputs": [
    {
     "data": {
      "text/plain": "['general_health',\n 'health_insurance',\n 'stroke',\n 'asthma',\n 'skin_cancer',\n 'other_cancer',\n 'copd_type_issue',\n 'arthritis_anyform',\n 'depressive_disorder',\n 'kidney_disease',\n 'diabetes',\n 'difficulty_walking',\n 'smoke100_lifetime']"
     },
     "execution_count": 13,
     "metadata": {},
     "output_type": "execute_result"
    }
   ],
   "source": [
    "categorical"
   ]
  },
  {
   "cell_type": "markdown",
   "source": [
    "##### Imputer"
   ],
   "metadata": {
    "collapsed": false,
    "pycharm": {
     "name": "#%% md\n"
    }
   }
  },
  {
   "cell_type": "markdown",
   "source": [
    "For the imputing values in my dataset, I decided against SimpleImputer as I determined that imputing the most frequent for my categorical may cause my models to not be able to capture any patterns as well since this dataset is heavily imbalanced. As such, I was left with the KNN imputation that was discussed in my Flatiron class. However, after talking to other students who have used KNN imputation, I decided against it because of how large my dataset is. As such, I looked for alternatives and came upon Multiple Imputation by Chain Equations (MICE) also known as the IterativeImputer in sklearn. It happens to be as robust as the KNN imputation. Because it has to cycle through the entire dataset multiple times, I decided to set the `max_iter` to 5 instead of leaving it at the default of 10 as it would take longer to go through. As a result, I am giving up potentially better prediction and the imputer may not converge for a faster model and have it be less taxing on my computer.\n",
    "\n",
    "More information on MICE and how it works:\n",
    "\n",
    "[Sklearn IterativeImputer](https://scikit-learn.org/stable/modules/generated/sklearn.impute.IterativeImputer.html)\n",
    "[MICE - stackexchange](https://stats.stackexchange.com/questions/421545/multiple-imputation-by-chained-equations-mice-explained#:~:text=MICE%20is%20a%20multiple%20imputation,are%20missing%20completely%20at%20random)\n",
    "[Multiple imputation by chained equations](https://www.ncbi.nlm.nih.gov/pmc/articles/PMC3074241/)"
   ],
   "metadata": {
    "collapsed": false,
    "pycharm": {
     "name": "#%% md\n"
    }
   }
  },
  {
   "cell_type": "code",
   "execution_count": 14,
   "metadata": {
    "pycharm": {
     "name": "#%%\n"
    }
   },
   "outputs": [],
   "source": [
    "cat_pipe = Pipeline(steps=[('cat_impute', IterativeImputer(estimator = RandomForestClassifier(random_state=42),\n",
    "                                                           random_state=42, max_iter = 5)),\n",
    "                              ('ohe', OneHotEncoder(sparse=False, handle_unknown='ignore'))])\n",
    "scale_pipe = Pipeline(steps=[('scale_impute', IterativeImputer(estimator = BayesianRidge(),random_state=42)),\n",
    "                              ('scale', MinMaxScaler())])"
   ]
  },
  {
   "cell_type": "code",
   "execution_count": 15,
   "metadata": {
    "pycharm": {
     "name": "#%%\n"
    }
   },
   "outputs": [],
   "source": [
    "#ct for only continous\n",
    "ct_continous = ColumnTransformer(transformers=[\n",
    "    ('scale', scale_pipe, continous)\n",
    "], n_jobs= -2)\n",
    "\n",
    "#ct for categorical only\n",
    "ct_categorical = ColumnTransformer(transformers=[\n",
    "    ('cat', cat_pipe, categorical),\n",
    "], n_jobs= -2)\n",
    "\n",
    "#ct with both continous and categorical\n",
    "ct = ColumnTransformer(transformers=[\n",
    "    ('cat', cat_pipe, categorical),\n",
    "    ('scale', scale_pipe, continous)\n",
    "], n_jobs=-2)"
   ]
  },
  {
   "cell_type": "markdown",
   "metadata": {
    "pycharm": {
     "name": "#%% md\n"
    }
   },
   "source": [
    "# Models"
   ]
  },
  {
   "cell_type": "markdown",
   "source": [
    "For my modeling process, I will first attempt to run some default models on different parts of the entire dataframe. I want to see how well just the continuous features do in recall performance. Then I will run some initial grid searches before moving on to examine how well the categorical features performs followed by having all the features. If time permits, I would then want to compare the best model found here and compare its performance to a neural network model."
   ],
   "metadata": {
    "collapsed": false,
    "pycharm": {
     "name": "#%% md\n"
    }
   }
  },
  {
   "cell_type": "markdown",
   "metadata": {
    "pycharm": {
     "name": "#%% md\n"
    }
   },
   "source": [
    "## Dummy Classifier"
   ]
  },
  {
   "cell_type": "code",
   "execution_count": 16,
   "metadata": {
    "pycharm": {
     "name": "#%%\n"
    }
   },
   "outputs": [
    {
     "data": {
      "text/plain": "        physical_health  mental_health  last_checkup  excercise_30  sleep  \\\n248413              0.0            0.0           2.0           1.0    6.0   \n91003               0.0            0.0           1.0           1.0    6.0   \n148075              0.0           10.0           2.0           1.0    6.0   \n273325              0.0            0.0           1.0           1.0    8.0   \n193206              0.0            0.0           1.0           1.0    8.0   \n...                 ...            ...           ...           ...    ...   \n298694              0.0            0.0           1.0           1.0    8.0   \n82524              15.0            0.0           1.0           2.0    7.0   \n289919              0.0            0.0           1.0           1.0    8.0   \n130280              5.0            5.0           1.0           1.0    6.0   \n229708              0.0            0.0           1.0           2.0    6.0   \n\n        weight_kg  height_m  alcohol_consumption_30  \n248413       73.0     165.0                     5.0  \n91003        55.0     175.0                     0.0  \n148075       50.0     168.0                     4.0  \n273325       55.0     152.0                     0.0  \n193206       62.0     165.0                     4.0  \n...           ...       ...                     ...  \n298694       82.0     168.0                    30.0  \n82524       100.0     160.0                     0.0  \n289919       68.0     168.0                     2.0  \n130280       91.0     175.0                     0.0  \n229708       86.0     155.0                     0.0  \n\n[248646 rows x 8 columns]",
      "text/html": "<div>\n<style scoped>\n    .dataframe tbody tr th:only-of-type {\n        vertical-align: middle;\n    }\n\n    .dataframe tbody tr th {\n        vertical-align: top;\n    }\n\n    .dataframe thead th {\n        text-align: right;\n    }\n</style>\n<table border=\"1\" class=\"dataframe\">\n  <thead>\n    <tr style=\"text-align: right;\">\n      <th></th>\n      <th>physical_health</th>\n      <th>mental_health</th>\n      <th>last_checkup</th>\n      <th>excercise_30</th>\n      <th>sleep</th>\n      <th>weight_kg</th>\n      <th>height_m</th>\n      <th>alcohol_consumption_30</th>\n    </tr>\n  </thead>\n  <tbody>\n    <tr>\n      <th>248413</th>\n      <td>0.0</td>\n      <td>0.0</td>\n      <td>2.0</td>\n      <td>1.0</td>\n      <td>6.0</td>\n      <td>73.0</td>\n      <td>165.0</td>\n      <td>5.0</td>\n    </tr>\n    <tr>\n      <th>91003</th>\n      <td>0.0</td>\n      <td>0.0</td>\n      <td>1.0</td>\n      <td>1.0</td>\n      <td>6.0</td>\n      <td>55.0</td>\n      <td>175.0</td>\n      <td>0.0</td>\n    </tr>\n    <tr>\n      <th>148075</th>\n      <td>0.0</td>\n      <td>10.0</td>\n      <td>2.0</td>\n      <td>1.0</td>\n      <td>6.0</td>\n      <td>50.0</td>\n      <td>168.0</td>\n      <td>4.0</td>\n    </tr>\n    <tr>\n      <th>273325</th>\n      <td>0.0</td>\n      <td>0.0</td>\n      <td>1.0</td>\n      <td>1.0</td>\n      <td>8.0</td>\n      <td>55.0</td>\n      <td>152.0</td>\n      <td>0.0</td>\n    </tr>\n    <tr>\n      <th>193206</th>\n      <td>0.0</td>\n      <td>0.0</td>\n      <td>1.0</td>\n      <td>1.0</td>\n      <td>8.0</td>\n      <td>62.0</td>\n      <td>165.0</td>\n      <td>4.0</td>\n    </tr>\n    <tr>\n      <th>...</th>\n      <td>...</td>\n      <td>...</td>\n      <td>...</td>\n      <td>...</td>\n      <td>...</td>\n      <td>...</td>\n      <td>...</td>\n      <td>...</td>\n    </tr>\n    <tr>\n      <th>298694</th>\n      <td>0.0</td>\n      <td>0.0</td>\n      <td>1.0</td>\n      <td>1.0</td>\n      <td>8.0</td>\n      <td>82.0</td>\n      <td>168.0</td>\n      <td>30.0</td>\n    </tr>\n    <tr>\n      <th>82524</th>\n      <td>15.0</td>\n      <td>0.0</td>\n      <td>1.0</td>\n      <td>2.0</td>\n      <td>7.0</td>\n      <td>100.0</td>\n      <td>160.0</td>\n      <td>0.0</td>\n    </tr>\n    <tr>\n      <th>289919</th>\n      <td>0.0</td>\n      <td>0.0</td>\n      <td>1.0</td>\n      <td>1.0</td>\n      <td>8.0</td>\n      <td>68.0</td>\n      <td>168.0</td>\n      <td>2.0</td>\n    </tr>\n    <tr>\n      <th>130280</th>\n      <td>5.0</td>\n      <td>5.0</td>\n      <td>1.0</td>\n      <td>1.0</td>\n      <td>6.0</td>\n      <td>91.0</td>\n      <td>175.0</td>\n      <td>0.0</td>\n    </tr>\n    <tr>\n      <th>229708</th>\n      <td>0.0</td>\n      <td>0.0</td>\n      <td>1.0</td>\n      <td>2.0</td>\n      <td>6.0</td>\n      <td>86.0</td>\n      <td>155.0</td>\n      <td>0.0</td>\n    </tr>\n  </tbody>\n</table>\n<p>248646 rows × 8 columns</p>\n</div>"
     },
     "execution_count": 16,
     "metadata": {},
     "output_type": "execute_result"
    }
   ],
   "source": [
    "X_simple = X_train[continous]\n",
    "y_simple = y_train\n",
    "\n",
    "X_simple"
   ]
  },
  {
   "cell_type": "code",
   "execution_count": 17,
   "metadata": {
    "pycharm": {
     "name": "#%%\n"
    }
   },
   "outputs": [],
   "source": [
    "dummy_simple = ImPipeline(steps=[\n",
    "    ('ct', ct_continous),\n",
    "    ('rs',RandomUnderSampler(sampling_strategy=0.8,random_state=42)),\n",
    "    ('sm', SMOTE(sampling_strategy= 0.25, random_state=1)),\n",
    "    ('dummy', DummyClassifier(strategy='most_frequent'))\n",
    "]).fit(X_simple,y_simple)"
   ]
  },
  {
   "cell_type": "code",
   "execution_count": 18,
   "metadata": {
    "pycharm": {
     "name": "#%%\n"
    }
   },
   "outputs": [],
   "source": [
    "dummy_info = ModelWithCV(dummy_simple, 'dummy', X_simple, y_simple)"
   ]
  },
  {
   "cell_type": "code",
   "execution_count": 19,
   "metadata": {
    "pycharm": {
     "name": "#%%\n"
    }
   },
   "outputs": [
    {
     "name": "stdout",
     "output_type": "stream",
     "text": [
      " \n",
      "  Recall is 0.0 CV Results for `dummy` model:\n",
      "            0.91543 ± 0.00001 accuracy\n",
      "         <sklearn.metrics._plot.confusion_matrix.ConfusionMatrixDisplay object at 0x000002C28BBFED90> <sklearn.metrics._plot.roc_curve.RocCurveDisplay object at 0x000002C28BDBC670>\n"
     ]
    },
    {
     "data": {
      "text/plain": "<Figure size 432x288 with 1 Axes>",
      "image/png": "[encoded data removed]"
     },
     "metadata": {
      "needs_background": "light"
     },
     "output_type": "display_data"
    },
    {
     "data": {
      "text/plain": "<Figure size 432x288 with 2 Axes>",
      "image/png": "[encoded data removed]"
     },
     "metadata": {
      "needs_background": "light"
     },
     "output_type": "display_data"
    }
   ],
   "source": [
    "dummy_info.print_summary()"
   ]
  },
  {
   "cell_type": "code",
   "execution_count": 20,
   "outputs": [],
   "source": [
    "dummy_pca = ImPipeline(steps=[\n",
    "    ('ct', ct_continous),\n",
    "    ('rs',RandomUnderSampler(sampling_strategy=0.8,random_state=42)),\n",
    "    ('sm', SMOTE(sampling_strategy=0.25, random_state=1)),\n",
    "    ('pca', PCA(n_components=.9)),\n",
    "    ('dummy', DummyClassifier(strategy='most_frequent'))\n",
    "]).fit(X_simple, y_simple)"
   ],
   "metadata": {
    "collapsed": false,
    "pycharm": {
     "name": "#%%\n"
    }
   }
  },
  {
   "cell_type": "code",
   "execution_count": 21,
   "outputs": [],
   "source": [
    "dummy_pca_info = ModelWithCV(dummy_simple, 'dummy', X_simple, y_simple)"
   ],
   "metadata": {
    "collapsed": false,
    "pycharm": {
     "name": "#%%\n"
    }
   }
  },
  {
   "cell_type": "code",
   "execution_count": 22,
   "outputs": [
    {
     "name": "stdout",
     "output_type": "stream",
     "text": [
      " \n",
      "  Recall is 0.0 CV Results for `dummy` model:\n",
      "            0.91543 ± 0.00001 accuracy\n",
      "         <sklearn.metrics._plot.confusion_matrix.ConfusionMatrixDisplay object at 0x000002C28BF6DBE0> <sklearn.metrics._plot.roc_curve.RocCurveDisplay object at 0x000002C28BF6DCD0>\n"
     ]
    },
    {
     "data": {
      "text/plain": "<Figure size 432x288 with 1 Axes>",
      "image/png": "[encoded data removed]"
     },
     "metadata": {
      "needs_background": "light"
     },
     "output_type": "display_data"
    },
    {
     "data": {
      "text/plain": "<Figure size 432x288 with 2 Axes>",
      "image/png": "[encoded data removed]"
     },
     "metadata": {
      "needs_background": "light"
     },
     "output_type": "display_data"
    }
   ],
   "source": [
    "dummy_pca_info.print_summary()"
   ],
   "metadata": {
    "collapsed": false,
    "pycharm": {
     "name": "#%%\n"
    }
   }
  },
  {
   "cell_type": "markdown",
   "metadata": {
    "pycharm": {
     "name": "#%% md\n"
    }
   },
   "source": [
    "## Simple Model 1 - Logistic Regression"
   ]
  },
  {
   "cell_type": "code",
   "execution_count": 23,
   "metadata": {
    "pycharm": {
     "name": "#%%\n"
    }
   },
   "outputs": [],
   "source": [
    "log1 = ImPipeline(steps=[\n",
    "    ('ct', ct_continous),\n",
    "    ('rs',RandomUnderSampler(sampling_strategy=0.8,random_state=42)),\n",
    "    ('sm', SMOTE(sampling_strategy= 0.25, random_state=1)),\n",
    "    ('log',LogisticRegression(random_state=42))\n",
    "]).fit(X_simple,y_simple)"
   ]
  },
  {
   "cell_type": "code",
   "execution_count": 24,
   "metadata": {
    "pycharm": {
     "name": "#%%\n"
    }
   },
   "outputs": [],
   "source": [
    "log1_info = ModelWithCV(log1, 'log1', X_simple, y_simple)"
   ]
  },
  {
   "cell_type": "code",
   "execution_count": 25,
   "metadata": {
    "pycharm": {
     "name": "#%%\n"
    }
   },
   "outputs": [
    {
     "name": "stdout",
     "output_type": "stream",
     "text": [
      " \n",
      "  Recall is 0.04213229349945313 CV Results for `log1` model:\n",
      "            0.90869 ± 0.00114 accuracy\n",
      "         <sklearn.metrics._plot.confusion_matrix.ConfusionMatrixDisplay object at 0x000002C28D30A3D0> <sklearn.metrics._plot.roc_curve.RocCurveDisplay object at 0x000002C28D30A6A0>\n"
     ]
    },
    {
     "data": {
      "text/plain": "<Figure size 432x288 with 1 Axes>",
      "image/png": "[encoded data removed]"
     },
     "metadata": {
      "needs_background": "light"
     },
     "output_type": "display_data"
    },
    {
     "data": {
      "text/plain": "<Figure size 432x288 with 2 Axes>",
      "image/png": "[encoded data removed]"
     },
     "metadata": {
      "needs_background": "light"
     },
     "output_type": "display_data"
    }
   ],
   "source": [
    "log1_info.print_summary()"
   ]
  },
  {
   "cell_type": "markdown",
   "metadata": {
    "pycharm": {
     "name": "#%% md\n"
    }
   },
   "source": [
    "The LogisticRegression has a better F1 score of .14 compared to the dummy classifier which had a F1 score of 0. The ROC-AUC score is also better by 0.19. The AUC of the logistic regression is 0.69 while the dummy was 0.50. However, the accuracy is slightly lower by 1-2% on the logistic regression (90%) compared to the dummy (92%)."
   ]
  },
  {
   "cell_type": "code",
   "execution_count": 26,
   "metadata": {
    "pycharm": {
     "name": "#%%\n"
    }
   },
   "outputs": [],
   "source": [
    "log_pca = ImPipeline(steps=[\n",
    "    ('ct', ct_continous),\n",
    "    ('rs',RandomUnderSampler(sampling_strategy=0.8,random_state=42)),\n",
    "    ('sm', SMOTE(sampling_strategy= 0.25, random_state=1)),\n",
    "    ('pca', PCA(n_components=.9)),\n",
    "    ('log',LogisticRegression(random_state=42))\n",
    "]).fit(X_simple,y_simple)"
   ]
  },
  {
   "cell_type": "code",
   "execution_count": 27,
   "metadata": {
    "pycharm": {
     "name": "#%%\n"
    }
   },
   "outputs": [],
   "source": [
    "log_pca_info = ModelWithCV(log_pca, 'log_pca', X_simple, y_simple)"
   ]
  },
  {
   "cell_type": "code",
   "execution_count": 28,
   "metadata": {
    "pycharm": {
     "name": "#%%\n"
    }
   },
   "outputs": [
    {
     "name": "stdout",
     "output_type": "stream",
     "text": [
      " \n",
      "  Recall is 0.0018545817680346189 CV Results for `log_pca` model:\n",
      "            0.91467 ± 0.00100 accuracy\n",
      "         <sklearn.metrics._plot.confusion_matrix.ConfusionMatrixDisplay object at 0x000002C28D316AC0> <sklearn.metrics._plot.roc_curve.RocCurveDisplay object at 0x000002C28D316340>\n"
     ]
    },
    {
     "data": {
      "text/plain": "<Figure size 432x288 with 1 Axes>",
      "image/png": "[encoded data removed]"
     },
     "metadata": {
      "needs_background": "light"
     },
     "output_type": "display_data"
    },
    {
     "data": {
      "text/plain": "<Figure size 432x288 with 2 Axes>",
      "image/png": "[encoded data removed]"
     },
     "metadata": {
      "needs_background": "light"
     },
     "output_type": "display_data"
    }
   ],
   "source": [
    "log_pca_info.print_summary()"
   ]
  },
  {
   "cell_type": "markdown",
   "metadata": {
    "pycharm": {
     "name": "#%% md\n"
    }
   },
   "source": [
    "## Simple Model 2 - KNN"
   ]
  },
  {
   "cell_type": "code",
   "execution_count": 29,
   "metadata": {
    "pycharm": {
     "name": "#%%\n"
    }
   },
   "outputs": [],
   "source": [
    "knn1 = ImPipeline(steps=[\n",
    "    ('ct', ct_continous),\n",
    "    ('rs',RandomUnderSampler(sampling_strategy=0.8,random_state=42)),\n",
    "    ('sm', SMOTE(sampling_strategy= 0.25, random_state=1)),\n",
    "    ('knn1',KNeighborsClassifier())\n",
    "]).fit(X_simple,y_simple)"
   ]
  },
  {
   "cell_type": "code",
   "execution_count": 30,
   "metadata": {
    "pycharm": {
     "name": "#%%\n"
    }
   },
   "outputs": [],
   "source": [
    "knn1_info = ModelWithCV(knn1, 'knn', X_simple, y_simple)"
   ]
  },
  {
   "cell_type": "code",
   "execution_count": 31,
   "metadata": {
    "pycharm": {
     "name": "#%%\n"
    }
   },
   "outputs": [
    {
     "name": "stdout",
     "output_type": "stream",
     "text": [
      " \n",
      "  Recall is 0.5206619430310524 CV Results for `knn` model:\n",
      "            0.84886 ± 0.00164 accuracy\n",
      "         <sklearn.metrics._plot.confusion_matrix.ConfusionMatrixDisplay object at 0x000002C28D2EFA60> <sklearn.metrics._plot.roc_curve.RocCurveDisplay object at 0x000002C28D2ED5E0>\n"
     ]
    },
    {
     "data": {
      "text/plain": "<Figure size 432x288 with 1 Axes>",
      "image/png": "[encoded data removed]"
     },
     "metadata": {
      "needs_background": "light"
     },
     "output_type": "display_data"
    },
    {
     "data": {
      "text/plain": "<Figure size 432x288 with 2 Axes>",
      "image/png": "[encoded data removed]"
     },
     "metadata": {
      "needs_background": "light"
     },
     "output_type": "display_data"
    }
   ],
   "source": [
    "knn1_info.print_summary()"
   ]
  },
  {
   "cell_type": "markdown",
   "metadata": {
    "pycharm": {
     "name": "#%% md\n"
    }
   },
   "source": [
    "The KNN did much better compared to the logistic regression. It has a F1 score of about .50 compared to the logistic regression (0.14). The ROC-AUC is also much better at 0.89 versus 0.69. The accuracy is much lower though, dropping to about 84% compare to 90% from the logistic or even the dummy which was about 92%."
   ]
  },
  {
   "cell_type": "markdown",
   "metadata": {
    "pycharm": {
     "name": "#%% md\n"
    }
   },
   "source": [
    "## Simple Model 3 - Decision Tree"
   ]
  },
  {
   "cell_type": "code",
   "execution_count": 32,
   "metadata": {
    "pycharm": {
     "name": "#%%\n"
    }
   },
   "outputs": [],
   "source": [
    "dtree1 = ImPipeline(steps=[\n",
    "    ('ct', ct_continous),\n",
    "    ('rs',RandomUnderSampler(sampling_strategy=0.8, random_state=42)),\n",
    "    ('sm', SMOTE(sampling_strategy=0.25, random_state=1)),\n",
    "    ('dtree', DecisionTreeClassifier(random_state=42) )\n",
    "]).fit(X_simple,y_simple)"
   ]
  },
  {
   "cell_type": "code",
   "execution_count": 33,
   "metadata": {
    "pycharm": {
     "name": "#%%\n"
    }
   },
   "outputs": [
    {
     "name": "stdout",
     "output_type": "stream",
     "text": [
      " \n",
      "  Recall is 0.6877169622901708 CV Results for `dtree1` model:\n",
      "            0.85494 ± 0.00096 accuracy\n",
      "         <sklearn.metrics._plot.confusion_matrix.ConfusionMatrixDisplay object at 0x000002C29D312D60> <sklearn.metrics._plot.roc_curve.RocCurveDisplay object at 0x000002C28D3078B0>\n"
     ]
    },
    {
     "data": {
      "text/plain": "<Figure size 432x288 with 1 Axes>",
      "image/png": "[encoded data removed]"
     },
     "metadata": {
      "needs_background": "light"
     },
     "output_type": "display_data"
    },
    {
     "data": {
      "text/plain": "<Figure size 432x288 with 2 Axes>",
      "image/png": "[encoded data removed]"
     },
     "metadata": {
      "needs_background": "light"
     },
     "output_type": "display_data"
    }
   ],
   "source": [
    "dtree1_info = ModelWithCV(dtree1, 'dtree1', X_simple, y_simple)\n",
    "dtree1_info.print_summary()"
   ]
  },
  {
   "cell_type": "markdown",
   "metadata": {
    "pycharm": {
     "name": "#%% md\n"
    }
   },
   "source": [
    "Our decision tree performed much better with an F1 score of 0.80, ROC-AUC of 0.99 but with an accuracy of 86%. Though, the ROC-AUC being 0.99 indicates that it is more than likely overfit and as such we will have to take that into account."
   ]
  },
  {
   "cell_type": "code",
   "execution_count": 34,
   "metadata": {
    "pycharm": {
     "name": "#%%\n"
    }
   },
   "outputs": [
    {
     "data": {
      "text/plain": "        physical_health  mental_health  last_checkup  excercise_30  sleep  \\\n248413              0.0            0.0           2.0           1.0    6.0   \n91003               0.0            0.0           1.0           1.0    6.0   \n148075              0.0           10.0           2.0           1.0    6.0   \n273325              0.0            0.0           1.0           1.0    8.0   \n193206              0.0            0.0           1.0           1.0    8.0   \n...                 ...            ...           ...           ...    ...   \n298694              0.0            0.0           1.0           1.0    8.0   \n82524              15.0            0.0           1.0           2.0    7.0   \n289919              0.0            0.0           1.0           1.0    8.0   \n130280              5.0            5.0           1.0           1.0    6.0   \n229708              0.0            0.0           1.0           2.0    6.0   \n\n        weight_kg  height_m  alcohol_consumption_30  \n248413       73.0     165.0                     5.0  \n91003        55.0     175.0                     0.0  \n148075       50.0     168.0                     4.0  \n273325       55.0     152.0                     0.0  \n193206       62.0     165.0                     4.0  \n...           ...       ...                     ...  \n298694       82.0     168.0                    30.0  \n82524       100.0     160.0                     0.0  \n289919       68.0     168.0                     2.0  \n130280       91.0     175.0                     0.0  \n229708       86.0     155.0                     0.0  \n\n[248646 rows x 8 columns]",
      "text/html": "<div>\n<style scoped>\n    .dataframe tbody tr th:only-of-type {\n        vertical-align: middle;\n    }\n\n    .dataframe tbody tr th {\n        vertical-align: top;\n    }\n\n    .dataframe thead th {\n        text-align: right;\n    }\n</style>\n<table border=\"1\" class=\"dataframe\">\n  <thead>\n    <tr style=\"text-align: right;\">\n      <th></th>\n      <th>physical_health</th>\n      <th>mental_health</th>\n      <th>last_checkup</th>\n      <th>excercise_30</th>\n      <th>sleep</th>\n      <th>weight_kg</th>\n      <th>height_m</th>\n      <th>alcohol_consumption_30</th>\n    </tr>\n  </thead>\n  <tbody>\n    <tr>\n      <th>248413</th>\n      <td>0.0</td>\n      <td>0.0</td>\n      <td>2.0</td>\n      <td>1.0</td>\n      <td>6.0</td>\n      <td>73.0</td>\n      <td>165.0</td>\n      <td>5.0</td>\n    </tr>\n    <tr>\n      <th>91003</th>\n      <td>0.0</td>\n      <td>0.0</td>\n      <td>1.0</td>\n      <td>1.0</td>\n      <td>6.0</td>\n      <td>55.0</td>\n      <td>175.0</td>\n      <td>0.0</td>\n    </tr>\n    <tr>\n      <th>148075</th>\n      <td>0.0</td>\n      <td>10.0</td>\n      <td>2.0</td>\n      <td>1.0</td>\n      <td>6.0</td>\n      <td>50.0</td>\n      <td>168.0</td>\n      <td>4.0</td>\n    </tr>\n    <tr>\n      <th>273325</th>\n      <td>0.0</td>\n      <td>0.0</td>\n      <td>1.0</td>\n      <td>1.0</td>\n      <td>8.0</td>\n      <td>55.0</td>\n      <td>152.0</td>\n      <td>0.0</td>\n    </tr>\n    <tr>\n      <th>193206</th>\n      <td>0.0</td>\n      <td>0.0</td>\n      <td>1.0</td>\n      <td>1.0</td>\n      <td>8.0</td>\n      <td>62.0</td>\n      <td>165.0</td>\n      <td>4.0</td>\n    </tr>\n    <tr>\n      <th>...</th>\n      <td>...</td>\n      <td>...</td>\n      <td>...</td>\n      <td>...</td>\n      <td>...</td>\n      <td>...</td>\n      <td>...</td>\n      <td>...</td>\n    </tr>\n    <tr>\n      <th>298694</th>\n      <td>0.0</td>\n      <td>0.0</td>\n      <td>1.0</td>\n      <td>1.0</td>\n      <td>8.0</td>\n      <td>82.0</td>\n      <td>168.0</td>\n      <td>30.0</td>\n    </tr>\n    <tr>\n      <th>82524</th>\n      <td>15.0</td>\n      <td>0.0</td>\n      <td>1.0</td>\n      <td>2.0</td>\n      <td>7.0</td>\n      <td>100.0</td>\n      <td>160.0</td>\n      <td>0.0</td>\n    </tr>\n    <tr>\n      <th>289919</th>\n      <td>0.0</td>\n      <td>0.0</td>\n      <td>1.0</td>\n      <td>1.0</td>\n      <td>8.0</td>\n      <td>68.0</td>\n      <td>168.0</td>\n      <td>2.0</td>\n    </tr>\n    <tr>\n      <th>130280</th>\n      <td>5.0</td>\n      <td>5.0</td>\n      <td>1.0</td>\n      <td>1.0</td>\n      <td>6.0</td>\n      <td>91.0</td>\n      <td>175.0</td>\n      <td>0.0</td>\n    </tr>\n    <tr>\n      <th>229708</th>\n      <td>0.0</td>\n      <td>0.0</td>\n      <td>1.0</td>\n      <td>2.0</td>\n      <td>6.0</td>\n      <td>86.0</td>\n      <td>155.0</td>\n      <td>0.0</td>\n    </tr>\n  </tbody>\n</table>\n<p>248646 rows × 8 columns</p>\n</div>"
     },
     "execution_count": 34,
     "metadata": {},
     "output_type": "execute_result"
    }
   ],
   "source": [
    "X_simple"
   ]
  },
  {
   "cell_type": "code",
   "execution_count": 35,
   "metadata": {
    "pycharm": {
     "name": "#%%\n"
    }
   },
   "outputs": [],
   "source": [
    "#rf\n",
    "rf1 = ImPipeline(steps=[\n",
    "    ('ct', ct_continous),\n",
    "    ('rs',RandomUnderSampler(sampling_strategy=0.8, random_state=42)),\n",
    "    ('sm', SMOTE(sampling_strategy=0.25, random_state=1)),\n",
    "    ('rf1', RandomForestClassifier(random_state=42) )\n",
    "]).fit(X_simple,y_simple)"
   ]
  },
  {
   "cell_type": "code",
   "execution_count": 36,
   "metadata": {
    "pycharm": {
     "name": "#%%\n"
    }
   },
   "outputs": [],
   "source": [
    "rf1_info = ModelWithCV(rf1, 'rf1', X_simple, y_simple)"
   ]
  },
  {
   "cell_type": "code",
   "execution_count": 37,
   "metadata": {
    "pycharm": {
     "name": "#%%\n"
    }
   },
   "outputs": [
    {
     "name": "stdout",
     "output_type": "stream",
     "text": [
      " \n",
      "  Recall is 0.7130629131199772 CV Results for `rf1` model:\n",
      "            0.89355 ± 0.00072 accuracy\n",
      "         <sklearn.metrics._plot.confusion_matrix.ConfusionMatrixDisplay object at 0x000002C29D78B940> <sklearn.metrics._plot.roc_curve.RocCurveDisplay object at 0x000002C2E7E596D0>\n"
     ]
    },
    {
     "data": {
      "text/plain": "<Figure size 432x288 with 1 Axes>",
      "image/png": "[encoded data removed]"
     },
     "metadata": {
      "needs_background": "light"
     },
     "output_type": "display_data"
    },
    {
     "data": {
      "text/plain": "<Figure size 432x288 with 2 Axes>",
      "image/png": "[encoded data removed]"
     },
     "metadata": {
      "needs_background": "light"
     },
     "output_type": "display_data"
    }
   ],
   "source": [
    "rf1_info.print_summary()"
   ]
  },
  {
   "cell_type": "markdown",
   "metadata": {
    "pycharm": {
     "name": "#%% md\n"
    }
   },
   "source": [
    "# Simple Model 4 - XGBoost"
   ]
  },
  {
   "cell_type": "code",
   "execution_count": 38,
   "metadata": {
    "pycharm": {
     "name": "#%%\n"
    }
   },
   "outputs": [],
   "source": [
    "xg1 = ImPipeline(steps=[\n",
    "    ('ct', ct_continous),\n",
    "    ('rs',RandomUnderSampler(sampling_strategy=0.8, random_state=42)),\n",
    "    ('sm', SMOTE(sampling_strategy=0.25, random_state=1)),\n",
    "    ('xg1', XGBClassifier(random_state= 42) )\n",
    "]).fit(X_simple,y_simple)"
   ]
  },
  {
   "cell_type": "code",
   "execution_count": 39,
   "metadata": {
    "pycharm": {
     "name": "#%%\n"
    }
   },
   "outputs": [
    {
     "name": "stdout",
     "output_type": "stream",
     "text": [
      " \n",
      "  Recall is 0.02891245422987303 CV Results for `xg1` model:\n",
      "            0.91042 ± 0.00017 accuracy\n",
      "         <sklearn.metrics._plot.confusion_matrix.ConfusionMatrixDisplay object at 0x000002C29D9F18B0> <sklearn.metrics._plot.roc_curve.RocCurveDisplay object at 0x000002C29D9E7F10>\n"
     ]
    },
    {
     "data": {
      "text/plain": "<Figure size 432x288 with 1 Axes>",
      "image/png": "[encoded data removed]"
     },
     "metadata": {
      "needs_background": "light"
     },
     "output_type": "display_data"
    },
    {
     "data": {
      "text/plain": "<Figure size 432x288 with 2 Axes>",
      "image/png": "[encoded data removed]"
     },
     "metadata": {
      "needs_background": "light"
     },
     "output_type": "display_data"
    }
   ],
   "source": [
    "xg1_info = ModelWithCV(xg1, 'xg1', X_simple, y_simple)\n",
    "xg1_info.print_summary()"
   ]
  },
  {
   "cell_type": "markdown",
   "metadata": {
    "pycharm": {
     "name": "#%% md\n"
    }
   },
   "source": [
    "# Grid Search on best models"
   ]
  },
  {
   "cell_type": "markdown",
   "source": [
    "**Due to  decision trees and random forest being prone to overfitting and based on our ROC-AUC it is for me, I added the KNN model to grid search. I understand that if I hit either an upper or lower value in a list of parameters passed that I should continue to grid search to a certain point. But,I will not do so in this case, because I'm not performing a kitchen sink approach and am curious on how well the other data sections performs. As such getting those models in will be my top priority and if time permit and or I am not satisfied with my recall score, then I will return to additional grid searches.**"
   ],
   "metadata": {
    "collapsed": false,
    "pycharm": {
     "name": "#%% md\n"
    }
   }
  },
  {
   "cell_type": "markdown",
   "metadata": {
    "pycharm": {
     "name": "#%% md\n"
    }
   },
   "source": [
    "### KNN"
   ]
  },
  {
   "cell_type": "code",
   "execution_count": 40,
   "metadata": {
    "pycharm": {
     "name": "#%%\n"
    }
   },
   "outputs": [],
   "source": [
    "knn_params = {\n",
    "    'knn1__n_neighbors': [5,10,20],\n",
    "    'knn1__metric' : ['minkowski', 'euclidean']\n",
    "}"
   ]
  },
  {
   "cell_type": "code",
   "execution_count": 41,
   "metadata": {
    "pycharm": {
     "name": "#%%\n"
    }
   },
   "outputs": [],
   "source": [
    "knn_gs = GridSearchCV(estimator=knn1, param_grid=knn_params, n_jobs=-2).fit(X_simple,y_simple)"
   ]
  },
  {
   "cell_type": "code",
   "execution_count": 42,
   "metadata": {
    "pycharm": {
     "name": "#%%\n"
    }
   },
   "outputs": [
    {
     "data": {
      "text/plain": "['./joblib_models/knn_gs.sav']"
     },
     "execution_count": 42,
     "metadata": {},
     "output_type": "execute_result"
    }
   ],
   "source": [
    "joblib.dump(knn_gs, './joblib_models/knn_gs.sav')"
   ]
  },
  {
   "cell_type": "code",
   "execution_count": 43,
   "outputs": [
    {
     "data": {
      "text/plain": "Pipeline(steps=[('ct',\n                 ColumnTransformer(n_jobs=-1,\n                                   transformers=[('scale',\n                                                  Pipeline(steps=[('scale_impute',\n                                                                   IterativeImputer(estimator=BayesianRidge(),\n                                                                                    random_state=42)),\n                                                                  ('scale',\n                                                                   MinMaxScaler())]),\n                                                  ['physical_health',\n                                                   'mental_health',\n                                                   'last_checkup',\n                                                   'excercise_30', 'sleep',\n                                                   'weight_kg', 'height_m',\n                                                   'alcohol_consumption_30'])])),\n                ('sm', SMOTE(random_state=1, sampling_strategy=0.25)),\n                ('knn1', KNeighborsClassifier(n_neighbors=20))])"
     },
     "execution_count": 43,
     "metadata": {},
     "output_type": "execute_result"
    }
   ],
   "source": [
    "knn_gs.best_estimator_"
   ],
   "metadata": {
    "collapsed": false,
    "pycharm": {
     "name": "#%%\n"
    }
   }
  },
  {
   "cell_type": "code",
   "execution_count": 44,
   "metadata": {
    "pycharm": {
     "name": "#%%\n"
    }
   },
   "outputs": [],
   "source": [
    "knn1_tune = ModelWithCV(knn_gs.best_estimator_,'knn1_tune', X_simple, y_simple)"
   ]
  },
  {
   "cell_type": "code",
   "execution_count": 45,
   "metadata": {
    "pycharm": {
     "name": "#%%\n"
    }
   },
   "outputs": [
    {
     "data": {
      "text/plain": "['./joblib_models/knn1_tune.sav']"
     },
     "execution_count": 45,
     "metadata": {},
     "output_type": "execute_result"
    }
   ],
   "source": [
    "joblib.dump(knn1_tune, './joblib_models/knn1_tune.sav')"
   ]
  },
  {
   "cell_type": "code",
   "execution_count": 46,
   "metadata": {
    "pycharm": {
     "name": "#%%\n"
    }
   },
   "outputs": [
    {
     "name": "stdout",
     "output_type": "stream",
     "text": [
      " \n",
      "  Recall is 0.22868419801226877 CV Results for `knn1_tune` model:\n",
      "            0.88310 ± 0.00089 accuracy\n",
      "         <sklearn.metrics._plot.confusion_matrix.ConfusionMatrixDisplay object at 0x000002C29D9F94C0> <sklearn.metrics._plot.roc_curve.RocCurveDisplay object at 0x000002C29D9C8460>\n"
     ]
    },
    {
     "data": {
      "text/plain": "<Figure size 432x288 with 1 Axes>",
      "image/png": "[encoded data removed]"
     },
     "metadata": {
      "needs_background": "light"
     },
     "output_type": "display_data"
    },
    {
     "data": {
      "text/plain": "<Figure size 432x288 with 2 Axes>",
      "image/png": "[encoded data removed]"
     },
     "metadata": {
      "needs_background": "light"
     },
     "output_type": "display_data"
    }
   ],
   "source": [
    "knn1_tune.print_summary()"
   ]
  },
  {
   "cell_type": "markdown",
   "metadata": {
    "pycharm": {
     "name": "#%% md\n"
    }
   },
   "source": [
    "### Decision Trees"
   ]
  },
  {
   "cell_type": "code",
   "execution_count": 47,
   "metadata": {
    "pycharm": {
     "name": "#%%\n"
    }
   },
   "outputs": [],
   "source": [
    "dtree1_params = {\n",
    "    'dtree__criterion' : ['gini', 'entropy'],\n",
    "    'dtree__max_depth' : [5,10,20],\n",
    "    'dtree__min_samples_split' : [1000, 10000, 50000]\n",
    "}"
   ]
  },
  {
   "cell_type": "code",
   "execution_count": 48,
   "metadata": {
    "pycharm": {
     "name": "#%%\n"
    }
   },
   "outputs": [
    {
     "name": "stdout",
     "output_type": "stream",
     "text": [
      "Fitting 5 folds for each of 18 candidates, totalling 90 fits\n"
     ]
    },
    {
     "name": "stderr",
     "output_type": "stream",
     "text": [
      "[Parallel(n_jobs=-1)]: Using backend LokyBackend with 16 concurrent workers.\n",
      "[Parallel(n_jobs=-1)]: Done  90 out of  90 | elapsed:  1.7min remaining:    0.0s\n",
      "[Parallel(n_jobs=-1)]: Done  90 out of  90 | elapsed:  1.7min finished\n"
     ]
    }
   ],
   "source": [
    "dtree1_gs = GridSearchCV(estimator=dtree1, param_grid=dtree1_params, n_jobs=-2, verbose=3).fit(X_simple,y_simple)"
   ]
  },
  {
   "cell_type": "code",
   "execution_count": 49,
   "metadata": {
    "pycharm": {
     "name": "#%%\n"
    }
   },
   "outputs": [
    {
     "data": {
      "text/plain": "['./joblib_models/dtree1_gs.sav']"
     },
     "execution_count": 49,
     "metadata": {},
     "output_type": "execute_result"
    }
   ],
   "source": [
    "joblib.dump(dtree1_gs, './joblib_models/dtree1_gs.sav')"
   ]
  },
  {
   "cell_type": "code",
   "execution_count": 50,
   "metadata": {
    "pycharm": {
     "name": "#%%\n"
    }
   },
   "outputs": [],
   "source": [
    "dtree1_tune = ModelWithCV(dtree1_gs.best_estimator_,'dtree1_tune', X_simple, y_simple)"
   ]
  },
  {
   "cell_type": "code",
   "execution_count": 51,
   "outputs": [
    {
     "data": {
      "text/plain": "['./joblib_models/dtree1_tune.sav']"
     },
     "execution_count": 51,
     "metadata": {},
     "output_type": "execute_result"
    }
   ],
   "source": [
    "joblib.dump(dtree1_tune, './joblib_models/dtree1_tune.sav')"
   ],
   "metadata": {
    "collapsed": false,
    "pycharm": {
     "name": "#%%\n"
    }
   }
  },
  {
   "cell_type": "code",
   "execution_count": 52,
   "outputs": [
    {
     "name": "stdout",
     "output_type": "stream",
     "text": [
      " \n",
      "  Recall is 0.0001902135146702173 CV Results for `dtree1_tune` model:\n",
      "            0.91539 ± 0.00002 accuracy\n",
      "         <sklearn.metrics._plot.confusion_matrix.ConfusionMatrixDisplay object at 0x000002C28B8E6430> <sklearn.metrics._plot.roc_curve.RocCurveDisplay object at 0x000002C28D30F040>\n"
     ]
    },
    {
     "data": {
      "text/plain": "<Figure size 432x288 with 1 Axes>",
      "image/png": "[encoded data removed]"
     },
     "metadata": {
      "needs_background": "light"
     },
     "output_type": "display_data"
    },
    {
     "data": {
      "text/plain": "<Figure size 432x288 with 2 Axes>",
      "image/png": "[encoded data removed]"
     },
     "metadata": {
      "needs_background": "light"
     },
     "output_type": "display_data"
    }
   ],
   "source": [
    "dtree1_tune.print_summary()"
   ],
   "metadata": {
    "collapsed": false,
    "pycharm": {
     "name": "#%%\n"
    }
   }
  },
  {
   "cell_type": "markdown",
   "source": [
    "## Random Forest"
   ],
   "metadata": {
    "collapsed": false,
    "pycharm": {
     "name": "#%% md\n"
    }
   }
  },
  {
   "cell_type": "code",
   "execution_count": 53,
   "outputs": [],
   "source": [
    "rf_params = {\n",
    "    'rf1__n_estimators' : [100,200],\n",
    "    'rf1__criterion' : ['gini', 'entropy'],\n",
    "    'rf1__max_depth' : [5,10,20]\n",
    "}"
   ],
   "metadata": {
    "collapsed": false,
    "pycharm": {
     "name": "#%%\n"
    }
   }
  },
  {
   "cell_type": "code",
   "execution_count": 54,
   "outputs": [
    {
     "name": "stdout",
     "output_type": "stream",
     "text": [
      "Fitting 5 folds for each of 12 candidates, totalling 60 fits\n"
     ]
    },
    {
     "name": "stderr",
     "output_type": "stream",
     "text": [
      "[Parallel(n_jobs=-1)]: Using backend LokyBackend with 16 concurrent workers.\n",
      "[Parallel(n_jobs=-1)]: Done  50 out of  60 | elapsed:  4.8min remaining:   57.7s\n",
      "[Parallel(n_jobs=-1)]: Done  60 out of  60 | elapsed:  5.3min finished\n"
     ]
    }
   ],
   "source": [
    "rf_gs = GridSearchCV(estimator=rf1, param_grid=rf_params, n_jobs=-2,verbose=3).fit(X_simple,y_simple)"
   ],
   "metadata": {
    "collapsed": false,
    "pycharm": {
     "name": "#%%\n"
    }
   }
  },
  {
   "cell_type": "code",
   "execution_count": 55,
   "outputs": [
    {
     "data": {
      "text/plain": "['./joblib_models/rf_gs.sav']"
     },
     "execution_count": 55,
     "metadata": {},
     "output_type": "execute_result"
    }
   ],
   "source": [
    "joblib.dump(rf_gs, './joblib_models/rf_gs.sav')"
   ],
   "metadata": {
    "collapsed": false,
    "pycharm": {
     "name": "#%%\n"
    }
   }
  },
  {
   "cell_type": "code",
   "execution_count": 56,
   "outputs": [],
   "source": [
    "rf_gs_info = ModelWithCV(rf_gs.best_estimator_, 'rf_gs', X_simple, y_simple)"
   ],
   "metadata": {
    "collapsed": false,
    "pycharm": {
     "name": "#%%\n"
    }
   }
  },
  {
   "cell_type": "code",
   "execution_count": 57,
   "outputs": [
    {
     "data": {
      "text/plain": "['./joblib_models/rf_gs_info.sav']"
     },
     "execution_count": 57,
     "metadata": {},
     "output_type": "execute_result"
    }
   ],
   "source": [
    "joblib.dump(rf_gs_info, './joblib_models/rf_gs_info.sav')"
   ],
   "metadata": {
    "collapsed": false,
    "pycharm": {
     "name": "#%%\n"
    }
   }
  },
  {
   "cell_type": "code",
   "execution_count": 58,
   "outputs": [
    {
     "name": "stdout",
     "output_type": "stream",
     "text": [
      " \n",
      "  Recall is 0.0006181939226782063 CV Results for `rf_gs` model:\n",
      "            0.91530 ± 0.00005 accuracy\n",
      "         <sklearn.metrics._plot.confusion_matrix.ConfusionMatrixDisplay object at 0x000002C29CCA6940> <sklearn.metrics._plot.roc_curve.RocCurveDisplay object at 0x000002C29CA48B20>\n"
     ]
    },
    {
     "data": {
      "text/plain": "<Figure size 432x288 with 1 Axes>",
      "image/png": "[encoded data removed]"
     },
     "metadata": {
      "needs_background": "light"
     },
     "output_type": "display_data"
    },
    {
     "data": {
      "text/plain": "<Figure size 432x288 with 2 Axes>",
      "image/png": "[encoded data removed]"
     },
     "metadata": {
      "needs_background": "light"
     },
     "output_type": "display_data"
    }
   ],
   "source": [
    "rf_gs_info.print_summary()"
   ],
   "metadata": {
    "collapsed": false,
    "pycharm": {
     "name": "#%%\n"
    }
   }
  },
  {
   "cell_type": "markdown",
   "metadata": {
    "pycharm": {
     "name": "#%% md\n"
    }
   },
   "source": [
    "# Does only Categorical perform better?"
   ]
  },
  {
   "cell_type": "code",
   "execution_count": 59,
   "outputs": [],
   "source": [
    "X_categorical = X_train.drop(columns = continous)"
   ],
   "metadata": {
    "collapsed": false,
    "pycharm": {
     "name": "#%%\n"
    }
   }
  },
  {
   "cell_type": "code",
   "execution_count": 60,
   "outputs": [],
   "source": [
    "y_categorical = y_train"
   ],
   "metadata": {
    "collapsed": false,
    "pycharm": {
     "name": "#%%\n"
    }
   }
  },
  {
   "cell_type": "code",
   "execution_count": 61,
   "outputs": [],
   "source": [
    "dummy_cate = ImPipeline(steps=[\n",
    "    ('ct', ct_categorical),\n",
    "    ('rs',RandomUnderSampler(sampling_strategy=0.8, random_state=42)),\n",
    "    ('sm', SMOTE(sampling_strategy=0.25, random_state=1)),\n",
    "    ('dummy', DummyClassifier(strategy='most_frequent'))\n",
    "]).fit(X_categorical,y_categorical)"
   ],
   "metadata": {
    "collapsed": false,
    "pycharm": {
     "name": "#%%\n"
    }
   }
  },
  {
   "cell_type": "code",
   "execution_count": 62,
   "outputs": [],
   "source": [
    "dummy_cate_info = ModelWithCV(dummy_cate, 'dummy_cate', X_categorical, y_categorical)"
   ],
   "metadata": {
    "collapsed": false,
    "pycharm": {
     "name": "#%%\n"
    }
   }
  },
  {
   "cell_type": "code",
   "execution_count": 63,
   "outputs": [
    {
     "ename": "PicklingError",
     "evalue": "Could not pickle the task to send it to the workers.",
     "output_type": "error",
     "traceback": [
      "\u001B[1;31m---------------------------------------------------------------------------\u001B[0m",
      "\u001B[1;31m_RemoteTraceback\u001B[0m                          Traceback (most recent call last)",
      "\u001B[1;31m_RemoteTraceback\u001B[0m: \n\"\"\"\nTraceback (most recent call last):\n  File \"C:\\Users\\xiao\\anaconda3\\envs\\learn-env\\lib\\site-packages\\joblib\\externals\\loky\\backend\\queues.py\", line 155, in _feed\n    send_bytes(obj_)\n  File \"C:\\Users\\xiao\\anaconda3\\envs\\learn-env\\lib\\multiprocessing\\connection.py\", line 200, in send_bytes\n    self._send_bytes(m[offset:offset + size])\n  File \"C:\\Users\\xiao\\anaconda3\\envs\\learn-env\\lib\\multiprocessing\\connection.py\", line 280, in _send_bytes\n    ov, err = _winapi.WriteFile(self._handle, buf, overlapped=True)\nOSError: [WinError 1450] Insufficient system resources exist to complete the requested service\n\"\"\"",
      "\nThe above exception was the direct cause of the following exception:\n",
      "\u001B[1;31mPicklingError\u001B[0m                             Traceback (most recent call last)",
      "\u001B[1;32m<ipython-input-63-a7c23a0968c0>\u001B[0m in \u001B[0;36m<module>\u001B[1;34m\u001B[0m\n\u001B[1;32m----> 1\u001B[1;33m \u001B[0mdummy_cate_info\u001B[0m\u001B[1;33m.\u001B[0m\u001B[0mprint_summary\u001B[0m\u001B[1;33m(\u001B[0m\u001B[1;33m)\u001B[0m\u001B[1;33m\u001B[0m\u001B[1;33m\u001B[0m\u001B[0m\n\u001B[0m",
      "\u001B[1;32m~\\Documents\\Flatiron\\Heart_Disease\\model.py\u001B[0m in \u001B[0;36mprint_summary\u001B[1;34m(self)\u001B[0m\n\u001B[0;32m     45\u001B[0m \u001B[1;33m\u001B[0m\u001B[0m\n\u001B[0;32m     46\u001B[0m     \u001B[1;32mdef\u001B[0m \u001B[0mprint_summary\u001B[0m\u001B[1;33m(\u001B[0m\u001B[0mself\u001B[0m\u001B[1;33m)\u001B[0m\u001B[1;33m:\u001B[0m\u001B[1;33m\u001B[0m\u001B[1;33m\u001B[0m\u001B[0m\n\u001B[1;32m---> 47\u001B[1;33m         \u001B[0mroc\u001B[0m \u001B[1;33m=\u001B[0m \u001B[0mplot_roc_curve\u001B[0m\u001B[1;33m(\u001B[0m\u001B[0mself\u001B[0m\u001B[1;33m.\u001B[0m\u001B[0mmodel\u001B[0m\u001B[1;33m,\u001B[0m \u001B[0mself\u001B[0m\u001B[1;33m.\u001B[0m\u001B[0mX\u001B[0m \u001B[1;33m,\u001B[0m \u001B[0mself\u001B[0m\u001B[1;33m.\u001B[0m\u001B[0my\u001B[0m\u001B[1;33m)\u001B[0m\u001B[1;33m;\u001B[0m\u001B[1;33m\u001B[0m\u001B[1;33m\u001B[0m\u001B[0m\n\u001B[0m\u001B[0;32m     48\u001B[0m         \u001B[0mcm\u001B[0m \u001B[1;33m=\u001B[0m \u001B[0mplot_confusion_matrix\u001B[0m\u001B[1;33m(\u001B[0m\u001B[0mself\u001B[0m\u001B[1;33m.\u001B[0m\u001B[0mmodel\u001B[0m\u001B[1;33m,\u001B[0m \u001B[0mself\u001B[0m\u001B[1;33m.\u001B[0m\u001B[0mX\u001B[0m\u001B[1;33m,\u001B[0m \u001B[0mself\u001B[0m\u001B[1;33m.\u001B[0m\u001B[0my\u001B[0m\u001B[1;33m,\u001B[0m \u001B[0mcmap\u001B[0m\u001B[1;33m=\u001B[0m\u001B[0mplt\u001B[0m\u001B[1;33m.\u001B[0m\u001B[0mcm\u001B[0m\u001B[1;33m.\u001B[0m\u001B[0mBlues\u001B[0m\u001B[1;33m)\u001B[0m\u001B[1;33m;\u001B[0m\u001B[1;33m\u001B[0m\u001B[1;33m\u001B[0m\u001B[0m\n\u001B[0;32m     49\u001B[0m         \u001B[0mpreds\u001B[0m \u001B[1;33m=\u001B[0m \u001B[0mself\u001B[0m\u001B[1;33m.\u001B[0m\u001B[0mmodel\u001B[0m\u001B[1;33m.\u001B[0m\u001B[0mpredict\u001B[0m\u001B[1;33m(\u001B[0m\u001B[0mself\u001B[0m\u001B[1;33m.\u001B[0m\u001B[0mX\u001B[0m\u001B[1;33m)\u001B[0m\u001B[1;33m\u001B[0m\u001B[1;33m\u001B[0m\u001B[0m\n",
      "\u001B[1;32m~\\anaconda3\\envs\\learn-env\\lib\\site-packages\\sklearn\\utils\\validation.py\u001B[0m in \u001B[0;36minner_f\u001B[1;34m(*args, **kwargs)\u001B[0m\n\u001B[0;32m     70\u001B[0m                           FutureWarning)\n\u001B[0;32m     71\u001B[0m         \u001B[0mkwargs\u001B[0m\u001B[1;33m.\u001B[0m\u001B[0mupdate\u001B[0m\u001B[1;33m(\u001B[0m\u001B[1;33m{\u001B[0m\u001B[0mk\u001B[0m\u001B[1;33m:\u001B[0m \u001B[0marg\u001B[0m \u001B[1;32mfor\u001B[0m \u001B[0mk\u001B[0m\u001B[1;33m,\u001B[0m \u001B[0marg\u001B[0m \u001B[1;32min\u001B[0m \u001B[0mzip\u001B[0m\u001B[1;33m(\u001B[0m\u001B[0msig\u001B[0m\u001B[1;33m.\u001B[0m\u001B[0mparameters\u001B[0m\u001B[1;33m,\u001B[0m \u001B[0margs\u001B[0m\u001B[1;33m)\u001B[0m\u001B[1;33m}\u001B[0m\u001B[1;33m)\u001B[0m\u001B[1;33m\u001B[0m\u001B[1;33m\u001B[0m\u001B[0m\n\u001B[1;32m---> 72\u001B[1;33m         \u001B[1;32mreturn\u001B[0m \u001B[0mf\u001B[0m\u001B[1;33m(\u001B[0m\u001B[1;33m**\u001B[0m\u001B[0mkwargs\u001B[0m\u001B[1;33m)\u001B[0m\u001B[1;33m\u001B[0m\u001B[1;33m\u001B[0m\u001B[0m\n\u001B[0m\u001B[0;32m     73\u001B[0m     \u001B[1;32mreturn\u001B[0m \u001B[0minner_f\u001B[0m\u001B[1;33m\u001B[0m\u001B[1;33m\u001B[0m\u001B[0m\n\u001B[0;32m     74\u001B[0m \u001B[1;33m\u001B[0m\u001B[0m\n",
      "\u001B[1;32m~\\anaconda3\\envs\\learn-env\\lib\\site-packages\\sklearn\\metrics\\_plot\\roc_curve.py\u001B[0m in \u001B[0;36mplot_roc_curve\u001B[1;34m(estimator, X, y, sample_weight, drop_intermediate, response_method, name, ax, **kwargs)\u001B[0m\n\u001B[0;32m    184\u001B[0m     prediction_method = _check_classifer_response_method(estimator,\n\u001B[0;32m    185\u001B[0m                                                          response_method)\n\u001B[1;32m--> 186\u001B[1;33m     \u001B[0my_pred\u001B[0m \u001B[1;33m=\u001B[0m \u001B[0mprediction_method\u001B[0m\u001B[1;33m(\u001B[0m\u001B[0mX\u001B[0m\u001B[1;33m)\u001B[0m\u001B[1;33m\u001B[0m\u001B[1;33m\u001B[0m\u001B[0m\n\u001B[0m\u001B[0;32m    187\u001B[0m \u001B[1;33m\u001B[0m\u001B[0m\n\u001B[0;32m    188\u001B[0m     \u001B[1;32mif\u001B[0m \u001B[0my_pred\u001B[0m\u001B[1;33m.\u001B[0m\u001B[0mndim\u001B[0m \u001B[1;33m!=\u001B[0m \u001B[1;36m1\u001B[0m\u001B[1;33m:\u001B[0m\u001B[1;33m\u001B[0m\u001B[1;33m\u001B[0m\u001B[0m\n",
      "\u001B[1;32m~\\anaconda3\\envs\\learn-env\\lib\\site-packages\\sklearn\\utils\\metaestimators.py\u001B[0m in \u001B[0;36m<lambda>\u001B[1;34m(*args, **kwargs)\u001B[0m\n\u001B[0;32m    117\u001B[0m \u001B[1;33m\u001B[0m\u001B[0m\n\u001B[0;32m    118\u001B[0m         \u001B[1;31m# lambda, but not partial, allows help() to work with update_wrapper\u001B[0m\u001B[1;33m\u001B[0m\u001B[1;33m\u001B[0m\u001B[1;33m\u001B[0m\u001B[0m\n\u001B[1;32m--> 119\u001B[1;33m         \u001B[0mout\u001B[0m \u001B[1;33m=\u001B[0m \u001B[1;32mlambda\u001B[0m \u001B[1;33m*\u001B[0m\u001B[0margs\u001B[0m\u001B[1;33m,\u001B[0m \u001B[1;33m**\u001B[0m\u001B[0mkwargs\u001B[0m\u001B[1;33m:\u001B[0m \u001B[0mself\u001B[0m\u001B[1;33m.\u001B[0m\u001B[0mfn\u001B[0m\u001B[1;33m(\u001B[0m\u001B[0mobj\u001B[0m\u001B[1;33m,\u001B[0m \u001B[1;33m*\u001B[0m\u001B[0margs\u001B[0m\u001B[1;33m,\u001B[0m \u001B[1;33m**\u001B[0m\u001B[0mkwargs\u001B[0m\u001B[1;33m)\u001B[0m\u001B[1;33m\u001B[0m\u001B[1;33m\u001B[0m\u001B[0m\n\u001B[0m\u001B[0;32m    120\u001B[0m         \u001B[1;31m# update the docstring of the returned function\u001B[0m\u001B[1;33m\u001B[0m\u001B[1;33m\u001B[0m\u001B[1;33m\u001B[0m\u001B[0m\n\u001B[0;32m    121\u001B[0m         \u001B[0mupdate_wrapper\u001B[0m\u001B[1;33m(\u001B[0m\u001B[0mout\u001B[0m\u001B[1;33m,\u001B[0m \u001B[0mself\u001B[0m\u001B[1;33m.\u001B[0m\u001B[0mfn\u001B[0m\u001B[1;33m)\u001B[0m\u001B[1;33m\u001B[0m\u001B[1;33m\u001B[0m\u001B[0m\n",
      "\u001B[1;32m~\\anaconda3\\envs\\learn-env\\lib\\site-packages\\sklearn\\pipeline.py\u001B[0m in \u001B[0;36mpredict_proba\u001B[1;34m(self, X)\u001B[0m\n\u001B[0;32m    461\u001B[0m         \u001B[0mXt\u001B[0m \u001B[1;33m=\u001B[0m \u001B[0mX\u001B[0m\u001B[1;33m\u001B[0m\u001B[1;33m\u001B[0m\u001B[0m\n\u001B[0;32m    462\u001B[0m         \u001B[1;32mfor\u001B[0m \u001B[0m_\u001B[0m\u001B[1;33m,\u001B[0m \u001B[0mname\u001B[0m\u001B[1;33m,\u001B[0m \u001B[0mtransform\u001B[0m \u001B[1;32min\u001B[0m \u001B[0mself\u001B[0m\u001B[1;33m.\u001B[0m\u001B[0m_iter\u001B[0m\u001B[1;33m(\u001B[0m\u001B[0mwith_final\u001B[0m\u001B[1;33m=\u001B[0m\u001B[1;32mFalse\u001B[0m\u001B[1;33m)\u001B[0m\u001B[1;33m:\u001B[0m\u001B[1;33m\u001B[0m\u001B[1;33m\u001B[0m\u001B[0m\n\u001B[1;32m--> 463\u001B[1;33m             \u001B[0mXt\u001B[0m \u001B[1;33m=\u001B[0m \u001B[0mtransform\u001B[0m\u001B[1;33m.\u001B[0m\u001B[0mtransform\u001B[0m\u001B[1;33m(\u001B[0m\u001B[0mXt\u001B[0m\u001B[1;33m)\u001B[0m\u001B[1;33m\u001B[0m\u001B[1;33m\u001B[0m\u001B[0m\n\u001B[0m\u001B[0;32m    464\u001B[0m         \u001B[1;32mreturn\u001B[0m \u001B[0mself\u001B[0m\u001B[1;33m.\u001B[0m\u001B[0msteps\u001B[0m\u001B[1;33m[\u001B[0m\u001B[1;33m-\u001B[0m\u001B[1;36m1\u001B[0m\u001B[1;33m]\u001B[0m\u001B[1;33m[\u001B[0m\u001B[1;33m-\u001B[0m\u001B[1;36m1\u001B[0m\u001B[1;33m]\u001B[0m\u001B[1;33m.\u001B[0m\u001B[0mpredict_proba\u001B[0m\u001B[1;33m(\u001B[0m\u001B[0mXt\u001B[0m\u001B[1;33m)\u001B[0m\u001B[1;33m\u001B[0m\u001B[1;33m\u001B[0m\u001B[0m\n\u001B[0;32m    465\u001B[0m \u001B[1;33m\u001B[0m\u001B[0m\n",
      "\u001B[1;32m~\\anaconda3\\envs\\learn-env\\lib\\site-packages\\sklearn\\compose\\_column_transformer.py\u001B[0m in \u001B[0;36mtransform\u001B[1;34m(self, X)\u001B[0m\n\u001B[0;32m    602\u001B[0m         \u001B[1;31m# TODO: also call _check_n_features(reset=False) in 0.24\u001B[0m\u001B[1;33m\u001B[0m\u001B[1;33m\u001B[0m\u001B[1;33m\u001B[0m\u001B[0m\n\u001B[0;32m    603\u001B[0m         \u001B[0mself\u001B[0m\u001B[1;33m.\u001B[0m\u001B[0m_validate_features\u001B[0m\u001B[1;33m(\u001B[0m\u001B[0mX\u001B[0m\u001B[1;33m.\u001B[0m\u001B[0mshape\u001B[0m\u001B[1;33m[\u001B[0m\u001B[1;36m1\u001B[0m\u001B[1;33m]\u001B[0m\u001B[1;33m,\u001B[0m \u001B[0mX_feature_names\u001B[0m\u001B[1;33m)\u001B[0m\u001B[1;33m\u001B[0m\u001B[1;33m\u001B[0m\u001B[0m\n\u001B[1;32m--> 604\u001B[1;33m         \u001B[0mXs\u001B[0m \u001B[1;33m=\u001B[0m \u001B[0mself\u001B[0m\u001B[1;33m.\u001B[0m\u001B[0m_fit_transform\u001B[0m\u001B[1;33m(\u001B[0m\u001B[0mX\u001B[0m\u001B[1;33m,\u001B[0m \u001B[1;32mNone\u001B[0m\u001B[1;33m,\u001B[0m \u001B[0m_transform_one\u001B[0m\u001B[1;33m,\u001B[0m \u001B[0mfitted\u001B[0m\u001B[1;33m=\u001B[0m\u001B[1;32mTrue\u001B[0m\u001B[1;33m)\u001B[0m\u001B[1;33m\u001B[0m\u001B[1;33m\u001B[0m\u001B[0m\n\u001B[0m\u001B[0;32m    605\u001B[0m         \u001B[0mself\u001B[0m\u001B[1;33m.\u001B[0m\u001B[0m_validate_output\u001B[0m\u001B[1;33m(\u001B[0m\u001B[0mXs\u001B[0m\u001B[1;33m)\u001B[0m\u001B[1;33m\u001B[0m\u001B[1;33m\u001B[0m\u001B[0m\n\u001B[0;32m    606\u001B[0m \u001B[1;33m\u001B[0m\u001B[0m\n",
      "\u001B[1;32m~\\anaconda3\\envs\\learn-env\\lib\\site-packages\\sklearn\\compose\\_column_transformer.py\u001B[0m in \u001B[0;36m_fit_transform\u001B[1;34m(self, X, y, func, fitted)\u001B[0m\n\u001B[0;32m    456\u001B[0m             self._iter(fitted=fitted, replace_strings=True))\n\u001B[0;32m    457\u001B[0m         \u001B[1;32mtry\u001B[0m\u001B[1;33m:\u001B[0m\u001B[1;33m\u001B[0m\u001B[1;33m\u001B[0m\u001B[0m\n\u001B[1;32m--> 458\u001B[1;33m             return Parallel(n_jobs=self.n_jobs)(\n\u001B[0m\u001B[0;32m    459\u001B[0m                 delayed(func)(\n\u001B[0;32m    460\u001B[0m                     \u001B[0mtransformer\u001B[0m\u001B[1;33m=\u001B[0m\u001B[0mclone\u001B[0m\u001B[1;33m(\u001B[0m\u001B[0mtrans\u001B[0m\u001B[1;33m)\u001B[0m \u001B[1;32mif\u001B[0m \u001B[1;32mnot\u001B[0m \u001B[0mfitted\u001B[0m \u001B[1;32melse\u001B[0m \u001B[0mtrans\u001B[0m\u001B[1;33m,\u001B[0m\u001B[1;33m\u001B[0m\u001B[1;33m\u001B[0m\u001B[0m\n",
      "\u001B[1;32m~\\anaconda3\\envs\\learn-env\\lib\\site-packages\\joblib\\parallel.py\u001B[0m in \u001B[0;36m__call__\u001B[1;34m(self, iterable)\u001B[0m\n\u001B[0;32m   1059\u001B[0m \u001B[1;33m\u001B[0m\u001B[0m\n\u001B[0;32m   1060\u001B[0m             \u001B[1;32mwith\u001B[0m \u001B[0mself\u001B[0m\u001B[1;33m.\u001B[0m\u001B[0m_backend\u001B[0m\u001B[1;33m.\u001B[0m\u001B[0mretrieval_context\u001B[0m\u001B[1;33m(\u001B[0m\u001B[1;33m)\u001B[0m\u001B[1;33m:\u001B[0m\u001B[1;33m\u001B[0m\u001B[1;33m\u001B[0m\u001B[0m\n\u001B[1;32m-> 1061\u001B[1;33m                 \u001B[0mself\u001B[0m\u001B[1;33m.\u001B[0m\u001B[0mretrieve\u001B[0m\u001B[1;33m(\u001B[0m\u001B[1;33m)\u001B[0m\u001B[1;33m\u001B[0m\u001B[1;33m\u001B[0m\u001B[0m\n\u001B[0m\u001B[0;32m   1062\u001B[0m             \u001B[1;31m# Make sure that we get a last message telling us we are done\u001B[0m\u001B[1;33m\u001B[0m\u001B[1;33m\u001B[0m\u001B[1;33m\u001B[0m\u001B[0m\n\u001B[0;32m   1063\u001B[0m             \u001B[0melapsed_time\u001B[0m \u001B[1;33m=\u001B[0m \u001B[0mtime\u001B[0m\u001B[1;33m.\u001B[0m\u001B[0mtime\u001B[0m\u001B[1;33m(\u001B[0m\u001B[1;33m)\u001B[0m \u001B[1;33m-\u001B[0m \u001B[0mself\u001B[0m\u001B[1;33m.\u001B[0m\u001B[0m_start_time\u001B[0m\u001B[1;33m\u001B[0m\u001B[1;33m\u001B[0m\u001B[0m\n",
      "\u001B[1;32m~\\anaconda3\\envs\\learn-env\\lib\\site-packages\\joblib\\parallel.py\u001B[0m in \u001B[0;36mretrieve\u001B[1;34m(self)\u001B[0m\n\u001B[0;32m    938\u001B[0m             \u001B[1;32mtry\u001B[0m\u001B[1;33m:\u001B[0m\u001B[1;33m\u001B[0m\u001B[1;33m\u001B[0m\u001B[0m\n\u001B[0;32m    939\u001B[0m                 \u001B[1;32mif\u001B[0m \u001B[0mgetattr\u001B[0m\u001B[1;33m(\u001B[0m\u001B[0mself\u001B[0m\u001B[1;33m.\u001B[0m\u001B[0m_backend\u001B[0m\u001B[1;33m,\u001B[0m \u001B[1;34m'supports_timeout'\u001B[0m\u001B[1;33m,\u001B[0m \u001B[1;32mFalse\u001B[0m\u001B[1;33m)\u001B[0m\u001B[1;33m:\u001B[0m\u001B[1;33m\u001B[0m\u001B[1;33m\u001B[0m\u001B[0m\n\u001B[1;32m--> 940\u001B[1;33m                     \u001B[0mself\u001B[0m\u001B[1;33m.\u001B[0m\u001B[0m_output\u001B[0m\u001B[1;33m.\u001B[0m\u001B[0mextend\u001B[0m\u001B[1;33m(\u001B[0m\u001B[0mjob\u001B[0m\u001B[1;33m.\u001B[0m\u001B[0mget\u001B[0m\u001B[1;33m(\u001B[0m\u001B[0mtimeout\u001B[0m\u001B[1;33m=\u001B[0m\u001B[0mself\u001B[0m\u001B[1;33m.\u001B[0m\u001B[0mtimeout\u001B[0m\u001B[1;33m)\u001B[0m\u001B[1;33m)\u001B[0m\u001B[1;33m\u001B[0m\u001B[1;33m\u001B[0m\u001B[0m\n\u001B[0m\u001B[0;32m    941\u001B[0m                 \u001B[1;32melse\u001B[0m\u001B[1;33m:\u001B[0m\u001B[1;33m\u001B[0m\u001B[1;33m\u001B[0m\u001B[0m\n\u001B[0;32m    942\u001B[0m                     \u001B[0mself\u001B[0m\u001B[1;33m.\u001B[0m\u001B[0m_output\u001B[0m\u001B[1;33m.\u001B[0m\u001B[0mextend\u001B[0m\u001B[1;33m(\u001B[0m\u001B[0mjob\u001B[0m\u001B[1;33m.\u001B[0m\u001B[0mget\u001B[0m\u001B[1;33m(\u001B[0m\u001B[1;33m)\u001B[0m\u001B[1;33m)\u001B[0m\u001B[1;33m\u001B[0m\u001B[1;33m\u001B[0m\u001B[0m\n",
      "\u001B[1;32m~\\anaconda3\\envs\\learn-env\\lib\\site-packages\\joblib\\_parallel_backends.py\u001B[0m in \u001B[0;36mwrap_future_result\u001B[1;34m(future, timeout)\u001B[0m\n\u001B[0;32m    540\u001B[0m         AsyncResults.get from multiprocessing.\"\"\"\n\u001B[0;32m    541\u001B[0m         \u001B[1;32mtry\u001B[0m\u001B[1;33m:\u001B[0m\u001B[1;33m\u001B[0m\u001B[1;33m\u001B[0m\u001B[0m\n\u001B[1;32m--> 542\u001B[1;33m             \u001B[1;32mreturn\u001B[0m \u001B[0mfuture\u001B[0m\u001B[1;33m.\u001B[0m\u001B[0mresult\u001B[0m\u001B[1;33m(\u001B[0m\u001B[0mtimeout\u001B[0m\u001B[1;33m=\u001B[0m\u001B[0mtimeout\u001B[0m\u001B[1;33m)\u001B[0m\u001B[1;33m\u001B[0m\u001B[1;33m\u001B[0m\u001B[0m\n\u001B[0m\u001B[0;32m    543\u001B[0m         \u001B[1;32mexcept\u001B[0m \u001B[0mCfTimeoutError\u001B[0m \u001B[1;32mas\u001B[0m \u001B[0me\u001B[0m\u001B[1;33m:\u001B[0m\u001B[1;33m\u001B[0m\u001B[1;33m\u001B[0m\u001B[0m\n\u001B[0;32m    544\u001B[0m             \u001B[1;32mraise\u001B[0m \u001B[0mTimeoutError\u001B[0m \u001B[1;32mfrom\u001B[0m \u001B[0me\u001B[0m\u001B[1;33m\u001B[0m\u001B[1;33m\u001B[0m\u001B[0m\n",
      "\u001B[1;32m~\\anaconda3\\envs\\learn-env\\lib\\concurrent\\futures\\_base.py\u001B[0m in \u001B[0;36mresult\u001B[1;34m(self, timeout)\u001B[0m\n\u001B[0;32m    437\u001B[0m                 \u001B[1;32mraise\u001B[0m \u001B[0mCancelledError\u001B[0m\u001B[1;33m(\u001B[0m\u001B[1;33m)\u001B[0m\u001B[1;33m\u001B[0m\u001B[1;33m\u001B[0m\u001B[0m\n\u001B[0;32m    438\u001B[0m             \u001B[1;32melif\u001B[0m \u001B[0mself\u001B[0m\u001B[1;33m.\u001B[0m\u001B[0m_state\u001B[0m \u001B[1;33m==\u001B[0m \u001B[0mFINISHED\u001B[0m\u001B[1;33m:\u001B[0m\u001B[1;33m\u001B[0m\u001B[1;33m\u001B[0m\u001B[0m\n\u001B[1;32m--> 439\u001B[1;33m                 \u001B[1;32mreturn\u001B[0m \u001B[0mself\u001B[0m\u001B[1;33m.\u001B[0m\u001B[0m__get_result\u001B[0m\u001B[1;33m(\u001B[0m\u001B[1;33m)\u001B[0m\u001B[1;33m\u001B[0m\u001B[1;33m\u001B[0m\u001B[0m\n\u001B[0m\u001B[0;32m    440\u001B[0m             \u001B[1;32melse\u001B[0m\u001B[1;33m:\u001B[0m\u001B[1;33m\u001B[0m\u001B[1;33m\u001B[0m\u001B[0m\n\u001B[0;32m    441\u001B[0m                 \u001B[1;32mraise\u001B[0m \u001B[0mTimeoutError\u001B[0m\u001B[1;33m(\u001B[0m\u001B[1;33m)\u001B[0m\u001B[1;33m\u001B[0m\u001B[1;33m\u001B[0m\u001B[0m\n",
      "\u001B[1;32m~\\anaconda3\\envs\\learn-env\\lib\\concurrent\\futures\\_base.py\u001B[0m in \u001B[0;36m__get_result\u001B[1;34m(self)\u001B[0m\n\u001B[0;32m    386\u001B[0m     \u001B[1;32mdef\u001B[0m \u001B[0m__get_result\u001B[0m\u001B[1;33m(\u001B[0m\u001B[0mself\u001B[0m\u001B[1;33m)\u001B[0m\u001B[1;33m:\u001B[0m\u001B[1;33m\u001B[0m\u001B[1;33m\u001B[0m\u001B[0m\n\u001B[0;32m    387\u001B[0m         \u001B[1;32mif\u001B[0m \u001B[0mself\u001B[0m\u001B[1;33m.\u001B[0m\u001B[0m_exception\u001B[0m\u001B[1;33m:\u001B[0m\u001B[1;33m\u001B[0m\u001B[1;33m\u001B[0m\u001B[0m\n\u001B[1;32m--> 388\u001B[1;33m             \u001B[1;32mraise\u001B[0m \u001B[0mself\u001B[0m\u001B[1;33m.\u001B[0m\u001B[0m_exception\u001B[0m\u001B[1;33m\u001B[0m\u001B[1;33m\u001B[0m\u001B[0m\n\u001B[0m\u001B[0;32m    389\u001B[0m         \u001B[1;32melse\u001B[0m\u001B[1;33m:\u001B[0m\u001B[1;33m\u001B[0m\u001B[1;33m\u001B[0m\u001B[0m\n\u001B[0;32m    390\u001B[0m             \u001B[1;32mreturn\u001B[0m \u001B[0mself\u001B[0m\u001B[1;33m.\u001B[0m\u001B[0m_result\u001B[0m\u001B[1;33m\u001B[0m\u001B[1;33m\u001B[0m\u001B[0m\n",
      "\u001B[1;31mPicklingError\u001B[0m: Could not pickle the task to send it to the workers."
     ]
    }
   ],
   "source": [
    "dummy_cate_info.print_summary()"
   ],
   "metadata": {
    "collapsed": false,
    "pycharm": {
     "name": "#%%\n"
    }
   }
  },
  {
   "cell_type": "code",
   "execution_count": null,
   "outputs": [],
   "source": [],
   "metadata": {
    "collapsed": false,
    "pycharm": {
     "name": "#%%\n"
    }
   }
  },
  {
   "cell_type": "code",
   "execution_count": null,
   "outputs": [],
   "source": [
    "dummy_cate_pca = ImPipeline(steps=[\n",
    "    ('ct', ct_categorical),\n",
    "    ('rs',RandomUnderSampler(sampling_strategy=0.8, random_state=42)),\n",
    "    ('sm', SMOTE(sampling_strategy=0.25, random_state=1)),\n",
    "    ('pca', PCA(n_components=.9)),\n",
    "    ('dummy', DummyClassifier(strategy='most_frequent'))\n",
    "]).fit(X_categorical,y_categorical)"
   ],
   "metadata": {
    "collapsed": false,
    "pycharm": {
     "name": "#%%\n"
    }
   }
  },
  {
   "cell_type": "code",
   "execution_count": null,
   "outputs": [],
   "source": [
    "dummy_cate_pca_info = ModelWithCV(dummy_cate_pca, 'dummy_cate_pca', X_categorical, y_categorical)"
   ],
   "metadata": {
    "collapsed": false,
    "pycharm": {
     "name": "#%%\n"
    }
   }
  },
  {
   "cell_type": "code",
   "execution_count": null,
   "outputs": [],
   "source": [
    "dummy_cate_pca_info.print_summary()"
   ],
   "metadata": {
    "collapsed": false,
    "pycharm": {
     "name": "#%%\n"
    }
   }
  },
  {
   "cell_type": "code",
   "execution_count": null,
   "outputs": [],
   "source": [],
   "metadata": {
    "collapsed": false,
    "pycharm": {
     "name": "#%%\n"
    }
   }
  },
  {
   "cell_type": "code",
   "execution_count": null,
   "metadata": {
    "pycharm": {
     "name": "#%%\n"
    }
   },
   "outputs": [],
   "source": [
    "log_cate = ImPipeline(steps=[\n",
    "    ('ct', ct_categorical),\n",
    "    ('rs',RandomUnderSampler(sampling_strategy=0.8, random_state=42)),\n",
    "    ('sm', SMOTE(sampling_strategy= 0.25, random_state=1)),\n",
    "    ('log',LogisticRegression(random_state=42))\n",
    "]).fit(X_categorical,y_categorical)"
   ]
  },
  {
   "cell_type": "code",
   "execution_count": null,
   "metadata": {
    "pycharm": {
     "name": "#%%\n"
    }
   },
   "outputs": [],
   "source": [
    "log_cate_info = ModelWithCV(log_cate, 'log_cate', X_categorical, y_categorical)"
   ]
  },
  {
   "cell_type": "code",
   "execution_count": null,
   "metadata": {
    "pycharm": {
     "name": "#%%\n"
    }
   },
   "outputs": [],
   "source": [
    "joblib.dump(log_cate_info, './joblib_models/log_cate_info.sav')"
   ]
  },
  {
   "cell_type": "code",
   "execution_count": null,
   "metadata": {
    "pycharm": {
     "name": "#%%\n"
    }
   },
   "outputs": [],
   "source": [
    "log_cate_info.print_summary()"
   ]
  },
  {
   "cell_type": "code",
   "execution_count": null,
   "metadata": {
    "pycharm": {
     "name": "#%%\n"
    }
   },
   "outputs": [],
   "source": [
    "log_pca_cate = ImPipeline(steps=[\n",
    "    ('ct', ct_categorical),\n",
    "    ('rs',RandomUnderSampler(sampling_strategy=0.8, random_state=42)),\n",
    "    ('sm', SMOTE(sampling_strategy= 0.25, random_state=1)),\n",
    "    ('pca_cate', PCA(n_components=.9)),\n",
    "    ('log_cate',LogisticRegression(random_state=42))\n",
    "]).fit(X_categorical,y_categorical)"
   ]
  },
  {
   "cell_type": "code",
   "execution_count": null,
   "metadata": {
    "pycharm": {
     "name": "#%%\n"
    }
   },
   "outputs": [],
   "source": [
    "log_pca_cate_info = ModelWithCV(log_pca_cate, 'log_pca_cate', X_categorical, y_categorical)"
   ]
  },
  {
   "cell_type": "code",
   "execution_count": null,
   "metadata": {
    "pycharm": {
     "name": "#%%\n"
    }
   },
   "outputs": [],
   "source": [
    "joblib.dump(log_pca_cate_info, './joblib_models/log_pca_cate_info.sav')"
   ]
  },
  {
   "cell_type": "code",
   "execution_count": null,
   "metadata": {
    "pycharm": {
     "name": "#%%\n"
    }
   },
   "outputs": [],
   "source": [
    "log_pca_cate_info.print_summary()"
   ]
  },
  {
   "cell_type": "markdown",
   "metadata": {
    "pycharm": {
     "name": "#%% md\n"
    }
   },
   "source": [
    "### KNN"
   ]
  },
  {
   "cell_type": "code",
   "execution_count": null,
   "metadata": {
    "pycharm": {
     "name": "#%%\n"
    }
   },
   "outputs": [],
   "source": [
    "knn_cate = ImPipeline(steps=[\n",
    "    ('ct', ct_categorical),\n",
    "    ('rs',RandomUnderSampler(sampling_strategy=0.8, random_state=42)),\n",
    "    ('sm', SMOTE(sampling_strategy= 0.25, random_state=1)),\n",
    "    ('knn_cate',KNeighborsClassifier())\n",
    "]).fit(X_categorical,y_categorical)"
   ]
  },
  {
   "cell_type": "code",
   "execution_count": null,
   "metadata": {
    "pycharm": {
     "name": "#%%\n"
    }
   },
   "outputs": [],
   "source": [
    "knn_cate_info = ModelWithCV(knn_cate, 'knn_cate', X_categorical, y_categorical)"
   ]
  },
  {
   "cell_type": "code",
   "execution_count": null,
   "metadata": {
    "pycharm": {
     "name": "#%%\n"
    }
   },
   "outputs": [],
   "source": [
    "joblib.dump(knn_cate_info, './joblib_models/knn_cate_info.sav')"
   ]
  },
  {
   "cell_type": "code",
   "execution_count": null,
   "metadata": {
    "pycharm": {
     "name": "#%%\n"
    }
   },
   "outputs": [],
   "source": [
    "knn_cate_info.print_summary()"
   ]
  },
  {
   "cell_type": "markdown",
   "metadata": {
    "pycharm": {
     "name": "#%% md\n"
    }
   },
   "source": [
    "### Decision Tree/ RF"
   ]
  },
  {
   "cell_type": "code",
   "execution_count": null,
   "metadata": {
    "pycharm": {
     "name": "#%%\n"
    }
   },
   "outputs": [],
   "source": [
    "dtree_cate = ImPipeline(steps=[\n",
    "    ('ct', ct_categorical),\n",
    "    ('rs',RandomUnderSampler(sampling_strategy=0.8, random_state=42)),\n",
    "    ('sm', SMOTE(sampling_strategy=0.25, random_state=1)),\n",
    "    ('dtree', DecisionTreeClassifier(random_state=42) )\n",
    "]).fit(X_categorical,y_categorical)"
   ]
  },
  {
   "cell_type": "code",
   "execution_count": null,
   "metadata": {
    "pycharm": {
     "name": "#%%\n"
    }
   },
   "outputs": [],
   "source": [
    "dtree_cate_info = ModelWithCV(dtree_cate, 'dtree_cate', X_categorical, y_categorical)"
   ]
  },
  {
   "cell_type": "code",
   "execution_count": null,
   "metadata": {
    "pycharm": {
     "name": "#%%\n"
    }
   },
   "outputs": [],
   "source": [
    "joblib.dump(dtree_cate_info, './joblib_models/dtree_cate_info.sav')"
   ]
  },
  {
   "cell_type": "code",
   "execution_count": null,
   "metadata": {
    "pycharm": {
     "name": "#%%\n"
    }
   },
   "outputs": [],
   "source": [
    "dtree_cate_info.print_summary()"
   ]
  },
  {
   "cell_type": "code",
   "execution_count": null,
   "metadata": {
    "pycharm": {
     "name": "#%%\n"
    }
   },
   "outputs": [],
   "source": [
    "rf_cate = ImPipeline(steps=[\n",
    "    ('ct', ct_categorical),\n",
    "    ('rs',RandomUnderSampler(sampling_strategy=0.8, random_state=42)),\n",
    "    ('sm', SMOTE(sampling_strategy=0.25, random_state=1)),\n",
    "    ('rf_cate', RandomForestClassifier(random_state=42) )\n",
    "]).fit(X_categorical,y_categorical)"
   ]
  },
  {
   "cell_type": "code",
   "execution_count": null,
   "metadata": {
    "pycharm": {
     "name": "#%%\n"
    }
   },
   "outputs": [],
   "source": [
    "rf_cate_info = ModelWithCV(rf_cate, 'rf_cate', X_categorical, y_categorical)"
   ]
  },
  {
   "cell_type": "code",
   "execution_count": null,
   "metadata": {
    "pycharm": {
     "name": "#%%\n"
    }
   },
   "outputs": [],
   "source": [
    "joblib.dump(rf_cate_info, './joblib_models/rf_cate_info.sav')"
   ]
  },
  {
   "cell_type": "code",
   "execution_count": null,
   "metadata": {
    "pycharm": {
     "name": "#%%\n"
    }
   },
   "outputs": [],
   "source": [
    "rf_cate_info.print_summary()"
   ]
  },
  {
   "cell_type": "markdown",
   "metadata": {
    "pycharm": {
     "name": "#%% md\n"
    }
   },
   "source": [
    "### XGBoost"
   ]
  },
  {
   "cell_type": "code",
   "execution_count": null,
   "metadata": {
    "pycharm": {
     "name": "#%%\n"
    }
   },
   "outputs": [],
   "source": [
    "xg_cate = ImPipeline(steps=[\n",
    "    ('ct', ct_categorical),\n",
    "    ('rs',RandomUnderSampler(sampling_strategy=0.8, random_state=42)),\n",
    "    ('sm', SMOTE(sampling_strategy=0.25, random_state=1)),\n",
    "    ('xg_cate', XGBClassifier(random_state= 42) )\n",
    "]).fit(X_categorical,y_categorical)"
   ]
  },
  {
   "cell_type": "code",
   "execution_count": null,
   "metadata": {
    "pycharm": {
     "name": "#%%\n"
    }
   },
   "outputs": [],
   "source": [
    "xg_cate_info = ModelWithCV(xg_cate, 'xg_cate', X_categorical, y_categorical)"
   ]
  },
  {
   "cell_type": "code",
   "execution_count": null,
   "outputs": [],
   "source": [
    "xg_cate_info.print_summary()"
   ],
   "metadata": {
    "collapsed": false,
    "pycharm": {
     "name": "#%%\n"
    }
   }
  },
  {
   "cell_type": "code",
   "execution_count": null,
   "metadata": {
    "pycharm": {
     "name": "#%%\n"
    }
   },
   "outputs": [],
   "source": [
    "joblib.dump(xg_cate_info, './joblib_models/xg_cate_info.sav')"
   ]
  },
  {
   "cell_type": "markdown",
   "metadata": {
    "pycharm": {
     "name": "#%% md\n"
    }
   },
   "source": [
    "### Gridsearch on the best model"
   ]
  },
  {
   "cell_type": "code",
   "execution_count": null,
   "metadata": {
    "pycharm": {
     "name": "#%%\n"
    }
   },
   "outputs": [],
   "source": [
    "rf_cate_params = {\n",
    "    'rf_cate__n_estimators': [50,100,150],\n",
    "    'rf_cate__criterion': ['gini', 'entropy'],\n",
    "    'rf_cate__max_depth': [20,40,50]\n",
    "}"
   ]
  },
  {
   "cell_type": "code",
   "execution_count": null,
   "metadata": {
    "pycharm": {
     "name": "#%%\n"
    }
   },
   "outputs": [],
   "source": [
    "rf_cate_gs = GridSearchCV(estimator=rf_cate, param_grid=rf_cate_params, n_jobs=-2,verbose=3).fit(X_categorical,y_categorical)"
   ]
  },
  {
   "cell_type": "code",
   "execution_count": null,
   "metadata": {
    "pycharm": {
     "name": "#%%\n"
    }
   },
   "outputs": [],
   "source": [
    "joblib.dump(rf_cate_gs, './joblib_models/rf_cate_gs.sav')"
   ]
  },
  {
   "cell_type": "code",
   "execution_count": null,
   "metadata": {
    "pycharm": {
     "name": "#%%\n"
    }
   },
   "outputs": [],
   "source": [
    "rf_cate_info = ModelWithCV(rf_cate_gs, 'rf_cate_gs', X_categorical, y_categorical)"
   ]
  },
  {
   "cell_type": "code",
   "execution_count": null,
   "outputs": [],
   "source": [
    "joblib.dump(rf_cate_info, './joblib_models/rf_cate_info.sav')"
   ],
   "metadata": {
    "collapsed": false,
    "pycharm": {
     "name": "#%%\n"
    }
   }
  },
  {
   "cell_type": "code",
   "execution_count": null,
   "outputs": [],
   "source": [
    "rf_cate_info.print_summary()"
   ],
   "metadata": {
    "collapsed": false,
    "pycharm": {
     "name": "#%%\n"
    }
   }
  },
  {
   "cell_type": "code",
   "execution_count": null,
   "metadata": {
    "pycharm": {
     "name": "#%%\n"
    }
   },
   "outputs": [],
   "source": [
    "joblib.dump(rf_cate_info, './joblib_models/rf_cate_info.sav')"
   ]
  },
  {
   "cell_type": "markdown",
   "metadata": {
    "pycharm": {
     "name": "#%% md\n"
    }
   },
   "source": [
    "# Putting all our features into our model"
   ]
  },
  {
   "cell_type": "code",
   "execution_count": null,
   "outputs": [],
   "source": [
    "dummy_all = ImPipeline(steps=[\n",
    "    ('ct', ct),\n",
    "    ('rs',RandomUnderSampler(sampling_strategy=0.8, random_state=42)),\n",
    "    ('sm', SMOTE(sampling_strategy=0.25, random_state=1)),\n",
    "    ('dummy', DummyClassifier(strategy='most_frequent'))\n",
    "]).fit(X_train, y_train)"
   ],
   "metadata": {
    "collapsed": false,
    "pycharm": {
     "name": "#%%\n"
    }
   }
  },
  {
   "cell_type": "code",
   "execution_count": null,
   "outputs": [],
   "source": [
    "dummy_all_info = ModelWithCV(dummy_all, 'dummy_all', X_train, y_train)"
   ],
   "metadata": {
    "collapsed": false,
    "pycharm": {
     "name": "#%%\n"
    }
   }
  },
  {
   "cell_type": "code",
   "execution_count": null,
   "outputs": [],
   "source": [
    "dummy_all_info.print_summary()"
   ],
   "metadata": {
    "collapsed": false,
    "pycharm": {
     "name": "#%%\n"
    }
   }
  },
  {
   "cell_type": "code",
   "execution_count": null,
   "outputs": [],
   "source": [
    "dummy_all_pca = ImPipeline(steps=[\n",
    "    ('ct', ct),\n",
    "    ('rs',RandomUnderSampler(sampling_strategy=0.8, random_state=42)),\n",
    "    ('sm', SMOTE(sampling_strategy=0.25, random_state=1)),\n",
    "    ('pca', PCA(n_components=.9)),\n",
    "    ('dummy', DummyClassifier(strategy='most_frequent'))\n",
    "]).fit(X_train, y_train)"
   ],
   "metadata": {
    "collapsed": false,
    "pycharm": {
     "name": "#%%\n"
    }
   }
  },
  {
   "cell_type": "code",
   "execution_count": null,
   "outputs": [],
   "source": [
    "dummy_all_pca_info = ModelWithCV(dummy_all_pca, 'dummy_all_pca', X_train, y_train)"
   ],
   "metadata": {
    "collapsed": false,
    "pycharm": {
     "name": "#%%\n"
    }
   }
  },
  {
   "cell_type": "code",
   "execution_count": null,
   "outputs": [],
   "source": [
    "dummy_all_pca_info.print_summary()"
   ],
   "metadata": {
    "collapsed": false,
    "pycharm": {
     "name": "#%%\n"
    }
   }
  },
  {
   "cell_type": "markdown",
   "metadata": {
    "pycharm": {
     "name": "#%% md\n"
    }
   },
   "source": [
    "### Logistic Model"
   ]
  },
  {
   "cell_type": "code",
   "execution_count": null,
   "metadata": {
    "pycharm": {
     "name": "#%%\n"
    }
   },
   "outputs": [],
   "source": [
    "log2 = ImPipeline(steps=[\n",
    "    ('ct', ct),\n",
    "    ('rs',RandomUnderSampler(sampling_strategy=0.8, random_state=42)),\n",
    "    ('sm', SMOTE(sampling_strategy= 0.25, random_state=1, n_jobs=-2)),\n",
    "    ('log2',LogisticRegression(random_state=42, n_jobs= -2))\n",
    "]).fit(X_train, y_train)"
   ]
  },
  {
   "cell_type": "code",
   "execution_count": null,
   "metadata": {
    "pycharm": {
     "name": "#%%\n"
    }
   },
   "outputs": [],
   "source": [
    "joblib.dump(log2, './joblib_models/log2.sav')"
   ]
  },
  {
   "cell_type": "code",
   "execution_count": null,
   "metadata": {
    "pycharm": {
     "name": "#%%\n"
    }
   },
   "outputs": [],
   "source": [
    "log2_info = ModelWithCV(log2, 'log2', X_train, y_train)"
   ]
  },
  {
   "cell_type": "code",
   "execution_count": null,
   "metadata": {
    "pycharm": {
     "name": "#%%\n"
    }
   },
   "outputs": [],
   "source": [
    "joblib.dump(log2_info, './joblib_models/log2_info.sav')"
   ]
  },
  {
   "cell_type": "code",
   "execution_count": null,
   "metadata": {
    "pycharm": {
     "name": "#%%\n"
    }
   },
   "outputs": [],
   "source": [
    "log2_info.print_summary()"
   ]
  },
  {
   "cell_type": "markdown",
   "metadata": {
    "pycharm": {
     "name": "#%% md\n"
    }
   },
   "source": [
    "### KNN"
   ]
  },
  {
   "cell_type": "code",
   "execution_count": null,
   "metadata": {
    "pycharm": {
     "name": "#%%\n"
    }
   },
   "outputs": [],
   "source": [
    "knn2 = ImPipeline(steps=[\n",
    "    ('ct', ct),\n",
    "    ('rs',RandomUnderSampler(sampling_strategy=0.8, random_state=42)),\n",
    "    ('sm', SMOTE(sampling_strategy= 0.25, random_state=1)),\n",
    "    ('knn2',KNeighborsClassifier( n_jobs= -2))\n",
    "]).fit(X_train, y_train)"
   ]
  },
  {
   "cell_type": "code",
   "execution_count": null,
   "metadata": {
    "pycharm": {
     "name": "#%%\n"
    }
   },
   "outputs": [],
   "source": [
    "joblib.dump(knn2, './joblib_models/knn2.sav')"
   ]
  },
  {
   "cell_type": "code",
   "execution_count": null,
   "metadata": {
    "pycharm": {
     "name": "#%%\n"
    }
   },
   "outputs": [],
   "source": [
    "knn2_info = ModelWithCV(knn2, 'knn2', X_train, y_train)"
   ]
  },
  {
   "cell_type": "code",
   "execution_count": null,
   "metadata": {
    "pycharm": {
     "name": "#%%\n"
    }
   },
   "outputs": [],
   "source": [
    "joblib.dump(knn2_info, './joblib_models/knn2_info.sav')"
   ]
  },
  {
   "cell_type": "code",
   "execution_count": null,
   "metadata": {
    "pycharm": {
     "name": "#%%\n"
    }
   },
   "outputs": [],
   "source": [
    "knn2_info.print_summary()"
   ]
  },
  {
   "cell_type": "markdown",
   "metadata": {
    "pycharm": {
     "name": "#%% md\n"
    }
   },
   "source": [
    "### Decision Tree"
   ]
  },
  {
   "cell_type": "code",
   "execution_count": null,
   "metadata": {
    "pycharm": {
     "name": "#%%\n"
    }
   },
   "outputs": [],
   "source": [
    "dtree2 = ImPipeline(steps=[\n",
    "    ('ct', ct),\n",
    "    ('rs',RandomUnderSampler(sampling_strategy=0.8, random_state=42)),\n",
    "    ('sm', SMOTE(sampling_strategy=0.25, random_state=1)),\n",
    "    ('dtree2', DecisionTreeClassifier(random_state=42) )\n",
    "]).fit(X_train, y_train)"
   ]
  },
  {
   "cell_type": "code",
   "execution_count": null,
   "metadata": {
    "pycharm": {
     "name": "#%%\n"
    }
   },
   "outputs": [],
   "source": [
    "joblib.dump(dtree2, './joblib_models/dtree2.sav')"
   ]
  },
  {
   "cell_type": "code",
   "execution_count": null,
   "metadata": {
    "pycharm": {
     "name": "#%%\n"
    }
   },
   "outputs": [],
   "source": [
    "dtree2_info = ModelWithCV(dtree2, 'dtree2', X_train, y_train)"
   ]
  },
  {
   "cell_type": "code",
   "execution_count": null,
   "metadata": {
    "pycharm": {
     "name": "#%%\n"
    }
   },
   "outputs": [],
   "source": [
    "joblib.dump(dtree2_info, './joblib_models/dtree2_info.sav')"
   ]
  },
  {
   "cell_type": "code",
   "execution_count": null,
   "metadata": {
    "pycharm": {
     "name": "#%%\n"
    }
   },
   "outputs": [],
   "source": [
    "dtree2_info.print_summary()"
   ]
  },
  {
   "cell_type": "markdown",
   "source": [
    "### Random forest"
   ],
   "metadata": {
    "collapsed": false,
    "pycharm": {
     "name": "#%% md\n"
    }
   }
  },
  {
   "cell_type": "code",
   "execution_count": null,
   "outputs": [],
   "source": [
    "rf2 = ImPipeline(steps=[\n",
    "    ('ct', ct),\n",
    "    ('rs',RandomUnderSampler(sampling_strategy=0.8, random_state=42)),\n",
    "    ('sm', SMOTE(sampling_strategy=0.25, random_state=1)),\n",
    "    ('rf', RandomForestClassifier(random_state=42) )\n",
    "]).fit(X_train, y_train)"
   ],
   "metadata": {
    "collapsed": false,
    "pycharm": {
     "name": "#%%\n"
    }
   }
  },
  {
   "cell_type": "code",
   "execution_count": null,
   "outputs": [],
   "source": [
    "joblib.dump(rf2, './joblib_models/rf2.sav')"
   ],
   "metadata": {
    "collapsed": false,
    "pycharm": {
     "name": "#%%\n"
    }
   }
  },
  {
   "cell_type": "code",
   "execution_count": null,
   "outputs": [],
   "source": [
    "rf2_info = ModelWithCV(rf2, 'rf2', X_train, y_train)"
   ],
   "metadata": {
    "collapsed": false,
    "pycharm": {
     "name": "#%%\n"
    }
   }
  },
  {
   "cell_type": "code",
   "execution_count": null,
   "outputs": [],
   "source": [
    "joblib.dump(rf2_info, './joblib_models/rf2_info.sav')"
   ],
   "metadata": {
    "collapsed": false,
    "pycharm": {
     "name": "#%%\n"
    }
   }
  },
  {
   "cell_type": "code",
   "execution_count": null,
   "outputs": [],
   "source": [],
   "metadata": {
    "collapsed": false,
    "pycharm": {
     "name": "#%%\n"
    }
   }
  },
  {
   "cell_type": "markdown",
   "metadata": {
    "pycharm": {
     "name": "#%% md\n"
    }
   },
   "source": [
    "### XGBoost"
   ]
  },
  {
   "cell_type": "code",
   "execution_count": null,
   "metadata": {
    "pycharm": {
     "name": "#%%\n"
    }
   },
   "outputs": [],
   "source": [
    "xg2 = ImPipeline(steps=[\n",
    "    ('ct', ct),\n",
    "    ('rs',RandomUnderSampler(sampling_strategy=0.8, random_state=42)),\n",
    "    ('sm', SMOTE(sampling_strategy=0.25, random_state=1)),\n",
    "    ('xg2', XGBClassifier(random_state= 42) )\n",
    "]).fit(X_train, y_train)"
   ]
  },
  {
   "cell_type": "code",
   "execution_count": null,
   "metadata": {
    "pycharm": {
     "name": "#%%\n"
    }
   },
   "outputs": [],
   "source": [
    "joblib.dump(xg2, './joblib_models/xg2.sav')"
   ]
  },
  {
   "cell_type": "code",
   "execution_count": null,
   "metadata": {
    "pycharm": {
     "name": "#%%\n"
    }
   },
   "outputs": [],
   "source": [
    "xg2_info = ModelWithCV(xg2, 'xg2', X_train, y_train)"
   ]
  },
  {
   "cell_type": "code",
   "execution_count": null,
   "metadata": {
    "pycharm": {
     "name": "#%%\n"
    }
   },
   "outputs": [],
   "source": [
    "joblib.dump(xg2_info, './joblib_models/xg2_info.sav')"
   ]
  },
  {
   "cell_type": "code",
   "execution_count": null,
   "metadata": {
    "pycharm": {
     "name": "#%%\n"
    }
   },
   "outputs": [],
   "source": [
    "xg2_info.print_summary()"
   ]
  },
  {
   "cell_type": "markdown",
   "source": [
    "**Due to the computational time of just running these models, I will not perform a grid search on these model as they will take a long time. The random forest for just the categorical section took over 5 hours to perform.**"
   ],
   "metadata": {
    "collapsed": false,
    "pycharm": {
     "name": "#%% md\n"
    }
   }
  },
  {
   "cell_type": "markdown",
   "source": [
    "# App"
   ],
   "metadata": {
    "collapsed": false,
    "pycharm": {
     "name": "#%% md\n"
    }
   }
  },
  {
   "cell_type": "markdown",
   "source": [
    "Our best model was deployed in an app. The function development in the app.py file can be found in the app development notebook. In addition, the code used to make the app on streamlit can be found in the app.py. Unfortunately, due to how big the model file is (2-4 Gb), I was unable to implement my model on the streamlit website, but managed to run it locally. As such, it is not available for others to use. In my GitHub, I have provided the streamlit environment in which I created it. This app can be run locally with the streamlit environment along with running the modeling notebook in order to get the model file into your local computer."
   ],
   "metadata": {
    "collapsed": false,
    "pycharm": {
     "name": "#%% md\n"
    }
   }
  },
  {
   "cell_type": "markdown",
   "source": [
    "# Next Steps"
   ],
   "metadata": {
    "collapsed": false,
    "pycharm": {
     "name": "#%% md\n"
    }
   }
  },
  {
   "cell_type": "markdown",
   "source": [
    "The next step for this project would be to further refine our target. This projects only looks at heart attack and Coronary Artery Disease. These two conditions are some conditions that fall under the heart disease. Heart disease encompasses other conditions such as high blood pressure, congenital heart disease etc., it's not just CAD and heart attacks as such we would have to refine the questions being asked individual.\n",
    "\n",
    "Not only that but more time to refine our model. Due to computational limitation of my system and the computational time, I am not able to perform as much grid-searches to fine-tune the model even further. Not only that but we can refine our model on data from patients' information form and the diagnoses given by the doctor to help improve the flagging of individuals with such a condition that way their primary doctor know to discuss this with the patient.\n",
    "\n",
    "Build a better app. The app created was for demonstrated purposes but can be made so that instead of having to fill in the information manually, it can capture the information from a picture of the history form from a patient."
   ],
   "metadata": {
    "collapsed": false,
    "pycharm": {
     "name": "#%% md\n"
    }
   }
  }
 ],
 "metadata": {
  "kernelspec": {
   "name": "learn-env",
   "language": "python",
   "display_name": "learn-env"
  },
  "language_info": {
   "codemirror_mode": {
    "name": "ipython",
    "version": 3
   },
   "file_extension": ".py",
   "mimetype": "text/x-python",
   "name": "python",
   "nbconvert_exporter": "python",
   "pygments_lexer": "ipython3",
   "version": "3.8.5"
  }
 },
 "nbformat": 4,
 "nbformat_minor": 5
}