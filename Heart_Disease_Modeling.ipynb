{
 "cells": [
  {
   "cell_type": "markdown",
   "id": "366c7c1e",
   "metadata": {
    "pycharm": {
     "name": "#%% md\n"
    }
   },
   "source": [
    "# Predicting Heart Disease"
   ]
  },
  {
   "cell_type": "markdown",
   "id": "a40126e3",
   "metadata": {
    "pycharm": {
     "name": "#%% md\n"
    }
   },
   "source": [
    "Image"
   ]
  },
  {
   "cell_type": "markdown",
   "id": "8117b124",
   "metadata": {
    "pycharm": {
     "name": "#%% md\n"
    }
   },
   "source": [
    "Author: Xiaohua Su\n",
    "\n",
    "Date: May 17th, 2022"
   ]
  },
  {
   "cell_type": "markdown",
   "id": "3f3f90e2",
   "metadata": {
    "pycharm": {
     "name": "#%% md\n"
    }
   },
   "source": [
    "# Overview"
   ]
  },
  {
   "cell_type": "markdown",
   "id": "13e01b57",
   "metadata": {
    "pycharm": {
     "name": "#%% md\n"
    }
   },
   "source": [
    "As of 2020, heart disease is the leading cause of death in the US, with the disease claiming close to 700,000 that year. It is the leading cause of death regardless of gender and for most race/ethnicity. This disease can lead to early death in individuals, increase medicial visits and a lost of productivity in our economy. As such, it is important to try to address this.\n"
   ]
  },
  {
   "cell_type": "markdown",
   "id": "8ac5f54a",
   "metadata": {
    "pycharm": {
     "name": "#%% md\n"
    }
   },
   "source": [
    "# Business Problem"
   ]
  },
  {
   "cell_type": "markdown",
   "id": "9048a4f6",
   "metadata": {
    "pycharm": {
     "name": "#%% md\n"
    }
   },
   "source": [
    "With how prevalent heart disease is in the nation, it is important for doctors to discuss with their patients about early prevention. In order to do this, doctors would need to know more about a patient’s history in order to diagnose them with having heart disease, potentially requiring blood work in addition. Getting the results from the blood work usually happens after the patient’s is already out of the doctor’s office. Calls will then be made to discuss these results and potential follow up appointments will be made. \n",
    "\n",
    "Our model aims to predict whether a patient, who comes into a doctor’s office/hospital, has heart disease. By being able to predict if the patient has heart disease or not, we can then flag this patient for the doctor electronically. Instead of having to waiting for a phone call for a discussion on, that may not be between the patient and doctor, conversation between the doctor and patient about managing heart disease can begin. This flagging can help start the conversation between the doctor and patient about early prevention steps that can be made and can help lead the doctor in asking certain questions for further verification and testing."
   ]
  },
  {
   "cell_type": "markdown",
   "id": "dc6a0f13",
   "metadata": {
    "pycharm": {
     "name": "#%% md\n"
    }
   },
   "source": [
    "# Data"
   ]
  },
  {
   "cell_type": "markdown",
   "id": "23780e7f",
   "metadata": {
    "pycharm": {
     "name": "#%% md\n"
    }
   },
   "source": [
    "The data was taken from the [CDC's 2020 Behavorial Risk Factor Surveillance System](https://www.cdc.gov/brfss/annual_data/annual_2020.html) (BRFSS). Due to how large the data is, this data was not uploaded to the github but can be found where the data was taken underneath the data files section.\n",
    "\n",
    "It is a survey data performed between 2020 to 2021 from the CDC to monitor people's health-behavior, chronic health conditions, and use of services to help manage their disease. The data contains information of the individual such as `race` and `gender` that we will not use to avoid these biases in our models. A new column was created as the data does not specifically have a column called heart disease but instead has two two columns called `cvdinfr4` and `cvdcrhd4` that corresponded with whether the individual was ever told/diagnose with having a heart attack and told that they had coronary heart disease. Both questions, get at the issue of heart disease."
   ]
  },
  {
   "cell_type": "markdown",
   "id": "78940e75",
   "metadata": {
    "pycharm": {
     "name": "#%% md\n"
    }
   },
   "source": [
    "# Imports and Loading in Data "
   ]
  },
  {
   "cell_type": "code",
   "execution_count": 1,
   "id": "adf2a89a",
   "metadata": {
    "pycharm": {
     "name": "#%%\n"
    }
   },
   "outputs": [],
   "source": [
    "import pandas as pd\n",
    "import numpy as np\n",
    "\n",
    "from sklearn.model_selection import train_test_split, GridSearchCV, cross_val_score\n",
    "from sklearn.preprocessing import StandardScaler, OneHotEncoder, FunctionTransformer, OrdinalEncoder\n",
    "from sklearn.compose import ColumnTransformer\n",
    "from sklearn.linear_model import LogisticRegression\n",
    "from sklearn.ensemble import BaggingClassifier, RandomForestClassifier, \\\n",
    "ExtraTreesClassifier, VotingClassifier, StackingRegressor\n",
    "from sklearn.metrics import plot_confusion_matrix, recall_score,\\\n",
    "    accuracy_score, precision_score, f1_score, roc_auc_score, plot_roc_curve\n",
    "from sklearn.dummy import DummyClassifier\n",
    "from sklearn.svm import SVC\n",
    "from sklearn.tree import DecisionTreeClassifier\n",
    "from sklearn.neighbors import KNeighborsClassifier\n",
    "from xgboost import XGBClassifier\n",
    "from sklearn.feature_selection import RFE\n",
    "from sklearn.linear_model import BayesianRidge\n",
    "from sklearn.experimental import enable_iterative_imputer\n",
    "from sklearn.impute import IterativeImputer\n",
    "from sklearn.pipeline import Pipeline\n",
    "\n",
    "from imblearn.over_sampling import SMOTE\n",
    "from imblearn.pipeline import Pipeline as ImPipeline\n",
    "\n",
    "\n",
    "from tensorflow.keras.models import Sequential\n",
    "from tensorflow.keras.layers import Dense, Dropout\n",
    "from tensorflow.keras.regularizers import l2\n",
    "from tensorflow.keras.optimizers import SGD\n",
    "from tensorflow.keras.wrappers import scikit_learn\n",
    "from tensorflow.keras.callbacks import EarlyStopping\n",
    "\n",
    "from model import *\n",
    "import joblib"
   ]
  },
  {
   "cell_type": "code",
   "execution_count": 2,
   "id": "06e47538",
   "metadata": {
    "pycharm": {
     "name": "#%%\n"
    }
   },
   "outputs": [],
   "source": [
    "pd.set_option('display.max_columns', None)"
   ]
  },
  {
   "cell_type": "code",
   "execution_count": 3,
   "id": "626006c9",
   "metadata": {
    "pycharm": {
     "name": "#%%\n"
    }
   },
   "outputs": [],
   "source": [
    "heart_df = pd.read_csv('./Data/heart_df.csv')"
   ]
  },
  {
   "cell_type": "code",
   "execution_count": 4,
   "id": "75ab9d48",
   "metadata": {
    "pycharm": {
     "name": "#%%\n"
    }
   },
   "outputs": [
    {
     "data": {
      "text/plain": "        Unnamed: 0  state  general_health  physical_health  mental_health  \\\n0                0    1.0             2.0              3.0           30.0   \n1                1    1.0             3.0              0.0            0.0   \n2                2    1.0             3.0              0.0            0.0   \n3                3    1.0             1.0              0.0            0.0   \n4                4    1.0             2.0              0.0            0.0   \n...            ...    ...             ...              ...            ...   \n397142      401953   72.0             3.0              0.0            0.0   \n397143      401954   72.0             3.0              0.0            0.0   \n397144      401955   72.0             3.0              0.0            0.0   \n397145      401956   72.0             3.0              0.0            0.0   \n397146      401957   72.0             3.0              2.0            7.0   \n\n        health_insurance  health_care_doctors  no_doc_bc_cost  last_checkup  \\\n0                    2.0                  3.0             1.0           4.0   \n1                    1.0                  1.0             1.0           1.0   \n2                    1.0                  1.0             2.0           1.0   \n3                    1.0                  3.0             2.0           2.0   \n4                    1.0                  1.0             2.0           1.0   \n...                  ...                  ...             ...           ...   \n397142               2.0                  1.0             2.0           2.0   \n397143               1.0                  1.0             2.0           3.0   \n397144               1.0                  1.0             2.0           2.0   \n397145               1.0                  1.0             2.0           1.0   \n397146               1.0                  1.0             2.0           1.0   \n\n        excercise_30  sleep  stroke  asthma  skin_cancer  other_cancer  \\\n0                1.0    5.0     2.0     1.0          1.0           1.0   \n1                1.0    7.0     2.0     1.0          2.0           2.0   \n2                1.0    7.0     2.0     2.0          2.0           1.0   \n3                2.0    6.0     2.0     2.0          2.0           2.0   \n4                1.0    7.0     1.0     2.0          2.0           2.0   \n...              ...    ...     ...     ...          ...           ...   \n397142           1.0    6.0     2.0     2.0          2.0           2.0   \n397143           2.0   12.0     2.0     2.0          2.0           2.0   \n397144           1.0    8.0     2.0     2.0          2.0           2.0   \n397145           1.0    6.0     2.0     2.0          2.0           2.0   \n397146           2.0    6.0     1.0     1.0          2.0           2.0   \n\n        copd_type_issue  arthritis_anyform  depressive_disorder  \\\n0                   1.0                1.0                  1.0   \n1                   2.0                1.0                  1.0   \n2                   2.0                1.0                  2.0   \n3                   2.0                2.0                  2.0   \n4                   2.0                2.0                  2.0   \n...                 ...                ...                  ...   \n397142              2.0                2.0                  1.0   \n397143              2.0                2.0                  2.0   \n397144              2.0                2.0                  2.0   \n397145              2.0                2.0                  2.0   \n397146              2.0                2.0                  1.0   \n\n        kidney_disease  diabetes  education_lvl  rent_own  employment_status  \\\n0                  2.0       1.0            6.0       1.0                4.0   \n1                  2.0       3.0            6.0       1.0                7.0   \n2                  2.0       3.0            5.0       1.0                7.0   \n3                  2.0       3.0            4.0       1.0                5.0   \n4                  2.0       3.0            6.0       2.0                7.0   \n...                ...       ...            ...       ...                ...   \n397142             2.0       3.0            5.0       1.0                1.0   \n397143             2.0       3.0            3.0       2.0                5.0   \n397144             2.0       3.0            4.0       1.0                5.0   \n397145             2.0       3.0            6.0       1.0                1.0   \n397146             NaN       4.0            6.0       1.0                8.0   \n\n        income_level  weight_kg  height_m  difficulty_walking  \\\n0                1.0       48.0     170.0                 2.0   \n1                NaN        NaN     163.0                 2.0   \n2                7.0        NaN     173.0                 2.0   \n3                NaN        NaN       NaN                 2.0   \n4                NaN       57.0     168.0                 2.0   \n...              ...        ...       ...                 ...   \n397142           NaN       55.0     150.0                 2.0   \n397143           4.0       76.0     152.0                 2.0   \n397144           1.0       72.0     124.0                 2.0   \n397145           NaN       80.0     173.0                 2.0   \n397146           5.0       90.0     170.0                 2.0   \n\n        smoke100_lifetime  smokeless_tobacco_products  alcohol_consumption_30  \\\n0                     1.0                         3.0                     0.0   \n1                     NaN                         NaN                     NaN   \n2                     2.0                         3.0                     0.0   \n3                     2.0                         3.0                     0.0   \n4                     2.0                         3.0                     0.0   \n...                   ...                         ...                     ...   \n397142                2.0                         3.0                     0.0   \n397143                2.0                         3.0                     0.0   \n397144                2.0                         3.0                     0.0   \n397145                7.0                         3.0                     4.0   \n397146                2.0                         3.0                     0.0   \n\n        high_risk_situations  ecigaret  heart_disease  \n0                        2.0       1.0            0.0  \n1                        NaN       NaN            0.0  \n2                        2.0       2.0            0.0  \n3                        2.0       2.0            0.0  \n4                        2.0       2.0            0.0  \n...                      ...       ...            ...  \n397142                   2.0       NaN            0.0  \n397143                   2.0       NaN            0.0  \n397144                   2.0       NaN            0.0  \n397145                   2.0       NaN            0.0  \n397146                   2.0       NaN            0.0  \n\n[397147 rows x 33 columns]",
      "text/html": "<div>\n<style scoped>\n    .dataframe tbody tr th:only-of-type {\n        vertical-align: middle;\n    }\n\n    .dataframe tbody tr th {\n        vertical-align: top;\n    }\n\n    .dataframe thead th {\n        text-align: right;\n    }\n</style>\n<table border=\"1\" class=\"dataframe\">\n  <thead>\n    <tr style=\"text-align: right;\">\n      <th></th>\n      <th>Unnamed: 0</th>\n      <th>state</th>\n      <th>general_health</th>\n      <th>physical_health</th>\n      <th>mental_health</th>\n      <th>health_insurance</th>\n      <th>health_care_doctors</th>\n      <th>no_doc_bc_cost</th>\n      <th>last_checkup</th>\n      <th>excercise_30</th>\n      <th>sleep</th>\n      <th>stroke</th>\n      <th>asthma</th>\n      <th>skin_cancer</th>\n      <th>other_cancer</th>\n      <th>copd_type_issue</th>\n      <th>arthritis_anyform</th>\n      <th>depressive_disorder</th>\n      <th>kidney_disease</th>\n      <th>diabetes</th>\n      <th>education_lvl</th>\n      <th>rent_own</th>\n      <th>employment_status</th>\n      <th>income_level</th>\n      <th>weight_kg</th>\n      <th>height_m</th>\n      <th>difficulty_walking</th>\n      <th>smoke100_lifetime</th>\n      <th>smokeless_tobacco_products</th>\n      <th>alcohol_consumption_30</th>\n      <th>high_risk_situations</th>\n      <th>ecigaret</th>\n      <th>heart_disease</th>\n    </tr>\n  </thead>\n  <tbody>\n    <tr>\n      <th>0</th>\n      <td>0</td>\n      <td>1.0</td>\n      <td>2.0</td>\n      <td>3.0</td>\n      <td>30.0</td>\n      <td>2.0</td>\n      <td>3.0</td>\n      <td>1.0</td>\n      <td>4.0</td>\n      <td>1.0</td>\n      <td>5.0</td>\n      <td>2.0</td>\n      <td>1.0</td>\n      <td>1.0</td>\n      <td>1.0</td>\n      <td>1.0</td>\n      <td>1.0</td>\n      <td>1.0</td>\n      <td>2.0</td>\n      <td>1.0</td>\n      <td>6.0</td>\n      <td>1.0</td>\n      <td>4.0</td>\n      <td>1.0</td>\n      <td>48.0</td>\n      <td>170.0</td>\n      <td>2.0</td>\n      <td>1.0</td>\n      <td>3.0</td>\n      <td>0.0</td>\n      <td>2.0</td>\n      <td>1.0</td>\n      <td>0.0</td>\n    </tr>\n    <tr>\n      <th>1</th>\n      <td>1</td>\n      <td>1.0</td>\n      <td>3.0</td>\n      <td>0.0</td>\n      <td>0.0</td>\n      <td>1.0</td>\n      <td>1.0</td>\n      <td>1.0</td>\n      <td>1.0</td>\n      <td>1.0</td>\n      <td>7.0</td>\n      <td>2.0</td>\n      <td>1.0</td>\n      <td>2.0</td>\n      <td>2.0</td>\n      <td>2.0</td>\n      <td>1.0</td>\n      <td>1.0</td>\n      <td>2.0</td>\n      <td>3.0</td>\n      <td>6.0</td>\n      <td>1.0</td>\n      <td>7.0</td>\n      <td>NaN</td>\n      <td>NaN</td>\n      <td>163.0</td>\n      <td>2.0</td>\n      <td>NaN</td>\n      <td>NaN</td>\n      <td>NaN</td>\n      <td>NaN</td>\n      <td>NaN</td>\n      <td>0.0</td>\n    </tr>\n    <tr>\n      <th>2</th>\n      <td>2</td>\n      <td>1.0</td>\n      <td>3.0</td>\n      <td>0.0</td>\n      <td>0.0</td>\n      <td>1.0</td>\n      <td>1.0</td>\n      <td>2.0</td>\n      <td>1.0</td>\n      <td>1.0</td>\n      <td>7.0</td>\n      <td>2.0</td>\n      <td>2.0</td>\n      <td>2.0</td>\n      <td>1.0</td>\n      <td>2.0</td>\n      <td>1.0</td>\n      <td>2.0</td>\n      <td>2.0</td>\n      <td>3.0</td>\n      <td>5.0</td>\n      <td>1.0</td>\n      <td>7.0</td>\n      <td>7.0</td>\n      <td>NaN</td>\n      <td>173.0</td>\n      <td>2.0</td>\n      <td>2.0</td>\n      <td>3.0</td>\n      <td>0.0</td>\n      <td>2.0</td>\n      <td>2.0</td>\n      <td>0.0</td>\n    </tr>\n    <tr>\n      <th>3</th>\n      <td>3</td>\n      <td>1.0</td>\n      <td>1.0</td>\n      <td>0.0</td>\n      <td>0.0</td>\n      <td>1.0</td>\n      <td>3.0</td>\n      <td>2.0</td>\n      <td>2.0</td>\n      <td>2.0</td>\n      <td>6.0</td>\n      <td>2.0</td>\n      <td>2.0</td>\n      <td>2.0</td>\n      <td>2.0</td>\n      <td>2.0</td>\n      <td>2.0</td>\n      <td>2.0</td>\n      <td>2.0</td>\n      <td>3.0</td>\n      <td>4.0</td>\n      <td>1.0</td>\n      <td>5.0</td>\n      <td>NaN</td>\n      <td>NaN</td>\n      <td>NaN</td>\n      <td>2.0</td>\n      <td>2.0</td>\n      <td>3.0</td>\n      <td>0.0</td>\n      <td>2.0</td>\n      <td>2.0</td>\n      <td>0.0</td>\n    </tr>\n    <tr>\n      <th>4</th>\n      <td>4</td>\n      <td>1.0</td>\n      <td>2.0</td>\n      <td>0.0</td>\n      <td>0.0</td>\n      <td>1.0</td>\n      <td>1.0</td>\n      <td>2.0</td>\n      <td>1.0</td>\n      <td>1.0</td>\n      <td>7.0</td>\n      <td>1.0</td>\n      <td>2.0</td>\n      <td>2.0</td>\n      <td>2.0</td>\n      <td>2.0</td>\n      <td>2.0</td>\n      <td>2.0</td>\n      <td>2.0</td>\n      <td>3.0</td>\n      <td>6.0</td>\n      <td>2.0</td>\n      <td>7.0</td>\n      <td>NaN</td>\n      <td>57.0</td>\n      <td>168.0</td>\n      <td>2.0</td>\n      <td>2.0</td>\n      <td>3.0</td>\n      <td>0.0</td>\n      <td>2.0</td>\n      <td>2.0</td>\n      <td>0.0</td>\n    </tr>\n    <tr>\n      <th>...</th>\n      <td>...</td>\n      <td>...</td>\n      <td>...</td>\n      <td>...</td>\n      <td>...</td>\n      <td>...</td>\n      <td>...</td>\n      <td>...</td>\n      <td>...</td>\n      <td>...</td>\n      <td>...</td>\n      <td>...</td>\n      <td>...</td>\n      <td>...</td>\n      <td>...</td>\n      <td>...</td>\n      <td>...</td>\n      <td>...</td>\n      <td>...</td>\n      <td>...</td>\n      <td>...</td>\n      <td>...</td>\n      <td>...</td>\n      <td>...</td>\n      <td>...</td>\n      <td>...</td>\n      <td>...</td>\n      <td>...</td>\n      <td>...</td>\n      <td>...</td>\n      <td>...</td>\n      <td>...</td>\n      <td>...</td>\n    </tr>\n    <tr>\n      <th>397142</th>\n      <td>401953</td>\n      <td>72.0</td>\n      <td>3.0</td>\n      <td>0.0</td>\n      <td>0.0</td>\n      <td>2.0</td>\n      <td>1.0</td>\n      <td>2.0</td>\n      <td>2.0</td>\n      <td>1.0</td>\n      <td>6.0</td>\n      <td>2.0</td>\n      <td>2.0</td>\n      <td>2.0</td>\n      <td>2.0</td>\n      <td>2.0</td>\n      <td>2.0</td>\n      <td>1.0</td>\n      <td>2.0</td>\n      <td>3.0</td>\n      <td>5.0</td>\n      <td>1.0</td>\n      <td>1.0</td>\n      <td>NaN</td>\n      <td>55.0</td>\n      <td>150.0</td>\n      <td>2.0</td>\n      <td>2.0</td>\n      <td>3.0</td>\n      <td>0.0</td>\n      <td>2.0</td>\n      <td>NaN</td>\n      <td>0.0</td>\n    </tr>\n    <tr>\n      <th>397143</th>\n      <td>401954</td>\n      <td>72.0</td>\n      <td>3.0</td>\n      <td>0.0</td>\n      <td>0.0</td>\n      <td>1.0</td>\n      <td>1.0</td>\n      <td>2.0</td>\n      <td>3.0</td>\n      <td>2.0</td>\n      <td>12.0</td>\n      <td>2.0</td>\n      <td>2.0</td>\n      <td>2.0</td>\n      <td>2.0</td>\n      <td>2.0</td>\n      <td>2.0</td>\n      <td>2.0</td>\n      <td>2.0</td>\n      <td>3.0</td>\n      <td>3.0</td>\n      <td>2.0</td>\n      <td>5.0</td>\n      <td>4.0</td>\n      <td>76.0</td>\n      <td>152.0</td>\n      <td>2.0</td>\n      <td>2.0</td>\n      <td>3.0</td>\n      <td>0.0</td>\n      <td>2.0</td>\n      <td>NaN</td>\n      <td>0.0</td>\n    </tr>\n    <tr>\n      <th>397144</th>\n      <td>401955</td>\n      <td>72.0</td>\n      <td>3.0</td>\n      <td>0.0</td>\n      <td>0.0</td>\n      <td>1.0</td>\n      <td>1.0</td>\n      <td>2.0</td>\n      <td>2.0</td>\n      <td>1.0</td>\n      <td>8.0</td>\n      <td>2.0</td>\n      <td>2.0</td>\n      <td>2.0</td>\n      <td>2.0</td>\n      <td>2.0</td>\n      <td>2.0</td>\n      <td>2.0</td>\n      <td>2.0</td>\n      <td>3.0</td>\n      <td>4.0</td>\n      <td>1.0</td>\n      <td>5.0</td>\n      <td>1.0</td>\n      <td>72.0</td>\n      <td>124.0</td>\n      <td>2.0</td>\n      <td>2.0</td>\n      <td>3.0</td>\n      <td>0.0</td>\n      <td>2.0</td>\n      <td>NaN</td>\n      <td>0.0</td>\n    </tr>\n    <tr>\n      <th>397145</th>\n      <td>401956</td>\n      <td>72.0</td>\n      <td>3.0</td>\n      <td>0.0</td>\n      <td>0.0</td>\n      <td>1.0</td>\n      <td>1.0</td>\n      <td>2.0</td>\n      <td>1.0</td>\n      <td>1.0</td>\n      <td>6.0</td>\n      <td>2.0</td>\n      <td>2.0</td>\n      <td>2.0</td>\n      <td>2.0</td>\n      <td>2.0</td>\n      <td>2.0</td>\n      <td>2.0</td>\n      <td>2.0</td>\n      <td>3.0</td>\n      <td>6.0</td>\n      <td>1.0</td>\n      <td>1.0</td>\n      <td>NaN</td>\n      <td>80.0</td>\n      <td>173.0</td>\n      <td>2.0</td>\n      <td>7.0</td>\n      <td>3.0</td>\n      <td>4.0</td>\n      <td>2.0</td>\n      <td>NaN</td>\n      <td>0.0</td>\n    </tr>\n    <tr>\n      <th>397146</th>\n      <td>401957</td>\n      <td>72.0</td>\n      <td>3.0</td>\n      <td>2.0</td>\n      <td>7.0</td>\n      <td>1.0</td>\n      <td>1.0</td>\n      <td>2.0</td>\n      <td>1.0</td>\n      <td>2.0</td>\n      <td>6.0</td>\n      <td>1.0</td>\n      <td>1.0</td>\n      <td>2.0</td>\n      <td>2.0</td>\n      <td>2.0</td>\n      <td>2.0</td>\n      <td>1.0</td>\n      <td>NaN</td>\n      <td>4.0</td>\n      <td>6.0</td>\n      <td>1.0</td>\n      <td>8.0</td>\n      <td>5.0</td>\n      <td>90.0</td>\n      <td>170.0</td>\n      <td>2.0</td>\n      <td>2.0</td>\n      <td>3.0</td>\n      <td>0.0</td>\n      <td>2.0</td>\n      <td>NaN</td>\n      <td>0.0</td>\n    </tr>\n  </tbody>\n</table>\n<p>397147 rows × 33 columns</p>\n</div>"
     },
     "execution_count": 4,
     "metadata": {},
     "output_type": "execute_result"
    }
   ],
   "source": [
    "heart_df"
   ]
  },
  {
   "cell_type": "code",
   "execution_count": 5,
   "id": "c35e87e8",
   "metadata": {
    "pycharm": {
     "name": "#%%\n"
    }
   },
   "outputs": [],
   "source": [
    "heart_df.drop(columns = 'Unnamed: 0', inplace = True)"
   ]
  },
  {
   "cell_type": "code",
   "execution_count": 6,
   "id": "c7564b18",
   "metadata": {
    "pycharm": {
     "name": "#%%\n"
    }
   },
   "outputs": [
    {
     "data": {
      "text/plain": "        state  general_health  physical_health  mental_health  \\\n0         1.0             2.0              3.0           30.0   \n1         1.0             3.0              0.0            0.0   \n2         1.0             3.0              0.0            0.0   \n3         1.0             1.0              0.0            0.0   \n4         1.0             2.0              0.0            0.0   \n...       ...             ...              ...            ...   \n397142   72.0             3.0              0.0            0.0   \n397143   72.0             3.0              0.0            0.0   \n397144   72.0             3.0              0.0            0.0   \n397145   72.0             3.0              0.0            0.0   \n397146   72.0             3.0              2.0            7.0   \n\n        health_insurance  health_care_doctors  no_doc_bc_cost  last_checkup  \\\n0                    2.0                  3.0             1.0           4.0   \n1                    1.0                  1.0             1.0           1.0   \n2                    1.0                  1.0             2.0           1.0   \n3                    1.0                  3.0             2.0           2.0   \n4                    1.0                  1.0             2.0           1.0   \n...                  ...                  ...             ...           ...   \n397142               2.0                  1.0             2.0           2.0   \n397143               1.0                  1.0             2.0           3.0   \n397144               1.0                  1.0             2.0           2.0   \n397145               1.0                  1.0             2.0           1.0   \n397146               1.0                  1.0             2.0           1.0   \n\n        excercise_30  sleep  stroke  asthma  skin_cancer  other_cancer  \\\n0                1.0    5.0     2.0     1.0          1.0           1.0   \n1                1.0    7.0     2.0     1.0          2.0           2.0   \n2                1.0    7.0     2.0     2.0          2.0           1.0   \n3                2.0    6.0     2.0     2.0          2.0           2.0   \n4                1.0    7.0     1.0     2.0          2.0           2.0   \n...              ...    ...     ...     ...          ...           ...   \n397142           1.0    6.0     2.0     2.0          2.0           2.0   \n397143           2.0   12.0     2.0     2.0          2.0           2.0   \n397144           1.0    8.0     2.0     2.0          2.0           2.0   \n397145           1.0    6.0     2.0     2.0          2.0           2.0   \n397146           2.0    6.0     1.0     1.0          2.0           2.0   \n\n        copd_type_issue  arthritis_anyform  depressive_disorder  \\\n0                   1.0                1.0                  1.0   \n1                   2.0                1.0                  1.0   \n2                   2.0                1.0                  2.0   \n3                   2.0                2.0                  2.0   \n4                   2.0                2.0                  2.0   \n...                 ...                ...                  ...   \n397142              2.0                2.0                  1.0   \n397143              2.0                2.0                  2.0   \n397144              2.0                2.0                  2.0   \n397145              2.0                2.0                  2.0   \n397146              2.0                2.0                  1.0   \n\n        kidney_disease  diabetes  education_lvl  rent_own  employment_status  \\\n0                  2.0       1.0            6.0       1.0                4.0   \n1                  2.0       3.0            6.0       1.0                7.0   \n2                  2.0       3.0            5.0       1.0                7.0   \n3                  2.0       3.0            4.0       1.0                5.0   \n4                  2.0       3.0            6.0       2.0                7.0   \n...                ...       ...            ...       ...                ...   \n397142             2.0       3.0            5.0       1.0                1.0   \n397143             2.0       3.0            3.0       2.0                5.0   \n397144             2.0       3.0            4.0       1.0                5.0   \n397145             2.0       3.0            6.0       1.0                1.0   \n397146             NaN       4.0            6.0       1.0                8.0   \n\n        income_level  weight_kg  height_m  difficulty_walking  \\\n0                1.0       48.0     170.0                 2.0   \n1                NaN        NaN     163.0                 2.0   \n2                7.0        NaN     173.0                 2.0   \n3                NaN        NaN       NaN                 2.0   \n4                NaN       57.0     168.0                 2.0   \n...              ...        ...       ...                 ...   \n397142           NaN       55.0     150.0                 2.0   \n397143           4.0       76.0     152.0                 2.0   \n397144           1.0       72.0     124.0                 2.0   \n397145           NaN       80.0     173.0                 2.0   \n397146           5.0       90.0     170.0                 2.0   \n\n        smoke100_lifetime  smokeless_tobacco_products  alcohol_consumption_30  \\\n0                     1.0                         3.0                     0.0   \n1                     NaN                         NaN                     NaN   \n2                     2.0                         3.0                     0.0   \n3                     2.0                         3.0                     0.0   \n4                     2.0                         3.0                     0.0   \n...                   ...                         ...                     ...   \n397142                2.0                         3.0                     0.0   \n397143                2.0                         3.0                     0.0   \n397144                2.0                         3.0                     0.0   \n397145                7.0                         3.0                     4.0   \n397146                2.0                         3.0                     0.0   \n\n        high_risk_situations  ecigaret  heart_disease  \n0                        2.0       1.0            0.0  \n1                        NaN       NaN            0.0  \n2                        2.0       2.0            0.0  \n3                        2.0       2.0            0.0  \n4                        2.0       2.0            0.0  \n...                      ...       ...            ...  \n397142                   2.0       NaN            0.0  \n397143                   2.0       NaN            0.0  \n397144                   2.0       NaN            0.0  \n397145                   2.0       NaN            0.0  \n397146                   2.0       NaN            0.0  \n\n[397147 rows x 32 columns]",
      "text/html": "<div>\n<style scoped>\n    .dataframe tbody tr th:only-of-type {\n        vertical-align: middle;\n    }\n\n    .dataframe tbody tr th {\n        vertical-align: top;\n    }\n\n    .dataframe thead th {\n        text-align: right;\n    }\n</style>\n<table border=\"1\" class=\"dataframe\">\n  <thead>\n    <tr style=\"text-align: right;\">\n      <th></th>\n      <th>state</th>\n      <th>general_health</th>\n      <th>physical_health</th>\n      <th>mental_health</th>\n      <th>health_insurance</th>\n      <th>health_care_doctors</th>\n      <th>no_doc_bc_cost</th>\n      <th>last_checkup</th>\n      <th>excercise_30</th>\n      <th>sleep</th>\n      <th>stroke</th>\n      <th>asthma</th>\n      <th>skin_cancer</th>\n      <th>other_cancer</th>\n      <th>copd_type_issue</th>\n      <th>arthritis_anyform</th>\n      <th>depressive_disorder</th>\n      <th>kidney_disease</th>\n      <th>diabetes</th>\n      <th>education_lvl</th>\n      <th>rent_own</th>\n      <th>employment_status</th>\n      <th>income_level</th>\n      <th>weight_kg</th>\n      <th>height_m</th>\n      <th>difficulty_walking</th>\n      <th>smoke100_lifetime</th>\n      <th>smokeless_tobacco_products</th>\n      <th>alcohol_consumption_30</th>\n      <th>high_risk_situations</th>\n      <th>ecigaret</th>\n      <th>heart_disease</th>\n    </tr>\n  </thead>\n  <tbody>\n    <tr>\n      <th>0</th>\n      <td>1.0</td>\n      <td>2.0</td>\n      <td>3.0</td>\n      <td>30.0</td>\n      <td>2.0</td>\n      <td>3.0</td>\n      <td>1.0</td>\n      <td>4.0</td>\n      <td>1.0</td>\n      <td>5.0</td>\n      <td>2.0</td>\n      <td>1.0</td>\n      <td>1.0</td>\n      <td>1.0</td>\n      <td>1.0</td>\n      <td>1.0</td>\n      <td>1.0</td>\n      <td>2.0</td>\n      <td>1.0</td>\n      <td>6.0</td>\n      <td>1.0</td>\n      <td>4.0</td>\n      <td>1.0</td>\n      <td>48.0</td>\n      <td>170.0</td>\n      <td>2.0</td>\n      <td>1.0</td>\n      <td>3.0</td>\n      <td>0.0</td>\n      <td>2.0</td>\n      <td>1.0</td>\n      <td>0.0</td>\n    </tr>\n    <tr>\n      <th>1</th>\n      <td>1.0</td>\n      <td>3.0</td>\n      <td>0.0</td>\n      <td>0.0</td>\n      <td>1.0</td>\n      <td>1.0</td>\n      <td>1.0</td>\n      <td>1.0</td>\n      <td>1.0</td>\n      <td>7.0</td>\n      <td>2.0</td>\n      <td>1.0</td>\n      <td>2.0</td>\n      <td>2.0</td>\n      <td>2.0</td>\n      <td>1.0</td>\n      <td>1.0</td>\n      <td>2.0</td>\n      <td>3.0</td>\n      <td>6.0</td>\n      <td>1.0</td>\n      <td>7.0</td>\n      <td>NaN</td>\n      <td>NaN</td>\n      <td>163.0</td>\n      <td>2.0</td>\n      <td>NaN</td>\n      <td>NaN</td>\n      <td>NaN</td>\n      <td>NaN</td>\n      <td>NaN</td>\n      <td>0.0</td>\n    </tr>\n    <tr>\n      <th>2</th>\n      <td>1.0</td>\n      <td>3.0</td>\n      <td>0.0</td>\n      <td>0.0</td>\n      <td>1.0</td>\n      <td>1.0</td>\n      <td>2.0</td>\n      <td>1.0</td>\n      <td>1.0</td>\n      <td>7.0</td>\n      <td>2.0</td>\n      <td>2.0</td>\n      <td>2.0</td>\n      <td>1.0</td>\n      <td>2.0</td>\n      <td>1.0</td>\n      <td>2.0</td>\n      <td>2.0</td>\n      <td>3.0</td>\n      <td>5.0</td>\n      <td>1.0</td>\n      <td>7.0</td>\n      <td>7.0</td>\n      <td>NaN</td>\n      <td>173.0</td>\n      <td>2.0</td>\n      <td>2.0</td>\n      <td>3.0</td>\n      <td>0.0</td>\n      <td>2.0</td>\n      <td>2.0</td>\n      <td>0.0</td>\n    </tr>\n    <tr>\n      <th>3</th>\n      <td>1.0</td>\n      <td>1.0</td>\n      <td>0.0</td>\n      <td>0.0</td>\n      <td>1.0</td>\n      <td>3.0</td>\n      <td>2.0</td>\n      <td>2.0</td>\n      <td>2.0</td>\n      <td>6.0</td>\n      <td>2.0</td>\n      <td>2.0</td>\n      <td>2.0</td>\n      <td>2.0</td>\n      <td>2.0</td>\n      <td>2.0</td>\n      <td>2.0</td>\n      <td>2.0</td>\n      <td>3.0</td>\n      <td>4.0</td>\n      <td>1.0</td>\n      <td>5.0</td>\n      <td>NaN</td>\n      <td>NaN</td>\n      <td>NaN</td>\n      <td>2.0</td>\n      <td>2.0</td>\n      <td>3.0</td>\n      <td>0.0</td>\n      <td>2.0</td>\n      <td>2.0</td>\n      <td>0.0</td>\n    </tr>\n    <tr>\n      <th>4</th>\n      <td>1.0</td>\n      <td>2.0</td>\n      <td>0.0</td>\n      <td>0.0</td>\n      <td>1.0</td>\n      <td>1.0</td>\n      <td>2.0</td>\n      <td>1.0</td>\n      <td>1.0</td>\n      <td>7.0</td>\n      <td>1.0</td>\n      <td>2.0</td>\n      <td>2.0</td>\n      <td>2.0</td>\n      <td>2.0</td>\n      <td>2.0</td>\n      <td>2.0</td>\n      <td>2.0</td>\n      <td>3.0</td>\n      <td>6.0</td>\n      <td>2.0</td>\n      <td>7.0</td>\n      <td>NaN</td>\n      <td>57.0</td>\n      <td>168.0</td>\n      <td>2.0</td>\n      <td>2.0</td>\n      <td>3.0</td>\n      <td>0.0</td>\n      <td>2.0</td>\n      <td>2.0</td>\n      <td>0.0</td>\n    </tr>\n    <tr>\n      <th>...</th>\n      <td>...</td>\n      <td>...</td>\n      <td>...</td>\n      <td>...</td>\n      <td>...</td>\n      <td>...</td>\n      <td>...</td>\n      <td>...</td>\n      <td>...</td>\n      <td>...</td>\n      <td>...</td>\n      <td>...</td>\n      <td>...</td>\n      <td>...</td>\n      <td>...</td>\n      <td>...</td>\n      <td>...</td>\n      <td>...</td>\n      <td>...</td>\n      <td>...</td>\n      <td>...</td>\n      <td>...</td>\n      <td>...</td>\n      <td>...</td>\n      <td>...</td>\n      <td>...</td>\n      <td>...</td>\n      <td>...</td>\n      <td>...</td>\n      <td>...</td>\n      <td>...</td>\n      <td>...</td>\n    </tr>\n    <tr>\n      <th>397142</th>\n      <td>72.0</td>\n      <td>3.0</td>\n      <td>0.0</td>\n      <td>0.0</td>\n      <td>2.0</td>\n      <td>1.0</td>\n      <td>2.0</td>\n      <td>2.0</td>\n      <td>1.0</td>\n      <td>6.0</td>\n      <td>2.0</td>\n      <td>2.0</td>\n      <td>2.0</td>\n      <td>2.0</td>\n      <td>2.0</td>\n      <td>2.0</td>\n      <td>1.0</td>\n      <td>2.0</td>\n      <td>3.0</td>\n      <td>5.0</td>\n      <td>1.0</td>\n      <td>1.0</td>\n      <td>NaN</td>\n      <td>55.0</td>\n      <td>150.0</td>\n      <td>2.0</td>\n      <td>2.0</td>\n      <td>3.0</td>\n      <td>0.0</td>\n      <td>2.0</td>\n      <td>NaN</td>\n      <td>0.0</td>\n    </tr>\n    <tr>\n      <th>397143</th>\n      <td>72.0</td>\n      <td>3.0</td>\n      <td>0.0</td>\n      <td>0.0</td>\n      <td>1.0</td>\n      <td>1.0</td>\n      <td>2.0</td>\n      <td>3.0</td>\n      <td>2.0</td>\n      <td>12.0</td>\n      <td>2.0</td>\n      <td>2.0</td>\n      <td>2.0</td>\n      <td>2.0</td>\n      <td>2.0</td>\n      <td>2.0</td>\n      <td>2.0</td>\n      <td>2.0</td>\n      <td>3.0</td>\n      <td>3.0</td>\n      <td>2.0</td>\n      <td>5.0</td>\n      <td>4.0</td>\n      <td>76.0</td>\n      <td>152.0</td>\n      <td>2.0</td>\n      <td>2.0</td>\n      <td>3.0</td>\n      <td>0.0</td>\n      <td>2.0</td>\n      <td>NaN</td>\n      <td>0.0</td>\n    </tr>\n    <tr>\n      <th>397144</th>\n      <td>72.0</td>\n      <td>3.0</td>\n      <td>0.0</td>\n      <td>0.0</td>\n      <td>1.0</td>\n      <td>1.0</td>\n      <td>2.0</td>\n      <td>2.0</td>\n      <td>1.0</td>\n      <td>8.0</td>\n      <td>2.0</td>\n      <td>2.0</td>\n      <td>2.0</td>\n      <td>2.0</td>\n      <td>2.0</td>\n      <td>2.0</td>\n      <td>2.0</td>\n      <td>2.0</td>\n      <td>3.0</td>\n      <td>4.0</td>\n      <td>1.0</td>\n      <td>5.0</td>\n      <td>1.0</td>\n      <td>72.0</td>\n      <td>124.0</td>\n      <td>2.0</td>\n      <td>2.0</td>\n      <td>3.0</td>\n      <td>0.0</td>\n      <td>2.0</td>\n      <td>NaN</td>\n      <td>0.0</td>\n    </tr>\n    <tr>\n      <th>397145</th>\n      <td>72.0</td>\n      <td>3.0</td>\n      <td>0.0</td>\n      <td>0.0</td>\n      <td>1.0</td>\n      <td>1.0</td>\n      <td>2.0</td>\n      <td>1.0</td>\n      <td>1.0</td>\n      <td>6.0</td>\n      <td>2.0</td>\n      <td>2.0</td>\n      <td>2.0</td>\n      <td>2.0</td>\n      <td>2.0</td>\n      <td>2.0</td>\n      <td>2.0</td>\n      <td>2.0</td>\n      <td>3.0</td>\n      <td>6.0</td>\n      <td>1.0</td>\n      <td>1.0</td>\n      <td>NaN</td>\n      <td>80.0</td>\n      <td>173.0</td>\n      <td>2.0</td>\n      <td>7.0</td>\n      <td>3.0</td>\n      <td>4.0</td>\n      <td>2.0</td>\n      <td>NaN</td>\n      <td>0.0</td>\n    </tr>\n    <tr>\n      <th>397146</th>\n      <td>72.0</td>\n      <td>3.0</td>\n      <td>2.0</td>\n      <td>7.0</td>\n      <td>1.0</td>\n      <td>1.0</td>\n      <td>2.0</td>\n      <td>1.0</td>\n      <td>2.0</td>\n      <td>6.0</td>\n      <td>1.0</td>\n      <td>1.0</td>\n      <td>2.0</td>\n      <td>2.0</td>\n      <td>2.0</td>\n      <td>2.0</td>\n      <td>1.0</td>\n      <td>NaN</td>\n      <td>4.0</td>\n      <td>6.0</td>\n      <td>1.0</td>\n      <td>8.0</td>\n      <td>5.0</td>\n      <td>90.0</td>\n      <td>170.0</td>\n      <td>2.0</td>\n      <td>2.0</td>\n      <td>3.0</td>\n      <td>0.0</td>\n      <td>2.0</td>\n      <td>NaN</td>\n      <td>0.0</td>\n    </tr>\n  </tbody>\n</table>\n<p>397147 rows × 32 columns</p>\n</div>"
     },
     "execution_count": 6,
     "metadata": {},
     "output_type": "execute_result"
    }
   ],
   "source": [
    "heart_df"
   ]
  },
  {
   "cell_type": "code",
   "execution_count": 7,
   "id": "6793a3b3",
   "metadata": {
    "pycharm": {
     "name": "#%%\n"
    }
   },
   "outputs": [],
   "source": [
    "#makes no sense to have due to business problem\n",
    "heart_df.drop(columns = ['education_lvl', 'income_level', 'employment_status', 'rent_own', 'health_care_doctors', \\\n",
    "                         'no_doc_bc_cost'], inplace = True)"
   ]
  },
  {
   "cell_type": "code",
   "execution_count": 8,
   "id": "ecf866e1",
   "metadata": {
    "pycharm": {
     "name": "#%%\n"
    }
   },
   "outputs": [],
   "source": [
    "X = heart_df.drop(columns = ['heart_disease', 'state'])\n",
    "y = heart_df.heart_disease"
   ]
  },
  {
   "cell_type": "markdown",
   "id": "7dd2b0fe",
   "metadata": {
    "pycharm": {
     "name": "#%% md\n"
    }
   },
   "source": [
    "# Preprocessing and Model Prep"
   ]
  },
  {
   "cell_type": "code",
   "execution_count": 9,
   "id": "c90eeaca",
   "metadata": {
    "pycharm": {
     "name": "#%%\n"
    }
   },
   "outputs": [],
   "source": [
    "#train-test split with stratification\n",
    "X_train, X_test, y_train, y_test = train_test_split(X,y, stratify = y , random_state = 42)"
   ]
  },
  {
   "cell_type": "code",
   "execution_count": 10,
   "id": "bca29997",
   "metadata": {
    "pycharm": {
     "name": "#%%\n"
    }
   },
   "outputs": [
    {
     "data": {
      "text/plain": "0.0    0.917102\n1.0    0.082898\nName: heart_disease, dtype: float64"
     },
     "execution_count": 10,
     "metadata": {},
     "output_type": "execute_result"
    }
   ],
   "source": [
    "y_train.value_counts(normalize = True)"
   ]
  },
  {
   "cell_type": "markdown",
   "id": "5ccb82ee",
   "metadata": {
    "pycharm": {
     "name": "#%% md\n"
    }
   },
   "source": [
    "Our target is heavily imbalance. As such I will need to SMOTE and use the imblearn version of pipelines. I will smote up to 15%. "
   ]
  },
  {
   "cell_type": "markdown",
   "id": "7d386691",
   "metadata": {
    "pycharm": {
     "name": "#%% md\n"
    }
   },
   "source": [
    "#### Column Transformers"
   ]
  },
  {
   "cell_type": "markdown",
   "id": "83913d8a",
   "metadata": {
    "pycharm": {
     "name": "#%% md\n"
    }
   },
   "source": [
    "column transformer Pipelines will be built to prevent data leakage when we are doing cross validation as we need to scale and one-hot-encode our features. Different column transformers will be made as we will see how our model does with different amount of features."
   ]
  },
  {
   "cell_type": "code",
   "execution_count": 11,
   "id": "88f5199a",
   "metadata": {
    "pycharm": {
     "name": "#%%\n"
    }
   },
   "outputs": [
    {
     "data": {
      "text/plain": "        general_health  physical_health  mental_health  health_insurance  \\\n147150             3.0              0.0            2.0               1.0   \n95377              1.0              0.0            0.0               1.0   \n100216             3.0              0.0            0.0               2.0   \n376829             3.0              2.0            0.0               1.0   \n197380             3.0              0.0            NaN               1.0   \n...                ...              ...            ...               ...   \n15342              3.0              0.0            0.0               NaN   \n275755             1.0              0.0            2.0               1.0   \n219795             1.0              0.0            0.0               1.0   \n41423              1.0              0.0            2.0               1.0   \n217160             2.0              0.0            4.0               1.0   \n\n        last_checkup  excercise_30  sleep  stroke  asthma  skin_cancer  \\\n147150           1.0           1.0    6.0     2.0     2.0          2.0   \n95377            1.0           2.0    8.0     1.0     2.0          NaN   \n100216           2.0           1.0    8.0     2.0     2.0          2.0   \n376829           4.0           1.0    4.0     2.0     2.0          2.0   \n197380           1.0           1.0    6.0     2.0     2.0          2.0   \n...              ...           ...    ...     ...     ...          ...   \n15342            3.0           2.0    8.0     2.0     2.0          2.0   \n275755           1.0           1.0    6.0     2.0     2.0          2.0   \n219795           1.0           1.0    8.0     2.0     2.0          2.0   \n41423            1.0           1.0    8.0     2.0     2.0          2.0   \n217160           1.0           1.0    8.0     2.0     2.0          2.0   \n\n        other_cancer  copd_type_issue  arthritis_anyform  depressive_disorder  \\\n147150           2.0              2.0                2.0                  2.0   \n95377            2.0              2.0                2.0                  2.0   \n100216           2.0              2.0                2.0                  2.0   \n376829           2.0              1.0                1.0                  1.0   \n197380           2.0              2.0                2.0                  2.0   \n...              ...              ...                ...                  ...   \n15342            2.0              2.0                2.0                  2.0   \n275755           2.0              2.0                2.0                  2.0   \n219795           2.0              2.0                2.0                  2.0   \n41423            2.0              2.0                2.0                  2.0   \n217160           2.0              2.0                2.0                  2.0   \n\n        kidney_disease  diabetes  weight_kg  height_m  difficulty_walking  \\\n147150             2.0       3.0       86.0     168.0                 2.0   \n95377              2.0       2.0       80.0     152.0                 2.0   \n100216             2.0       3.0       91.0     175.0                 2.0   \n376829             2.0       3.0       64.0     168.0                 2.0   \n197380             2.0       3.0       62.0     173.0                 2.0   \n...                ...       ...        ...       ...                 ...   \n15342              2.0       4.0       91.0     163.0                 2.0   \n275755             2.0       2.0        NaN     160.0                 2.0   \n219795             2.0       3.0       86.0     185.0                 2.0   \n41423              2.0       3.0       75.0     170.0                 2.0   \n217160             2.0       3.0       82.0     170.0                 2.0   \n\n        smoke100_lifetime  smokeless_tobacco_products  alcohol_consumption_30  \\\n147150                2.0                         3.0                     0.0   \n95377                 2.0                         3.0                     3.0   \n100216                1.0                         3.0                     4.0   \n376829                1.0                         1.0                     9.0   \n197380                2.0                         3.0                    17.0   \n...                   ...                         ...                     ...   \n15342                 2.0                         3.0                    20.0   \n275755                2.0                         3.0                     0.0   \n219795                2.0                         3.0                     0.0   \n41423                 2.0                         3.0                     3.0   \n217160                2.0                         3.0                     1.0   \n\n        high_risk_situations  ecigaret  \n147150                   2.0       2.0  \n95377                    2.0       2.0  \n100216                   2.0       1.0  \n376829                   2.0       2.0  \n197380                   2.0       2.0  \n...                      ...       ...  \n15342                    2.0       NaN  \n275755                   2.0       2.0  \n219795                   2.0       2.0  \n41423                    2.0       2.0  \n217160                   2.0       2.0  \n\n[297860 rows x 24 columns]",
      "text/html": "<div>\n<style scoped>\n    .dataframe tbody tr th:only-of-type {\n        vertical-align: middle;\n    }\n\n    .dataframe tbody tr th {\n        vertical-align: top;\n    }\n\n    .dataframe thead th {\n        text-align: right;\n    }\n</style>\n<table border=\"1\" class=\"dataframe\">\n  <thead>\n    <tr style=\"text-align: right;\">\n      <th></th>\n      <th>general_health</th>\n      <th>physical_health</th>\n      <th>mental_health</th>\n      <th>health_insurance</th>\n      <th>last_checkup</th>\n      <th>excercise_30</th>\n      <th>sleep</th>\n      <th>stroke</th>\n      <th>asthma</th>\n      <th>skin_cancer</th>\n      <th>other_cancer</th>\n      <th>copd_type_issue</th>\n      <th>arthritis_anyform</th>\n      <th>depressive_disorder</th>\n      <th>kidney_disease</th>\n      <th>diabetes</th>\n      <th>weight_kg</th>\n      <th>height_m</th>\n      <th>difficulty_walking</th>\n      <th>smoke100_lifetime</th>\n      <th>smokeless_tobacco_products</th>\n      <th>alcohol_consumption_30</th>\n      <th>high_risk_situations</th>\n      <th>ecigaret</th>\n    </tr>\n  </thead>\n  <tbody>\n    <tr>\n      <th>147150</th>\n      <td>3.0</td>\n      <td>0.0</td>\n      <td>2.0</td>\n      <td>1.0</td>\n      <td>1.0</td>\n      <td>1.0</td>\n      <td>6.0</td>\n      <td>2.0</td>\n      <td>2.0</td>\n      <td>2.0</td>\n      <td>2.0</td>\n      <td>2.0</td>\n      <td>2.0</td>\n      <td>2.0</td>\n      <td>2.0</td>\n      <td>3.0</td>\n      <td>86.0</td>\n      <td>168.0</td>\n      <td>2.0</td>\n      <td>2.0</td>\n      <td>3.0</td>\n      <td>0.0</td>\n      <td>2.0</td>\n      <td>2.0</td>\n    </tr>\n    <tr>\n      <th>95377</th>\n      <td>1.0</td>\n      <td>0.0</td>\n      <td>0.0</td>\n      <td>1.0</td>\n      <td>1.0</td>\n      <td>2.0</td>\n      <td>8.0</td>\n      <td>1.0</td>\n      <td>2.0</td>\n      <td>NaN</td>\n      <td>2.0</td>\n      <td>2.0</td>\n      <td>2.0</td>\n      <td>2.0</td>\n      <td>2.0</td>\n      <td>2.0</td>\n      <td>80.0</td>\n      <td>152.0</td>\n      <td>2.0</td>\n      <td>2.0</td>\n      <td>3.0</td>\n      <td>3.0</td>\n      <td>2.0</td>\n      <td>2.0</td>\n    </tr>\n    <tr>\n      <th>100216</th>\n      <td>3.0</td>\n      <td>0.0</td>\n      <td>0.0</td>\n      <td>2.0</td>\n      <td>2.0</td>\n      <td>1.0</td>\n      <td>8.0</td>\n      <td>2.0</td>\n      <td>2.0</td>\n      <td>2.0</td>\n      <td>2.0</td>\n      <td>2.0</td>\n      <td>2.0</td>\n      <td>2.0</td>\n      <td>2.0</td>\n      <td>3.0</td>\n      <td>91.0</td>\n      <td>175.0</td>\n      <td>2.0</td>\n      <td>1.0</td>\n      <td>3.0</td>\n      <td>4.0</td>\n      <td>2.0</td>\n      <td>1.0</td>\n    </tr>\n    <tr>\n      <th>376829</th>\n      <td>3.0</td>\n      <td>2.0</td>\n      <td>0.0</td>\n      <td>1.0</td>\n      <td>4.0</td>\n      <td>1.0</td>\n      <td>4.0</td>\n      <td>2.0</td>\n      <td>2.0</td>\n      <td>2.0</td>\n      <td>2.0</td>\n      <td>1.0</td>\n      <td>1.0</td>\n      <td>1.0</td>\n      <td>2.0</td>\n      <td>3.0</td>\n      <td>64.0</td>\n      <td>168.0</td>\n      <td>2.0</td>\n      <td>1.0</td>\n      <td>1.0</td>\n      <td>9.0</td>\n      <td>2.0</td>\n      <td>2.0</td>\n    </tr>\n    <tr>\n      <th>197380</th>\n      <td>3.0</td>\n      <td>0.0</td>\n      <td>NaN</td>\n      <td>1.0</td>\n      <td>1.0</td>\n      <td>1.0</td>\n      <td>6.0</td>\n      <td>2.0</td>\n      <td>2.0</td>\n      <td>2.0</td>\n      <td>2.0</td>\n      <td>2.0</td>\n      <td>2.0</td>\n      <td>2.0</td>\n      <td>2.0</td>\n      <td>3.0</td>\n      <td>62.0</td>\n      <td>173.0</td>\n      <td>2.0</td>\n      <td>2.0</td>\n      <td>3.0</td>\n      <td>17.0</td>\n      <td>2.0</td>\n      <td>2.0</td>\n    </tr>\n    <tr>\n      <th>...</th>\n      <td>...</td>\n      <td>...</td>\n      <td>...</td>\n      <td>...</td>\n      <td>...</td>\n      <td>...</td>\n      <td>...</td>\n      <td>...</td>\n      <td>...</td>\n      <td>...</td>\n      <td>...</td>\n      <td>...</td>\n      <td>...</td>\n      <td>...</td>\n      <td>...</td>\n      <td>...</td>\n      <td>...</td>\n      <td>...</td>\n      <td>...</td>\n      <td>...</td>\n      <td>...</td>\n      <td>...</td>\n      <td>...</td>\n      <td>...</td>\n    </tr>\n    <tr>\n      <th>15342</th>\n      <td>3.0</td>\n      <td>0.0</td>\n      <td>0.0</td>\n      <td>NaN</td>\n      <td>3.0</td>\n      <td>2.0</td>\n      <td>8.0</td>\n      <td>2.0</td>\n      <td>2.0</td>\n      <td>2.0</td>\n      <td>2.0</td>\n      <td>2.0</td>\n      <td>2.0</td>\n      <td>2.0</td>\n      <td>2.0</td>\n      <td>4.0</td>\n      <td>91.0</td>\n      <td>163.0</td>\n      <td>2.0</td>\n      <td>2.0</td>\n      <td>3.0</td>\n      <td>20.0</td>\n      <td>2.0</td>\n      <td>NaN</td>\n    </tr>\n    <tr>\n      <th>275755</th>\n      <td>1.0</td>\n      <td>0.0</td>\n      <td>2.0</td>\n      <td>1.0</td>\n      <td>1.0</td>\n      <td>1.0</td>\n      <td>6.0</td>\n      <td>2.0</td>\n      <td>2.0</td>\n      <td>2.0</td>\n      <td>2.0</td>\n      <td>2.0</td>\n      <td>2.0</td>\n      <td>2.0</td>\n      <td>2.0</td>\n      <td>2.0</td>\n      <td>NaN</td>\n      <td>160.0</td>\n      <td>2.0</td>\n      <td>2.0</td>\n      <td>3.0</td>\n      <td>0.0</td>\n      <td>2.0</td>\n      <td>2.0</td>\n    </tr>\n    <tr>\n      <th>219795</th>\n      <td>1.0</td>\n      <td>0.0</td>\n      <td>0.0</td>\n      <td>1.0</td>\n      <td>1.0</td>\n      <td>1.0</td>\n      <td>8.0</td>\n      <td>2.0</td>\n      <td>2.0</td>\n      <td>2.0</td>\n      <td>2.0</td>\n      <td>2.0</td>\n      <td>2.0</td>\n      <td>2.0</td>\n      <td>2.0</td>\n      <td>3.0</td>\n      <td>86.0</td>\n      <td>185.0</td>\n      <td>2.0</td>\n      <td>2.0</td>\n      <td>3.0</td>\n      <td>0.0</td>\n      <td>2.0</td>\n      <td>2.0</td>\n    </tr>\n    <tr>\n      <th>41423</th>\n      <td>1.0</td>\n      <td>0.0</td>\n      <td>2.0</td>\n      <td>1.0</td>\n      <td>1.0</td>\n      <td>1.0</td>\n      <td>8.0</td>\n      <td>2.0</td>\n      <td>2.0</td>\n      <td>2.0</td>\n      <td>2.0</td>\n      <td>2.0</td>\n      <td>2.0</td>\n      <td>2.0</td>\n      <td>2.0</td>\n      <td>3.0</td>\n      <td>75.0</td>\n      <td>170.0</td>\n      <td>2.0</td>\n      <td>2.0</td>\n      <td>3.0</td>\n      <td>3.0</td>\n      <td>2.0</td>\n      <td>2.0</td>\n    </tr>\n    <tr>\n      <th>217160</th>\n      <td>2.0</td>\n      <td>0.0</td>\n      <td>4.0</td>\n      <td>1.0</td>\n      <td>1.0</td>\n      <td>1.0</td>\n      <td>8.0</td>\n      <td>2.0</td>\n      <td>2.0</td>\n      <td>2.0</td>\n      <td>2.0</td>\n      <td>2.0</td>\n      <td>2.0</td>\n      <td>2.0</td>\n      <td>2.0</td>\n      <td>3.0</td>\n      <td>82.0</td>\n      <td>170.0</td>\n      <td>2.0</td>\n      <td>2.0</td>\n      <td>3.0</td>\n      <td>1.0</td>\n      <td>2.0</td>\n      <td>2.0</td>\n    </tr>\n  </tbody>\n</table>\n<p>297860 rows × 24 columns</p>\n</div>"
     },
     "execution_count": 11,
     "metadata": {},
     "output_type": "execute_result"
    }
   ],
   "source": [
    "X_train"
   ]
  },
  {
   "cell_type": "code",
   "execution_count": 12,
   "id": "f3d46bfb",
   "metadata": {
    "pycharm": {
     "name": "#%%\n"
    }
   },
   "outputs": [
    {
     "data": {
      "text/plain": "0.0     207250\n30.0     18206\n2.0      13193\n1.0       9250\n3.0       7663\n5.0       6736\n10.0      4949\n15.0      4598\n7.0       4214\n4.0       4065\n20.0      2993\n14.0      2610\n6.0       1147\n25.0      1043\n8.0        861\n21.0       599\n12.0       566\n28.0       415\n29.0       197\n9.0        164\n18.0       152\n16.0       125\n27.0       116\n17.0        95\n11.0        88\n13.0        81\n22.0        78\n24.0        63\n26.0        50\n23.0        47\n19.0        31\nName: physical_health, dtype: int64"
     },
     "execution_count": 12,
     "metadata": {},
     "output_type": "execute_result"
    }
   ],
   "source": [
    "X_train.physical_health.value_counts()"
   ]
  },
  {
   "cell_type": "code",
   "execution_count": 13,
   "id": "68a979c3",
   "metadata": {
    "pycharm": {
     "name": "#%%\n"
    }
   },
   "outputs": [],
   "source": [
    "continous = ['physical_health', 'mental_health', 'last_checkup' , 'excercise_30', 'sleep', 'weight_kg', \\\n",
    "               'height_m', 'alcohol_consumption_30']\n",
    "\n",
    "categorical = list(X.columns.drop(continous))"
   ]
  },
  {
   "cell_type": "code",
   "execution_count": 14,
   "id": "e78ab2f4",
   "metadata": {
    "pycharm": {
     "name": "#%%\n"
    }
   },
   "outputs": [
    {
     "data": {
      "text/plain": "['general_health',\n 'health_insurance',\n 'stroke',\n 'asthma',\n 'skin_cancer',\n 'other_cancer',\n 'copd_type_issue',\n 'arthritis_anyform',\n 'depressive_disorder',\n 'kidney_disease',\n 'diabetes',\n 'difficulty_walking',\n 'smoke100_lifetime',\n 'smokeless_tobacco_products',\n 'high_risk_situations',\n 'ecigaret']"
     },
     "execution_count": 14,
     "metadata": {},
     "output_type": "execute_result"
    }
   ],
   "source": [
    "categorical"
   ]
  },
  {
   "cell_type": "code",
   "execution_count": 15,
   "id": "26e224f2",
   "metadata": {
    "pycharm": {
     "name": "#%%\n"
    }
   },
   "outputs": [],
   "source": [
    "cat_pipe = Pipeline(steps=[('cat_impute', IterativeImputer(estimator = KNeighborsClassifier(),\\\n",
    "                                                           random_state=42, max_iter = 5)),\n",
    "                              ('ohe', OneHotEncoder(sparse=False, handle_unknown='ignore'))])\n",
    "scale_pipe = Pipeline(steps=[('scale_impute', IterativeImputer(estimator = BayesianRidge(),random_state=42)),\n",
    "                              ('scale', StandardScaler())])"
   ]
  },
  {
   "cell_type": "code",
   "execution_count": 16,
   "id": "f9bdedb3",
   "metadata": {
    "pycharm": {
     "name": "#%%\n"
    }
   },
   "outputs": [],
   "source": [
    "#ct for only continous\n",
    "ct_continous = ColumnTransformer(transformers=[\n",
    "    ('scale', scale_pipe, continous)\n",
    "])\n",
    "\n",
    "#ct for categorical only\n",
    "ct_categorical = ColumnTransformer(transformers=[\n",
    "    ('cat', cat_pipe, categorical),\n",
    "])\n",
    "\n",
    "#ct with both continous and categorical\n",
    "ct = ColumnTransformer(transformers=[\n",
    "    ('cat', cat_pipe, categorical),\n",
    "    ('scale', scale_pipe, continous)\n",
    "])"
   ]
  },
  {
   "cell_type": "markdown",
   "id": "ddfdbed5",
   "metadata": {
    "pycharm": {
     "name": "#%% md\n"
    }
   },
   "source": [
    "# Simple Models"
   ]
  },
  {
   "cell_type": "markdown",
   "id": "e762a38d",
   "metadata": {
    "pycharm": {
     "name": "#%% md\n"
    }
   },
   "source": [
    "## Dummy Classifier"
   ]
  },
  {
   "cell_type": "code",
   "execution_count": 17,
   "id": "22c5f3df",
   "metadata": {
    "pycharm": {
     "name": "#%%\n"
    }
   },
   "outputs": [
    {
     "data": {
      "text/plain": "        physical_health  mental_health  last_checkup  excercise_30  sleep  \\\n147150              0.0            2.0           1.0           1.0    6.0   \n95377               0.0            0.0           1.0           2.0    8.0   \n100216              0.0            0.0           2.0           1.0    8.0   \n376829              2.0            0.0           4.0           1.0    4.0   \n197380              0.0            NaN           1.0           1.0    6.0   \n...                 ...            ...           ...           ...    ...   \n15342               0.0            0.0           3.0           2.0    8.0   \n275755              0.0            2.0           1.0           1.0    6.0   \n219795              0.0            0.0           1.0           1.0    8.0   \n41423               0.0            2.0           1.0           1.0    8.0   \n217160              0.0            4.0           1.0           1.0    8.0   \n\n        weight_kg  height_m  alcohol_consumption_30  \n147150       86.0     168.0                     0.0  \n95377        80.0     152.0                     3.0  \n100216       91.0     175.0                     4.0  \n376829       64.0     168.0                     9.0  \n197380       62.0     173.0                    17.0  \n...           ...       ...                     ...  \n15342        91.0     163.0                    20.0  \n275755        NaN     160.0                     0.0  \n219795       86.0     185.0                     0.0  \n41423        75.0     170.0                     3.0  \n217160       82.0     170.0                     1.0  \n\n[297860 rows x 8 columns]",
      "text/html": "<div>\n<style scoped>\n    .dataframe tbody tr th:only-of-type {\n        vertical-align: middle;\n    }\n\n    .dataframe tbody tr th {\n        vertical-align: top;\n    }\n\n    .dataframe thead th {\n        text-align: right;\n    }\n</style>\n<table border=\"1\" class=\"dataframe\">\n  <thead>\n    <tr style=\"text-align: right;\">\n      <th></th>\n      <th>physical_health</th>\n      <th>mental_health</th>\n      <th>last_checkup</th>\n      <th>excercise_30</th>\n      <th>sleep</th>\n      <th>weight_kg</th>\n      <th>height_m</th>\n      <th>alcohol_consumption_30</th>\n    </tr>\n  </thead>\n  <tbody>\n    <tr>\n      <th>147150</th>\n      <td>0.0</td>\n      <td>2.0</td>\n      <td>1.0</td>\n      <td>1.0</td>\n      <td>6.0</td>\n      <td>86.0</td>\n      <td>168.0</td>\n      <td>0.0</td>\n    </tr>\n    <tr>\n      <th>95377</th>\n      <td>0.0</td>\n      <td>0.0</td>\n      <td>1.0</td>\n      <td>2.0</td>\n      <td>8.0</td>\n      <td>80.0</td>\n      <td>152.0</td>\n      <td>3.0</td>\n    </tr>\n    <tr>\n      <th>100216</th>\n      <td>0.0</td>\n      <td>0.0</td>\n      <td>2.0</td>\n      <td>1.0</td>\n      <td>8.0</td>\n      <td>91.0</td>\n      <td>175.0</td>\n      <td>4.0</td>\n    </tr>\n    <tr>\n      <th>376829</th>\n      <td>2.0</td>\n      <td>0.0</td>\n      <td>4.0</td>\n      <td>1.0</td>\n      <td>4.0</td>\n      <td>64.0</td>\n      <td>168.0</td>\n      <td>9.0</td>\n    </tr>\n    <tr>\n      <th>197380</th>\n      <td>0.0</td>\n      <td>NaN</td>\n      <td>1.0</td>\n      <td>1.0</td>\n      <td>6.0</td>\n      <td>62.0</td>\n      <td>173.0</td>\n      <td>17.0</td>\n    </tr>\n    <tr>\n      <th>...</th>\n      <td>...</td>\n      <td>...</td>\n      <td>...</td>\n      <td>...</td>\n      <td>...</td>\n      <td>...</td>\n      <td>...</td>\n      <td>...</td>\n    </tr>\n    <tr>\n      <th>15342</th>\n      <td>0.0</td>\n      <td>0.0</td>\n      <td>3.0</td>\n      <td>2.0</td>\n      <td>8.0</td>\n      <td>91.0</td>\n      <td>163.0</td>\n      <td>20.0</td>\n    </tr>\n    <tr>\n      <th>275755</th>\n      <td>0.0</td>\n      <td>2.0</td>\n      <td>1.0</td>\n      <td>1.0</td>\n      <td>6.0</td>\n      <td>NaN</td>\n      <td>160.0</td>\n      <td>0.0</td>\n    </tr>\n    <tr>\n      <th>219795</th>\n      <td>0.0</td>\n      <td>0.0</td>\n      <td>1.0</td>\n      <td>1.0</td>\n      <td>8.0</td>\n      <td>86.0</td>\n      <td>185.0</td>\n      <td>0.0</td>\n    </tr>\n    <tr>\n      <th>41423</th>\n      <td>0.0</td>\n      <td>2.0</td>\n      <td>1.0</td>\n      <td>1.0</td>\n      <td>8.0</td>\n      <td>75.0</td>\n      <td>170.0</td>\n      <td>3.0</td>\n    </tr>\n    <tr>\n      <th>217160</th>\n      <td>0.0</td>\n      <td>4.0</td>\n      <td>1.0</td>\n      <td>1.0</td>\n      <td>8.0</td>\n      <td>82.0</td>\n      <td>170.0</td>\n      <td>1.0</td>\n    </tr>\n  </tbody>\n</table>\n<p>297860 rows × 8 columns</p>\n</div>"
     },
     "execution_count": 17,
     "metadata": {},
     "output_type": "execute_result"
    }
   ],
   "source": [
    "X_simple = X_train[continous]\n",
    "y_simple = y_train\n",
    "\n",
    "X_simple"
   ]
  },
  {
   "cell_type": "code",
   "execution_count": 18,
   "id": "ec5baba5",
   "metadata": {
    "pycharm": {
     "name": "#%%\n"
    }
   },
   "outputs": [],
   "source": [
    "dummy_simple = ImPipeline(steps=[\n",
    "    ('ct', ct_continous),\n",
    "    ('sm', SMOTE(sampling_strategy= 0.25, random_state=1)),\n",
    "    ('dummy', DummyClassifier(strategy='most_frequent'))\n",
    "]).fit(X_simple, y_simple)"
   ]
  },
  {
   "cell_type": "code",
   "execution_count": 19,
   "id": "275adf37",
   "metadata": {
    "pycharm": {
     "name": "#%%\n"
    }
   },
   "outputs": [],
   "source": [
    "dummy_info = ModelWithCV(dummy_simple, 'dummy', X_simple, y_simple)"
   ]
  },
  {
   "cell_type": "code",
   "execution_count": 20,
   "id": "badf4247",
   "metadata": {
    "pycharm": {
     "name": "#%%\n"
    }
   },
   "outputs": [
    {
     "name": "stdout",
     "output_type": "stream",
     "text": [
      " \n",
      "  f1_score is 0.0 CV Results for `dummy` model:\n",
      "            0.91710 ± 0.00001 accuracy\n",
      "         <sklearn.metrics._plot.confusion_matrix.ConfusionMatrixDisplay object at 0x000002260148CEE0> <sklearn.metrics._plot.roc_curve.RocCurveDisplay object at 0x00000226010DB130>\n"
     ]
    },
    {
     "data": {
      "text/plain": "<Figure size 432x288 with 1 Axes>",
      "image/png": "[encoded data removed]"
     },
     "metadata": {
      "needs_background": "light"
     },
     "output_type": "display_data"
    },
    {
     "data": {
      "text/plain": "<Figure size 432x288 with 2 Axes>",
      "image/png": "[encoded data removed]"
     },
     "metadata": {
      "needs_background": "light"
     },
     "output_type": "display_data"
    }
   ],
   "source": [
    "dummy_info.print_summary()"
   ]
  },
  {
   "cell_type": "markdown",
   "id": "02f269a3",
   "metadata": {
    "pycharm": {
     "name": "#%% md\n"
    }
   },
   "source": [
    "## Simple Model 1 - Logistic Regression"
   ]
  },
  {
   "cell_type": "code",
   "execution_count": 21,
   "id": "50f75617",
   "metadata": {
    "pycharm": {
     "name": "#%%\n"
    }
   },
   "outputs": [],
   "source": [
    "log1 = ImPipeline(steps=[\n",
    "    ('ct', ct_continous),\n",
    "    ('sm', SMOTE(sampling_strategy= 0.25, random_state=1)),\n",
    "    ('log',LogisticRegression(random_state=42))\n",
    "]).fit(X_simple, y_simple)"
   ]
  },
  {
   "cell_type": "code",
   "execution_count": 22,
   "id": "5a0e70e8",
   "metadata": {
    "pycharm": {
     "name": "#%%\n"
    }
   },
   "outputs": [],
   "source": [
    "log1_info = ModelWithCV(log1, 'log1', X_simple, y_simple)"
   ]
  },
  {
   "cell_type": "code",
   "execution_count": 23,
   "id": "93473da1",
   "metadata": {
    "pycharm": {
     "name": "#%%\n"
    }
   },
   "outputs": [
    {
     "name": "stdout",
     "output_type": "stream",
     "text": [
      " \n",
      "  f1_score is 0.136593031337826 CV Results for `log1` model:\n",
      "            0.90401 ± 0.00070 accuracy\n",
      "         <sklearn.metrics._plot.confusion_matrix.ConfusionMatrixDisplay object at 0x00000226015B55E0> <sklearn.metrics._plot.roc_curve.RocCurveDisplay object at 0x00000226010AE6A0>\n"
     ]
    },
    {
     "data": {
      "text/plain": "<Figure size 432x288 with 1 Axes>",
      "image/png": "[encoded data removed]"
     },
     "metadata": {
      "needs_background": "light"
     },
     "output_type": "display_data"
    },
    {
     "data": {
      "text/plain": "<Figure size 432x288 with 2 Axes>",
      "image/png": "[encoded data removed]"
     },
     "metadata": {
      "needs_background": "light"
     },
     "output_type": "display_data"
    }
   ],
   "source": [
    "log1_info.print_summary()"
   ]
  },
  {
   "cell_type": "markdown",
   "source": [
    "The LogisticRegression has a better F1 score of .14 compared to the dummy classifier which had a F1 score of 0. The ROC-AUC score is also better by 0.19. The AUC of the logistic regression is 0.69 while the dummy was 0.50. However, the accuracy is slightly lower by 1-2% on the logistic regression (90%) compared to the dummy (92%)."
   ],
   "metadata": {
    "collapsed": false,
    "pycharm": {
     "name": "#%% md\n"
    }
   }
  },
  {
   "cell_type": "markdown",
   "id": "ead5ebf7",
   "metadata": {
    "pycharm": {
     "name": "#%% md\n"
    }
   },
   "source": [
    "## Simple Model 2 - KNN"
   ]
  },
  {
   "cell_type": "code",
   "execution_count": 24,
   "id": "d24b0d05",
   "metadata": {
    "pycharm": {
     "name": "#%%\n"
    }
   },
   "outputs": [],
   "source": [
    "knn1 = ImPipeline(steps=[\n",
    "    ('ct', ct_continous),\n",
    "    ('sm', SMOTE(sampling_strategy= 0.25, random_state=1)),\n",
    "    ('knn1',KNeighborsClassifier())\n",
    "]).fit(X_simple, y_simple)"
   ]
  },
  {
   "cell_type": "code",
   "execution_count": 25,
   "id": "1a422c7f",
   "metadata": {
    "pycharm": {
     "name": "#%%\n"
    }
   },
   "outputs": [],
   "source": [
    "knn1_info = ModelWithCV(knn1, 'knn', X_simple, y_simple)"
   ]
  },
  {
   "cell_type": "code",
   "execution_count": 26,
   "id": "4df14f20",
   "metadata": {
    "pycharm": {
     "name": "#%%\n"
    }
   },
   "outputs": [
    {
     "name": "stdout",
     "output_type": "stream",
     "text": [
      " \n",
      "  f1_score is 0.49801104972375687 CV Results for `knn` model:\n",
      "            0.84728 ± 0.00127 accuracy\n",
      "         <sklearn.metrics._plot.confusion_matrix.ConfusionMatrixDisplay object at 0x000002260167C1F0> <sklearn.metrics._plot.roc_curve.RocCurveDisplay object at 0x000002261730FBE0>\n"
     ]
    },
    {
     "data": {
      "text/plain": "<Figure size 432x288 with 1 Axes>",
      "image/png": "[encoded data removed]"
     },
     "metadata": {
      "needs_background": "light"
     },
     "output_type": "display_data"
    },
    {
     "data": {
      "text/plain": "<Figure size 432x288 with 2 Axes>",
      "image/png": "[encoded data removed]"
     },
     "metadata": {
      "needs_background": "light"
     },
     "output_type": "display_data"
    }
   ],
   "source": [
    "knn1_info.print_summary()"
   ]
  },
  {
   "cell_type": "markdown",
   "source": [
    "The KNN did much better compared to the logistic regression. It has a F1 score of about .50 compared to the logistic regression (0.14). The ROC-AUC is also much better at 0.89 versus 0.69. The accuracy is much lower though, dropping to about 84% compare to 90% from the logistic or even the dummy which was about 92%."
   ],
   "metadata": {
    "collapsed": false,
    "pycharm": {
     "name": "#%% md\n"
    }
   }
  },
  {
   "cell_type": "markdown",
   "id": "19a1b667",
   "metadata": {
    "pycharm": {
     "name": "#%% md\n"
    }
   },
   "source": [
    "## Simple Model 3 - Decision Tree"
   ]
  },
  {
   "cell_type": "code",
   "execution_count": 27,
   "id": "c8972492",
   "metadata": {
    "pycharm": {
     "name": "#%%\n"
    }
   },
   "outputs": [],
   "source": [
    "dtree1 = ImPipeline(steps=[\n",
    "    ('ct', ct_continous),\n",
    "    ('sm', SMOTE(sampling_strategy=0.25, random_state=1)),\n",
    "    ('dtree', DecisionTreeClassifier(random_state=42) )\n",
    "]).fit(X_simple, y_simple)"
   ]
  },
  {
   "cell_type": "code",
   "execution_count": 28,
   "id": "3e90c46d",
   "metadata": {
    "pycharm": {
     "name": "#%%\n"
    }
   },
   "outputs": [
    {
     "name": "stdout",
     "output_type": "stream",
     "text": [
      " \n",
      "  f1_score is 0.7986492592328365 CV Results for `dtree1` model:\n",
      "            0.85776 ± 0.00140 accuracy\n",
      "         <sklearn.metrics._plot.confusion_matrix.ConfusionMatrixDisplay object at 0x00000226175FFCD0> <sklearn.metrics._plot.roc_curve.RocCurveDisplay object at 0x00000226015D66D0>\n"
     ]
    },
    {
     "data": {
      "text/plain": "<Figure size 432x288 with 1 Axes>",
      "image/png": "[encoded data removed]"
     },
     "metadata": {
      "needs_background": "light"
     },
     "output_type": "display_data"
    },
    {
     "data": {
      "text/plain": "<Figure size 432x288 with 2 Axes>",
      "image/png": "[encoded data removed]"
     },
     "metadata": {
      "needs_background": "light"
     },
     "output_type": "display_data"
    }
   ],
   "source": [
    "dtree1_info = ModelWithCV(dtree1, 'dtree1', X_simple, y_simple)\n",
    "dtree1_info.print_summary()"
   ]
  },
  {
   "cell_type": "markdown",
   "source": [
    "Our decision tree performed much better with an F1 score of 0.80, ROC-AUC of 0.99 but with an accuracy of 86%. Though, the ROC-AUC being 0.99 indicates that it is more than likely overfit and as such we will have to take that into account."
   ],
   "metadata": {
    "collapsed": false,
    "pycharm": {
     "name": "#%% md\n"
    }
   }
  },
  {
   "cell_type": "markdown",
   "source": [
    "# Simple Model 4 - XGBoost"
   ],
   "metadata": {
    "collapsed": false,
    "pycharm": {
     "name": "#%% md\n"
    }
   }
  },
  {
   "cell_type": "code",
   "execution_count": 29,
   "outputs": [],
   "source": [
    "xg1 = ImPipeline(steps=[\n",
    "    ('ct', ct_continous),\n",
    "    ('sm', SMOTE(sampling_strategy=0.25, random_state=1)),\n",
    "    ('xg1', XGBClassifier(random_state= 42) )\n",
    "]).fit(X_simple, y_simple)"
   ],
   "metadata": {
    "collapsed": false,
    "pycharm": {
     "name": "#%%\n"
    }
   }
  },
  {
   "cell_type": "code",
   "execution_count": 30,
   "outputs": [
    {
     "name": "stdout",
     "output_type": "stream",
     "text": [
      " \n",
      "  f1_score is 0.0533078084158598 CV Results for `xg1` model:\n",
      "            0.91142 ± 0.00024 accuracy\n",
      "         <sklearn.metrics._plot.confusion_matrix.ConfusionMatrixDisplay object at 0x00000226181323D0> <sklearn.metrics._plot.roc_curve.RocCurveDisplay object at 0x000002261811E130>\n"
     ]
    },
    {
     "data": {
      "text/plain": "<Figure size 432x288 with 1 Axes>",
      "image/png": "[encoded data removed]"
     },
     "metadata": {
      "needs_background": "light"
     },
     "output_type": "display_data"
    },
    {
     "data": {
      "text/plain": "<Figure size 432x288 with 2 Axes>",
      "image/png": "[encoded data removed]"
     },
     "metadata": {
      "needs_background": "light"
     },
     "output_type": "display_data"
    }
   ],
   "source": [
    "xg1_info = ModelWithCV(xg1, 'xg1', X_simple, y_simple)\n",
    "xg1_info.print_summary()"
   ],
   "metadata": {
    "collapsed": false,
    "pycharm": {
     "name": "#%%\n"
    }
   }
  },
  {
   "cell_type": "markdown",
   "source": [
    "# Grid Search on the Simple Models"
   ],
   "metadata": {
    "collapsed": false,
    "pycharm": {
     "name": "#%% md\n"
    }
   }
  },
  {
   "cell_type": "code",
   "execution_count": 31,
   "outputs": [],
   "source": [
    "### Logistic Regression"
   ],
   "metadata": {
    "collapsed": false,
    "pycharm": {
     "name": "#%%\n"
    }
   }
  },
  {
   "cell_type": "code",
   "execution_count": 32,
   "outputs": [],
   "source": [
    "log1_params = {\n",
    "    'log__C' : [10,100,1000],\n",
    "    'log__max_iter' : [10,20,30],\n",
    "    'log__penalty' : ['l1', 'l2', 'none']\n",
    "}"
   ],
   "metadata": {
    "collapsed": false,
    "pycharm": {
     "name": "#%%\n"
    }
   }
  },
  {
   "cell_type": "code",
   "execution_count": 33,
   "outputs": [],
   "source": [
    "log_gs = GridSearchCV(estimator=log1, param_grid=log1_params, n_jobs=-1).fit(X_simple,y_simple)"
   ],
   "metadata": {
    "collapsed": false,
    "pycharm": {
     "name": "#%%\n"
    }
   }
  },
  {
   "cell_type": "code",
   "execution_count": 34,
   "outputs": [
    {
     "data": {
      "text/plain": "['./joblib_models/log_gs.sav']"
     },
     "execution_count": 34,
     "metadata": {},
     "output_type": "execute_result"
    }
   ],
   "source": [
    "joblib.dump(log_gs, './joblib_models/log_gs.sav')"
   ],
   "metadata": {
    "collapsed": false,
    "pycharm": {
     "name": "#%%\n"
    }
   }
  },
  {
   "cell_type": "code",
   "execution_count": 35,
   "outputs": [],
   "source": [
    "log1_tune = ModelWithCV(log_gs.best_estimator_,'log1_tune', X_simple, y_simple)"
   ],
   "metadata": {
    "collapsed": false,
    "pycharm": {
     "name": "#%%\n"
    }
   }
  },
  {
   "cell_type": "code",
   "execution_count": 36,
   "outputs": [
    {
     "data": {
      "text/plain": "['./joblib_models/log1_tune.sav']"
     },
     "execution_count": 36,
     "metadata": {},
     "output_type": "execute_result"
    }
   ],
   "source": [
    "joblib.dump(log1_tune, './joblib_models/log1_tune.sav')"
   ],
   "metadata": {
    "collapsed": false,
    "pycharm": {
     "name": "#%%\n"
    }
   }
  },
  {
   "cell_type": "code",
   "execution_count": 37,
   "outputs": [
    {
     "name": "stdout",
     "output_type": "stream",
     "text": [
      " \n",
      "  f1_score is 0.136593031337826 CV Results for `log1_tune` model:\n",
      "            0.90401 ± 0.00070 accuracy\n",
      "         <sklearn.metrics._plot.confusion_matrix.ConfusionMatrixDisplay object at 0x00000226186C3610> <sklearn.metrics._plot.roc_curve.RocCurveDisplay object at 0x00000226186C37C0>\n"
     ]
    },
    {
     "data": {
      "text/plain": "<Figure size 432x288 with 1 Axes>",
      "image/png": "[encoded data removed]"
     },
     "metadata": {
      "needs_background": "light"
     },
     "output_type": "display_data"
    },
    {
     "data": {
      "text/plain": "<Figure size 432x288 with 2 Axes>",
      "image/png": "[encoded data removed]"
     },
     "metadata": {
      "needs_background": "light"
     },
     "output_type": "display_data"
    }
   ],
   "source": [
    "log1_tune.print_summary()"
   ],
   "metadata": {
    "collapsed": false,
    "pycharm": {
     "name": "#%%\n"
    }
   }
  },
  {
   "cell_type": "code",
   "execution_count": 38,
   "outputs": [],
   "source": [
    "### KNN"
   ],
   "metadata": {
    "collapsed": false,
    "pycharm": {
     "name": "#%%\n"
    }
   }
  },
  {
   "cell_type": "code",
   "execution_count": 39,
   "outputs": [
    {
     "data": {
      "text/plain": "KNeighborsClassifier()"
     },
     "execution_count": 39,
     "metadata": {},
     "output_type": "execute_result"
    }
   ],
   "source": [
    "KNeighborsClassifier()"
   ],
   "metadata": {
    "collapsed": false,
    "pycharm": {
     "name": "#%%\n"
    }
   }
  },
  {
   "cell_type": "code",
   "execution_count": 40,
   "outputs": [],
   "source": [
    "knn_params = {\n",
    "    'knn1__n_neighbors': [5,10,20],\n",
    "    'knn1__metric' : ['minkowski', 'euclidean']\n",
    "}"
   ],
   "metadata": {
    "collapsed": false,
    "pycharm": {
     "name": "#%%\n"
    }
   }
  },
  {
   "cell_type": "code",
   "execution_count": 41,
   "outputs": [],
   "source": [
    "knn_gs = GridSearchCV(estimator=knn1, param_grid=knn_params, n_jobs=-1).fit(X_simple,y_simple)"
   ],
   "metadata": {
    "collapsed": false,
    "pycharm": {
     "name": "#%%\n"
    }
   }
  },
  {
   "cell_type": "code",
   "execution_count": 42,
   "outputs": [
    {
     "data": {
      "text/plain": "['./joblib_models/knn_gs.sav']"
     },
     "execution_count": 42,
     "metadata": {},
     "output_type": "execute_result"
    }
   ],
   "source": [
    "joblib.dump(knn_gs, './joblib_models/knn_gs.sav')"
   ],
   "metadata": {
    "collapsed": false,
    "pycharm": {
     "name": "#%%\n"
    }
   }
  },
  {
   "cell_type": "code",
   "execution_count": 43,
   "outputs": [],
   "source": [
    "knn1_tune = ModelWithCV(knn_gs.best_estimator_,'knn1_tune', X_simple, y_simple)"
   ],
   "metadata": {
    "collapsed": false,
    "pycharm": {
     "name": "#%%\n"
    }
   }
  },
  {
   "cell_type": "code",
   "execution_count": 44,
   "outputs": [
    {
     "data": {
      "text/plain": "['./joblib_models/knn1_tune.sav']"
     },
     "execution_count": 44,
     "metadata": {},
     "output_type": "execute_result"
    }
   ],
   "source": [
    "joblib.dump(knn1_tune, './joblib_models/knn1_tune.sav')"
   ],
   "metadata": {
    "collapsed": false,
    "pycharm": {
     "name": "#%%\n"
    }
   }
  },
  {
   "cell_type": "code",
   "execution_count": 45,
   "outputs": [
    {
     "name": "stdout",
     "output_type": "stream",
     "text": [
      " \n",
      "  f1_score is 0.2836725855348636 CV Results for `knn1_tune` model:\n",
      "            0.88342 ± 0.00067 accuracy\n",
      "         <sklearn.metrics._plot.confusion_matrix.ConfusionMatrixDisplay object at 0x0000022618F28B80> <sklearn.metrics._plot.roc_curve.RocCurveDisplay object at 0x0000022618F04D30>\n"
     ]
    },
    {
     "data": {
      "text/plain": "<Figure size 432x288 with 1 Axes>",
      "image/png": "[encoded data removed]"
     },
     "metadata": {
      "needs_background": "light"
     },
     "output_type": "display_data"
    },
    {
     "data": {
      "text/plain": "<Figure size 432x288 with 2 Axes>",
      "image/png": "[encoded data removed]"
     },
     "metadata": {
      "needs_background": "light"
     },
     "output_type": "display_data"
    }
   ],
   "source": [
    "knn1_tune.print_summary()"
   ],
   "metadata": {
    "collapsed": false,
    "pycharm": {
     "name": "#%%\n"
    }
   }
  },
  {
   "cell_type": "code",
   "execution_count": 46,
   "outputs": [],
   "source": [
    "### Decision Trees"
   ],
   "metadata": {
    "collapsed": false,
    "pycharm": {
     "name": "#%%\n"
    }
   }
  },
  {
   "cell_type": "code",
   "execution_count": 51,
   "outputs": [],
   "source": [
    "dtree1_params = {\n",
    "    'dtree__criterion' : ['gini', 'entropy'],\n",
    "    'dtree__max_depth' : [5,10,15,20],\n",
    "    'dtree__min_samples_split' : [1000, 10000, 50000]\n",
    "}"
   ],
   "metadata": {
    "collapsed": false,
    "pycharm": {
     "name": "#%%\n"
    }
   }
  },
  {
   "cell_type": "code",
   "execution_count": 52,
   "outputs": [
    {
     "data": {
      "text/plain": "dict_keys(['memory', 'steps', 'verbose', 'ct', 'sm', 'dtree', 'ct__n_jobs', 'ct__remainder', 'ct__sparse_threshold', 'ct__transformer_weights', 'ct__transformers', 'ct__verbose', 'ct__scale', 'ct__scale__memory', 'ct__scale__steps', 'ct__scale__verbose', 'ct__scale__scale_impute', 'ct__scale__scale', 'ct__scale__scale_impute__add_indicator', 'ct__scale__scale_impute__estimator__alpha_1', 'ct__scale__scale_impute__estimator__alpha_2', 'ct__scale__scale_impute__estimator__alpha_init', 'ct__scale__scale_impute__estimator__compute_score', 'ct__scale__scale_impute__estimator__copy_X', 'ct__scale__scale_impute__estimator__fit_intercept', 'ct__scale__scale_impute__estimator__lambda_1', 'ct__scale__scale_impute__estimator__lambda_2', 'ct__scale__scale_impute__estimator__lambda_init', 'ct__scale__scale_impute__estimator__n_iter', 'ct__scale__scale_impute__estimator__normalize', 'ct__scale__scale_impute__estimator__tol', 'ct__scale__scale_impute__estimator__verbose', 'ct__scale__scale_impute__estimator', 'ct__scale__scale_impute__imputation_order', 'ct__scale__scale_impute__initial_strategy', 'ct__scale__scale_impute__max_iter', 'ct__scale__scale_impute__max_value', 'ct__scale__scale_impute__min_value', 'ct__scale__scale_impute__missing_values', 'ct__scale__scale_impute__n_nearest_features', 'ct__scale__scale_impute__random_state', 'ct__scale__scale_impute__sample_posterior', 'ct__scale__scale_impute__skip_complete', 'ct__scale__scale_impute__tol', 'ct__scale__scale_impute__verbose', 'ct__scale__scale__copy', 'ct__scale__scale__with_mean', 'ct__scale__scale__with_std', 'sm__k_neighbors', 'sm__n_jobs', 'sm__random_state', 'sm__sampling_strategy', 'dtree__ccp_alpha', 'dtree__class_weight', 'dtree__criterion', 'dtree__max_depth', 'dtree__max_features', 'dtree__max_leaf_nodes', 'dtree__min_impurity_decrease', 'dtree__min_impurity_split', 'dtree__min_samples_leaf', 'dtree__min_samples_split', 'dtree__min_weight_fraction_leaf', 'dtree__presort', 'dtree__random_state', 'dtree__splitter'])"
     },
     "execution_count": 52,
     "metadata": {},
     "output_type": "execute_result"
    }
   ],
   "source": [
    "dtree1.get_params().keys()"
   ],
   "metadata": {
    "collapsed": false,
    "pycharm": {
     "name": "#%%\n"
    }
   }
  },
  {
   "cell_type": "code",
   "execution_count": 53,
   "outputs": [],
   "source": [
    "dtree1_gs = GridSearchCV(estimator=dtree1, param_grid=dtree1_params, n_jobs=-1).fit(X_simple,y_simple)"
   ],
   "metadata": {
    "collapsed": false,
    "pycharm": {
     "name": "#%%\n"
    }
   }
  },
  {
   "cell_type": "code",
   "execution_count": 54,
   "outputs": [
    {
     "data": {
      "text/plain": "['./joblib_models/dtree1_gs.sav']"
     },
     "execution_count": 54,
     "metadata": {},
     "output_type": "execute_result"
    }
   ],
   "source": [
    "joblib.dump(dtree1_gs, './joblib_models/dtree1_gs.sav')"
   ],
   "metadata": {
    "collapsed": false,
    "pycharm": {
     "name": "#%%\n"
    }
   }
  },
  {
   "cell_type": "code",
   "execution_count": 55,
   "outputs": [
    {
     "name": "stdout",
     "output_type": "stream",
     "text": [
      " \n",
      "  f1_score is 0.0 CV Results for `dtree1_tune` model:\n",
      "            0.91710 ± 0.00001 accuracy\n",
      "         <sklearn.metrics._plot.confusion_matrix.ConfusionMatrixDisplay object at 0x0000022618673D30> <sklearn.metrics._plot.roc_curve.RocCurveDisplay object at 0x00000226175DE7F0>\n"
     ]
    },
    {
     "data": {
      "text/plain": "<Figure size 432x288 with 1 Axes>",
      "image/png": "[encoded data removed]"
     },
     "metadata": {
      "needs_background": "light"
     },
     "output_type": "display_data"
    },
    {
     "data": {
      "text/plain": "<Figure size 432x288 with 2 Axes>",
      "image/png": "[encoded data removed]"
     },
     "metadata": {
      "needs_background": "light"
     },
     "output_type": "display_data"
    }
   ],
   "source": [
    "dtree1_tune = ModelWithCV(dtree1_gs.best_estimator_,'dtree1_tune', X_simple, y_simple)\n",
    "dtree1_tune.print_summary()"
   ],
   "metadata": {
    "collapsed": false,
    "pycharm": {
     "name": "#%%\n"
    }
   }
  },
  {
   "cell_type": "code",
   "execution_count": 56,
   "outputs": [
    {
     "data": {
      "text/plain": "['./joblib_models/dtree1_tune.sav']"
     },
     "execution_count": 56,
     "metadata": {},
     "output_type": "execute_result"
    }
   ],
   "source": [
    "joblib.dump(dtree1_tune, './joblib_models/dtree1_tune.sav')"
   ],
   "metadata": {
    "collapsed": false,
    "pycharm": {
     "name": "#%%\n"
    }
   }
  },
  {
   "cell_type": "markdown",
   "source": [
    "# More data input into models"
   ],
   "metadata": {
    "collapsed": false,
    "pycharm": {
     "name": "#%% md\n"
    }
   }
  },
  {
   "cell_type": "markdown",
   "source": [
    "## Logistic Model 2"
   ],
   "metadata": {
    "collapsed": false,
    "pycharm": {
     "name": "#%% md\n"
    }
   }
  },
  {
   "cell_type": "code",
   "execution_count": 58,
   "outputs": [
    {
     "ename": "KeyboardInterrupt",
     "evalue": "",
     "output_type": "error",
     "traceback": [
      "\u001B[1;31m---------------------------------------------------------------------------\u001B[0m",
      "\u001B[1;31mKeyboardInterrupt\u001B[0m                         Traceback (most recent call last)",
      "\u001B[1;32m<ipython-input-58-e6da74ce75cd>\u001B[0m in \u001B[0;36m<module>\u001B[1;34m\u001B[0m\n\u001B[1;32m----> 1\u001B[1;33m log2 = ImPipeline(steps=[\n\u001B[0m\u001B[0;32m      2\u001B[0m     \u001B[1;33m(\u001B[0m\u001B[1;34m'ct'\u001B[0m\u001B[1;33m,\u001B[0m \u001B[0mct\u001B[0m\u001B[1;33m)\u001B[0m\u001B[1;33m,\u001B[0m\u001B[1;33m\u001B[0m\u001B[1;33m\u001B[0m\u001B[0m\n\u001B[0;32m      3\u001B[0m     \u001B[1;33m(\u001B[0m\u001B[1;34m'sm'\u001B[0m\u001B[1;33m,\u001B[0m \u001B[0mSMOTE\u001B[0m\u001B[1;33m(\u001B[0m\u001B[0msampling_strategy\u001B[0m\u001B[1;33m=\u001B[0m \u001B[1;36m0.25\u001B[0m\u001B[1;33m,\u001B[0m \u001B[0mrandom_state\u001B[0m\u001B[1;33m=\u001B[0m\u001B[1;36m1\u001B[0m\u001B[1;33m)\u001B[0m\u001B[1;33m)\u001B[0m\u001B[1;33m,\u001B[0m\u001B[1;33m\u001B[0m\u001B[1;33m\u001B[0m\u001B[0m\n\u001B[0;32m      4\u001B[0m     \u001B[1;33m(\u001B[0m\u001B[1;34m'log2'\u001B[0m\u001B[1;33m,\u001B[0m\u001B[0mLogisticRegression\u001B[0m\u001B[1;33m(\u001B[0m\u001B[0mrandom_state\u001B[0m\u001B[1;33m=\u001B[0m\u001B[1;36m42\u001B[0m\u001B[1;33m,\u001B[0m \u001B[0mn_jobs\u001B[0m\u001B[1;33m=\u001B[0m \u001B[1;33m-\u001B[0m\u001B[1;36m1\u001B[0m\u001B[1;33m)\u001B[0m\u001B[1;33m)\u001B[0m\u001B[1;33m\u001B[0m\u001B[1;33m\u001B[0m\u001B[0m\n\u001B[0;32m      5\u001B[0m ]).fit(X_train, y_train)\n",
      "\u001B[1;32m~\\anaconda3\\envs\\phase5\\lib\\site-packages\\imblearn\\pipeline.py\u001B[0m in \u001B[0;36mfit\u001B[1;34m(self, X, y, **fit_params)\u001B[0m\n\u001B[0;32m    275\u001B[0m             \u001B[0mThis\u001B[0m \u001B[0mestimator\u001B[0m\u001B[1;33m.\u001B[0m\u001B[1;33m\u001B[0m\u001B[1;33m\u001B[0m\u001B[0m\n\u001B[0;32m    276\u001B[0m         \"\"\"\n\u001B[1;32m--> 277\u001B[1;33m         \u001B[0mXt\u001B[0m\u001B[1;33m,\u001B[0m \u001B[0myt\u001B[0m\u001B[1;33m,\u001B[0m \u001B[0mfit_params\u001B[0m \u001B[1;33m=\u001B[0m \u001B[0mself\u001B[0m\u001B[1;33m.\u001B[0m\u001B[0m_fit\u001B[0m\u001B[1;33m(\u001B[0m\u001B[0mX\u001B[0m\u001B[1;33m,\u001B[0m \u001B[0my\u001B[0m\u001B[1;33m,\u001B[0m \u001B[1;33m**\u001B[0m\u001B[0mfit_params\u001B[0m\u001B[1;33m)\u001B[0m\u001B[1;33m\u001B[0m\u001B[1;33m\u001B[0m\u001B[0m\n\u001B[0m\u001B[0;32m    278\u001B[0m         with _print_elapsed_time('Pipeline',\n\u001B[0;32m    279\u001B[0m                                  self._log_message(len(self.steps) - 1)):\n",
      "\u001B[1;32m~\\anaconda3\\envs\\phase5\\lib\\site-packages\\imblearn\\pipeline.py\u001B[0m in \u001B[0;36m_fit\u001B[1;34m(self, X, y, **fit_params)\u001B[0m\n\u001B[0;32m    227\u001B[0m                 \u001B[0mcloned_transformer\u001B[0m\u001B[1;33m,\u001B[0m \u001B[1;34m\"fit_transform\"\u001B[0m\u001B[1;33m\u001B[0m\u001B[1;33m\u001B[0m\u001B[0m\n\u001B[0;32m    228\u001B[0m             ):\n\u001B[1;32m--> 229\u001B[1;33m                 X, fitted_transformer = fit_transform_one_cached(\n\u001B[0m\u001B[0;32m    230\u001B[0m                     \u001B[0mcloned_transformer\u001B[0m\u001B[1;33m,\u001B[0m \u001B[0mX\u001B[0m\u001B[1;33m,\u001B[0m \u001B[0my\u001B[0m\u001B[1;33m,\u001B[0m \u001B[1;32mNone\u001B[0m\u001B[1;33m,\u001B[0m\u001B[1;33m\u001B[0m\u001B[1;33m\u001B[0m\u001B[0m\n\u001B[0;32m    231\u001B[0m                     \u001B[0mmessage_clsname\u001B[0m\u001B[1;33m=\u001B[0m\u001B[1;34m'Pipeline'\u001B[0m\u001B[1;33m,\u001B[0m\u001B[1;33m\u001B[0m\u001B[1;33m\u001B[0m\u001B[0m\n",
      "\u001B[1;32m~\\anaconda3\\envs\\phase5\\lib\\site-packages\\joblib\\memory.py\u001B[0m in \u001B[0;36m__call__\u001B[1;34m(self, *args, **kwargs)\u001B[0m\n\u001B[0;32m    350\u001B[0m \u001B[1;33m\u001B[0m\u001B[0m\n\u001B[0;32m    351\u001B[0m     \u001B[1;32mdef\u001B[0m \u001B[0m__call__\u001B[0m\u001B[1;33m(\u001B[0m\u001B[0mself\u001B[0m\u001B[1;33m,\u001B[0m \u001B[1;33m*\u001B[0m\u001B[0margs\u001B[0m\u001B[1;33m,\u001B[0m \u001B[1;33m**\u001B[0m\u001B[0mkwargs\u001B[0m\u001B[1;33m)\u001B[0m\u001B[1;33m:\u001B[0m\u001B[1;33m\u001B[0m\u001B[1;33m\u001B[0m\u001B[0m\n\u001B[1;32m--> 352\u001B[1;33m         \u001B[1;32mreturn\u001B[0m \u001B[0mself\u001B[0m\u001B[1;33m.\u001B[0m\u001B[0mfunc\u001B[0m\u001B[1;33m(\u001B[0m\u001B[1;33m*\u001B[0m\u001B[0margs\u001B[0m\u001B[1;33m,\u001B[0m \u001B[1;33m**\u001B[0m\u001B[0mkwargs\u001B[0m\u001B[1;33m)\u001B[0m\u001B[1;33m\u001B[0m\u001B[1;33m\u001B[0m\u001B[0m\n\u001B[0m\u001B[0;32m    353\u001B[0m \u001B[1;33m\u001B[0m\u001B[0m\n\u001B[0;32m    354\u001B[0m     \u001B[1;32mdef\u001B[0m \u001B[0mcall_and_shelve\u001B[0m\u001B[1;33m(\u001B[0m\u001B[0mself\u001B[0m\u001B[1;33m,\u001B[0m \u001B[1;33m*\u001B[0m\u001B[0margs\u001B[0m\u001B[1;33m,\u001B[0m \u001B[1;33m**\u001B[0m\u001B[0mkwargs\u001B[0m\u001B[1;33m)\u001B[0m\u001B[1;33m:\u001B[0m\u001B[1;33m\u001B[0m\u001B[1;33m\u001B[0m\u001B[0m\n",
      "\u001B[1;32m~\\anaconda3\\envs\\phase5\\lib\\site-packages\\sklearn\\pipeline.py\u001B[0m in \u001B[0;36m_fit_transform_one\u001B[1;34m(transformer, X, y, weight, message_clsname, message, **fit_params)\u001B[0m\n\u001B[0;32m    738\u001B[0m     \u001B[1;32mwith\u001B[0m \u001B[0m_print_elapsed_time\u001B[0m\u001B[1;33m(\u001B[0m\u001B[0mmessage_clsname\u001B[0m\u001B[1;33m,\u001B[0m \u001B[0mmessage\u001B[0m\u001B[1;33m)\u001B[0m\u001B[1;33m:\u001B[0m\u001B[1;33m\u001B[0m\u001B[1;33m\u001B[0m\u001B[0m\n\u001B[0;32m    739\u001B[0m         \u001B[1;32mif\u001B[0m \u001B[0mhasattr\u001B[0m\u001B[1;33m(\u001B[0m\u001B[0mtransformer\u001B[0m\u001B[1;33m,\u001B[0m \u001B[1;34m'fit_transform'\u001B[0m\u001B[1;33m)\u001B[0m\u001B[1;33m:\u001B[0m\u001B[1;33m\u001B[0m\u001B[1;33m\u001B[0m\u001B[0m\n\u001B[1;32m--> 740\u001B[1;33m             \u001B[0mres\u001B[0m \u001B[1;33m=\u001B[0m \u001B[0mtransformer\u001B[0m\u001B[1;33m.\u001B[0m\u001B[0mfit_transform\u001B[0m\u001B[1;33m(\u001B[0m\u001B[0mX\u001B[0m\u001B[1;33m,\u001B[0m \u001B[0my\u001B[0m\u001B[1;33m,\u001B[0m \u001B[1;33m**\u001B[0m\u001B[0mfit_params\u001B[0m\u001B[1;33m)\u001B[0m\u001B[1;33m\u001B[0m\u001B[1;33m\u001B[0m\u001B[0m\n\u001B[0m\u001B[0;32m    741\u001B[0m         \u001B[1;32melse\u001B[0m\u001B[1;33m:\u001B[0m\u001B[1;33m\u001B[0m\u001B[1;33m\u001B[0m\u001B[0m\n\u001B[0;32m    742\u001B[0m             \u001B[0mres\u001B[0m \u001B[1;33m=\u001B[0m \u001B[0mtransformer\u001B[0m\u001B[1;33m.\u001B[0m\u001B[0mfit\u001B[0m\u001B[1;33m(\u001B[0m\u001B[0mX\u001B[0m\u001B[1;33m,\u001B[0m \u001B[0my\u001B[0m\u001B[1;33m,\u001B[0m \u001B[1;33m**\u001B[0m\u001B[0mfit_params\u001B[0m\u001B[1;33m)\u001B[0m\u001B[1;33m.\u001B[0m\u001B[0mtransform\u001B[0m\u001B[1;33m(\u001B[0m\u001B[0mX\u001B[0m\u001B[1;33m)\u001B[0m\u001B[1;33m\u001B[0m\u001B[1;33m\u001B[0m\u001B[0m\n",
      "\u001B[1;32m~\\anaconda3\\envs\\phase5\\lib\\site-packages\\sklearn\\compose\\_column_transformer.py\u001B[0m in \u001B[0;36mfit_transform\u001B[1;34m(self, X, y)\u001B[0m\n\u001B[0;32m    529\u001B[0m         \u001B[0mself\u001B[0m\u001B[1;33m.\u001B[0m\u001B[0m_validate_remainder\u001B[0m\u001B[1;33m(\u001B[0m\u001B[0mX\u001B[0m\u001B[1;33m)\u001B[0m\u001B[1;33m\u001B[0m\u001B[1;33m\u001B[0m\u001B[0m\n\u001B[0;32m    530\u001B[0m \u001B[1;33m\u001B[0m\u001B[0m\n\u001B[1;32m--> 531\u001B[1;33m         \u001B[0mresult\u001B[0m \u001B[1;33m=\u001B[0m \u001B[0mself\u001B[0m\u001B[1;33m.\u001B[0m\u001B[0m_fit_transform\u001B[0m\u001B[1;33m(\u001B[0m\u001B[0mX\u001B[0m\u001B[1;33m,\u001B[0m \u001B[0my\u001B[0m\u001B[1;33m,\u001B[0m \u001B[0m_fit_transform_one\u001B[0m\u001B[1;33m)\u001B[0m\u001B[1;33m\u001B[0m\u001B[1;33m\u001B[0m\u001B[0m\n\u001B[0m\u001B[0;32m    532\u001B[0m \u001B[1;33m\u001B[0m\u001B[0m\n\u001B[0;32m    533\u001B[0m         \u001B[1;32mif\u001B[0m \u001B[1;32mnot\u001B[0m \u001B[0mresult\u001B[0m\u001B[1;33m:\u001B[0m\u001B[1;33m\u001B[0m\u001B[1;33m\u001B[0m\u001B[0m\n",
      "\u001B[1;32m~\\anaconda3\\envs\\phase5\\lib\\site-packages\\sklearn\\compose\\_column_transformer.py\u001B[0m in \u001B[0;36m_fit_transform\u001B[1;34m(self, X, y, func, fitted)\u001B[0m\n\u001B[0;32m    456\u001B[0m             self._iter(fitted=fitted, replace_strings=True))\n\u001B[0;32m    457\u001B[0m         \u001B[1;32mtry\u001B[0m\u001B[1;33m:\u001B[0m\u001B[1;33m\u001B[0m\u001B[1;33m\u001B[0m\u001B[0m\n\u001B[1;32m--> 458\u001B[1;33m             return Parallel(n_jobs=self.n_jobs)(\n\u001B[0m\u001B[0;32m    459\u001B[0m                 delayed(func)(\n\u001B[0;32m    460\u001B[0m                     \u001B[0mtransformer\u001B[0m\u001B[1;33m=\u001B[0m\u001B[0mclone\u001B[0m\u001B[1;33m(\u001B[0m\u001B[0mtrans\u001B[0m\u001B[1;33m)\u001B[0m \u001B[1;32mif\u001B[0m \u001B[1;32mnot\u001B[0m \u001B[0mfitted\u001B[0m \u001B[1;32melse\u001B[0m \u001B[0mtrans\u001B[0m\u001B[1;33m,\u001B[0m\u001B[1;33m\u001B[0m\u001B[1;33m\u001B[0m\u001B[0m\n",
      "\u001B[1;32m~\\anaconda3\\envs\\phase5\\lib\\site-packages\\joblib\\parallel.py\u001B[0m in \u001B[0;36m__call__\u001B[1;34m(self, iterable)\u001B[0m\n\u001B[0;32m   1046\u001B[0m             \u001B[1;31m# remaining jobs.\u001B[0m\u001B[1;33m\u001B[0m\u001B[1;33m\u001B[0m\u001B[1;33m\u001B[0m\u001B[0m\n\u001B[0;32m   1047\u001B[0m             \u001B[0mself\u001B[0m\u001B[1;33m.\u001B[0m\u001B[0m_iterating\u001B[0m \u001B[1;33m=\u001B[0m \u001B[1;32mFalse\u001B[0m\u001B[1;33m\u001B[0m\u001B[1;33m\u001B[0m\u001B[0m\n\u001B[1;32m-> 1048\u001B[1;33m             \u001B[1;32mif\u001B[0m \u001B[0mself\u001B[0m\u001B[1;33m.\u001B[0m\u001B[0mdispatch_one_batch\u001B[0m\u001B[1;33m(\u001B[0m\u001B[0miterator\u001B[0m\u001B[1;33m)\u001B[0m\u001B[1;33m:\u001B[0m\u001B[1;33m\u001B[0m\u001B[1;33m\u001B[0m\u001B[0m\n\u001B[0m\u001B[0;32m   1049\u001B[0m                 \u001B[0mself\u001B[0m\u001B[1;33m.\u001B[0m\u001B[0m_iterating\u001B[0m \u001B[1;33m=\u001B[0m \u001B[0mself\u001B[0m\u001B[1;33m.\u001B[0m\u001B[0m_original_iterator\u001B[0m \u001B[1;32mis\u001B[0m \u001B[1;32mnot\u001B[0m \u001B[1;32mNone\u001B[0m\u001B[1;33m\u001B[0m\u001B[1;33m\u001B[0m\u001B[0m\n\u001B[0;32m   1050\u001B[0m \u001B[1;33m\u001B[0m\u001B[0m\n",
      "\u001B[1;32m~\\anaconda3\\envs\\phase5\\lib\\site-packages\\joblib\\parallel.py\u001B[0m in \u001B[0;36mdispatch_one_batch\u001B[1;34m(self, iterator)\u001B[0m\n\u001B[0;32m    864\u001B[0m                 \u001B[1;32mreturn\u001B[0m \u001B[1;32mFalse\u001B[0m\u001B[1;33m\u001B[0m\u001B[1;33m\u001B[0m\u001B[0m\n\u001B[0;32m    865\u001B[0m             \u001B[1;32melse\u001B[0m\u001B[1;33m:\u001B[0m\u001B[1;33m\u001B[0m\u001B[1;33m\u001B[0m\u001B[0m\n\u001B[1;32m--> 866\u001B[1;33m                 \u001B[0mself\u001B[0m\u001B[1;33m.\u001B[0m\u001B[0m_dispatch\u001B[0m\u001B[1;33m(\u001B[0m\u001B[0mtasks\u001B[0m\u001B[1;33m)\u001B[0m\u001B[1;33m\u001B[0m\u001B[1;33m\u001B[0m\u001B[0m\n\u001B[0m\u001B[0;32m    867\u001B[0m                 \u001B[1;32mreturn\u001B[0m \u001B[1;32mTrue\u001B[0m\u001B[1;33m\u001B[0m\u001B[1;33m\u001B[0m\u001B[0m\n\u001B[0;32m    868\u001B[0m \u001B[1;33m\u001B[0m\u001B[0m\n",
      "\u001B[1;32m~\\anaconda3\\envs\\phase5\\lib\\site-packages\\joblib\\parallel.py\u001B[0m in \u001B[0;36m_dispatch\u001B[1;34m(self, batch)\u001B[0m\n\u001B[0;32m    782\u001B[0m         \u001B[1;32mwith\u001B[0m \u001B[0mself\u001B[0m\u001B[1;33m.\u001B[0m\u001B[0m_lock\u001B[0m\u001B[1;33m:\u001B[0m\u001B[1;33m\u001B[0m\u001B[1;33m\u001B[0m\u001B[0m\n\u001B[0;32m    783\u001B[0m             \u001B[0mjob_idx\u001B[0m \u001B[1;33m=\u001B[0m \u001B[0mlen\u001B[0m\u001B[1;33m(\u001B[0m\u001B[0mself\u001B[0m\u001B[1;33m.\u001B[0m\u001B[0m_jobs\u001B[0m\u001B[1;33m)\u001B[0m\u001B[1;33m\u001B[0m\u001B[1;33m\u001B[0m\u001B[0m\n\u001B[1;32m--> 784\u001B[1;33m             \u001B[0mjob\u001B[0m \u001B[1;33m=\u001B[0m \u001B[0mself\u001B[0m\u001B[1;33m.\u001B[0m\u001B[0m_backend\u001B[0m\u001B[1;33m.\u001B[0m\u001B[0mapply_async\u001B[0m\u001B[1;33m(\u001B[0m\u001B[0mbatch\u001B[0m\u001B[1;33m,\u001B[0m \u001B[0mcallback\u001B[0m\u001B[1;33m=\u001B[0m\u001B[0mcb\u001B[0m\u001B[1;33m)\u001B[0m\u001B[1;33m\u001B[0m\u001B[1;33m\u001B[0m\u001B[0m\n\u001B[0m\u001B[0;32m    785\u001B[0m             \u001B[1;31m# A job can complete so quickly than its callback is\u001B[0m\u001B[1;33m\u001B[0m\u001B[1;33m\u001B[0m\u001B[1;33m\u001B[0m\u001B[0m\n\u001B[0;32m    786\u001B[0m             \u001B[1;31m# called before we get here, causing self._jobs to\u001B[0m\u001B[1;33m\u001B[0m\u001B[1;33m\u001B[0m\u001B[1;33m\u001B[0m\u001B[0m\n",
      "\u001B[1;32m~\\anaconda3\\envs\\phase5\\lib\\site-packages\\joblib\\_parallel_backends.py\u001B[0m in \u001B[0;36mapply_async\u001B[1;34m(self, func, callback)\u001B[0m\n\u001B[0;32m    206\u001B[0m     \u001B[1;32mdef\u001B[0m \u001B[0mapply_async\u001B[0m\u001B[1;33m(\u001B[0m\u001B[0mself\u001B[0m\u001B[1;33m,\u001B[0m \u001B[0mfunc\u001B[0m\u001B[1;33m,\u001B[0m \u001B[0mcallback\u001B[0m\u001B[1;33m=\u001B[0m\u001B[1;32mNone\u001B[0m\u001B[1;33m)\u001B[0m\u001B[1;33m:\u001B[0m\u001B[1;33m\u001B[0m\u001B[1;33m\u001B[0m\u001B[0m\n\u001B[0;32m    207\u001B[0m         \u001B[1;34m\"\"\"Schedule a func to be run\"\"\"\u001B[0m\u001B[1;33m\u001B[0m\u001B[1;33m\u001B[0m\u001B[0m\n\u001B[1;32m--> 208\u001B[1;33m         \u001B[0mresult\u001B[0m \u001B[1;33m=\u001B[0m \u001B[0mImmediateResult\u001B[0m\u001B[1;33m(\u001B[0m\u001B[0mfunc\u001B[0m\u001B[1;33m)\u001B[0m\u001B[1;33m\u001B[0m\u001B[1;33m\u001B[0m\u001B[0m\n\u001B[0m\u001B[0;32m    209\u001B[0m         \u001B[1;32mif\u001B[0m \u001B[0mcallback\u001B[0m\u001B[1;33m:\u001B[0m\u001B[1;33m\u001B[0m\u001B[1;33m\u001B[0m\u001B[0m\n\u001B[0;32m    210\u001B[0m             \u001B[0mcallback\u001B[0m\u001B[1;33m(\u001B[0m\u001B[0mresult\u001B[0m\u001B[1;33m)\u001B[0m\u001B[1;33m\u001B[0m\u001B[1;33m\u001B[0m\u001B[0m\n",
      "\u001B[1;32m~\\anaconda3\\envs\\phase5\\lib\\site-packages\\joblib\\_parallel_backends.py\u001B[0m in \u001B[0;36m__init__\u001B[1;34m(self, batch)\u001B[0m\n\u001B[0;32m    570\u001B[0m         \u001B[1;31m# Don't delay the application, to avoid keeping the input\u001B[0m\u001B[1;33m\u001B[0m\u001B[1;33m\u001B[0m\u001B[1;33m\u001B[0m\u001B[0m\n\u001B[0;32m    571\u001B[0m         \u001B[1;31m# arguments in memory\u001B[0m\u001B[1;33m\u001B[0m\u001B[1;33m\u001B[0m\u001B[1;33m\u001B[0m\u001B[0m\n\u001B[1;32m--> 572\u001B[1;33m         \u001B[0mself\u001B[0m\u001B[1;33m.\u001B[0m\u001B[0mresults\u001B[0m \u001B[1;33m=\u001B[0m \u001B[0mbatch\u001B[0m\u001B[1;33m(\u001B[0m\u001B[1;33m)\u001B[0m\u001B[1;33m\u001B[0m\u001B[1;33m\u001B[0m\u001B[0m\n\u001B[0m\u001B[0;32m    573\u001B[0m \u001B[1;33m\u001B[0m\u001B[0m\n\u001B[0;32m    574\u001B[0m     \u001B[1;32mdef\u001B[0m \u001B[0mget\u001B[0m\u001B[1;33m(\u001B[0m\u001B[0mself\u001B[0m\u001B[1;33m)\u001B[0m\u001B[1;33m:\u001B[0m\u001B[1;33m\u001B[0m\u001B[1;33m\u001B[0m\u001B[0m\n",
      "\u001B[1;32m~\\anaconda3\\envs\\phase5\\lib\\site-packages\\joblib\\parallel.py\u001B[0m in \u001B[0;36m__call__\u001B[1;34m(self)\u001B[0m\n\u001B[0;32m    260\u001B[0m         \u001B[1;31m# change the default number of processes to -1\u001B[0m\u001B[1;33m\u001B[0m\u001B[1;33m\u001B[0m\u001B[1;33m\u001B[0m\u001B[0m\n\u001B[0;32m    261\u001B[0m         \u001B[1;32mwith\u001B[0m \u001B[0mparallel_backend\u001B[0m\u001B[1;33m(\u001B[0m\u001B[0mself\u001B[0m\u001B[1;33m.\u001B[0m\u001B[0m_backend\u001B[0m\u001B[1;33m,\u001B[0m \u001B[0mn_jobs\u001B[0m\u001B[1;33m=\u001B[0m\u001B[0mself\u001B[0m\u001B[1;33m.\u001B[0m\u001B[0m_n_jobs\u001B[0m\u001B[1;33m)\u001B[0m\u001B[1;33m:\u001B[0m\u001B[1;33m\u001B[0m\u001B[1;33m\u001B[0m\u001B[0m\n\u001B[1;32m--> 262\u001B[1;33m             return [func(*args, **kwargs)\n\u001B[0m\u001B[0;32m    263\u001B[0m                     for func, args, kwargs in self.items]\n\u001B[0;32m    264\u001B[0m \u001B[1;33m\u001B[0m\u001B[0m\n",
      "\u001B[1;32m~\\anaconda3\\envs\\phase5\\lib\\site-packages\\joblib\\parallel.py\u001B[0m in \u001B[0;36m<listcomp>\u001B[1;34m(.0)\u001B[0m\n\u001B[0;32m    260\u001B[0m         \u001B[1;31m# change the default number of processes to -1\u001B[0m\u001B[1;33m\u001B[0m\u001B[1;33m\u001B[0m\u001B[1;33m\u001B[0m\u001B[0m\n\u001B[0;32m    261\u001B[0m         \u001B[1;32mwith\u001B[0m \u001B[0mparallel_backend\u001B[0m\u001B[1;33m(\u001B[0m\u001B[0mself\u001B[0m\u001B[1;33m.\u001B[0m\u001B[0m_backend\u001B[0m\u001B[1;33m,\u001B[0m \u001B[0mn_jobs\u001B[0m\u001B[1;33m=\u001B[0m\u001B[0mself\u001B[0m\u001B[1;33m.\u001B[0m\u001B[0m_n_jobs\u001B[0m\u001B[1;33m)\u001B[0m\u001B[1;33m:\u001B[0m\u001B[1;33m\u001B[0m\u001B[1;33m\u001B[0m\u001B[0m\n\u001B[1;32m--> 262\u001B[1;33m             return [func(*args, **kwargs)\n\u001B[0m\u001B[0;32m    263\u001B[0m                     for func, args, kwargs in self.items]\n\u001B[0;32m    264\u001B[0m \u001B[1;33m\u001B[0m\u001B[0m\n",
      "\u001B[1;32m~\\anaconda3\\envs\\phase5\\lib\\site-packages\\sklearn\\pipeline.py\u001B[0m in \u001B[0;36m_fit_transform_one\u001B[1;34m(transformer, X, y, weight, message_clsname, message, **fit_params)\u001B[0m\n\u001B[0;32m    738\u001B[0m     \u001B[1;32mwith\u001B[0m \u001B[0m_print_elapsed_time\u001B[0m\u001B[1;33m(\u001B[0m\u001B[0mmessage_clsname\u001B[0m\u001B[1;33m,\u001B[0m \u001B[0mmessage\u001B[0m\u001B[1;33m)\u001B[0m\u001B[1;33m:\u001B[0m\u001B[1;33m\u001B[0m\u001B[1;33m\u001B[0m\u001B[0m\n\u001B[0;32m    739\u001B[0m         \u001B[1;32mif\u001B[0m \u001B[0mhasattr\u001B[0m\u001B[1;33m(\u001B[0m\u001B[0mtransformer\u001B[0m\u001B[1;33m,\u001B[0m \u001B[1;34m'fit_transform'\u001B[0m\u001B[1;33m)\u001B[0m\u001B[1;33m:\u001B[0m\u001B[1;33m\u001B[0m\u001B[1;33m\u001B[0m\u001B[0m\n\u001B[1;32m--> 740\u001B[1;33m             \u001B[0mres\u001B[0m \u001B[1;33m=\u001B[0m \u001B[0mtransformer\u001B[0m\u001B[1;33m.\u001B[0m\u001B[0mfit_transform\u001B[0m\u001B[1;33m(\u001B[0m\u001B[0mX\u001B[0m\u001B[1;33m,\u001B[0m \u001B[0my\u001B[0m\u001B[1;33m,\u001B[0m \u001B[1;33m**\u001B[0m\u001B[0mfit_params\u001B[0m\u001B[1;33m)\u001B[0m\u001B[1;33m\u001B[0m\u001B[1;33m\u001B[0m\u001B[0m\n\u001B[0m\u001B[0;32m    741\u001B[0m         \u001B[1;32melse\u001B[0m\u001B[1;33m:\u001B[0m\u001B[1;33m\u001B[0m\u001B[1;33m\u001B[0m\u001B[0m\n\u001B[0;32m    742\u001B[0m             \u001B[0mres\u001B[0m \u001B[1;33m=\u001B[0m \u001B[0mtransformer\u001B[0m\u001B[1;33m.\u001B[0m\u001B[0mfit\u001B[0m\u001B[1;33m(\u001B[0m\u001B[0mX\u001B[0m\u001B[1;33m,\u001B[0m \u001B[0my\u001B[0m\u001B[1;33m,\u001B[0m \u001B[1;33m**\u001B[0m\u001B[0mfit_params\u001B[0m\u001B[1;33m)\u001B[0m\u001B[1;33m.\u001B[0m\u001B[0mtransform\u001B[0m\u001B[1;33m(\u001B[0m\u001B[0mX\u001B[0m\u001B[1;33m)\u001B[0m\u001B[1;33m\u001B[0m\u001B[1;33m\u001B[0m\u001B[0m\n",
      "\u001B[1;32m~\\anaconda3\\envs\\phase5\\lib\\site-packages\\sklearn\\pipeline.py\u001B[0m in \u001B[0;36mfit_transform\u001B[1;34m(self, X, y, **fit_params)\u001B[0m\n\u001B[0;32m    365\u001B[0m         \"\"\"\n\u001B[0;32m    366\u001B[0m         \u001B[0mfit_params_steps\u001B[0m \u001B[1;33m=\u001B[0m \u001B[0mself\u001B[0m\u001B[1;33m.\u001B[0m\u001B[0m_check_fit_params\u001B[0m\u001B[1;33m(\u001B[0m\u001B[1;33m**\u001B[0m\u001B[0mfit_params\u001B[0m\u001B[1;33m)\u001B[0m\u001B[1;33m\u001B[0m\u001B[1;33m\u001B[0m\u001B[0m\n\u001B[1;32m--> 367\u001B[1;33m         \u001B[0mXt\u001B[0m \u001B[1;33m=\u001B[0m \u001B[0mself\u001B[0m\u001B[1;33m.\u001B[0m\u001B[0m_fit\u001B[0m\u001B[1;33m(\u001B[0m\u001B[0mX\u001B[0m\u001B[1;33m,\u001B[0m \u001B[0my\u001B[0m\u001B[1;33m,\u001B[0m \u001B[1;33m**\u001B[0m\u001B[0mfit_params_steps\u001B[0m\u001B[1;33m)\u001B[0m\u001B[1;33m\u001B[0m\u001B[1;33m\u001B[0m\u001B[0m\n\u001B[0m\u001B[0;32m    368\u001B[0m \u001B[1;33m\u001B[0m\u001B[0m\n\u001B[0;32m    369\u001B[0m         \u001B[0mlast_step\u001B[0m \u001B[1;33m=\u001B[0m \u001B[0mself\u001B[0m\u001B[1;33m.\u001B[0m\u001B[0m_final_estimator\u001B[0m\u001B[1;33m\u001B[0m\u001B[1;33m\u001B[0m\u001B[0m\n",
      "\u001B[1;32m~\\anaconda3\\envs\\phase5\\lib\\site-packages\\sklearn\\pipeline.py\u001B[0m in \u001B[0;36m_fit\u001B[1;34m(self, X, y, **fit_params_steps)\u001B[0m\n\u001B[0;32m    290\u001B[0m                 \u001B[0mcloned_transformer\u001B[0m \u001B[1;33m=\u001B[0m \u001B[0mclone\u001B[0m\u001B[1;33m(\u001B[0m\u001B[0mtransformer\u001B[0m\u001B[1;33m)\u001B[0m\u001B[1;33m\u001B[0m\u001B[1;33m\u001B[0m\u001B[0m\n\u001B[0;32m    291\u001B[0m             \u001B[1;31m# Fit or load from cache the current transformer\u001B[0m\u001B[1;33m\u001B[0m\u001B[1;33m\u001B[0m\u001B[1;33m\u001B[0m\u001B[0m\n\u001B[1;32m--> 292\u001B[1;33m             X, fitted_transformer = fit_transform_one_cached(\n\u001B[0m\u001B[0;32m    293\u001B[0m                 \u001B[0mcloned_transformer\u001B[0m\u001B[1;33m,\u001B[0m \u001B[0mX\u001B[0m\u001B[1;33m,\u001B[0m \u001B[0my\u001B[0m\u001B[1;33m,\u001B[0m \u001B[1;32mNone\u001B[0m\u001B[1;33m,\u001B[0m\u001B[1;33m\u001B[0m\u001B[1;33m\u001B[0m\u001B[0m\n\u001B[0;32m    294\u001B[0m                 \u001B[0mmessage_clsname\u001B[0m\u001B[1;33m=\u001B[0m\u001B[1;34m'Pipeline'\u001B[0m\u001B[1;33m,\u001B[0m\u001B[1;33m\u001B[0m\u001B[1;33m\u001B[0m\u001B[0m\n",
      "\u001B[1;32m~\\anaconda3\\envs\\phase5\\lib\\site-packages\\joblib\\memory.py\u001B[0m in \u001B[0;36m__call__\u001B[1;34m(self, *args, **kwargs)\u001B[0m\n\u001B[0;32m    350\u001B[0m \u001B[1;33m\u001B[0m\u001B[0m\n\u001B[0;32m    351\u001B[0m     \u001B[1;32mdef\u001B[0m \u001B[0m__call__\u001B[0m\u001B[1;33m(\u001B[0m\u001B[0mself\u001B[0m\u001B[1;33m,\u001B[0m \u001B[1;33m*\u001B[0m\u001B[0margs\u001B[0m\u001B[1;33m,\u001B[0m \u001B[1;33m**\u001B[0m\u001B[0mkwargs\u001B[0m\u001B[1;33m)\u001B[0m\u001B[1;33m:\u001B[0m\u001B[1;33m\u001B[0m\u001B[1;33m\u001B[0m\u001B[0m\n\u001B[1;32m--> 352\u001B[1;33m         \u001B[1;32mreturn\u001B[0m \u001B[0mself\u001B[0m\u001B[1;33m.\u001B[0m\u001B[0mfunc\u001B[0m\u001B[1;33m(\u001B[0m\u001B[1;33m*\u001B[0m\u001B[0margs\u001B[0m\u001B[1;33m,\u001B[0m \u001B[1;33m**\u001B[0m\u001B[0mkwargs\u001B[0m\u001B[1;33m)\u001B[0m\u001B[1;33m\u001B[0m\u001B[1;33m\u001B[0m\u001B[0m\n\u001B[0m\u001B[0;32m    353\u001B[0m \u001B[1;33m\u001B[0m\u001B[0m\n\u001B[0;32m    354\u001B[0m     \u001B[1;32mdef\u001B[0m \u001B[0mcall_and_shelve\u001B[0m\u001B[1;33m(\u001B[0m\u001B[0mself\u001B[0m\u001B[1;33m,\u001B[0m \u001B[1;33m*\u001B[0m\u001B[0margs\u001B[0m\u001B[1;33m,\u001B[0m \u001B[1;33m**\u001B[0m\u001B[0mkwargs\u001B[0m\u001B[1;33m)\u001B[0m\u001B[1;33m:\u001B[0m\u001B[1;33m\u001B[0m\u001B[1;33m\u001B[0m\u001B[0m\n",
      "\u001B[1;32m~\\anaconda3\\envs\\phase5\\lib\\site-packages\\sklearn\\pipeline.py\u001B[0m in \u001B[0;36m_fit_transform_one\u001B[1;34m(transformer, X, y, weight, message_clsname, message, **fit_params)\u001B[0m\n\u001B[0;32m    738\u001B[0m     \u001B[1;32mwith\u001B[0m \u001B[0m_print_elapsed_time\u001B[0m\u001B[1;33m(\u001B[0m\u001B[0mmessage_clsname\u001B[0m\u001B[1;33m,\u001B[0m \u001B[0mmessage\u001B[0m\u001B[1;33m)\u001B[0m\u001B[1;33m:\u001B[0m\u001B[1;33m\u001B[0m\u001B[1;33m\u001B[0m\u001B[0m\n\u001B[0;32m    739\u001B[0m         \u001B[1;32mif\u001B[0m \u001B[0mhasattr\u001B[0m\u001B[1;33m(\u001B[0m\u001B[0mtransformer\u001B[0m\u001B[1;33m,\u001B[0m \u001B[1;34m'fit_transform'\u001B[0m\u001B[1;33m)\u001B[0m\u001B[1;33m:\u001B[0m\u001B[1;33m\u001B[0m\u001B[1;33m\u001B[0m\u001B[0m\n\u001B[1;32m--> 740\u001B[1;33m             \u001B[0mres\u001B[0m \u001B[1;33m=\u001B[0m \u001B[0mtransformer\u001B[0m\u001B[1;33m.\u001B[0m\u001B[0mfit_transform\u001B[0m\u001B[1;33m(\u001B[0m\u001B[0mX\u001B[0m\u001B[1;33m,\u001B[0m \u001B[0my\u001B[0m\u001B[1;33m,\u001B[0m \u001B[1;33m**\u001B[0m\u001B[0mfit_params\u001B[0m\u001B[1;33m)\u001B[0m\u001B[1;33m\u001B[0m\u001B[1;33m\u001B[0m\u001B[0m\n\u001B[0m\u001B[0;32m    741\u001B[0m         \u001B[1;32melse\u001B[0m\u001B[1;33m:\u001B[0m\u001B[1;33m\u001B[0m\u001B[1;33m\u001B[0m\u001B[0m\n\u001B[0;32m    742\u001B[0m             \u001B[0mres\u001B[0m \u001B[1;33m=\u001B[0m \u001B[0mtransformer\u001B[0m\u001B[1;33m.\u001B[0m\u001B[0mfit\u001B[0m\u001B[1;33m(\u001B[0m\u001B[0mX\u001B[0m\u001B[1;33m,\u001B[0m \u001B[0my\u001B[0m\u001B[1;33m,\u001B[0m \u001B[1;33m**\u001B[0m\u001B[0mfit_params\u001B[0m\u001B[1;33m)\u001B[0m\u001B[1;33m.\u001B[0m\u001B[0mtransform\u001B[0m\u001B[1;33m(\u001B[0m\u001B[0mX\u001B[0m\u001B[1;33m)\u001B[0m\u001B[1;33m\u001B[0m\u001B[1;33m\u001B[0m\u001B[0m\n",
      "\u001B[1;32m~\\anaconda3\\envs\\phase5\\lib\\site-packages\\sklearn\\impute\\_iterative.py\u001B[0m in \u001B[0;36mfit_transform\u001B[1;34m(self, X, y)\u001B[0m\n\u001B[0;32m    639\u001B[0m                                                                 \u001B[0mfeat_idx\u001B[0m\u001B[1;33m,\u001B[0m\u001B[1;33m\u001B[0m\u001B[1;33m\u001B[0m\u001B[0m\n\u001B[0;32m    640\u001B[0m                                                                 abs_corr_mat)\n\u001B[1;32m--> 641\u001B[1;33m                 Xt, estimator = self._impute_one_feature(\n\u001B[0m\u001B[0;32m    642\u001B[0m                     \u001B[0mXt\u001B[0m\u001B[1;33m,\u001B[0m \u001B[0mmask_missing_values\u001B[0m\u001B[1;33m,\u001B[0m \u001B[0mfeat_idx\u001B[0m\u001B[1;33m,\u001B[0m \u001B[0mneighbor_feat_idx\u001B[0m\u001B[1;33m,\u001B[0m\u001B[1;33m\u001B[0m\u001B[1;33m\u001B[0m\u001B[0m\n\u001B[0;32m    643\u001B[0m                     estimator=None, fit_mode=True)\n",
      "\u001B[1;32m~\\anaconda3\\envs\\phase5\\lib\\site-packages\\sklearn\\impute\\_iterative.py\u001B[0m in \u001B[0;36m_impute_one_feature\u001B[1;34m(self, X_filled, mask_missing_values, feat_idx, neighbor_feat_idx, estimator, fit_mode)\u001B[0m\n\u001B[0;32m    301\u001B[0m             y_train = _safe_indexing(X_filled[:, feat_idx],\n\u001B[0;32m    302\u001B[0m                                      ~missing_row_mask)\n\u001B[1;32m--> 303\u001B[1;33m             \u001B[0mestimator\u001B[0m\u001B[1;33m.\u001B[0m\u001B[0mfit\u001B[0m\u001B[1;33m(\u001B[0m\u001B[0mX_train\u001B[0m\u001B[1;33m,\u001B[0m \u001B[0my_train\u001B[0m\u001B[1;33m)\u001B[0m\u001B[1;33m\u001B[0m\u001B[1;33m\u001B[0m\u001B[0m\n\u001B[0m\u001B[0;32m    304\u001B[0m \u001B[1;33m\u001B[0m\u001B[0m\n\u001B[0;32m    305\u001B[0m         \u001B[1;31m# if no missing values, don't predict\u001B[0m\u001B[1;33m\u001B[0m\u001B[1;33m\u001B[0m\u001B[1;33m\u001B[0m\u001B[0m\n",
      "\u001B[1;32m~\\anaconda3\\envs\\phase5\\lib\\site-packages\\sklearn\\neighbors\\_base.py\u001B[0m in \u001B[0;36mfit\u001B[1;34m(self, X, y)\u001B[0m\n\u001B[0;32m   1155\u001B[0m             \u001B[0mself\u001B[0m\u001B[1;33m.\u001B[0m\u001B[0m_y\u001B[0m \u001B[1;33m=\u001B[0m \u001B[0mself\u001B[0m\u001B[1;33m.\u001B[0m\u001B[0m_y\u001B[0m\u001B[1;33m.\u001B[0m\u001B[0mravel\u001B[0m\u001B[1;33m(\u001B[0m\u001B[1;33m)\u001B[0m\u001B[1;33m\u001B[0m\u001B[1;33m\u001B[0m\u001B[0m\n\u001B[0;32m   1156\u001B[0m \u001B[1;33m\u001B[0m\u001B[0m\n\u001B[1;32m-> 1157\u001B[1;33m         \u001B[1;32mreturn\u001B[0m \u001B[0mself\u001B[0m\u001B[1;33m.\u001B[0m\u001B[0m_fit\u001B[0m\u001B[1;33m(\u001B[0m\u001B[0mX\u001B[0m\u001B[1;33m)\u001B[0m\u001B[1;33m\u001B[0m\u001B[1;33m\u001B[0m\u001B[0m\n\u001B[0m\u001B[0;32m   1158\u001B[0m \u001B[1;33m\u001B[0m\u001B[0m\n\u001B[0;32m   1159\u001B[0m     \u001B[1;32mdef\u001B[0m \u001B[0m_more_tags\u001B[0m\u001B[1;33m(\u001B[0m\u001B[0mself\u001B[0m\u001B[1;33m)\u001B[0m\u001B[1;33m:\u001B[0m\u001B[1;33m\u001B[0m\u001B[1;33m\u001B[0m\u001B[0m\n",
      "\u001B[1;32m~\\anaconda3\\envs\\phase5\\lib\\site-packages\\sklearn\\neighbors\\_base.py\u001B[0m in \u001B[0;36m_fit\u001B[1;34m(self, X)\u001B[0m\n\u001B[0;32m    454\u001B[0m                                   **self.effective_metric_params_)\n\u001B[0;32m    455\u001B[0m         \u001B[1;32melif\u001B[0m \u001B[0mself\u001B[0m\u001B[1;33m.\u001B[0m\u001B[0m_fit_method\u001B[0m \u001B[1;33m==\u001B[0m \u001B[1;34m'kd_tree'\u001B[0m\u001B[1;33m:\u001B[0m\u001B[1;33m\u001B[0m\u001B[1;33m\u001B[0m\u001B[0m\n\u001B[1;32m--> 456\u001B[1;33m             self._tree = KDTree(X, self.leaf_size,\n\u001B[0m\u001B[0;32m    457\u001B[0m                                 \u001B[0mmetric\u001B[0m\u001B[1;33m=\u001B[0m\u001B[0mself\u001B[0m\u001B[1;33m.\u001B[0m\u001B[0meffective_metric_\u001B[0m\u001B[1;33m,\u001B[0m\u001B[1;33m\u001B[0m\u001B[1;33m\u001B[0m\u001B[0m\n\u001B[0;32m    458\u001B[0m                                 **self.effective_metric_params_)\n",
      "\u001B[1;31mKeyboardInterrupt\u001B[0m: "
     ]
    }
   ],
   "source": [
    "log2 = ImPipeline(steps=[\n",
    "    ('ct', ct),\n",
    "    ('sm', SMOTE(sampling_strategy= 0.25, random_state=1)),\n",
    "    ('log2',LogisticRegression(random_state=42, n_jobs= -1))\n",
    "]).fit(X_train, y_train)"
   ],
   "metadata": {
    "collapsed": false,
    "pycharm": {
     "name": "#%%\n"
    }
   }
  },
  {
   "cell_type": "code",
   "execution_count": null,
   "outputs": [],
   "source": [
    "log2_info = ModelWithCV(log1, 'log2', X_train, y_train)"
   ],
   "metadata": {
    "collapsed": false,
    "pycharm": {
     "name": "#%%\n"
    }
   }
  },
  {
   "cell_type": "code",
   "execution_count": null,
   "outputs": [],
   "source": [
    "log2_info.print_summary()"
   ],
   "metadata": {
    "collapsed": false,
    "pycharm": {
     "name": "#%%\n"
    }
   }
  },
  {
   "cell_type": "markdown",
   "source": [
    "## KNN"
   ],
   "metadata": {
    "collapsed": false,
    "pycharm": {
     "name": "#%% md\n"
    }
   }
  },
  {
   "cell_type": "code",
   "execution_count": null,
   "outputs": [],
   "source": [
    "knn2 = ImPipeline(steps=[\n",
    "    ('ct', ct),\n",
    "    ('sm', SMOTE(sampling_strategy= 0.25, random_state=1)),\n",
    "    ('knn2',KNeighborsClassifier())\n",
    "]).fit(X_train, y_train)"
   ],
   "metadata": {
    "collapsed": false,
    "pycharm": {
     "name": "#%%\n"
    }
   }
  },
  {
   "cell_type": "code",
   "execution_count": null,
   "outputs": [],
   "source": [
    "knn2_info = ModelWithCV(knn2, 'knn2', X_train, y_train)"
   ],
   "metadata": {
    "collapsed": false,
    "pycharm": {
     "name": "#%%\n"
    }
   }
  },
  {
   "cell_type": "code",
   "execution_count": null,
   "outputs": [],
   "source": [
    "knn2_info.print_summary()"
   ],
   "metadata": {
    "collapsed": false,
    "pycharm": {
     "name": "#%%\n"
    }
   }
  },
  {
   "cell_type": "markdown",
   "source": [
    "## Decision Tree"
   ],
   "metadata": {
    "collapsed": false,
    "pycharm": {
     "name": "#%% md\n"
    }
   }
  },
  {
   "cell_type": "code",
   "execution_count": null,
   "outputs": [],
   "source": [
    "dtree2 = ImPipeline(steps=[\n",
    "    ('ct', ct),\n",
    "    ('sm', SMOTE(sampling_strategy=0.25, random_state=1)),\n",
    "    ('dtree2', DecisionTreeClassifier(random_state=42) )\n",
    "]).fit(X_train, y_train)"
   ],
   "metadata": {
    "collapsed": false,
    "pycharm": {
     "name": "#%%\n"
    }
   }
  },
  {
   "cell_type": "code",
   "execution_count": null,
   "outputs": [],
   "source": [
    "dtree2_info = ModelWithCV(dtree2, 'dtree2', X_train, y_train)"
   ],
   "metadata": {
    "collapsed": false,
    "pycharm": {
     "name": "#%%\n"
    }
   }
  },
  {
   "cell_type": "code",
   "execution_count": null,
   "outputs": [],
   "source": [
    "dtree2_info.print_summary()"
   ],
   "metadata": {
    "collapsed": false,
    "pycharm": {
     "name": "#%%\n"
    }
   }
  },
  {
   "cell_type": "markdown",
   "source": [
    "## XGBoost"
   ],
   "metadata": {
    "collapsed": false,
    "pycharm": {
     "name": "#%% md\n"
    }
   }
  },
  {
   "cell_type": "code",
   "execution_count": null,
   "outputs": [],
   "source": [
    "xg2 = ImPipeline(steps=[\n",
    "    ('ct', ct),\n",
    "    ('sm', SMOTE(sampling_strategy=0.25, random_state=1)),\n",
    "    ('xg2', XGBClassifier(random_state= 42) )\n",
    "]).fit(X_train, y_train)"
   ],
   "metadata": {
    "collapsed": false,
    "pycharm": {
     "name": "#%%\n"
    }
   }
  },
  {
   "cell_type": "code",
   "execution_count": null,
   "outputs": [],
   "source": [
    "xg2_info = ModelWithCV(xg2, 'xg2', X_train, y_train)"
   ],
   "metadata": {
    "collapsed": false,
    "pycharm": {
     "name": "#%%\n"
    }
   }
  },
  {
   "cell_type": "code",
   "execution_count": null,
   "outputs": [],
   "source": [
    "xg2_info.print_summary()"
   ],
   "metadata": {
    "collapsed": false,
    "pycharm": {
     "name": "#%%\n"
    }
   }
  },
  {
   "cell_type": "code",
   "execution_count": null,
   "outputs": [],
   "source": [],
   "metadata": {
    "collapsed": false,
    "pycharm": {
     "name": "#%%\n"
    }
   }
  },
  {
   "cell_type": "markdown",
   "source": [
    "# Grid search on these"
   ],
   "metadata": {
    "collapsed": false,
    "pycharm": {
     "name": "#%% md\n"
    }
   }
  },
  {
   "cell_type": "code",
   "execution_count": null,
   "outputs": [],
   "source": [
    "log2_params = {\n",
    "    'log2__C' : [10,100,1000],\n",
    "    'log2__max_iter' : [10,20,30],\n",
    "    'log2__penalty' : ['l1', 'l2', 'none']\n",
    "}"
   ],
   "metadata": {
    "collapsed": false,
    "pycharm": {
     "name": "#%%\n"
    }
   }
  },
  {
   "cell_type": "code",
   "execution_count": null,
   "outputs": [],
   "source": [
    "log2_gs = GridSearchCV(estimator=log2, param_grid=log2_params, n_jobs=-1).fit(X_train,y_train)"
   ],
   "metadata": {
    "collapsed": false,
    "pycharm": {
     "name": "#%%\n"
    }
   }
  },
  {
   "cell_type": "code",
   "execution_count": null,
   "outputs": [],
   "source": [
    "joblib.dump(log2_gs, './joblib_models/log2_gs.sav')"
   ],
   "metadata": {
    "collapsed": false,
    "pycharm": {
     "name": "#%%\n"
    }
   }
  },
  {
   "cell_type": "code",
   "execution_count": null,
   "outputs": [],
   "source": [
    "log2_tune = ModelWithCV(log2_gs.best_estimator_,'log2_tune', X_train, y_train)"
   ],
   "metadata": {
    "collapsed": false,
    "pycharm": {
     "name": "#%%\n"
    }
   }
  },
  {
   "cell_type": "code",
   "execution_count": null,
   "outputs": [],
   "source": [
    "joblib.dump(log2_tune, './joblib_models/log2_tune.sav')"
   ],
   "metadata": {
    "collapsed": false,
    "pycharm": {
     "name": "#%%\n"
    }
   }
  },
  {
   "cell_type": "code",
   "execution_count": null,
   "outputs": [],
   "source": [
    "log2_tune.print_summary()"
   ],
   "metadata": {
    "collapsed": false,
    "pycharm": {
     "name": "#%%\n"
    }
   }
  },
  {
   "cell_type": "code",
   "execution_count": null,
   "outputs": [],
   "source": [],
   "metadata": {
    "collapsed": false,
    "pycharm": {
     "name": "#%%\n"
    }
   }
  },
  {
   "cell_type": "markdown",
   "source": [
    "## KNN"
   ],
   "metadata": {
    "collapsed": false,
    "pycharm": {
     "name": "#%% md\n"
    }
   }
  },
  {
   "cell_type": "code",
   "execution_count": null,
   "outputs": [],
   "source": [
    "knn2_params = {\n",
    "    'knn1__n_neighbors': [5,10,20],\n",
    "    'knn1__metric' : ['minkowski', 'euclidean']\n",
    "}"
   ],
   "metadata": {
    "collapsed": false,
    "pycharm": {
     "name": "#%%\n"
    }
   }
  },
  {
   "cell_type": "code",
   "execution_count": null,
   "outputs": [],
   "source": [
    "knn2_gs = GridSearchCV(estimator=knn2, param_grid=knn2_params, n_jobs=-1).fit(X_train,y_train)"
   ],
   "metadata": {
    "collapsed": false,
    "pycharm": {
     "name": "#%%\n"
    }
   }
  },
  {
   "cell_type": "code",
   "execution_count": null,
   "outputs": [],
   "source": [
    "joblib.dump(knn2_gs, './joblib_models/knn2_gs.sav')"
   ],
   "metadata": {
    "collapsed": false,
    "pycharm": {
     "name": "#%%\n"
    }
   }
  },
  {
   "cell_type": "code",
   "execution_count": null,
   "outputs": [],
   "source": [
    "knn2_tune = ModelWithCV(knn2_gs.best_estimator_,'knn2_tune', X_train, y_train)"
   ],
   "metadata": {
    "collapsed": false,
    "pycharm": {
     "name": "#%%\n"
    }
   }
  },
  {
   "cell_type": "code",
   "execution_count": null,
   "outputs": [],
   "source": [
    "joblib.dump(knn2_tune, './joblib_models/knn2_tune.sav')"
   ],
   "metadata": {
    "collapsed": false,
    "pycharm": {
     "name": "#%%\n"
    }
   }
  },
  {
   "cell_type": "code",
   "execution_count": null,
   "outputs": [],
   "source": [
    "knn2_tune.print_summary()"
   ],
   "metadata": {
    "collapsed": false,
    "pycharm": {
     "name": "#%%\n"
    }
   }
  },
  {
   "cell_type": "code",
   "execution_count": null,
   "outputs": [],
   "source": [],
   "metadata": {
    "collapsed": false,
    "pycharm": {
     "name": "#%%\n"
    }
   }
  },
  {
   "cell_type": "markdown",
   "source": [
    "## Decision Tree"
   ],
   "metadata": {
    "collapsed": false,
    "pycharm": {
     "name": "#%% md\n"
    }
   }
  },
  {
   "cell_type": "code",
   "execution_count": null,
   "outputs": [],
   "source": [
    "dtree2_params = {\n",
    "    'dtree2__criterion' : ['gini', 'entropy'],\n",
    "    'dtree2__max_depth' : [2,4,6],\n",
    "    'dtree2__min_samples_split' : [1000, 10000, 50000]\n",
    "}"
   ],
   "metadata": {
    "collapsed": false,
    "pycharm": {
     "name": "#%%\n"
    }
   }
  },
  {
   "cell_type": "code",
   "execution_count": null,
   "outputs": [],
   "source": [
    "dtree2_gs = GridSearchCV(estimator=dtree2, param_grid=dtree2_params, n_jobs=-1).fit(X_train,y_train)"
   ],
   "metadata": {
    "collapsed": false,
    "pycharm": {
     "name": "#%%\n"
    }
   }
  },
  {
   "cell_type": "code",
   "execution_count": null,
   "outputs": [],
   "source": [
    "joblib.dump(dtree2_gs, './joblib_models/dtree2_gs.sav')"
   ],
   "metadata": {
    "collapsed": false,
    "pycharm": {
     "name": "#%%\n"
    }
   }
  },
  {
   "cell_type": "code",
   "execution_count": null,
   "outputs": [],
   "source": [
    "dtree2_tune = ModelWithCV(dtree2_gs.best_estimator_,'dtree2_tune', X_train, y_train)"
   ],
   "metadata": {
    "collapsed": false,
    "pycharm": {
     "name": "#%%\n"
    }
   }
  },
  {
   "cell_type": "code",
   "execution_count": null,
   "outputs": [],
   "source": [
    "joblib.dump(dtree2_tune, './joblib_models/dtree2_tune.sav')"
   ],
   "metadata": {
    "collapsed": false,
    "pycharm": {
     "name": "#%%\n"
    }
   }
  },
  {
   "cell_type": "code",
   "execution_count": null,
   "outputs": [],
   "source": [
    "dtree2_tune.print_summary()"
   ],
   "metadata": {
    "collapsed": false,
    "pycharm": {
     "name": "#%%\n"
    }
   }
  },
  {
   "cell_type": "code",
   "execution_count": null,
   "outputs": [],
   "source": [],
   "metadata": {
    "collapsed": false,
    "pycharm": {
     "name": "#%%\n"
    }
   }
  }
 ],
 "metadata": {
  "kernelspec": {
   "display_name": "Python (phase5)",
   "language": "python",
   "name": "phase5"
  },
  "language_info": {
   "codemirror_mode": {
    "name": "ipython",
    "version": 3
   },
   "file_extension": ".py",
   "mimetype": "text/x-python",
   "name": "python",
   "nbconvert_exporter": "python",
   "pygments_lexer": "ipython3",
   "version": "3.8.5"
  }
 },
 "nbformat": 4,
 "nbformat_minor": 5
}