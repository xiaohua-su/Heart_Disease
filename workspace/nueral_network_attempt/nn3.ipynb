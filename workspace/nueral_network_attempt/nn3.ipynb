{
 "cells": [
  {
   "cell_type": "markdown",
   "metadata": {
    "pycharm": {
     "name": "#%% md\n"
    }
   },
   "source": [
    "# Predicting Heart Disease"
   ]
  },
  {
   "cell_type": "markdown",
   "metadata": {
    "pycharm": {
     "name": "#%% md\n"
    }
   },
   "source": [
    "Image"
   ]
  },
  {
   "cell_type": "markdown",
   "metadata": {
    "pycharm": {
     "name": "#%% md\n"
    }
   },
   "source": [
    "Author: Xiaohua Su\n",
    "\n",
    "Date: May 17th, 2022"
   ]
  },
  {
   "cell_type": "markdown",
   "metadata": {
    "pycharm": {
     "name": "#%% md\n"
    }
   },
   "source": [
    "# Overview"
   ]
  },
  {
   "cell_type": "markdown",
   "metadata": {
    "pycharm": {
     "name": "#%% md\n"
    }
   },
   "source": [
    "As of 2020, heart disease is the leading cause of death in the US, with the disease claiming close to 700,000 that year. It is the leading cause of death regardless of gender and for most race/ethnicity. This disease can lead to early death in individuals, increase medicial visits and a lost of productivity in our economy. As such, it is important to try to address this."
   ]
  },
  {
   "cell_type": "markdown",
   "metadata": {
    "pycharm": {
     "name": "#%% md\n"
    }
   },
   "source": [
    "# Business Problem"
   ]
  },
  {
   "cell_type": "markdown",
   "metadata": {
    "pycharm": {
     "name": "#%% md\n"
    }
   },
   "source": [
    "With how prevalent heart disease is in the nation, it is important for doctors to discuss with their patients about early prevention. In order to do this, doctors would need to know more about a patient’s history in order to diagnose them with having heart disease, potentially requiring blood work in addition. Getting the results from the blood work usually happens after the patient’s is already out of the doctor’s office. Calls will then be made to discuss these results and potential follow up appointments will be made. \n",
    "\n",
    "Our model aims to predict whether a patient, who comes into a doctor’s office/hospital, has heart disease. By being able to predict if the patient has heart disease or not, we can then flag this patient for the doctor electronically. Instead of having to waiting for a phone call for a discussion on, that may not be between the patient and doctor, conversation between the doctor and patient about managing heart disease can begin. This flagging can help start the conversation between the doctor and patient about early prevention steps that can be made and can help lead the doctor in asking certain questions for further verification and testing."
   ]
  },
  {
   "cell_type": "markdown",
   "metadata": {
    "pycharm": {
     "name": "#%% md\n"
    }
   },
   "source": [
    "# Data"
   ]
  },
  {
   "cell_type": "markdown",
   "metadata": {
    "pycharm": {
     "name": "#%% md\n"
    }
   },
   "source": [
    "The data was taken from the [CDC's 2020 Behavorial Risk Factor Surveillance System](https://www.cdc.gov/brfss/annual_data/annual_2020.html) (BRFSS). Due to how large the data is, this data was not uploaded to the github but can be found where the data was taken underneath the data files section.\n",
    "\n",
    "It is a survey data performed between 2020 to 2021 from the CDC to monitor people's health-behavior, chronic health conditions, and use of services to help manage their disease. The data contains information of the individual such as `race` and `gender` that we will not use to avoid these biases in our models. A new column was created as the data does not specifically have a column called heart disease but instead has two two columns called `cvdinfr4` and `cvdcrhd4` that corresponded with whether the individual was ever told/diagnose with having a heart attack and told that they had coronary heart disease. Both questions, get at the issue of heart disease."
   ]
  },
  {
   "cell_type": "markdown",
   "metadata": {
    "pycharm": {
     "name": "#%% md\n"
    }
   },
   "source": [
    "# Imports"
   ]
  },
  {
   "cell_type": "markdown",
   "metadata": {
    "pycharm": {
     "name": "#%% md\n"
    }
   },
   "source": [
    "***The neural network modeling was performed with tensorflow. In order for it to work properly you must have at least tensorflow 2.5 and above. Please use the provided yml file to create the enviroment properly on a windows as it has tensorflow version 2.8.0 within it. Unfortunately, I do not have access to a Mac as such a Mac yml file is not provide. Not only that but there is some known issue with more recent versions of tensorflow with the M1 chips as such I highly recommend running this notebook on a windows or a cloud base service such as google colab.***"
   ]
  },
  {
   "cell_type": "code",
   "execution_count": 68,
   "metadata": {
    "pycharm": {
     "name": "#%%\n"
    }
   },
   "outputs": [],
   "source": [
    "import tensorflow as tf\n",
    "from tensorflow.keras.layers import Dense, Input, Normalization, IntegerLookup, CategoryEncoding\n",
    "from tensorflow.keras import layers\n",
    "import pandas as pd\n",
    "import numpy as np\n",
    "from tensorflow import  keras\n",
    "from sklearn.experimental import enable_iterative_imputer\n",
    "from sklearn.impute import IterativeImputer\n",
    "from sklearn.pipeline import Pipeline\n",
    "from sklearn.neighbors import KNeighborsClassifier\n",
    "from sklearn.ensemble import RandomForestClassifier\n",
    "from sklearn.compose import ColumnTransformer\n",
    "from sklearn.model_selection import train_test_split\n",
    "from sklearn.preprocessing import StandardScaler\n",
    "from sklearn.compose import ColumnTransformer\n",
    "import seaborn as sns\n",
    "import matplotlib.pyplot as plt\n",
    "from sklearn.metrics import confusion_matrix\n",
    "from keras import regularizers\n",
    "from tensorflow.keras.optimizers import Adam\n",
    "from tensorflow.keras.losses import BinaryCrossentropy\n",
    "from tensorflow.keras.metrics import BinaryAccuracy, Precision, Recall, AUC\n",
    "from tensorflow.keras import Model"
   ]
  },
  {
   "cell_type": "code",
   "execution_count": 69,
   "metadata": {
    "pycharm": {
     "name": "#%%\n"
    }
   },
   "outputs": [],
   "source": [
    "seed = 7\n",
    "np.random.seed(seed)"
   ]
  },
  {
   "cell_type": "code",
   "execution_count": 70,
   "metadata": {
    "pycharm": {
     "name": "#%%\n"
    }
   },
   "outputs": [
    {
     "name": "stdout",
     "output_type": "stream",
     "text": [
      "2.8.0\n"
     ]
    }
   ],
   "source": [
    "print(tf.__version__)"
   ]
  },
  {
   "cell_type": "code",
   "execution_count": 71,
   "metadata": {
    "pycharm": {
     "name": "#%%\n"
    }
   },
   "outputs": [],
   "source": [
    "heart = pd.read_csv('./Data/heart_df.csv')"
   ]
  },
  {
   "cell_type": "code",
   "execution_count": 72,
   "metadata": {
    "pycharm": {
     "name": "#%%\n"
    }
   },
   "outputs": [
    {
     "data": {
      "text/html": [
       "<div>\n",
       "<style scoped>\n",
       "    .dataframe tbody tr th:only-of-type {\n",
       "        vertical-align: middle;\n",
       "    }\n",
       "\n",
       "    .dataframe tbody tr th {\n",
       "        vertical-align: top;\n",
       "    }\n",
       "\n",
       "    .dataframe thead th {\n",
       "        text-align: right;\n",
       "    }\n",
       "</style>\n",
       "<table border=\"1\" class=\"dataframe\">\n",
       "  <thead>\n",
       "    <tr style=\"text-align: right;\">\n",
       "      <th></th>\n",
       "      <th>Unnamed: 0</th>\n",
       "      <th>state</th>\n",
       "      <th>general_health</th>\n",
       "      <th>physical_health</th>\n",
       "      <th>mental_health</th>\n",
       "      <th>health_insurance</th>\n",
       "      <th>health_care_doctors</th>\n",
       "      <th>no_doc_bc_cost</th>\n",
       "      <th>last_checkup</th>\n",
       "      <th>excercise_30</th>\n",
       "      <th>...</th>\n",
       "      <th>income_level</th>\n",
       "      <th>weight_kg</th>\n",
       "      <th>height_m</th>\n",
       "      <th>difficulty_walking</th>\n",
       "      <th>smoke100_lifetime</th>\n",
       "      <th>smokeless_tobacco_products</th>\n",
       "      <th>alcohol_consumption_30</th>\n",
       "      <th>high_risk_situations</th>\n",
       "      <th>ecigaret</th>\n",
       "      <th>heart_disease</th>\n",
       "    </tr>\n",
       "  </thead>\n",
       "  <tbody>\n",
       "    <tr>\n",
       "      <th>0</th>\n",
       "      <td>0</td>\n",
       "      <td>1.0</td>\n",
       "      <td>2.0</td>\n",
       "      <td>3.0</td>\n",
       "      <td>30.0</td>\n",
       "      <td>2.0</td>\n",
       "      <td>3.0</td>\n",
       "      <td>1.0</td>\n",
       "      <td>4.0</td>\n",
       "      <td>1.0</td>\n",
       "      <td>...</td>\n",
       "      <td>1.0</td>\n",
       "      <td>48.0</td>\n",
       "      <td>170.0</td>\n",
       "      <td>2.0</td>\n",
       "      <td>1.0</td>\n",
       "      <td>3.0</td>\n",
       "      <td>0.0</td>\n",
       "      <td>2.0</td>\n",
       "      <td>1.0</td>\n",
       "      <td>0.0</td>\n",
       "    </tr>\n",
       "    <tr>\n",
       "      <th>1</th>\n",
       "      <td>1</td>\n",
       "      <td>1.0</td>\n",
       "      <td>3.0</td>\n",
       "      <td>0.0</td>\n",
       "      <td>0.0</td>\n",
       "      <td>1.0</td>\n",
       "      <td>1.0</td>\n",
       "      <td>1.0</td>\n",
       "      <td>1.0</td>\n",
       "      <td>1.0</td>\n",
       "      <td>...</td>\n",
       "      <td>NaN</td>\n",
       "      <td>NaN</td>\n",
       "      <td>163.0</td>\n",
       "      <td>2.0</td>\n",
       "      <td>NaN</td>\n",
       "      <td>NaN</td>\n",
       "      <td>NaN</td>\n",
       "      <td>NaN</td>\n",
       "      <td>NaN</td>\n",
       "      <td>0.0</td>\n",
       "    </tr>\n",
       "    <tr>\n",
       "      <th>2</th>\n",
       "      <td>2</td>\n",
       "      <td>1.0</td>\n",
       "      <td>3.0</td>\n",
       "      <td>0.0</td>\n",
       "      <td>0.0</td>\n",
       "      <td>1.0</td>\n",
       "      <td>1.0</td>\n",
       "      <td>2.0</td>\n",
       "      <td>1.0</td>\n",
       "      <td>1.0</td>\n",
       "      <td>...</td>\n",
       "      <td>7.0</td>\n",
       "      <td>NaN</td>\n",
       "      <td>173.0</td>\n",
       "      <td>2.0</td>\n",
       "      <td>2.0</td>\n",
       "      <td>3.0</td>\n",
       "      <td>0.0</td>\n",
       "      <td>2.0</td>\n",
       "      <td>2.0</td>\n",
       "      <td>0.0</td>\n",
       "    </tr>\n",
       "    <tr>\n",
       "      <th>3</th>\n",
       "      <td>3</td>\n",
       "      <td>1.0</td>\n",
       "      <td>1.0</td>\n",
       "      <td>0.0</td>\n",
       "      <td>0.0</td>\n",
       "      <td>1.0</td>\n",
       "      <td>3.0</td>\n",
       "      <td>2.0</td>\n",
       "      <td>2.0</td>\n",
       "      <td>2.0</td>\n",
       "      <td>...</td>\n",
       "      <td>NaN</td>\n",
       "      <td>NaN</td>\n",
       "      <td>NaN</td>\n",
       "      <td>2.0</td>\n",
       "      <td>2.0</td>\n",
       "      <td>3.0</td>\n",
       "      <td>0.0</td>\n",
       "      <td>2.0</td>\n",
       "      <td>2.0</td>\n",
       "      <td>0.0</td>\n",
       "    </tr>\n",
       "    <tr>\n",
       "      <th>4</th>\n",
       "      <td>4</td>\n",
       "      <td>1.0</td>\n",
       "      <td>2.0</td>\n",
       "      <td>0.0</td>\n",
       "      <td>0.0</td>\n",
       "      <td>1.0</td>\n",
       "      <td>1.0</td>\n",
       "      <td>2.0</td>\n",
       "      <td>1.0</td>\n",
       "      <td>1.0</td>\n",
       "      <td>...</td>\n",
       "      <td>NaN</td>\n",
       "      <td>57.0</td>\n",
       "      <td>168.0</td>\n",
       "      <td>2.0</td>\n",
       "      <td>2.0</td>\n",
       "      <td>3.0</td>\n",
       "      <td>0.0</td>\n",
       "      <td>2.0</td>\n",
       "      <td>2.0</td>\n",
       "      <td>0.0</td>\n",
       "    </tr>\n",
       "    <tr>\n",
       "      <th>...</th>\n",
       "      <td>...</td>\n",
       "      <td>...</td>\n",
       "      <td>...</td>\n",
       "      <td>...</td>\n",
       "      <td>...</td>\n",
       "      <td>...</td>\n",
       "      <td>...</td>\n",
       "      <td>...</td>\n",
       "      <td>...</td>\n",
       "      <td>...</td>\n",
       "      <td>...</td>\n",
       "      <td>...</td>\n",
       "      <td>...</td>\n",
       "      <td>...</td>\n",
       "      <td>...</td>\n",
       "      <td>...</td>\n",
       "      <td>...</td>\n",
       "      <td>...</td>\n",
       "      <td>...</td>\n",
       "      <td>...</td>\n",
       "      <td>...</td>\n",
       "    </tr>\n",
       "    <tr>\n",
       "      <th>397142</th>\n",
       "      <td>401953</td>\n",
       "      <td>72.0</td>\n",
       "      <td>3.0</td>\n",
       "      <td>0.0</td>\n",
       "      <td>0.0</td>\n",
       "      <td>2.0</td>\n",
       "      <td>1.0</td>\n",
       "      <td>2.0</td>\n",
       "      <td>2.0</td>\n",
       "      <td>1.0</td>\n",
       "      <td>...</td>\n",
       "      <td>NaN</td>\n",
       "      <td>55.0</td>\n",
       "      <td>150.0</td>\n",
       "      <td>2.0</td>\n",
       "      <td>2.0</td>\n",
       "      <td>3.0</td>\n",
       "      <td>0.0</td>\n",
       "      <td>2.0</td>\n",
       "      <td>NaN</td>\n",
       "      <td>0.0</td>\n",
       "    </tr>\n",
       "    <tr>\n",
       "      <th>397143</th>\n",
       "      <td>401954</td>\n",
       "      <td>72.0</td>\n",
       "      <td>3.0</td>\n",
       "      <td>0.0</td>\n",
       "      <td>0.0</td>\n",
       "      <td>1.0</td>\n",
       "      <td>1.0</td>\n",
       "      <td>2.0</td>\n",
       "      <td>3.0</td>\n",
       "      <td>2.0</td>\n",
       "      <td>...</td>\n",
       "      <td>4.0</td>\n",
       "      <td>76.0</td>\n",
       "      <td>152.0</td>\n",
       "      <td>2.0</td>\n",
       "      <td>2.0</td>\n",
       "      <td>3.0</td>\n",
       "      <td>0.0</td>\n",
       "      <td>2.0</td>\n",
       "      <td>NaN</td>\n",
       "      <td>0.0</td>\n",
       "    </tr>\n",
       "    <tr>\n",
       "      <th>397144</th>\n",
       "      <td>401955</td>\n",
       "      <td>72.0</td>\n",
       "      <td>3.0</td>\n",
       "      <td>0.0</td>\n",
       "      <td>0.0</td>\n",
       "      <td>1.0</td>\n",
       "      <td>1.0</td>\n",
       "      <td>2.0</td>\n",
       "      <td>2.0</td>\n",
       "      <td>1.0</td>\n",
       "      <td>...</td>\n",
       "      <td>1.0</td>\n",
       "      <td>72.0</td>\n",
       "      <td>124.0</td>\n",
       "      <td>2.0</td>\n",
       "      <td>2.0</td>\n",
       "      <td>3.0</td>\n",
       "      <td>0.0</td>\n",
       "      <td>2.0</td>\n",
       "      <td>NaN</td>\n",
       "      <td>0.0</td>\n",
       "    </tr>\n",
       "    <tr>\n",
       "      <th>397145</th>\n",
       "      <td>401956</td>\n",
       "      <td>72.0</td>\n",
       "      <td>3.0</td>\n",
       "      <td>0.0</td>\n",
       "      <td>0.0</td>\n",
       "      <td>1.0</td>\n",
       "      <td>1.0</td>\n",
       "      <td>2.0</td>\n",
       "      <td>1.0</td>\n",
       "      <td>1.0</td>\n",
       "      <td>...</td>\n",
       "      <td>NaN</td>\n",
       "      <td>80.0</td>\n",
       "      <td>173.0</td>\n",
       "      <td>2.0</td>\n",
       "      <td>7.0</td>\n",
       "      <td>3.0</td>\n",
       "      <td>4.0</td>\n",
       "      <td>2.0</td>\n",
       "      <td>NaN</td>\n",
       "      <td>0.0</td>\n",
       "    </tr>\n",
       "    <tr>\n",
       "      <th>397146</th>\n",
       "      <td>401957</td>\n",
       "      <td>72.0</td>\n",
       "      <td>3.0</td>\n",
       "      <td>2.0</td>\n",
       "      <td>7.0</td>\n",
       "      <td>1.0</td>\n",
       "      <td>1.0</td>\n",
       "      <td>2.0</td>\n",
       "      <td>1.0</td>\n",
       "      <td>2.0</td>\n",
       "      <td>...</td>\n",
       "      <td>5.0</td>\n",
       "      <td>90.0</td>\n",
       "      <td>170.0</td>\n",
       "      <td>2.0</td>\n",
       "      <td>2.0</td>\n",
       "      <td>3.0</td>\n",
       "      <td>0.0</td>\n",
       "      <td>2.0</td>\n",
       "      <td>NaN</td>\n",
       "      <td>0.0</td>\n",
       "    </tr>\n",
       "  </tbody>\n",
       "</table>\n",
       "<p>397147 rows × 33 columns</p>\n",
       "</div>"
      ],
      "text/plain": [
       "        Unnamed: 0  state  general_health  physical_health  mental_health  \\\n",
       "0                0    1.0             2.0              3.0           30.0   \n",
       "1                1    1.0             3.0              0.0            0.0   \n",
       "2                2    1.0             3.0              0.0            0.0   \n",
       "3                3    1.0             1.0              0.0            0.0   \n",
       "4                4    1.0             2.0              0.0            0.0   \n",
       "...            ...    ...             ...              ...            ...   \n",
       "397142      401953   72.0             3.0              0.0            0.0   \n",
       "397143      401954   72.0             3.0              0.0            0.0   \n",
       "397144      401955   72.0             3.0              0.0            0.0   \n",
       "397145      401956   72.0             3.0              0.0            0.0   \n",
       "397146      401957   72.0             3.0              2.0            7.0   \n",
       "\n",
       "        health_insurance  health_care_doctors  no_doc_bc_cost  last_checkup  \\\n",
       "0                    2.0                  3.0             1.0           4.0   \n",
       "1                    1.0                  1.0             1.0           1.0   \n",
       "2                    1.0                  1.0             2.0           1.0   \n",
       "3                    1.0                  3.0             2.0           2.0   \n",
       "4                    1.0                  1.0             2.0           1.0   \n",
       "...                  ...                  ...             ...           ...   \n",
       "397142               2.0                  1.0             2.0           2.0   \n",
       "397143               1.0                  1.0             2.0           3.0   \n",
       "397144               1.0                  1.0             2.0           2.0   \n",
       "397145               1.0                  1.0             2.0           1.0   \n",
       "397146               1.0                  1.0             2.0           1.0   \n",
       "\n",
       "        excercise_30  ...  income_level  weight_kg  height_m  \\\n",
       "0                1.0  ...           1.0       48.0     170.0   \n",
       "1                1.0  ...           NaN        NaN     163.0   \n",
       "2                1.0  ...           7.0        NaN     173.0   \n",
       "3                2.0  ...           NaN        NaN       NaN   \n",
       "4                1.0  ...           NaN       57.0     168.0   \n",
       "...              ...  ...           ...        ...       ...   \n",
       "397142           1.0  ...           NaN       55.0     150.0   \n",
       "397143           2.0  ...           4.0       76.0     152.0   \n",
       "397144           1.0  ...           1.0       72.0     124.0   \n",
       "397145           1.0  ...           NaN       80.0     173.0   \n",
       "397146           2.0  ...           5.0       90.0     170.0   \n",
       "\n",
       "        difficulty_walking  smoke100_lifetime  smokeless_tobacco_products  \\\n",
       "0                      2.0                1.0                         3.0   \n",
       "1                      2.0                NaN                         NaN   \n",
       "2                      2.0                2.0                         3.0   \n",
       "3                      2.0                2.0                         3.0   \n",
       "4                      2.0                2.0                         3.0   \n",
       "...                    ...                ...                         ...   \n",
       "397142                 2.0                2.0                         3.0   \n",
       "397143                 2.0                2.0                         3.0   \n",
       "397144                 2.0                2.0                         3.0   \n",
       "397145                 2.0                7.0                         3.0   \n",
       "397146                 2.0                2.0                         3.0   \n",
       "\n",
       "        alcohol_consumption_30  high_risk_situations  ecigaret  heart_disease  \n",
       "0                          0.0                   2.0       1.0            0.0  \n",
       "1                          NaN                   NaN       NaN            0.0  \n",
       "2                          0.0                   2.0       2.0            0.0  \n",
       "3                          0.0                   2.0       2.0            0.0  \n",
       "4                          0.0                   2.0       2.0            0.0  \n",
       "...                        ...                   ...       ...            ...  \n",
       "397142                     0.0                   2.0       NaN            0.0  \n",
       "397143                     0.0                   2.0       NaN            0.0  \n",
       "397144                     0.0                   2.0       NaN            0.0  \n",
       "397145                     4.0                   2.0       NaN            0.0  \n",
       "397146                     0.0                   2.0       NaN            0.0  \n",
       "\n",
       "[397147 rows x 33 columns]"
      ]
     },
     "execution_count": 72,
     "metadata": {},
     "output_type": "execute_result"
    }
   ],
   "source": [
    "heart"
   ]
  },
  {
   "cell_type": "code",
   "execution_count": 73,
   "metadata": {
    "pycharm": {
     "name": "#%%\n"
    }
   },
   "outputs": [],
   "source": [
    "heart.drop(columns = 'Unnamed: 0', inplace = True)"
   ]
  },
  {
   "cell_type": "code",
   "execution_count": 74,
   "metadata": {
    "pycharm": {
     "name": "#%%\n"
    }
   },
   "outputs": [],
   "source": [
    "heart.drop(columns = ['education_lvl', 'income_level', 'employment_status', 'rent_own', 'health_care_doctors','no_doc_bc_cost', 'smokeless_tobacco_products', 'high_risk_situations', 'ecigaret', 'state'], inplace = True)"
   ]
  },
  {
   "cell_type": "code",
   "execution_count": 75,
   "metadata": {
    "pycharm": {
     "name": "#%%\n"
    }
   },
   "outputs": [
    {
     "data": {
      "text/plain": [
       "general_health            float64\n",
       "physical_health           float64\n",
       "mental_health             float64\n",
       "health_insurance          float64\n",
       "last_checkup              float64\n",
       "excercise_30              float64\n",
       "sleep                     float64\n",
       "stroke                    float64\n",
       "asthma                    float64\n",
       "skin_cancer               float64\n",
       "other_cancer              float64\n",
       "copd_type_issue           float64\n",
       "arthritis_anyform         float64\n",
       "depressive_disorder       float64\n",
       "kidney_disease            float64\n",
       "diabetes                  float64\n",
       "weight_kg                 float64\n",
       "height_m                  float64\n",
       "difficulty_walking        float64\n",
       "smoke100_lifetime         float64\n",
       "alcohol_consumption_30    float64\n",
       "heart_disease             float64\n",
       "dtype: object"
      ]
     },
     "execution_count": 75,
     "metadata": {},
     "output_type": "execute_result"
    }
   ],
   "source": [
    "heart.dtypes"
   ]
  },
  {
   "cell_type": "markdown",
   "metadata": {
    "pycharm": {
     "name": "#%% md\n"
    }
   },
   "source": [
    "# Train-test-validation split"
   ]
  },
  {
   "cell_type": "code",
   "execution_count": 76,
   "metadata": {
    "pycharm": {
     "name": "#%%\n"
    }
   },
   "outputs": [
    {
     "data": {
      "text/html": [
       "<div>\n",
       "<style scoped>\n",
       "    .dataframe tbody tr th:only-of-type {\n",
       "        vertical-align: middle;\n",
       "    }\n",
       "\n",
       "    .dataframe tbody tr th {\n",
       "        vertical-align: top;\n",
       "    }\n",
       "\n",
       "    .dataframe thead th {\n",
       "        text-align: right;\n",
       "    }\n",
       "</style>\n",
       "<table border=\"1\" class=\"dataframe\">\n",
       "  <thead>\n",
       "    <tr style=\"text-align: right;\">\n",
       "      <th></th>\n",
       "      <th>general_health</th>\n",
       "      <th>physical_health</th>\n",
       "      <th>mental_health</th>\n",
       "      <th>health_insurance</th>\n",
       "      <th>last_checkup</th>\n",
       "      <th>excercise_30</th>\n",
       "      <th>sleep</th>\n",
       "      <th>stroke</th>\n",
       "      <th>asthma</th>\n",
       "      <th>skin_cancer</th>\n",
       "      <th>...</th>\n",
       "      <th>arthritis_anyform</th>\n",
       "      <th>depressive_disorder</th>\n",
       "      <th>kidney_disease</th>\n",
       "      <th>diabetes</th>\n",
       "      <th>weight_kg</th>\n",
       "      <th>height_m</th>\n",
       "      <th>difficulty_walking</th>\n",
       "      <th>smoke100_lifetime</th>\n",
       "      <th>alcohol_consumption_30</th>\n",
       "      <th>heart_disease</th>\n",
       "    </tr>\n",
       "  </thead>\n",
       "  <tbody>\n",
       "    <tr>\n",
       "      <th>0</th>\n",
       "      <td>2.0</td>\n",
       "      <td>3.0</td>\n",
       "      <td>30.0</td>\n",
       "      <td>2.0</td>\n",
       "      <td>4.0</td>\n",
       "      <td>1.0</td>\n",
       "      <td>5.0</td>\n",
       "      <td>2.0</td>\n",
       "      <td>1.0</td>\n",
       "      <td>1.0</td>\n",
       "      <td>...</td>\n",
       "      <td>1.0</td>\n",
       "      <td>1.0</td>\n",
       "      <td>2.0</td>\n",
       "      <td>1.0</td>\n",
       "      <td>48.0</td>\n",
       "      <td>170.0</td>\n",
       "      <td>2.0</td>\n",
       "      <td>1.0</td>\n",
       "      <td>0.0</td>\n",
       "      <td>0.0</td>\n",
       "    </tr>\n",
       "    <tr>\n",
       "      <th>1</th>\n",
       "      <td>3.0</td>\n",
       "      <td>0.0</td>\n",
       "      <td>0.0</td>\n",
       "      <td>1.0</td>\n",
       "      <td>1.0</td>\n",
       "      <td>1.0</td>\n",
       "      <td>7.0</td>\n",
       "      <td>2.0</td>\n",
       "      <td>1.0</td>\n",
       "      <td>2.0</td>\n",
       "      <td>...</td>\n",
       "      <td>1.0</td>\n",
       "      <td>1.0</td>\n",
       "      <td>2.0</td>\n",
       "      <td>3.0</td>\n",
       "      <td>NaN</td>\n",
       "      <td>163.0</td>\n",
       "      <td>2.0</td>\n",
       "      <td>NaN</td>\n",
       "      <td>NaN</td>\n",
       "      <td>0.0</td>\n",
       "    </tr>\n",
       "    <tr>\n",
       "      <th>2</th>\n",
       "      <td>3.0</td>\n",
       "      <td>0.0</td>\n",
       "      <td>0.0</td>\n",
       "      <td>1.0</td>\n",
       "      <td>1.0</td>\n",
       "      <td>1.0</td>\n",
       "      <td>7.0</td>\n",
       "      <td>2.0</td>\n",
       "      <td>2.0</td>\n",
       "      <td>2.0</td>\n",
       "      <td>...</td>\n",
       "      <td>1.0</td>\n",
       "      <td>2.0</td>\n",
       "      <td>2.0</td>\n",
       "      <td>3.0</td>\n",
       "      <td>NaN</td>\n",
       "      <td>173.0</td>\n",
       "      <td>2.0</td>\n",
       "      <td>2.0</td>\n",
       "      <td>0.0</td>\n",
       "      <td>0.0</td>\n",
       "    </tr>\n",
       "    <tr>\n",
       "      <th>3</th>\n",
       "      <td>1.0</td>\n",
       "      <td>0.0</td>\n",
       "      <td>0.0</td>\n",
       "      <td>1.0</td>\n",
       "      <td>2.0</td>\n",
       "      <td>2.0</td>\n",
       "      <td>6.0</td>\n",
       "      <td>2.0</td>\n",
       "      <td>2.0</td>\n",
       "      <td>2.0</td>\n",
       "      <td>...</td>\n",
       "      <td>2.0</td>\n",
       "      <td>2.0</td>\n",
       "      <td>2.0</td>\n",
       "      <td>3.0</td>\n",
       "      <td>NaN</td>\n",
       "      <td>NaN</td>\n",
       "      <td>2.0</td>\n",
       "      <td>2.0</td>\n",
       "      <td>0.0</td>\n",
       "      <td>0.0</td>\n",
       "    </tr>\n",
       "    <tr>\n",
       "      <th>4</th>\n",
       "      <td>2.0</td>\n",
       "      <td>0.0</td>\n",
       "      <td>0.0</td>\n",
       "      <td>1.0</td>\n",
       "      <td>1.0</td>\n",
       "      <td>1.0</td>\n",
       "      <td>7.0</td>\n",
       "      <td>1.0</td>\n",
       "      <td>2.0</td>\n",
       "      <td>2.0</td>\n",
       "      <td>...</td>\n",
       "      <td>2.0</td>\n",
       "      <td>2.0</td>\n",
       "      <td>2.0</td>\n",
       "      <td>3.0</td>\n",
       "      <td>57.0</td>\n",
       "      <td>168.0</td>\n",
       "      <td>2.0</td>\n",
       "      <td>2.0</td>\n",
       "      <td>0.0</td>\n",
       "      <td>0.0</td>\n",
       "    </tr>\n",
       "    <tr>\n",
       "      <th>...</th>\n",
       "      <td>...</td>\n",
       "      <td>...</td>\n",
       "      <td>...</td>\n",
       "      <td>...</td>\n",
       "      <td>...</td>\n",
       "      <td>...</td>\n",
       "      <td>...</td>\n",
       "      <td>...</td>\n",
       "      <td>...</td>\n",
       "      <td>...</td>\n",
       "      <td>...</td>\n",
       "      <td>...</td>\n",
       "      <td>...</td>\n",
       "      <td>...</td>\n",
       "      <td>...</td>\n",
       "      <td>...</td>\n",
       "      <td>...</td>\n",
       "      <td>...</td>\n",
       "      <td>...</td>\n",
       "      <td>...</td>\n",
       "      <td>...</td>\n",
       "    </tr>\n",
       "    <tr>\n",
       "      <th>397142</th>\n",
       "      <td>3.0</td>\n",
       "      <td>0.0</td>\n",
       "      <td>0.0</td>\n",
       "      <td>2.0</td>\n",
       "      <td>2.0</td>\n",
       "      <td>1.0</td>\n",
       "      <td>6.0</td>\n",
       "      <td>2.0</td>\n",
       "      <td>2.0</td>\n",
       "      <td>2.0</td>\n",
       "      <td>...</td>\n",
       "      <td>2.0</td>\n",
       "      <td>1.0</td>\n",
       "      <td>2.0</td>\n",
       "      <td>3.0</td>\n",
       "      <td>55.0</td>\n",
       "      <td>150.0</td>\n",
       "      <td>2.0</td>\n",
       "      <td>2.0</td>\n",
       "      <td>0.0</td>\n",
       "      <td>0.0</td>\n",
       "    </tr>\n",
       "    <tr>\n",
       "      <th>397143</th>\n",
       "      <td>3.0</td>\n",
       "      <td>0.0</td>\n",
       "      <td>0.0</td>\n",
       "      <td>1.0</td>\n",
       "      <td>3.0</td>\n",
       "      <td>2.0</td>\n",
       "      <td>12.0</td>\n",
       "      <td>2.0</td>\n",
       "      <td>2.0</td>\n",
       "      <td>2.0</td>\n",
       "      <td>...</td>\n",
       "      <td>2.0</td>\n",
       "      <td>2.0</td>\n",
       "      <td>2.0</td>\n",
       "      <td>3.0</td>\n",
       "      <td>76.0</td>\n",
       "      <td>152.0</td>\n",
       "      <td>2.0</td>\n",
       "      <td>2.0</td>\n",
       "      <td>0.0</td>\n",
       "      <td>0.0</td>\n",
       "    </tr>\n",
       "    <tr>\n",
       "      <th>397144</th>\n",
       "      <td>3.0</td>\n",
       "      <td>0.0</td>\n",
       "      <td>0.0</td>\n",
       "      <td>1.0</td>\n",
       "      <td>2.0</td>\n",
       "      <td>1.0</td>\n",
       "      <td>8.0</td>\n",
       "      <td>2.0</td>\n",
       "      <td>2.0</td>\n",
       "      <td>2.0</td>\n",
       "      <td>...</td>\n",
       "      <td>2.0</td>\n",
       "      <td>2.0</td>\n",
       "      <td>2.0</td>\n",
       "      <td>3.0</td>\n",
       "      <td>72.0</td>\n",
       "      <td>124.0</td>\n",
       "      <td>2.0</td>\n",
       "      <td>2.0</td>\n",
       "      <td>0.0</td>\n",
       "      <td>0.0</td>\n",
       "    </tr>\n",
       "    <tr>\n",
       "      <th>397145</th>\n",
       "      <td>3.0</td>\n",
       "      <td>0.0</td>\n",
       "      <td>0.0</td>\n",
       "      <td>1.0</td>\n",
       "      <td>1.0</td>\n",
       "      <td>1.0</td>\n",
       "      <td>6.0</td>\n",
       "      <td>2.0</td>\n",
       "      <td>2.0</td>\n",
       "      <td>2.0</td>\n",
       "      <td>...</td>\n",
       "      <td>2.0</td>\n",
       "      <td>2.0</td>\n",
       "      <td>2.0</td>\n",
       "      <td>3.0</td>\n",
       "      <td>80.0</td>\n",
       "      <td>173.0</td>\n",
       "      <td>2.0</td>\n",
       "      <td>7.0</td>\n",
       "      <td>4.0</td>\n",
       "      <td>0.0</td>\n",
       "    </tr>\n",
       "    <tr>\n",
       "      <th>397146</th>\n",
       "      <td>3.0</td>\n",
       "      <td>2.0</td>\n",
       "      <td>7.0</td>\n",
       "      <td>1.0</td>\n",
       "      <td>1.0</td>\n",
       "      <td>2.0</td>\n",
       "      <td>6.0</td>\n",
       "      <td>1.0</td>\n",
       "      <td>1.0</td>\n",
       "      <td>2.0</td>\n",
       "      <td>...</td>\n",
       "      <td>2.0</td>\n",
       "      <td>1.0</td>\n",
       "      <td>NaN</td>\n",
       "      <td>4.0</td>\n",
       "      <td>90.0</td>\n",
       "      <td>170.0</td>\n",
       "      <td>2.0</td>\n",
       "      <td>2.0</td>\n",
       "      <td>0.0</td>\n",
       "      <td>0.0</td>\n",
       "    </tr>\n",
       "  </tbody>\n",
       "</table>\n",
       "<p>397147 rows × 22 columns</p>\n",
       "</div>"
      ],
      "text/plain": [
       "        general_health  physical_health  mental_health  health_insurance  \\\n",
       "0                  2.0              3.0           30.0               2.0   \n",
       "1                  3.0              0.0            0.0               1.0   \n",
       "2                  3.0              0.0            0.0               1.0   \n",
       "3                  1.0              0.0            0.0               1.0   \n",
       "4                  2.0              0.0            0.0               1.0   \n",
       "...                ...              ...            ...               ...   \n",
       "397142             3.0              0.0            0.0               2.0   \n",
       "397143             3.0              0.0            0.0               1.0   \n",
       "397144             3.0              0.0            0.0               1.0   \n",
       "397145             3.0              0.0            0.0               1.0   \n",
       "397146             3.0              2.0            7.0               1.0   \n",
       "\n",
       "        last_checkup  excercise_30  sleep  stroke  asthma  skin_cancer  ...  \\\n",
       "0                4.0           1.0    5.0     2.0     1.0          1.0  ...   \n",
       "1                1.0           1.0    7.0     2.0     1.0          2.0  ...   \n",
       "2                1.0           1.0    7.0     2.0     2.0          2.0  ...   \n",
       "3                2.0           2.0    6.0     2.0     2.0          2.0  ...   \n",
       "4                1.0           1.0    7.0     1.0     2.0          2.0  ...   \n",
       "...              ...           ...    ...     ...     ...          ...  ...   \n",
       "397142           2.0           1.0    6.0     2.0     2.0          2.0  ...   \n",
       "397143           3.0           2.0   12.0     2.0     2.0          2.0  ...   \n",
       "397144           2.0           1.0    8.0     2.0     2.0          2.0  ...   \n",
       "397145           1.0           1.0    6.0     2.0     2.0          2.0  ...   \n",
       "397146           1.0           2.0    6.0     1.0     1.0          2.0  ...   \n",
       "\n",
       "        arthritis_anyform  depressive_disorder  kidney_disease  diabetes  \\\n",
       "0                     1.0                  1.0             2.0       1.0   \n",
       "1                     1.0                  1.0             2.0       3.0   \n",
       "2                     1.0                  2.0             2.0       3.0   \n",
       "3                     2.0                  2.0             2.0       3.0   \n",
       "4                     2.0                  2.0             2.0       3.0   \n",
       "...                   ...                  ...             ...       ...   \n",
       "397142                2.0                  1.0             2.0       3.0   \n",
       "397143                2.0                  2.0             2.0       3.0   \n",
       "397144                2.0                  2.0             2.0       3.0   \n",
       "397145                2.0                  2.0             2.0       3.0   \n",
       "397146                2.0                  1.0             NaN       4.0   \n",
       "\n",
       "        weight_kg  height_m  difficulty_walking  smoke100_lifetime  \\\n",
       "0            48.0     170.0                 2.0                1.0   \n",
       "1             NaN     163.0                 2.0                NaN   \n",
       "2             NaN     173.0                 2.0                2.0   \n",
       "3             NaN       NaN                 2.0                2.0   \n",
       "4            57.0     168.0                 2.0                2.0   \n",
       "...           ...       ...                 ...                ...   \n",
       "397142       55.0     150.0                 2.0                2.0   \n",
       "397143       76.0     152.0                 2.0                2.0   \n",
       "397144       72.0     124.0                 2.0                2.0   \n",
       "397145       80.0     173.0                 2.0                7.0   \n",
       "397146       90.0     170.0                 2.0                2.0   \n",
       "\n",
       "        alcohol_consumption_30  heart_disease  \n",
       "0                          0.0            0.0  \n",
       "1                          NaN            0.0  \n",
       "2                          0.0            0.0  \n",
       "3                          0.0            0.0  \n",
       "4                          0.0            0.0  \n",
       "...                        ...            ...  \n",
       "397142                     0.0            0.0  \n",
       "397143                     0.0            0.0  \n",
       "397144                     0.0            0.0  \n",
       "397145                     4.0            0.0  \n",
       "397146                     0.0            0.0  \n",
       "\n",
       "[397147 rows x 22 columns]"
      ]
     },
     "execution_count": 76,
     "metadata": {},
     "output_type": "execute_result"
    }
   ],
   "source": [
    "heart"
   ]
  },
  {
   "cell_type": "code",
   "execution_count": 77,
   "metadata": {
    "pycharm": {
     "name": "#%%\n"
    }
   },
   "outputs": [],
   "source": [
    "heart.fillna(0, inplace = True)"
   ]
  },
  {
   "cell_type": "markdown",
   "metadata": {
    "pycharm": {
     "name": "#%% md\n"
    }
   },
   "source": [
    "# Preprocessing"
   ]
  },
  {
   "cell_type": "code",
   "execution_count": 78,
   "metadata": {
    "pycharm": {
     "name": "#%%\n"
    }
   },
   "outputs": [],
   "source": [
    "train, val, test = np.split(heart.sample(frac=1), [int(0.6*len(heart)), int(0.8*len(heart))])"
   ]
  },
  {
   "cell_type": "code",
   "execution_count": 79,
   "metadata": {
    "pycharm": {
     "name": "#%%\n"
    }
   },
   "outputs": [
    {
     "name": "stdout",
     "output_type": "stream",
     "text": [
      "238288 training examples\n",
      "79429 validation examples\n",
      "79430 test examples\n"
     ]
    }
   ],
   "source": [
    "print(len(train), 'training examples')\n",
    "print(len(val), 'validation examples')\n",
    "print(len(test), 'test examples')"
   ]
  },
  {
   "cell_type": "code",
   "execution_count": 80,
   "metadata": {
    "pycharm": {
     "name": "#%%\n"
    }
   },
   "outputs": [
    {
     "name": "stdout",
     "output_type": "stream",
     "text": [
      "Examples:\n",
      "    Total: 397147\n",
      "    Positive: 32923 (8.29% of total)\n",
      "\n"
     ]
    }
   ],
   "source": [
    "neg, pos = np.bincount(heart['heart_disease'])\n",
    "total = neg + pos\n",
    "print('Examples:\\n    Total: {}\\n    Positive: {} ({:.2f}% of total)\\n'.format(\n",
    "    total, pos, 100 * pos / total))"
   ]
  },
  {
   "cell_type": "code",
   "execution_count": 81,
   "metadata": {
    "pycharm": {
     "name": "#%%\n"
    }
   },
   "outputs": [],
   "source": [
    "# Form np arrays of labels and features.\n",
    "train_labels = np.array(train.pop('heart_disease'))\n",
    "bool_train_labels = train_labels != 0\n",
    "val_labels = np.array(val.pop('heart_disease'))\n",
    "test_labels = np.array(test.pop('heart_disease'))"
   ]
  },
  {
   "cell_type": "code",
   "execution_count": 82,
   "metadata": {
    "pycharm": {
     "name": "#%%\n"
    }
   },
   "outputs": [
    {
     "name": "stdout",
     "output_type": "stream",
     "text": [
      "Training labels shape: (238288,)\n",
      "Validation labels shape: (79429,)\n",
      "Test labels shape: (79430,)\n",
      "Training features shape: (238288, 21)\n",
      "Validation features shape: (79429, 21)\n",
      "Test features shape: (79430, 21)\n"
     ]
    }
   ],
   "source": [
    "# for analysis only not actually scaling data yet\n",
    "scaler = StandardScaler()\n",
    "train_features = scaler.fit_transform(train)\n",
    "\n",
    "val_features = scaler.transform(val)\n",
    "test_features = scaler.transform(test)\n",
    "\n",
    "train_features = np.clip(train, -5, 5)\n",
    "val_features = np.clip(val, -5, 5)\n",
    "test_features = np.clip(test, -5, 5)\n",
    "\n",
    "\n",
    "print('Training labels shape:', train_labels.shape)\n",
    "print('Validation labels shape:', val_labels.shape)\n",
    "print('Test labels shape:', test_labels.shape)\n",
    "\n",
    "print('Training features shape:', train_features.shape)\n",
    "print('Validation features shape:', val_features.shape)\n",
    "print('Test features shape:', test_features.shape)"
   ]
  },
  {
   "cell_type": "code",
   "execution_count": 83,
   "metadata": {
    "pycharm": {
     "name": "#%%\n"
    }
   },
   "outputs": [
    {
     "data": {
      "image/png": "[encoded data removed]",
      "text/plain": [
       "<Figure size 432x432 with 3 Axes>"
      ]
     },
     "metadata": {
      "needs_background": "light"
     },
     "output_type": "display_data"
    },
    {
     "data": {
      "image/png": "[encoded data removed]",
      "text/plain": [
       "<Figure size 432x432 with 3 Axes>"
      ]
     },
     "metadata": {
      "needs_background": "light"
     },
     "output_type": "display_data"
    }
   ],
   "source": [
    "pos_df = pd.DataFrame(train[ bool_train_labels], columns=train.columns)\n",
    "neg_df = pd.DataFrame(train[~bool_train_labels], columns=train.columns)\n",
    "\n",
    "sns.jointplot(x=pos_df['weight_kg'], y=pos_df['height_m'],\n",
    "              kind='hex', xlim=(-5,5), ylim=(-5,5))\n",
    "plt.suptitle(\"Positive distribution\")\n",
    "\n",
    "sns.jointplot(x=neg_df['weight_kg'], y=neg_df['weight_kg'],\n",
    "              kind='hex', xlim=(-5,5), ylim=(-5,5))\n",
    "_ = plt.suptitle(\"Negative distribution\")"
   ]
  },
  {
   "cell_type": "code",
   "execution_count": 84,
   "metadata": {
    "pycharm": {
     "name": "#%%\n"
    }
   },
   "outputs": [],
   "source": [
    "target = heart.pop('heart_disease')"
   ]
  },
  {
   "cell_type": "markdown",
   "metadata": {
    "pycharm": {
     "name": "#%% md\n"
    }
   },
   "source": [
    "# Column Transformer for imputation"
   ]
  },
  {
   "cell_type": "code",
   "execution_count": 85,
   "metadata": {
    "pycharm": {
     "name": "#%%\n"
    }
   },
   "outputs": [],
   "source": [
    "from get_features import *"
   ]
  },
  {
   "cell_type": "code",
   "execution_count": 86,
   "metadata": {
    "pycharm": {
     "name": "#%%\n"
    }
   },
   "outputs": [],
   "source": [
    "#creating list of columns names that needs to be either scaled or OHE\n",
    "continous = ['physical_health', 'mental_health', 'last_checkup' , 'excercise_30', 'sleep', 'weight_kg',\n",
    "             'height_m', 'alcohol_consumption_30']\n",
    "\n",
    "categorical = list(heart.columns.drop(continous))"
   ]
  },
  {
   "cell_type": "code",
   "execution_count": 87,
   "metadata": {
    "pycharm": {
     "name": "#%%\n"
    }
   },
   "outputs": [],
   "source": [
    "# cat_pipe = Pipeline(steps=[('cat_impute', IterativeImputer(estimator = RandomForestClassifier(),\\\n",
    "#                                                            random_state=42, max_iter = 5))])\n",
    "# scale_pipe = Pipeline(steps=[('scale_impute', IterativeImputer(random_state=42))])"
   ]
  },
  {
   "cell_type": "code",
   "execution_count": 88,
   "metadata": {
    "pycharm": {
     "name": "#%%\n"
    }
   },
   "outputs": [],
   "source": [
    "# ct = ColumnTransformer(transformers=[('scale', scale_pipe, continous), ('cat', cat_pipe, categorical)]).fit(train)"
   ]
  },
  {
   "cell_type": "code",
   "execution_count": 89,
   "metadata": {
    "pycharm": {
     "name": "#%%\n"
    }
   },
   "outputs": [],
   "source": [
    "# def df_imputation_transformer(dataframe):\n",
    "#     dataframe= ct.transform(dataframe)\n",
    "#     dataframe = pd.DataFrame(dataframe, columns=get_feature_names(ct))\n",
    "#     dataframe.columns = [name.strip().replace(\"cat__\",'').replace(\"scale__\", '') for name in dataframe.columns]\n",
    "#     return dataframe"
   ]
  },
  {
   "cell_type": "code",
   "execution_count": 90,
   "metadata": {
    "scrolled": true,
    "pycharm": {
     "name": "#%%\n"
    }
   },
   "outputs": [],
   "source": [
    "# train = df_imputation_transformer(train)\n",
    "# val = df_imputation_transformer(val)\n",
    "# test = df_imputation_transformer(test)"
   ]
  },
  {
   "cell_type": "code",
   "execution_count": 91,
   "metadata": {
    "pycharm": {
     "name": "#%%\n"
    }
   },
   "outputs": [
    {
     "name": "stdout",
     "output_type": "stream",
     "text": [
      "<class 'pandas.core.frame.DataFrame'>\n",
      "Int64Index: 238288 entries, 144957 to 321048\n",
      "Data columns (total 21 columns):\n",
      " #   Column                  Non-Null Count   Dtype  \n",
      "---  ------                  --------------   -----  \n",
      " 0   general_health          238288 non-null  float64\n",
      " 1   physical_health         238288 non-null  float64\n",
      " 2   mental_health           238288 non-null  float64\n",
      " 3   health_insurance        238288 non-null  float64\n",
      " 4   last_checkup            238288 non-null  float64\n",
      " 5   excercise_30            238288 non-null  float64\n",
      " 6   sleep                   238288 non-null  float64\n",
      " 7   stroke                  238288 non-null  float64\n",
      " 8   asthma                  238288 non-null  float64\n",
      " 9   skin_cancer             238288 non-null  float64\n",
      " 10  other_cancer            238288 non-null  float64\n",
      " 11  copd_type_issue         238288 non-null  float64\n",
      " 12  arthritis_anyform       238288 non-null  float64\n",
      " 13  depressive_disorder     238288 non-null  float64\n",
      " 14  kidney_disease          238288 non-null  float64\n",
      " 15  diabetes                238288 non-null  float64\n",
      " 16  weight_kg               238288 non-null  float64\n",
      " 17  height_m                238288 non-null  float64\n",
      " 18  difficulty_walking      238288 non-null  float64\n",
      " 19  smoke100_lifetime       238288 non-null  float64\n",
      " 20  alcohol_consumption_30  238288 non-null  float64\n",
      "dtypes: float64(21)\n",
      "memory usage: 40.0 MB\n"
     ]
    }
   ],
   "source": [
    "train.info()"
   ]
  },
  {
   "cell_type": "code",
   "execution_count": 92,
   "metadata": {
    "pycharm": {
     "name": "#%%\n"
    }
   },
   "outputs": [
    {
     "data": {
      "text/plain": [
       "0"
      ]
     },
     "execution_count": 92,
     "metadata": {},
     "output_type": "execute_result"
    }
   ],
   "source": [
    "train.isna().sum().sum()"
   ]
  },
  {
   "cell_type": "markdown",
   "metadata": {
    "pycharm": {
     "name": "#%% md\n"
    }
   },
   "source": [
    "# Pipeline Building"
   ]
  },
  {
   "cell_type": "code",
   "execution_count": 93,
   "metadata": {
    "pycharm": {
     "name": "#%%\n"
    }
   },
   "outputs": [],
   "source": [
    "# help to making input pipeline\n",
    "def df_to_dataset(dataframe, shuffle=True, batch_size=200):\n",
    "    df = heart.copy()\n",
    "    labels = target\n",
    "    df = {key: value[:,tf.newaxis] for key, value in heart.items()}\n",
    "    ds = tf.data.Dataset.from_tensor_slices((dict(df), labels))\n",
    "    if shuffle:\n",
    "        ds = ds.shuffle(buffer_size=len(heart))\n",
    "    ds = ds.batch(batch_size)\n",
    "    ds = ds.prefetch(batch_size)\n",
    "    return ds"
   ]
  },
  {
   "cell_type": "code",
   "execution_count": 94,
   "metadata": {
    "pycharm": {
     "name": "#%%\n"
    }
   },
   "outputs": [
    {
     "name": "stderr",
     "output_type": "stream",
     "text": [
      "<ipython-input-93-c3c3fb396465>:5: FutureWarning: Support for multi-dimensional indexing (e.g. `obj[:, None]`) is deprecated and will be removed in a future version.  Convert to a numpy array before indexing instead.\n",
      "  df = {key: value[:,tf.newaxis] for key, value in heart.items()}\n"
     ]
    }
   ],
   "source": [
    "batch_size = 20\n",
    "train_ds = df_to_dataset(train, batch_size=batch_size)"
   ]
  },
  {
   "cell_type": "code",
   "execution_count": 95,
   "metadata": {
    "pycharm": {
     "name": "#%%\n"
    }
   },
   "outputs": [
    {
     "name": "stdout",
     "output_type": "stream",
     "text": [
      "Every feature: ['general_health', 'physical_health', 'mental_health', 'health_insurance', 'last_checkup', 'excercise_30', 'sleep', 'stroke', 'asthma', 'skin_cancer', 'other_cancer', 'copd_type_issue', 'arthritis_anyform', 'depressive_disorder', 'kidney_disease', 'diabetes', 'weight_kg', 'height_m', 'difficulty_walking', 'smoke100_lifetime', 'alcohol_consumption_30']\n",
      "A batch of sleep: tf.Tensor(\n",
      "[[ 6.]\n",
      " [ 7.]\n",
      " [ 9.]\n",
      " [ 8.]\n",
      " [ 6.]\n",
      " [ 9.]\n",
      " [ 6.]\n",
      " [ 7.]\n",
      " [ 7.]\n",
      " [10.]\n",
      " [ 7.]\n",
      " [ 6.]\n",
      " [ 6.]\n",
      " [ 7.]\n",
      " [ 7.]\n",
      " [ 5.]\n",
      " [ 8.]\n",
      " [ 8.]\n",
      " [ 7.]\n",
      " [ 8.]], shape=(20, 1), dtype=float64)\n",
      "A batch of targets: tf.Tensor([0. 0. 0. 1. 0. 0. 1. 0. 0. 0. 0. 0. 0. 0. 1. 0. 1. 0. 0. 1.], shape=(20,), dtype=float64)\n"
     ]
    }
   ],
   "source": [
    "#confirms that it works\n",
    "[(train_features, label_batch)] = train_ds.take(1)\n",
    "print('Every feature:', list(train_features.keys()))\n",
    "print('A batch of sleep:', train_features['sleep'])\n",
    "print('A batch of targets:', label_batch )"
   ]
  },
  {
   "cell_type": "markdown",
   "metadata": {
    "pycharm": {
     "name": "#%% md\n"
    }
   },
   "source": [
    "# Functions"
   ]
  },
  {
   "cell_type": "code",
   "execution_count": 96,
   "metadata": {
    "pycharm": {
     "name": "#%%\n"
    }
   },
   "outputs": [],
   "source": [
    "# function that creates the layer for each column for the CONTINUOUS features\n",
    "def get_normalization_layer(name,dataset):\n",
    "    '''\n",
    "    creates a layer for each continous feature as they each need to scaled and be their own layer\n",
    "    '''\n",
    "    # Create a Normalization layer for the feature.\n",
    "    normalizer = Normalization(axis=None)\n",
    "\n",
    "    # Prepare a Dataset that only yields the feature.\n",
    "    feature_ds = dataset.map(lambda x, y: x[name])\n",
    "\n",
    "    # Learn the statistics of the data.\n",
    "    normalizer.adapt(feature_ds)\n",
    "\n",
    "    return normalizer"
   ]
  },
  {
   "cell_type": "code",
   "execution_count": 97,
   "metadata": {
    "pycharm": {
     "name": "#%%\n"
    }
   },
   "outputs": [
    {
     "data": {
      "text/plain": [
       "<PrefetchDataset element_spec=({'general_health': TensorSpec(shape=(None, 1), dtype=tf.float64, name=None), 'physical_health': TensorSpec(shape=(None, 1), dtype=tf.float64, name=None), 'mental_health': TensorSpec(shape=(None, 1), dtype=tf.float64, name=None), 'health_insurance': TensorSpec(shape=(None, 1), dtype=tf.float64, name=None), 'last_checkup': TensorSpec(shape=(None, 1), dtype=tf.float64, name=None), 'excercise_30': TensorSpec(shape=(None, 1), dtype=tf.float64, name=None), 'sleep': TensorSpec(shape=(None, 1), dtype=tf.float64, name=None), 'stroke': TensorSpec(shape=(None, 1), dtype=tf.float64, name=None), 'asthma': TensorSpec(shape=(None, 1), dtype=tf.float64, name=None), 'skin_cancer': TensorSpec(shape=(None, 1), dtype=tf.float64, name=None), 'other_cancer': TensorSpec(shape=(None, 1), dtype=tf.float64, name=None), 'copd_type_issue': TensorSpec(shape=(None, 1), dtype=tf.float64, name=None), 'arthritis_anyform': TensorSpec(shape=(None, 1), dtype=tf.float64, name=None), 'depressive_disorder': TensorSpec(shape=(None, 1), dtype=tf.float64, name=None), 'kidney_disease': TensorSpec(shape=(None, 1), dtype=tf.float64, name=None), 'diabetes': TensorSpec(shape=(None, 1), dtype=tf.float64, name=None), 'weight_kg': TensorSpec(shape=(None, 1), dtype=tf.float64, name=None), 'height_m': TensorSpec(shape=(None, 1), dtype=tf.float64, name=None), 'difficulty_walking': TensorSpec(shape=(None, 1), dtype=tf.float64, name=None), 'smoke100_lifetime': TensorSpec(shape=(None, 1), dtype=tf.float64, name=None), 'alcohol_consumption_30': TensorSpec(shape=(None, 1), dtype=tf.float64, name=None)}, TensorSpec(shape=(None,), dtype=tf.float64, name=None))>"
      ]
     },
     "execution_count": 97,
     "metadata": {},
     "output_type": "execute_result"
    }
   ],
   "source": [
    "train_ds"
   ]
  },
  {
   "cell_type": "code",
   "execution_count": 98,
   "metadata": {
    "pycharm": {
     "name": "#%%\n"
    }
   },
   "outputs": [
    {
     "data": {
      "text/plain": [
       "<tf.Tensor: shape=(20, 1), dtype=float32, numpy=\n",
       "array([[-0.62485856],\n",
       "       [-0.01156919],\n",
       "       [ 1.2150096 ],\n",
       "       [ 0.60172015],\n",
       "       [-0.62485856],\n",
       "       [ 1.2150096 ],\n",
       "       [-0.62485856],\n",
       "       [-0.01156919],\n",
       "       [-0.01156919],\n",
       "       [ 1.8282989 ],\n",
       "       [-0.01156919],\n",
       "       [-0.62485856],\n",
       "       [-0.62485856],\n",
       "       [-0.01156919],\n",
       "       [-0.01156919],\n",
       "       [-1.2381479 ],\n",
       "       [ 0.60172015],\n",
       "       [ 0.60172015],\n",
       "       [-0.01156919],\n",
       "       [ 0.60172015]], dtype=float32)>"
      ]
     },
     "execution_count": 98,
     "metadata": {},
     "output_type": "execute_result"
    }
   ],
   "source": [
    "testing_standarization = train_features['sleep']\n",
    "layer = get_normalization_layer('sleep', train_ds)\n",
    "layer(testing_standarization)"
   ]
  },
  {
   "cell_type": "markdown",
   "metadata": {
    "pycharm": {
     "name": "#%% md\n"
    }
   },
   "source": [
    "#### Dealing with the categorical data"
   ]
  },
  {
   "cell_type": "code",
   "execution_count": 99,
   "metadata": {
    "pycharm": {
     "name": "#%%\n"
    }
   },
   "outputs": [],
   "source": [
    "#creates the categorical layers for each column\n",
    "def get_category_encoding_layer(name, dataset,  max_tokens=None):\n",
    "    index = IntegerLookup(max_tokens=max_tokens)\n",
    "\n",
    "    # Prepare a `tf.data.Dataset` that only yields the feature.\n",
    "    feature_ds = dataset.map(lambda x, y: x[name])\n",
    "\n",
    "    # Learn the set of possible values and assign them a fixed integer index.\n",
    "    index.adapt(feature_ds)\n",
    "\n",
    "    # Encode the integer indices.\n",
    "    encoder = CategoryEncoding(num_tokens=index.vocabulary_size())\n",
    "\n",
    "    # Apply multi-hot encoding to the indices. The lambda function captures the\n",
    "    # layer, so you can use them, or include them in the Keras Functional model later.\n",
    "    return lambda feature: encoder(index(feature))"
   ]
  },
  {
   "cell_type": "code",
   "execution_count": 100,
   "metadata": {
    "pycharm": {
     "name": "#%%\n"
    }
   },
   "outputs": [
    {
     "data": {
      "text/plain": [
       "<tf.Tensor: shape=(20, 6), dtype=float32, numpy=\n",
       "array([[0., 1., 0., 0., 0., 0.],\n",
       "       [0., 1., 0., 0., 0., 0.],\n",
       "       [0., 1., 0., 0., 0., 0.],\n",
       "       [0., 1., 0., 0., 0., 0.],\n",
       "       [0., 1., 0., 0., 0., 0.],\n",
       "       [0., 1., 0., 0., 0., 0.],\n",
       "       [0., 1., 0., 0., 0., 0.],\n",
       "       [0., 1., 0., 0., 0., 0.],\n",
       "       [0., 1., 0., 0., 0., 0.],\n",
       "       [0., 1., 0., 0., 0., 0.],\n",
       "       [0., 0., 1., 0., 0., 0.],\n",
       "       [0., 1., 0., 0., 0., 0.],\n",
       "       [0., 0., 1., 0., 0., 0.],\n",
       "       [0., 1., 0., 0., 0., 0.],\n",
       "       [0., 1., 0., 0., 0., 0.],\n",
       "       [0., 1., 0., 0., 0., 0.],\n",
       "       [0., 0., 1., 0., 0., 0.],\n",
       "       [0., 1., 0., 0., 0., 0.],\n",
       "       [0., 1., 0., 0., 0., 0.],\n",
       "       [0., 1., 0., 0., 0., 0.]], dtype=float32)>"
      ]
     },
     "execution_count": 100,
     "metadata": {},
     "output_type": "execute_result"
    }
   ],
   "source": [
    "test_type_col = train_features['diabetes']\n",
    "test_type_layer = get_category_encoding_layer(name='diabetes',\n",
    "                                              dataset=train_ds)\n",
    "test_type_layer(test_type_col)"
   ]
  },
  {
   "cell_type": "code",
   "execution_count": 101,
   "metadata": {
    "pycharm": {
     "name": "#%%\n"
    }
   },
   "outputs": [
    {
     "data": {
      "text/plain": [
       "{'general_health': <tf.Tensor: shape=(20, 1), dtype=float64, numpy=\n",
       " array([[3.],\n",
       "        [1.],\n",
       "        [3.],\n",
       "        [1.],\n",
       "        [3.],\n",
       "        [2.],\n",
       "        [2.],\n",
       "        [2.],\n",
       "        [3.],\n",
       "        [3.],\n",
       "        [4.],\n",
       "        [4.],\n",
       "        [2.],\n",
       "        [1.],\n",
       "        [3.],\n",
       "        [2.],\n",
       "        [4.],\n",
       "        [2.],\n",
       "        [1.],\n",
       "        [1.]])>,\n",
       " 'physical_health': <tf.Tensor: shape=(20, 1), dtype=float64, numpy=\n",
       " array([[30.],\n",
       "        [ 0.],\n",
       "        [ 0.],\n",
       "        [ 0.],\n",
       "        [ 0.],\n",
       "        [ 0.],\n",
       "        [ 0.],\n",
       "        [ 0.],\n",
       "        [ 0.],\n",
       "        [ 0.],\n",
       "        [30.],\n",
       "        [ 2.],\n",
       "        [ 0.],\n",
       "        [ 0.],\n",
       "        [ 0.],\n",
       "        [ 3.],\n",
       "        [ 5.],\n",
       "        [ 0.],\n",
       "        [ 4.],\n",
       "        [ 0.]])>,\n",
       " 'mental_health': <tf.Tensor: shape=(20, 1), dtype=float64, numpy=\n",
       " array([[ 0.],\n",
       "        [ 0.],\n",
       "        [ 0.],\n",
       "        [ 0.],\n",
       "        [ 0.],\n",
       "        [ 0.],\n",
       "        [ 0.],\n",
       "        [ 0.],\n",
       "        [ 0.],\n",
       "        [ 0.],\n",
       "        [ 5.],\n",
       "        [ 0.],\n",
       "        [ 0.],\n",
       "        [ 0.],\n",
       "        [ 0.],\n",
       "        [ 1.],\n",
       "        [ 3.],\n",
       "        [ 2.],\n",
       "        [20.],\n",
       "        [ 0.]])>,\n",
       " 'health_insurance': <tf.Tensor: shape=(20, 1), dtype=float64, numpy=\n",
       " array([[2.],\n",
       "        [1.],\n",
       "        [1.],\n",
       "        [1.],\n",
       "        [1.],\n",
       "        [1.],\n",
       "        [1.],\n",
       "        [1.],\n",
       "        [1.],\n",
       "        [2.],\n",
       "        [1.],\n",
       "        [2.],\n",
       "        [1.],\n",
       "        [1.],\n",
       "        [1.],\n",
       "        [1.],\n",
       "        [1.],\n",
       "        [1.],\n",
       "        [1.],\n",
       "        [1.]])>,\n",
       " 'last_checkup': <tf.Tensor: shape=(20, 1), dtype=float64, numpy=\n",
       " array([[4.],\n",
       "        [1.],\n",
       "        [4.],\n",
       "        [1.],\n",
       "        [1.],\n",
       "        [1.],\n",
       "        [1.],\n",
       "        [1.],\n",
       "        [1.],\n",
       "        [2.],\n",
       "        [1.],\n",
       "        [0.],\n",
       "        [1.],\n",
       "        [1.],\n",
       "        [1.],\n",
       "        [1.],\n",
       "        [1.],\n",
       "        [1.],\n",
       "        [1.],\n",
       "        [1.]])>,\n",
       " 'excercise_30': <tf.Tensor: shape=(20, 1), dtype=float64, numpy=\n",
       " array([[2.],\n",
       "        [1.],\n",
       "        [1.],\n",
       "        [1.],\n",
       "        [1.],\n",
       "        [2.],\n",
       "        [1.],\n",
       "        [1.],\n",
       "        [1.],\n",
       "        [1.],\n",
       "        [2.],\n",
       "        [1.],\n",
       "        [1.],\n",
       "        [1.],\n",
       "        [1.],\n",
       "        [1.],\n",
       "        [2.],\n",
       "        [1.],\n",
       "        [1.],\n",
       "        [1.]])>,\n",
       " 'sleep': <tf.Tensor: shape=(20, 1), dtype=float64, numpy=\n",
       " array([[ 6.],\n",
       "        [ 7.],\n",
       "        [ 9.],\n",
       "        [ 8.],\n",
       "        [ 6.],\n",
       "        [ 9.],\n",
       "        [ 6.],\n",
       "        [ 7.],\n",
       "        [ 7.],\n",
       "        [10.],\n",
       "        [ 7.],\n",
       "        [ 6.],\n",
       "        [ 6.],\n",
       "        [ 7.],\n",
       "        [ 7.],\n",
       "        [ 5.],\n",
       "        [ 8.],\n",
       "        [ 8.],\n",
       "        [ 7.],\n",
       "        [ 8.]])>,\n",
       " 'stroke': <tf.Tensor: shape=(20, 1), dtype=float64, numpy=\n",
       " array([[2.],\n",
       "        [2.],\n",
       "        [2.],\n",
       "        [2.],\n",
       "        [2.],\n",
       "        [2.],\n",
       "        [2.],\n",
       "        [2.],\n",
       "        [2.],\n",
       "        [2.],\n",
       "        [2.],\n",
       "        [2.],\n",
       "        [2.],\n",
       "        [2.],\n",
       "        [2.],\n",
       "        [2.],\n",
       "        [2.],\n",
       "        [2.],\n",
       "        [2.],\n",
       "        [2.]])>,\n",
       " 'asthma': <tf.Tensor: shape=(20, 1), dtype=float64, numpy=\n",
       " array([[2.],\n",
       "        [2.],\n",
       "        [2.],\n",
       "        [2.],\n",
       "        [2.],\n",
       "        [2.],\n",
       "        [2.],\n",
       "        [2.],\n",
       "        [2.],\n",
       "        [2.],\n",
       "        [2.],\n",
       "        [2.],\n",
       "        [2.],\n",
       "        [2.],\n",
       "        [2.],\n",
       "        [2.],\n",
       "        [2.],\n",
       "        [2.],\n",
       "        [2.],\n",
       "        [2.]])>,\n",
       " 'skin_cancer': <tf.Tensor: shape=(20, 1), dtype=float64, numpy=\n",
       " array([[2.],\n",
       "        [2.],\n",
       "        [2.],\n",
       "        [2.],\n",
       "        [2.],\n",
       "        [2.],\n",
       "        [2.],\n",
       "        [2.],\n",
       "        [2.],\n",
       "        [2.],\n",
       "        [2.],\n",
       "        [2.],\n",
       "        [2.],\n",
       "        [2.],\n",
       "        [2.],\n",
       "        [2.],\n",
       "        [2.],\n",
       "        [2.],\n",
       "        [2.],\n",
       "        [2.]])>,\n",
       " 'other_cancer': <tf.Tensor: shape=(20, 1), dtype=float64, numpy=\n",
       " array([[2.],\n",
       "        [2.],\n",
       "        [2.],\n",
       "        [2.],\n",
       "        [2.],\n",
       "        [1.],\n",
       "        [2.],\n",
       "        [2.],\n",
       "        [2.],\n",
       "        [2.],\n",
       "        [2.],\n",
       "        [2.],\n",
       "        [2.],\n",
       "        [2.],\n",
       "        [1.],\n",
       "        [2.],\n",
       "        [1.],\n",
       "        [2.],\n",
       "        [1.],\n",
       "        [2.]])>,\n",
       " 'copd_type_issue': <tf.Tensor: shape=(20, 1), dtype=float64, numpy=\n",
       " array([[2.],\n",
       "        [1.],\n",
       "        [2.],\n",
       "        [2.],\n",
       "        [2.],\n",
       "        [2.],\n",
       "        [2.],\n",
       "        [2.],\n",
       "        [1.],\n",
       "        [2.],\n",
       "        [1.],\n",
       "        [2.],\n",
       "        [2.],\n",
       "        [2.],\n",
       "        [2.],\n",
       "        [2.],\n",
       "        [2.],\n",
       "        [2.],\n",
       "        [2.],\n",
       "        [2.]])>,\n",
       " 'arthritis_anyform': <tf.Tensor: shape=(20, 1), dtype=float64, numpy=\n",
       " array([[1.],\n",
       "        [2.],\n",
       "        [2.],\n",
       "        [2.],\n",
       "        [1.],\n",
       "        [1.],\n",
       "        [1.],\n",
       "        [2.],\n",
       "        [1.],\n",
       "        [2.],\n",
       "        [1.],\n",
       "        [1.],\n",
       "        [1.],\n",
       "        [2.],\n",
       "        [2.],\n",
       "        [1.],\n",
       "        [1.],\n",
       "        [2.],\n",
       "        [1.],\n",
       "        [1.]])>,\n",
       " 'depressive_disorder': <tf.Tensor: shape=(20, 1), dtype=float64, numpy=\n",
       " array([[2.],\n",
       "        [2.],\n",
       "        [2.],\n",
       "        [2.],\n",
       "        [2.],\n",
       "        [2.],\n",
       "        [2.],\n",
       "        [2.],\n",
       "        [2.],\n",
       "        [2.],\n",
       "        [1.],\n",
       "        [1.],\n",
       "        [2.],\n",
       "        [2.],\n",
       "        [2.],\n",
       "        [2.],\n",
       "        [2.],\n",
       "        [1.],\n",
       "        [1.],\n",
       "        [2.]])>,\n",
       " 'kidney_disease': <tf.Tensor: shape=(20, 1), dtype=float64, numpy=\n",
       " array([[2.],\n",
       "        [2.],\n",
       "        [2.],\n",
       "        [2.],\n",
       "        [2.],\n",
       "        [2.],\n",
       "        [2.],\n",
       "        [2.],\n",
       "        [2.],\n",
       "        [2.],\n",
       "        [2.],\n",
       "        [2.],\n",
       "        [2.],\n",
       "        [2.],\n",
       "        [2.],\n",
       "        [1.],\n",
       "        [2.],\n",
       "        [2.],\n",
       "        [2.],\n",
       "        [2.]])>,\n",
       " 'diabetes': <tf.Tensor: shape=(20, 1), dtype=float64, numpy=\n",
       " array([[3.],\n",
       "        [3.],\n",
       "        [3.],\n",
       "        [3.],\n",
       "        [3.],\n",
       "        [3.],\n",
       "        [3.],\n",
       "        [3.],\n",
       "        [3.],\n",
       "        [3.],\n",
       "        [1.],\n",
       "        [3.],\n",
       "        [1.],\n",
       "        [3.],\n",
       "        [3.],\n",
       "        [3.],\n",
       "        [1.],\n",
       "        [3.],\n",
       "        [3.],\n",
       "        [3.]])>,\n",
       " 'weight_kg': <tf.Tensor: shape=(20, 1), dtype=float64, numpy=\n",
       " array([[ 73.],\n",
       "        [ 59.],\n",
       "        [  0.],\n",
       "        [ 84.],\n",
       "        [ 95.],\n",
       "        [  0.],\n",
       "        [ 85.],\n",
       "        [ 76.],\n",
       "        [ 50.],\n",
       "        [ 68.],\n",
       "        [129.],\n",
       "        [ 84.],\n",
       "        [ 60.],\n",
       "        [ 72.],\n",
       "        [ 84.],\n",
       "        [ 91.],\n",
       "        [  0.],\n",
       "        [130.],\n",
       "        [ 51.],\n",
       "        [  0.]])>,\n",
       " 'height_m': <tf.Tensor: shape=(20, 1), dtype=float64, numpy=\n",
       " array([[163.],\n",
       "        [170.],\n",
       "        [  0.],\n",
       "        [178.],\n",
       "        [175.],\n",
       "        [  0.],\n",
       "        [173.],\n",
       "        [165.],\n",
       "        [165.],\n",
       "        [159.],\n",
       "        [173.],\n",
       "        [173.],\n",
       "        [160.],\n",
       "        [175.],\n",
       "        [175.],\n",
       "        [165.],\n",
       "        [180.],\n",
       "        [188.],\n",
       "        [152.],\n",
       "        [  0.]])>,\n",
       " 'difficulty_walking': <tf.Tensor: shape=(20, 1), dtype=float64, numpy=\n",
       " array([[2.],\n",
       "        [2.],\n",
       "        [0.],\n",
       "        [2.],\n",
       "        [1.],\n",
       "        [2.],\n",
       "        [2.],\n",
       "        [2.],\n",
       "        [2.],\n",
       "        [2.],\n",
       "        [1.],\n",
       "        [2.],\n",
       "        [1.],\n",
       "        [2.],\n",
       "        [2.],\n",
       "        [1.],\n",
       "        [1.],\n",
       "        [2.],\n",
       "        [2.],\n",
       "        [2.]])>,\n",
       " 'smoke100_lifetime': <tf.Tensor: shape=(20, 1), dtype=float64, numpy=\n",
       " array([[1.],\n",
       "        [2.],\n",
       "        [0.],\n",
       "        [2.],\n",
       "        [2.],\n",
       "        [2.],\n",
       "        [1.],\n",
       "        [2.],\n",
       "        [1.],\n",
       "        [2.],\n",
       "        [1.],\n",
       "        [1.],\n",
       "        [2.],\n",
       "        [2.],\n",
       "        [2.],\n",
       "        [2.],\n",
       "        [2.],\n",
       "        [2.],\n",
       "        [2.],\n",
       "        [9.]])>,\n",
       " 'alcohol_consumption_30': <tf.Tensor: shape=(20, 1), dtype=float64, numpy=\n",
       " array([[ 4.],\n",
       "        [ 9.],\n",
       "        [ 0.],\n",
       "        [13.],\n",
       "        [ 1.],\n",
       "        [ 0.],\n",
       "        [ 2.],\n",
       "        [ 1.],\n",
       "        [ 0.],\n",
       "        [ 0.],\n",
       "        [ 0.],\n",
       "        [ 1.],\n",
       "        [ 0.],\n",
       "        [ 4.],\n",
       "        [ 4.],\n",
       "        [ 0.],\n",
       "        [ 0.],\n",
       "        [ 0.],\n",
       "        [ 0.],\n",
       "        [ 0.]])>}"
      ]
     },
     "execution_count": 101,
     "metadata": {},
     "output_type": "execute_result"
    }
   ],
   "source": [
    "train_features"
   ]
  },
  {
   "cell_type": "code",
   "execution_count": 102,
   "metadata": {
    "pycharm": {
     "name": "#%%\n"
    }
   },
   "outputs": [
    {
     "data": {
      "text/plain": [
       "<tf.Tensor: shape=(20, 4), dtype=float32, numpy=\n",
       "array([[0., 1., 0., 0.],\n",
       "       [0., 1., 0., 0.],\n",
       "       [0., 1., 0., 0.],\n",
       "       [0., 1., 0., 0.],\n",
       "       [0., 1., 0., 0.],\n",
       "       [0., 1., 0., 0.],\n",
       "       [0., 1., 0., 0.],\n",
       "       [0., 1., 0., 0.],\n",
       "       [0., 1., 0., 0.],\n",
       "       [0., 1., 0., 0.],\n",
       "       [0., 0., 1., 0.],\n",
       "       [0., 0., 1., 0.],\n",
       "       [0., 1., 0., 0.],\n",
       "       [0., 1., 0., 0.],\n",
       "       [0., 1., 0., 0.],\n",
       "       [0., 1., 0., 0.],\n",
       "       [0., 1., 0., 0.],\n",
       "       [0., 0., 1., 0.],\n",
       "       [0., 0., 1., 0.],\n",
       "       [0., 1., 0., 0.]], dtype=float32)>"
      ]
     },
     "execution_count": 102,
     "metadata": {},
     "output_type": "execute_result"
    }
   ],
   "source": [
    "test_age_col = train_features['depressive_disorder']\n",
    "test_age_layer = get_category_encoding_layer(name='depressive_disorder',\n",
    "                                             dataset=train_ds)\n",
    "test_age_layer(test_age_col)"
   ]
  },
  {
   "cell_type": "code",
   "execution_count": null,
   "metadata": {
    "pycharm": {
     "name": "#%%\n"
    }
   },
   "outputs": [],
   "source": []
  },
  {
   "cell_type": "code",
   "execution_count": 32,
   "metadata": {
    "pycharm": {
     "name": "#%%\n"
    },
    "scrolled": true
   },
   "outputs": [
    {
     "data": {
      "text/plain": [
       "<keras.layers.preprocessing.normalization.Normalization at 0x2060d83a8b0>"
      ]
     },
     "execution_count": 32,
     "metadata": {},
     "output_type": "execute_result"
    }
   ],
   "source": [
    "get_normalization_layer('general_health', train_ds)"
   ]
  },
  {
   "cell_type": "markdown",
   "metadata": {
    "pycharm": {
     "name": "#%% md\n"
    }
   },
   "source": [
    "# working on our actual data instead of testing out part on these functions"
   ]
  },
  {
   "cell_type": "code",
   "execution_count": 103,
   "metadata": {
    "pycharm": {
     "name": "#%%\n"
    }
   },
   "outputs": [],
   "source": [
    "all_inputs = []\n",
    "encoded_features = []\n",
    "\n",
    "#  Dealing with the continuous numbers\n",
    "for column_name in continous:\n",
    "    numeric_col = Input(shape=(1,), name=column_name)\n",
    "    normalization_layer = get_normalization_layer(column_name, train_ds)\n",
    "    encoded_numeric_col = normalization_layer(numeric_col)\n",
    "    all_inputs.append(numeric_col)\n",
    "    encoded_features.append(encoded_numeric_col)"
   ]
  },
  {
   "cell_type": "code",
   "execution_count": 104,
   "metadata": {
    "pycharm": {
     "name": "#%%\n"
    }
   },
   "outputs": [],
   "source": [
    "for column_name in categorical:\n",
    "    categorical_col = Input(shape=(1,), name=column_name)\n",
    "    encoding_layer = get_category_encoding_layer(column_name,train_ds)\n",
    "    encoded_categorical_col = encoding_layer(categorical_col)\n",
    "    all_inputs.append(categorical_col)\n",
    "    encoded_features.append(encoded_categorical_col)"
   ]
  },
  {
   "cell_type": "code",
   "execution_count": 105,
   "metadata": {
    "pycharm": {
     "name": "#%%\n"
    }
   },
   "outputs": [
    {
     "name": "stderr",
     "output_type": "stream",
     "text": [
      "<ipython-input-93-c3c3fb396465>:5: FutureWarning: Support for multi-dimensional indexing (e.g. `obj[:, None]`) is deprecated and will be removed in a future version.  Convert to a numpy array before indexing instead.\n",
      "  df = {key: value[:,tf.newaxis] for key, value in heart.items()}\n"
     ]
    }
   ],
   "source": [
    "batch_size = 2000\n",
    "train_ds = df_to_dataset(train, batch_size=batch_size)\n",
    "val_ds = df_to_dataset(val, shuffle=False, batch_size=batch_size)\n",
    "test_ds = df_to_dataset(test, shuffle=False, batch_size=batch_size)"
   ]
  },
  {
   "cell_type": "code",
   "execution_count": 106,
   "metadata": {
    "pycharm": {
     "name": "#%%\n"
    }
   },
   "outputs": [],
   "source": [
    "METRICS = [\n",
    "    BinaryAccuracy(name='accuracy'),\n",
    "    Precision(name='precision'),\n",
    "    Recall(name='recall'),\n",
    "    AUC(name='auc'),\n",
    "    AUC(name='prc', curve='PR'), # precision-recall curve\n",
    "]"
   ]
  },
  {
   "cell_type": "code",
   "execution_count": 107,
   "metadata": {
    "pycharm": {
     "name": "#%%\n"
    }
   },
   "outputs": [
    {
     "name": "stdout",
     "output_type": "stream",
     "text": [
      "Weight for class 0: 0.55\n",
      "Weight for class 1: 6.03\n"
     ]
    }
   ],
   "source": [
    "# setting the weights as the data set is heavily imbalance.\n",
    "\n",
    "# Scaling by total/2 helps keep the loss to a similar magnitude.\n",
    "# The sum of the weights of all examples stays the same.\n",
    "weight_for_0 = (1 / neg) * (total / 2.0)\n",
    "weight_for_1 = (1 / pos) * (total / 2.0)\n",
    "\n",
    "class_weight = {0: weight_for_0, 1: weight_for_1}\n",
    "\n",
    "print('Weight for class 0: {:.2f}'.format(weight_for_0))\n",
    "print('Weight for class 1: {:.2f}'.format(weight_for_1))"
   ]
  },
  {
   "cell_type": "code",
   "execution_count": 108,
   "metadata": {
    "pycharm": {
     "name": "#%%\n"
    }
   },
   "outputs": [],
   "source": [
    "#uses functional keras API\n",
    "all_features = layers.concatenate(encoded_features)\n",
    "x = Dense(53, activation=\"relu\")(all_features)\n",
    "x = Dense(53, activation=\"relu\")(x)\n",
    "output = Dense(1, activation= 'sigmoid')(x)\n",
    "\n",
    "model = Model(all_inputs, output)"
   ]
  },
  {
   "cell_type": "code",
   "execution_count": 109,
   "metadata": {
    "pycharm": {
     "name": "#%%\n"
    }
   },
   "outputs": [],
   "source": [
    "model.compile(optimizer= Adam(learning_rate=0.01),\n",
    "              loss=BinaryCrossentropy(),\n",
    "              metrics=METRICS)"
   ]
  },
  {
   "cell_type": "code",
   "execution_count": 110,
   "metadata": {
    "pycharm": {
     "name": "#%%\n"
    }
   },
   "outputs": [
    {
     "data": {
      "text/plain": [
       "<KerasTensor: shape=(None, 67) dtype=float32 (created by layer 'concatenate')>"
      ]
     },
     "execution_count": 110,
     "metadata": {},
     "output_type": "execute_result"
    }
   ],
   "source": [
    "all_features"
   ]
  },
  {
   "cell_type": "code",
   "execution_count": 111,
   "metadata": {
    "pycharm": {
     "name": "#%%\n"
    }
   },
   "outputs": [
    {
     "name": "stdout",
     "output_type": "stream",
     "text": [
      "Epoch 1/10\n",
      "199/199 [==============================] - 28s 88ms/step - loss: 0.5397 - accuracy: 0.7177 - precision: 0.1918 - recall: 0.7485 - auc: 0.8038 - prc: 0.3011 - val_loss: 0.5350 - val_accuracy: 0.7254 - val_precision: 0.1961 - val_recall: 0.7460 - val_auc: 0.8086 - val_prc: 0.3143\n",
      "Epoch 2/10\n",
      "199/199 [==============================] - 22s 79ms/step - loss: 0.5326 - accuracy: 0.7178 - precision: 0.1933 - recall: 0.7578 - auc: 0.8098 - prc: 0.3117 - val_loss: 0.4975 - val_accuracy: 0.7444 - val_precision: 0.2060 - val_recall: 0.7296 - val_auc: 0.8129 - val_prc: 0.3175\n",
      "Epoch 3/10\n",
      "199/199 [==============================] - 24s 83ms/step - loss: 0.5320 - accuracy: 0.7188 - precision: 0.1938 - recall: 0.7568 - auc: 0.8103 - prc: 0.3122 - val_loss: 0.5275 - val_accuracy: 0.7293 - val_precision: 0.1990 - val_recall: 0.7487 - val_auc: 0.8131 - val_prc: 0.3171\n",
      "Epoch 4/10\n",
      "199/199 [==============================] - 27s 89ms/step - loss: 0.5300 - accuracy: 0.7221 - precision: 0.1959 - recall: 0.7580 - auc: 0.8120 - prc: 0.3136 - val_loss: 0.4628 - val_accuracy: 0.7751 - val_precision: 0.2221 - val_recall: 0.6847 - val_auc: 0.8139 - val_prc: 0.3194\n",
      "Epoch 5/10\n",
      "199/199 [==============================] - 24s 83ms/step - loss: 0.5292 - accuracy: 0.7226 - precision: 0.1963 - recall: 0.7583 - auc: 0.8127 - prc: 0.3140 - val_loss: 0.5259 - val_accuracy: 0.7265 - val_precision: 0.1987 - val_recall: 0.7577 - val_auc: 0.8155 - val_prc: 0.3199\n",
      "Epoch 6/10\n",
      "199/199 [==============================] - 23s 81ms/step - loss: 0.5284 - accuracy: 0.7245 - precision: 0.1974 - recall: 0.7581 - auc: 0.8133 - prc: 0.3149 - val_loss: 0.5144 - val_accuracy: 0.7311 - val_precision: 0.2007 - val_recall: 0.7523 - val_auc: 0.8160 - val_prc: 0.3199\n",
      "Epoch 7/10\n",
      "199/199 [==============================] - 23s 79ms/step - loss: 0.5277 - accuracy: 0.7239 - precision: 0.1973 - recall: 0.7594 - auc: 0.8139 - prc: 0.3160 - val_loss: 0.5143 - val_accuracy: 0.7403 - val_precision: 0.2051 - val_recall: 0.7415 - val_auc: 0.8167 - val_prc: 0.3213\n",
      "Epoch 8/10\n",
      "199/199 [==============================] - 23s 81ms/step - loss: 0.5268 - accuracy: 0.7228 - precision: 0.1968 - recall: 0.7608 - auc: 0.8146 - prc: 0.3177 - val_loss: 0.5188 - val_accuracy: 0.7253 - val_precision: 0.1985 - val_recall: 0.7616 - val_auc: 0.8169 - val_prc: 0.3227\n",
      "Epoch 9/10\n",
      "199/199 [==============================] - 24s 82ms/step - loss: 0.5265 - accuracy: 0.7217 - precision: 0.1964 - recall: 0.7627 - auc: 0.8148 - prc: 0.3163 - val_loss: 0.5145 - val_accuracy: 0.7295 - val_precision: 0.2004 - val_recall: 0.7568 - val_auc: 0.8171 - val_prc: 0.3214\n",
      "Epoch 10/10\n",
      "199/199 [==============================] - 24s 83ms/step - loss: 0.5262 - accuracy: 0.7244 - precision: 0.1977 - recall: 0.7604 - auc: 0.8151 - prc: 0.3169 - val_loss: 0.5487 - val_accuracy: 0.7065 - val_precision: 0.1909 - val_recall: 0.7842 - val_auc: 0.8176 - val_prc: 0.3225\n"
     ]
    }
   ],
   "source": [
    "model_history = model.fit(train_ds, epochs=10, validation_data=val_ds, class_weight=class_weight)"
   ]
  },
  {
   "cell_type": "markdown",
   "metadata": {
    "pycharm": {
     "name": "#%% md\n"
    }
   },
   "source": [
    "# Model 2"
   ]
  },
  {
   "cell_type": "code",
   "execution_count": 112,
   "metadata": {
    "pycharm": {
     "name": "#%%\n"
    }
   },
   "outputs": [],
   "source": [
    "#uses functional keras API\n",
    "all_features = tf.keras.layers.concatenate(encoded_features)\n",
    "x2 = tf.keras.layers.Dense(53, activation=\"relu\")(all_features)\n",
    "x2 = tf.keras.layers.Dense(53, activation=\"relu\")(x2)\n",
    "x2 = tf.keras.layers.Dropout(0.5)(x2)\n",
    "output2 = tf.keras.layers.Dense(1, activation= 'sigmoid')(x2)\n",
    "\n",
    "model2 = tf.keras.Model(all_inputs, output2)"
   ]
  },
  {
   "cell_type": "code",
   "execution_count": 113,
   "metadata": {
    "pycharm": {
     "name": "#%%\n"
    }
   },
   "outputs": [
    {
     "data": {
      "text/plain": [
       "<KerasTensor: shape=(None, 67) dtype=float32 (created by layer 'concatenate_1')>"
      ]
     },
     "execution_count": 113,
     "metadata": {},
     "output_type": "execute_result"
    }
   ],
   "source": [
    "all_features"
   ]
  },
  {
   "cell_type": "code",
   "execution_count": 114,
   "metadata": {
    "pycharm": {
     "name": "#%%\n"
    }
   },
   "outputs": [],
   "source": [
    "model2.compile(optimizer= Adam(learning_rate=0.01),\n",
    "              loss=tf.keras.losses.BinaryCrossentropy(),\n",
    "              metrics=METRICS)"
   ]
  },
  {
   "cell_type": "code",
   "execution_count": 115,
   "metadata": {
    "pycharm": {
     "name": "#%%\n"
    }
   },
   "outputs": [
    {
     "name": "stdout",
     "output_type": "stream",
     "text": [
      "Epoch 1/10\n",
      "199/199 [==============================] - 41s 114ms/step - loss: 0.5511 - accuracy: 0.7066 - precision: 0.1883 - recall: 0.7673 - auc: 0.8065 - prc: 0.2990 - val_loss: 0.4612 - val_accuracy: 0.7546 - val_precision: 0.2103 - val_recall: 0.7112 - val_auc: 0.8111 - val_prc: 0.3139\n",
      "Epoch 2/10\n",
      "199/199 [==============================] - 29s 97ms/step - loss: 0.5409 - accuracy: 0.7112 - precision: 0.1905 - recall: 0.7644 - auc: 0.8050 - prc: 0.2938 - val_loss: 0.5356 - val_accuracy: 0.7151 - val_precision: 0.1928 - val_recall: 0.7649 - val_auc: 0.8120 - val_prc: 0.3156\n",
      "Epoch 3/10\n",
      "199/199 [==============================] - 29s 97ms/step - loss: 0.5388 - accuracy: 0.7140 - precision: 0.1919 - recall: 0.7627 - auc: 0.8066 - prc: 0.2975 - val_loss: 0.5138 - val_accuracy: 0.7252 - val_precision: 0.1974 - val_recall: 0.7551 - val_auc: 0.8132 - val_prc: 0.3173\n",
      "Epoch 4/10\n",
      "199/199 [==============================] - 29s 97ms/step - loss: 0.5379 - accuracy: 0.7155 - precision: 0.1927 - recall: 0.7627 - auc: 0.8074 - prc: 0.2967 - val_loss: 0.5107 - val_accuracy: 0.7204 - val_precision: 0.1953 - val_recall: 0.7605 - val_auc: 0.8138 - val_prc: 0.3183\n",
      "Epoch 5/10\n",
      "199/199 [==============================] - 28s 97ms/step - loss: 0.5374 - accuracy: 0.7180 - precision: 0.1938 - recall: 0.7602 - auc: 0.8078 - prc: 0.2979 - val_loss: 0.5482 - val_accuracy: 0.7061 - val_precision: 0.1897 - val_recall: 0.7780 - val_auc: 0.8138 - val_prc: 0.3163\n",
      "Epoch 6/10\n",
      "199/199 [==============================] - 27s 91ms/step - loss: 0.5365 - accuracy: 0.7193 - precision: 0.1949 - recall: 0.7616 - auc: 0.8085 - prc: 0.2985 - val_loss: 0.5204 - val_accuracy: 0.7251 - val_precision: 0.1977 - val_recall: 0.7575 - val_auc: 0.8147 - val_prc: 0.3197\n",
      "Epoch 7/10\n",
      "199/199 [==============================] - 27s 93ms/step - loss: 0.5371 - accuracy: 0.7190 - precision: 0.1945 - recall: 0.7604 - auc: 0.8082 - prc: 0.3002 - val_loss: 0.4993 - val_accuracy: 0.7261 - val_precision: 0.1981 - val_recall: 0.7561 - val_auc: 0.8142 - val_prc: 0.3197\n",
      "Epoch 8/10\n",
      "199/199 [==============================] - 27s 93ms/step - loss: 0.5358 - accuracy: 0.7188 - precision: 0.1942 - recall: 0.7597 - auc: 0.8091 - prc: 0.3000 - val_loss: 0.5344 - val_accuracy: 0.7203 - val_precision: 0.1955 - val_recall: 0.7623 - val_auc: 0.8146 - val_prc: 0.3197\n",
      "Epoch 9/10\n",
      "199/199 [==============================] - 26s 92ms/step - loss: 0.5359 - accuracy: 0.7172 - precision: 0.1940 - recall: 0.7643 - auc: 0.8092 - prc: 0.2996 - val_loss: 0.5364 - val_accuracy: 0.7048 - val_precision: 0.1897 - val_recall: 0.7829 - val_auc: 0.8155 - val_prc: 0.3200\n",
      "Epoch 10/10\n",
      "199/199 [==============================] - 30s 98ms/step - loss: 0.5350 - accuracy: 0.7204 - precision: 0.1954 - recall: 0.7612 - auc: 0.8098 - prc: 0.3012 - val_loss: 0.5172 - val_accuracy: 0.7223 - val_precision: 0.1965 - val_recall: 0.7608 - val_auc: 0.8156 - val_prc: 0.3216\n"
     ]
    }
   ],
   "source": [
    "model2_history = model2.fit(train_ds, epochs=10, validation_data=val_ds, class_weight=class_weight)"
   ]
  },
  {
   "cell_type": "code",
   "execution_count": null,
   "outputs": [],
   "source": [
    "# Model 3"
   ],
   "metadata": {
    "collapsed": false,
    "pycharm": {
     "name": "#%%\n"
    }
   }
  },
  {
   "cell_type": "code",
   "execution_count": null,
   "metadata": {
    "pycharm": {
     "name": "#%%\n"
    }
   },
   "outputs": [],
   "source": [
    "all_features = Concatenate(encoded_features)\n",
    "x3 = Dense(53, activation=\"relu\",kernel_regularizer=regularizers.l2(0.005))(all_features)\n",
    "x3 = Dropout(0.5)(x3)\n",
    "x3 = Dense(20, activation=\"relu\")(x3)\n",
    "x3 = Dropout(0.5)(x3)\n",
    "output3 = Dense(1, activation= 'sigmoid')(x3)\n",
    "\n",
    "model3 = Model(all_inputs, output3)"
   ]
  },
  {
   "cell_type": "code",
   "execution_count": null,
   "metadata": {
    "pycharm": {
     "name": "#%%\n"
    }
   },
   "outputs": [],
   "source": [
    "model3.compile(optimizer=Adam(learning_rate=0.01),\n",
    "              loss=BinaryCrossentropy(),\n",
    "              metrics=METRICS)"
   ]
  },
  {
   "cell_type": "code",
   "execution_count": null,
   "metadata": {
    "pycharm": {
     "name": "#%%\n"
    }
   },
   "outputs": [],
   "source": [
    "model3_history = model3.fit(train_ds, epochs=10, validation_data=val_ds, class_weight=class_weight)"
   ]
  },
  {
   "cell_type": "markdown",
   "metadata": {
    "pycharm": {
     "name": "#%% md\n"
    }
   },
   "source": [
    "# Model 4"
   ]
  },
  {
   "cell_type": "code",
   "execution_count": null,
   "metadata": {
    "pycharm": {
     "name": "#%%\n"
    }
   },
   "outputs": [],
   "source": [
    "all_features = Concatenate(encoded_features)\n",
    "x4 = Dense(53, activation=\"tanh\")(all_features)\n",
    "x4 = Dense(30, activation=\"relu\")(x4)\n",
    "x4 = Dense(20, activation=\"tanh\")(x4)\n",
    "x4 = Dense(10, activation=\"relu\")(x4)\n",
    "output4 = Dense(1, activation= 'sigmoid')(x4)\n",
    "\n",
    "model4 = Model(all_inputs, output4)"
   ]
  },
  {
   "cell_type": "code",
   "execution_count": null,
   "metadata": {
    "pycharm": {
     "name": "#%%\n"
    }
   },
   "outputs": [],
   "source": [
    "model4.compile(optimizer=Adam(learning_rate=0.01),\n",
    "              loss=.BinaryCrossentropy(),\n",
    "              metrics=METRICS)"
   ]
  },
  {
   "cell_type": "code",
   "execution_count": null,
   "metadata": {
    "pycharm": {
     "name": "#%%\n"
    }
   },
   "outputs": [],
   "source": [
    "model4_history = model4.fit(train_ds, epochs=10, validation_data=val_ds, class_weight=class_weight)"
   ]
  },
  {
   "cell_type": "markdown",
   "metadata": {
    "pycharm": {
     "name": "#%% md\n"
    }
   },
   "source": [
    "# Model 5"
   ]
  },
  {
   "cell_type": "code",
   "execution_count": null,
   "metadata": {
    "pycharm": {
     "name": "#%%\n"
    }
   },
   "outputs": [],
   "source": [
    "all_features = Concatenate(encoded_features)\n",
    "x4 = Dense(53, activation=\"tanh\")(all_features)\n",
    "x4 = Dense(30, activation=\"relu\")(x4)\n",
    "x4 = Dense(20, activation=\"tanh\")(x4)\n",
    "x4 = Dense(10, activation=\"relu\")(x4)\n",
    "output4 = Dense(1, activation= 'sigmoid')(x4)\n",
    "\n",
    "model4 = Model(all_inputs, output4)"
   ]
  },
  {
   "cell_type": "code",
   "execution_count": null,
   "metadata": {
    "pycharm": {
     "name": "#%%\n"
    }
   },
   "outputs": [],
   "source": [
    "model4.compile(optimizer=Adam(learning_rate=0.01),\n",
    "              loss=BinaryCrossentropy(),\n",
    "              metrics=METRICS)"
   ]
  },
  {
   "cell_type": "code",
   "execution_count": null,
   "metadata": {
    "pycharm": {
     "name": "#%%\n"
    }
   },
   "outputs": [],
   "source": [
    "model4_history = model4.fit(train_ds, epochs=10, validation_data=val_ds, class_weight=class_weight)"
   ]
  },
  {
   "cell_type": "code",
   "execution_count": null,
   "metadata": {
    "pycharm": {
     "name": "#%%\n"
    }
   },
   "outputs": [],
   "source": []
  },
  {
   "cell_type": "markdown",
   "metadata": {
    "pycharm": {
     "name": "#%% md\n"
    }
   },
   "source": [
    "# Next Steps"
   ]
  },
  {
   "cell_type": "markdown",
   "metadata": {
    "pycharm": {
     "name": "#%% md\n"
    }
   },
   "source": [
    "The next step for this project would be to further refine our target. This projects only looks at heart attack and Cornary Artery Disease. These two conditions are some of the conditions that fall under the heart disease. Heart disease encompasses other conditions such as high blood pressure, congenitial heart disease etc., it's not just CAD and heart attacks as such we would have to refine the questions being asked to individual. \n",
    "\n",
    "Not only that but more time to refine our model. Due to computational limitation of my system and the computational time, I am not able to perform as much gridsearches to fine-tune the model even further. Not only that but we can refine our model on data from patients' information form and the diagnoses given by the doctor to help improve the flagging of indivduals with such a condition that way their primary doctor know to discuss this with the patient.\n",
    "\n",
    "Build a better app. The app created was for demonstrated purposes. "
   ]
  }
 ],
 "metadata": {
  "kernelspec": {
   "display_name": "Python (learn-env)",
   "language": "python",
   "name": "learn-env"
  },
  "language_info": {
   "codemirror_mode": {
    "name": "ipython",
    "version": 3
   },
   "file_extension": ".py",
   "mimetype": "text/x-python",
   "name": "python",
   "nbconvert_exporter": "python",
   "pygments_lexer": "ipython3",
   "version": "3.8.5"
  }
 },
 "nbformat": 4,
 "nbformat_minor": 1
}