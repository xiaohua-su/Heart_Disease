{
 "cells": [
  {
   "cell_type": "code",
   "execution_count": 86,
   "outputs": [],
   "source": [
    "import tensorflow as tf\n",
    "from tensorflow.keras import layers\n",
    "import pandas as pd\n",
    "import numpy as np\n",
    "from tensorflow import  keras\n",
    "from sklearn.experimental import enable_iterative_imputer\n",
    "from sklearn.impute import IterativeImputer\n",
    "from sklearn.pipeline import Pipeline\n",
    "from sklearn.neighbors import KNeighborsClassifier\n",
    "from sklearn.compose import ColumnTransformer\n",
    "from sklearn.model_selection import train_test_split"
   ],
   "metadata": {
    "collapsed": false,
    "pycharm": {
     "name": "#%%\n"
    }
   }
  },
  {
   "cell_type": "code",
   "execution_count": 28,
   "outputs": [
    {
     "name": "stdout",
     "output_type": "stream",
     "text": [
      "[name: \"/device:CPU:0\"\n",
      "device_type: \"CPU\"\n",
      "memory_limit: 268435456\n",
      "locality {\n",
      "}\n",
      "incarnation: 14765487351803398170\n",
      "xla_global_id: -1\n",
      "]\n"
     ]
    }
   ],
   "source": [
    "from tensorflow.python.client import device_lib\n",
    "print(device_lib.list_local_devices())"
   ],
   "metadata": {
    "collapsed": false,
    "pycharm": {
     "name": "#%%\n"
    }
   }
  },
  {
   "cell_type": "code",
   "execution_count": 29,
   "outputs": [
    {
     "name": "stdout",
     "output_type": "stream",
     "text": [
      "[]\n"
     ]
    }
   ],
   "source": [
    "print(tf.config.list_physical_devices('GPU'))"
   ],
   "metadata": {
    "collapsed": false,
    "pycharm": {
     "name": "#%%\n"
    }
   }
  },
  {
   "cell_type": "code",
   "execution_count": 87,
   "outputs": [],
   "source": [
    "heart = pd.read_csv('./Data/heart_df.csv')"
   ],
   "metadata": {
    "collapsed": false,
    "pycharm": {
     "name": "#%%\n"
    }
   }
  },
  {
   "cell_type": "code",
   "execution_count": 88,
   "outputs": [
    {
     "data": {
      "text/plain": "        state  general_health  physical_health  mental_health  \\\n0         1.0             2.0              3.0           30.0   \n1         1.0             3.0              0.0            0.0   \n2         1.0             3.0              0.0            0.0   \n3         1.0             2.0              0.0            0.0   \n4         1.0             4.0             20.0           30.0   \n...       ...             ...              ...            ...   \n331523   72.0             3.0              0.0            0.0   \n331524   72.0             3.0              0.0            0.0   \n331525   72.0             3.0              0.0            0.0   \n331526   72.0             3.0              0.0            0.0   \n331527   72.0             3.0              2.0            7.0   \n\n        health_insurance  health_care_doctors  no_doc_bc_cost  last_checkup  \\\n0                    2.0                  3.0             1.0           4.0   \n1                    1.0                  1.0             1.0           1.0   \n2                    1.0                  1.0             2.0           1.0   \n3                    1.0                  1.0             2.0           1.0   \n4                    1.0                  1.0             2.0           2.0   \n...                  ...                  ...             ...           ...   \n331523               2.0                  1.0             2.0           2.0   \n331524               1.0                  1.0             2.0           3.0   \n331525               1.0                  1.0             2.0           2.0   \n331526               1.0                  1.0             2.0           1.0   \n331527               1.0                  1.0             2.0           1.0   \n\n        excercise_30  sleep  ...  income_level  weight_kg  height_m  \\\n0                1.0    5.0  ...           1.0       48.0     170.0   \n1                1.0    7.0  ...          99.0        NaN     163.0   \n2                1.0    7.0  ...           7.0        NaN     173.0   \n3                1.0    7.0  ...           NaN       57.0     168.0   \n4                1.0    8.0  ...           5.0       82.0     175.0   \n...              ...    ...  ...           ...        ...       ...   \n331523           1.0    6.0  ...          99.0       55.0     150.0   \n331524           2.0   12.0  ...           4.0       76.0     152.0   \n331525           1.0    8.0  ...           1.0       72.0     124.0   \n331526           1.0    6.0  ...          99.0       80.0     173.0   \n331527           2.0    6.0  ...           5.0       90.0     170.0   \n\n        difficulty_walking  smoke100_lifetime  smokeless_tobacco_products  \\\n0                      2.0                1.0                         3.0   \n1                      2.0                NaN                         NaN   \n2                      2.0                2.0                         3.0   \n3                      2.0                2.0                         3.0   \n4                      2.0                1.0                         1.0   \n...                    ...                ...                         ...   \n331523                 2.0                2.0                         3.0   \n331524                 2.0                2.0                         3.0   \n331525                 2.0                2.0                         3.0   \n331526                 2.0                7.0                         3.0   \n331527                 2.0                2.0                         3.0   \n\n        alcohol_consumption_30  high_risk_situations  ecigaret  heart_disease  \n0                          0.0                   2.0       1.0            0.0  \n1                          NaN                   NaN       NaN            0.0  \n2                          0.0                   2.0       2.0            0.0  \n3                          0.0                   2.0       2.0            0.0  \n4                          0.0                   2.0       1.0            0.0  \n...                        ...                   ...       ...            ...  \n331523                     0.0                   2.0       NaN            0.0  \n331524                     0.0                   2.0       NaN            0.0  \n331525                     0.0                   2.0       NaN            0.0  \n331526                     4.0                   2.0       NaN            0.0  \n331527                     0.0                   2.0       NaN            0.0  \n\n[331528 rows x 32 columns]",
      "text/html": "<div>\n<style scoped>\n    .dataframe tbody tr th:only-of-type {\n        vertical-align: middle;\n    }\n\n    .dataframe tbody tr th {\n        vertical-align: top;\n    }\n\n    .dataframe thead th {\n        text-align: right;\n    }\n</style>\n<table border=\"1\" class=\"dataframe\">\n  <thead>\n    <tr style=\"text-align: right;\">\n      <th></th>\n      <th>state</th>\n      <th>general_health</th>\n      <th>physical_health</th>\n      <th>mental_health</th>\n      <th>health_insurance</th>\n      <th>health_care_doctors</th>\n      <th>no_doc_bc_cost</th>\n      <th>last_checkup</th>\n      <th>excercise_30</th>\n      <th>sleep</th>\n      <th>...</th>\n      <th>income_level</th>\n      <th>weight_kg</th>\n      <th>height_m</th>\n      <th>difficulty_walking</th>\n      <th>smoke100_lifetime</th>\n      <th>smokeless_tobacco_products</th>\n      <th>alcohol_consumption_30</th>\n      <th>high_risk_situations</th>\n      <th>ecigaret</th>\n      <th>heart_disease</th>\n    </tr>\n  </thead>\n  <tbody>\n    <tr>\n      <th>0</th>\n      <td>1.0</td>\n      <td>2.0</td>\n      <td>3.0</td>\n      <td>30.0</td>\n      <td>2.0</td>\n      <td>3.0</td>\n      <td>1.0</td>\n      <td>4.0</td>\n      <td>1.0</td>\n      <td>5.0</td>\n      <td>...</td>\n      <td>1.0</td>\n      <td>48.0</td>\n      <td>170.0</td>\n      <td>2.0</td>\n      <td>1.0</td>\n      <td>3.0</td>\n      <td>0.0</td>\n      <td>2.0</td>\n      <td>1.0</td>\n      <td>0.0</td>\n    </tr>\n    <tr>\n      <th>1</th>\n      <td>1.0</td>\n      <td>3.0</td>\n      <td>0.0</td>\n      <td>0.0</td>\n      <td>1.0</td>\n      <td>1.0</td>\n      <td>1.0</td>\n      <td>1.0</td>\n      <td>1.0</td>\n      <td>7.0</td>\n      <td>...</td>\n      <td>99.0</td>\n      <td>NaN</td>\n      <td>163.0</td>\n      <td>2.0</td>\n      <td>NaN</td>\n      <td>NaN</td>\n      <td>NaN</td>\n      <td>NaN</td>\n      <td>NaN</td>\n      <td>0.0</td>\n    </tr>\n    <tr>\n      <th>2</th>\n      <td>1.0</td>\n      <td>3.0</td>\n      <td>0.0</td>\n      <td>0.0</td>\n      <td>1.0</td>\n      <td>1.0</td>\n      <td>2.0</td>\n      <td>1.0</td>\n      <td>1.0</td>\n      <td>7.0</td>\n      <td>...</td>\n      <td>7.0</td>\n      <td>NaN</td>\n      <td>173.0</td>\n      <td>2.0</td>\n      <td>2.0</td>\n      <td>3.0</td>\n      <td>0.0</td>\n      <td>2.0</td>\n      <td>2.0</td>\n      <td>0.0</td>\n    </tr>\n    <tr>\n      <th>3</th>\n      <td>1.0</td>\n      <td>2.0</td>\n      <td>0.0</td>\n      <td>0.0</td>\n      <td>1.0</td>\n      <td>1.0</td>\n      <td>2.0</td>\n      <td>1.0</td>\n      <td>1.0</td>\n      <td>7.0</td>\n      <td>...</td>\n      <td>NaN</td>\n      <td>57.0</td>\n      <td>168.0</td>\n      <td>2.0</td>\n      <td>2.0</td>\n      <td>3.0</td>\n      <td>0.0</td>\n      <td>2.0</td>\n      <td>2.0</td>\n      <td>0.0</td>\n    </tr>\n    <tr>\n      <th>4</th>\n      <td>1.0</td>\n      <td>4.0</td>\n      <td>20.0</td>\n      <td>30.0</td>\n      <td>1.0</td>\n      <td>1.0</td>\n      <td>2.0</td>\n      <td>2.0</td>\n      <td>1.0</td>\n      <td>8.0</td>\n      <td>...</td>\n      <td>5.0</td>\n      <td>82.0</td>\n      <td>175.0</td>\n      <td>2.0</td>\n      <td>1.0</td>\n      <td>1.0</td>\n      <td>0.0</td>\n      <td>2.0</td>\n      <td>1.0</td>\n      <td>0.0</td>\n    </tr>\n    <tr>\n      <th>...</th>\n      <td>...</td>\n      <td>...</td>\n      <td>...</td>\n      <td>...</td>\n      <td>...</td>\n      <td>...</td>\n      <td>...</td>\n      <td>...</td>\n      <td>...</td>\n      <td>...</td>\n      <td>...</td>\n      <td>...</td>\n      <td>...</td>\n      <td>...</td>\n      <td>...</td>\n      <td>...</td>\n      <td>...</td>\n      <td>...</td>\n      <td>...</td>\n      <td>...</td>\n      <td>...</td>\n    </tr>\n    <tr>\n      <th>331523</th>\n      <td>72.0</td>\n      <td>3.0</td>\n      <td>0.0</td>\n      <td>0.0</td>\n      <td>2.0</td>\n      <td>1.0</td>\n      <td>2.0</td>\n      <td>2.0</td>\n      <td>1.0</td>\n      <td>6.0</td>\n      <td>...</td>\n      <td>99.0</td>\n      <td>55.0</td>\n      <td>150.0</td>\n      <td>2.0</td>\n      <td>2.0</td>\n      <td>3.0</td>\n      <td>0.0</td>\n      <td>2.0</td>\n      <td>NaN</td>\n      <td>0.0</td>\n    </tr>\n    <tr>\n      <th>331524</th>\n      <td>72.0</td>\n      <td>3.0</td>\n      <td>0.0</td>\n      <td>0.0</td>\n      <td>1.0</td>\n      <td>1.0</td>\n      <td>2.0</td>\n      <td>3.0</td>\n      <td>2.0</td>\n      <td>12.0</td>\n      <td>...</td>\n      <td>4.0</td>\n      <td>76.0</td>\n      <td>152.0</td>\n      <td>2.0</td>\n      <td>2.0</td>\n      <td>3.0</td>\n      <td>0.0</td>\n      <td>2.0</td>\n      <td>NaN</td>\n      <td>0.0</td>\n    </tr>\n    <tr>\n      <th>331525</th>\n      <td>72.0</td>\n      <td>3.0</td>\n      <td>0.0</td>\n      <td>0.0</td>\n      <td>1.0</td>\n      <td>1.0</td>\n      <td>2.0</td>\n      <td>2.0</td>\n      <td>1.0</td>\n      <td>8.0</td>\n      <td>...</td>\n      <td>1.0</td>\n      <td>72.0</td>\n      <td>124.0</td>\n      <td>2.0</td>\n      <td>2.0</td>\n      <td>3.0</td>\n      <td>0.0</td>\n      <td>2.0</td>\n      <td>NaN</td>\n      <td>0.0</td>\n    </tr>\n    <tr>\n      <th>331526</th>\n      <td>72.0</td>\n      <td>3.0</td>\n      <td>0.0</td>\n      <td>0.0</td>\n      <td>1.0</td>\n      <td>1.0</td>\n      <td>2.0</td>\n      <td>1.0</td>\n      <td>1.0</td>\n      <td>6.0</td>\n      <td>...</td>\n      <td>99.0</td>\n      <td>80.0</td>\n      <td>173.0</td>\n      <td>2.0</td>\n      <td>7.0</td>\n      <td>3.0</td>\n      <td>4.0</td>\n      <td>2.0</td>\n      <td>NaN</td>\n      <td>0.0</td>\n    </tr>\n    <tr>\n      <th>331527</th>\n      <td>72.0</td>\n      <td>3.0</td>\n      <td>2.0</td>\n      <td>7.0</td>\n      <td>1.0</td>\n      <td>1.0</td>\n      <td>2.0</td>\n      <td>1.0</td>\n      <td>2.0</td>\n      <td>6.0</td>\n      <td>...</td>\n      <td>5.0</td>\n      <td>90.0</td>\n      <td>170.0</td>\n      <td>2.0</td>\n      <td>2.0</td>\n      <td>3.0</td>\n      <td>0.0</td>\n      <td>2.0</td>\n      <td>NaN</td>\n      <td>0.0</td>\n    </tr>\n  </tbody>\n</table>\n<p>331528 rows × 32 columns</p>\n</div>"
     },
     "execution_count": 88,
     "metadata": {},
     "output_type": "execute_result"
    }
   ],
   "source": [
    "heart"
   ],
   "metadata": {
    "collapsed": false,
    "pycharm": {
     "name": "#%%\n"
    }
   }
  },
  {
   "cell_type": "code",
   "execution_count": 32,
   "outputs": [],
   "source": [
    "heart.drop(columns = 'Unnamed: 0', inplace = True)"
   ],
   "metadata": {
    "collapsed": false,
    "pycharm": {
     "name": "#%%\n"
    }
   }
  },
  {
   "cell_type": "code",
   "execution_count": 33,
   "outputs": [],
   "source": [
    "heart.drop(columns = ['education_lvl', 'income_level', 'employment_status', 'rent_own', 'health_care_doctors','no_doc_bc_cost', 'smokeless_tobacco_products', 'high_risk_situations', 'ecigaret', 'state'], inplace = True)"
   ],
   "metadata": {
    "collapsed": false,
    "pycharm": {
     "name": "#%%\n"
    }
   }
  },
  {
   "cell_type": "code",
   "execution_count": 34,
   "outputs": [
    {
     "data": {
      "text/plain": "state                     float64\ngeneral_health            float64\nphysical_health           float64\nmental_health             float64\nhealth_insurance          float64\nlast_checkup              float64\nexcercise_30              float64\nsleep                     float64\nstroke                    float64\nasthma                    float64\nskin_cancer               float64\nother_cancer              float64\ncopd_type_issue           float64\narthritis_anyform         float64\ndepressive_disorder       float64\nkidney_disease            float64\ndiabetes                  float64\nweight_kg                 float64\nheight_m                  float64\ndifficulty_walking        float64\nsmoke100_lifetime         float64\nalcohol_consumption_30    float64\nheart_disease             float64\ndtype: object"
     },
     "execution_count": 34,
     "metadata": {},
     "output_type": "execute_result"
    }
   ],
   "source": [
    "heart.dtypes"
   ],
   "metadata": {
    "collapsed": false,
    "pycharm": {
     "name": "#%%\n"
    }
   }
  },
  {
   "cell_type": "markdown",
   "source": [
    "# Train-test-validation split"
   ],
   "metadata": {
    "collapsed": false,
    "pycharm": {
     "name": "#%% md\n"
    }
   }
  },
  {
   "cell_type": "code",
   "execution_count": 38,
   "outputs": [
    {
     "data": {
      "text/plain": "        general_health  physical_health  mental_health  health_insurance  \\\n0                  2.0              3.0           30.0               2.0   \n1                  3.0              0.0            0.0               1.0   \n2                  3.0              0.0            0.0               1.0   \n3                  2.0              0.0            0.0               1.0   \n4                  4.0             20.0           30.0               1.0   \n...                ...              ...            ...               ...   \n331523             3.0              0.0            0.0               2.0   \n331524             3.0              0.0            0.0               1.0   \n331525             3.0              0.0            0.0               1.0   \n331526             3.0              0.0            0.0               1.0   \n331527             3.0              2.0            7.0               1.0   \n\n        last_checkup  excercise_30  sleep  stroke  asthma  skin_cancer  ...  \\\n0                4.0           1.0    5.0     2.0     1.0          1.0  ...   \n1                1.0           1.0    7.0     2.0     1.0          2.0  ...   \n2                1.0           1.0    7.0     2.0     2.0          2.0  ...   \n3                1.0           1.0    7.0     1.0     2.0          2.0  ...   \n4                2.0           1.0    8.0     2.0     1.0          2.0  ...   \n...              ...           ...    ...     ...     ...          ...  ...   \n331523           2.0           1.0    6.0     2.0     2.0          2.0  ...   \n331524           3.0           2.0   12.0     2.0     2.0          2.0  ...   \n331525           2.0           1.0    8.0     2.0     2.0          2.0  ...   \n331526           1.0           1.0    6.0     2.0     2.0          2.0  ...   \n331527           1.0           2.0    6.0     1.0     1.0          2.0  ...   \n\n        copd_type_issue  arthritis_anyform  depressive_disorder  \\\n0                   1.0                1.0                  1.0   \n1                   2.0                1.0                  1.0   \n2                   2.0                1.0                  2.0   \n3                   2.0                2.0                  2.0   \n4                   1.0                1.0                  2.0   \n...                 ...                ...                  ...   \n331523              2.0                2.0                  1.0   \n331524              2.0                2.0                  2.0   \n331525              2.0                2.0                  2.0   \n331526              2.0                2.0                  2.0   \n331527              2.0                2.0                  1.0   \n\n        kidney_disease  diabetes  weight_kg  height_m  difficulty_walking  \\\n0                  2.0       1.0       48.0     170.0                 2.0   \n1                  2.0       3.0        NaN     163.0                 2.0   \n2                  2.0       3.0        NaN     173.0                 2.0   \n3                  2.0       3.0       57.0     168.0                 2.0   \n4                  2.0       1.0       82.0     175.0                 2.0   \n...                ...       ...        ...       ...                 ...   \n331523             2.0       3.0       55.0     150.0                 2.0   \n331524             2.0       3.0       76.0     152.0                 2.0   \n331525             2.0       3.0       72.0     124.0                 2.0   \n331526             2.0       3.0       80.0     173.0                 2.0   \n331527             NaN       4.0       90.0     170.0                 2.0   \n\n        smoke100_lifetime  alcohol_consumption_30  \n0                     1.0                     0.0  \n1                     NaN                     NaN  \n2                     2.0                     0.0  \n3                     2.0                     0.0  \n4                     1.0                     0.0  \n...                   ...                     ...  \n331523                2.0                     0.0  \n331524                2.0                     0.0  \n331525                2.0                     0.0  \n331526                7.0                     4.0  \n331527                2.0                     0.0  \n\n[331528 rows x 21 columns]",
      "text/html": "<div>\n<style scoped>\n    .dataframe tbody tr th:only-of-type {\n        vertical-align: middle;\n    }\n\n    .dataframe tbody tr th {\n        vertical-align: top;\n    }\n\n    .dataframe thead th {\n        text-align: right;\n    }\n</style>\n<table border=\"1\" class=\"dataframe\">\n  <thead>\n    <tr style=\"text-align: right;\">\n      <th></th>\n      <th>general_health</th>\n      <th>physical_health</th>\n      <th>mental_health</th>\n      <th>health_insurance</th>\n      <th>last_checkup</th>\n      <th>excercise_30</th>\n      <th>sleep</th>\n      <th>stroke</th>\n      <th>asthma</th>\n      <th>skin_cancer</th>\n      <th>...</th>\n      <th>copd_type_issue</th>\n      <th>arthritis_anyform</th>\n      <th>depressive_disorder</th>\n      <th>kidney_disease</th>\n      <th>diabetes</th>\n      <th>weight_kg</th>\n      <th>height_m</th>\n      <th>difficulty_walking</th>\n      <th>smoke100_lifetime</th>\n      <th>alcohol_consumption_30</th>\n    </tr>\n  </thead>\n  <tbody>\n    <tr>\n      <th>0</th>\n      <td>2.0</td>\n      <td>3.0</td>\n      <td>30.0</td>\n      <td>2.0</td>\n      <td>4.0</td>\n      <td>1.0</td>\n      <td>5.0</td>\n      <td>2.0</td>\n      <td>1.0</td>\n      <td>1.0</td>\n      <td>...</td>\n      <td>1.0</td>\n      <td>1.0</td>\n      <td>1.0</td>\n      <td>2.0</td>\n      <td>1.0</td>\n      <td>48.0</td>\n      <td>170.0</td>\n      <td>2.0</td>\n      <td>1.0</td>\n      <td>0.0</td>\n    </tr>\n    <tr>\n      <th>1</th>\n      <td>3.0</td>\n      <td>0.0</td>\n      <td>0.0</td>\n      <td>1.0</td>\n      <td>1.0</td>\n      <td>1.0</td>\n      <td>7.0</td>\n      <td>2.0</td>\n      <td>1.0</td>\n      <td>2.0</td>\n      <td>...</td>\n      <td>2.0</td>\n      <td>1.0</td>\n      <td>1.0</td>\n      <td>2.0</td>\n      <td>3.0</td>\n      <td>NaN</td>\n      <td>163.0</td>\n      <td>2.0</td>\n      <td>NaN</td>\n      <td>NaN</td>\n    </tr>\n    <tr>\n      <th>2</th>\n      <td>3.0</td>\n      <td>0.0</td>\n      <td>0.0</td>\n      <td>1.0</td>\n      <td>1.0</td>\n      <td>1.0</td>\n      <td>7.0</td>\n      <td>2.0</td>\n      <td>2.0</td>\n      <td>2.0</td>\n      <td>...</td>\n      <td>2.0</td>\n      <td>1.0</td>\n      <td>2.0</td>\n      <td>2.0</td>\n      <td>3.0</td>\n      <td>NaN</td>\n      <td>173.0</td>\n      <td>2.0</td>\n      <td>2.0</td>\n      <td>0.0</td>\n    </tr>\n    <tr>\n      <th>3</th>\n      <td>2.0</td>\n      <td>0.0</td>\n      <td>0.0</td>\n      <td>1.0</td>\n      <td>1.0</td>\n      <td>1.0</td>\n      <td>7.0</td>\n      <td>1.0</td>\n      <td>2.0</td>\n      <td>2.0</td>\n      <td>...</td>\n      <td>2.0</td>\n      <td>2.0</td>\n      <td>2.0</td>\n      <td>2.0</td>\n      <td>3.0</td>\n      <td>57.0</td>\n      <td>168.0</td>\n      <td>2.0</td>\n      <td>2.0</td>\n      <td>0.0</td>\n    </tr>\n    <tr>\n      <th>4</th>\n      <td>4.0</td>\n      <td>20.0</td>\n      <td>30.0</td>\n      <td>1.0</td>\n      <td>2.0</td>\n      <td>1.0</td>\n      <td>8.0</td>\n      <td>2.0</td>\n      <td>1.0</td>\n      <td>2.0</td>\n      <td>...</td>\n      <td>1.0</td>\n      <td>1.0</td>\n      <td>2.0</td>\n      <td>2.0</td>\n      <td>1.0</td>\n      <td>82.0</td>\n      <td>175.0</td>\n      <td>2.0</td>\n      <td>1.0</td>\n      <td>0.0</td>\n    </tr>\n    <tr>\n      <th>...</th>\n      <td>...</td>\n      <td>...</td>\n      <td>...</td>\n      <td>...</td>\n      <td>...</td>\n      <td>...</td>\n      <td>...</td>\n      <td>...</td>\n      <td>...</td>\n      <td>...</td>\n      <td>...</td>\n      <td>...</td>\n      <td>...</td>\n      <td>...</td>\n      <td>...</td>\n      <td>...</td>\n      <td>...</td>\n      <td>...</td>\n      <td>...</td>\n      <td>...</td>\n      <td>...</td>\n    </tr>\n    <tr>\n      <th>331523</th>\n      <td>3.0</td>\n      <td>0.0</td>\n      <td>0.0</td>\n      <td>2.0</td>\n      <td>2.0</td>\n      <td>1.0</td>\n      <td>6.0</td>\n      <td>2.0</td>\n      <td>2.0</td>\n      <td>2.0</td>\n      <td>...</td>\n      <td>2.0</td>\n      <td>2.0</td>\n      <td>1.0</td>\n      <td>2.0</td>\n      <td>3.0</td>\n      <td>55.0</td>\n      <td>150.0</td>\n      <td>2.0</td>\n      <td>2.0</td>\n      <td>0.0</td>\n    </tr>\n    <tr>\n      <th>331524</th>\n      <td>3.0</td>\n      <td>0.0</td>\n      <td>0.0</td>\n      <td>1.0</td>\n      <td>3.0</td>\n      <td>2.0</td>\n      <td>12.0</td>\n      <td>2.0</td>\n      <td>2.0</td>\n      <td>2.0</td>\n      <td>...</td>\n      <td>2.0</td>\n      <td>2.0</td>\n      <td>2.0</td>\n      <td>2.0</td>\n      <td>3.0</td>\n      <td>76.0</td>\n      <td>152.0</td>\n      <td>2.0</td>\n      <td>2.0</td>\n      <td>0.0</td>\n    </tr>\n    <tr>\n      <th>331525</th>\n      <td>3.0</td>\n      <td>0.0</td>\n      <td>0.0</td>\n      <td>1.0</td>\n      <td>2.0</td>\n      <td>1.0</td>\n      <td>8.0</td>\n      <td>2.0</td>\n      <td>2.0</td>\n      <td>2.0</td>\n      <td>...</td>\n      <td>2.0</td>\n      <td>2.0</td>\n      <td>2.0</td>\n      <td>2.0</td>\n      <td>3.0</td>\n      <td>72.0</td>\n      <td>124.0</td>\n      <td>2.0</td>\n      <td>2.0</td>\n      <td>0.0</td>\n    </tr>\n    <tr>\n      <th>331526</th>\n      <td>3.0</td>\n      <td>0.0</td>\n      <td>0.0</td>\n      <td>1.0</td>\n      <td>1.0</td>\n      <td>1.0</td>\n      <td>6.0</td>\n      <td>2.0</td>\n      <td>2.0</td>\n      <td>2.0</td>\n      <td>...</td>\n      <td>2.0</td>\n      <td>2.0</td>\n      <td>2.0</td>\n      <td>2.0</td>\n      <td>3.0</td>\n      <td>80.0</td>\n      <td>173.0</td>\n      <td>2.0</td>\n      <td>7.0</td>\n      <td>4.0</td>\n    </tr>\n    <tr>\n      <th>331527</th>\n      <td>3.0</td>\n      <td>2.0</td>\n      <td>7.0</td>\n      <td>1.0</td>\n      <td>1.0</td>\n      <td>2.0</td>\n      <td>6.0</td>\n      <td>1.0</td>\n      <td>1.0</td>\n      <td>2.0</td>\n      <td>...</td>\n      <td>2.0</td>\n      <td>2.0</td>\n      <td>1.0</td>\n      <td>NaN</td>\n      <td>4.0</td>\n      <td>90.0</td>\n      <td>170.0</td>\n      <td>2.0</td>\n      <td>2.0</td>\n      <td>0.0</td>\n    </tr>\n  </tbody>\n</table>\n<p>331528 rows × 21 columns</p>\n</div>"
     },
     "execution_count": 38,
     "metadata": {},
     "output_type": "execute_result"
    }
   ],
   "source": [
    "heart"
   ],
   "metadata": {
    "collapsed": false,
    "pycharm": {
     "name": "#%%\n"
    }
   }
  },
  {
   "cell_type": "code",
   "execution_count": null,
   "outputs": [],
   "source": [
    "target = heart.pop('heart_disease')"
   ],
   "metadata": {
    "collapsed": false,
    "pycharm": {
     "name": "#%%\n"
    }
   }
  },
  {
   "cell_type": "markdown",
   "source": [
    "### Temporary filling nulls to test to see if everything works"
   ],
   "metadata": {
    "collapsed": false,
    "pycharm": {
     "name": "#%% md\n"
    }
   }
  },
  {
   "cell_type": "code",
   "execution_count": 39,
   "outputs": [],
   "source": [
    "heart.fillna(1, inplace = True)"
   ],
   "metadata": {
    "collapsed": false,
    "pycharm": {
     "name": "#%%\n"
    }
   }
  },
  {
   "cell_type": "markdown",
   "source": [
    "# Preprocessing and Pipeline Building"
   ],
   "metadata": {
    "collapsed": false,
    "pycharm": {
     "name": "#%% md\n"
    }
   }
  },
  {
   "cell_type": "code",
   "execution_count": 40,
   "outputs": [],
   "source": [
    "train, val, test = np.split(target.sample(frac=1), [int(0.6*len(target)), int(0.8*len(target))])"
   ],
   "metadata": {
    "collapsed": false,
    "pycharm": {
     "name": "#%%\n"
    }
   }
  },
  {
   "cell_type": "code",
   "execution_count": 41,
   "outputs": [
    {
     "name": "stdout",
     "output_type": "stream",
     "text": [
      "198916 training examples\n",
      "66306 validation examples\n",
      "66306 test examples\n"
     ]
    }
   ],
   "source": [
    "print(len(train), 'training examples')\n",
    "print(len(val), 'validation examples')\n",
    "print(len(test), 'test examples')"
   ],
   "metadata": {
    "collapsed": false,
    "pycharm": {
     "name": "#%%\n"
    }
   }
  },
  {
   "cell_type": "markdown",
   "source": [],
   "metadata": {
    "collapsed": false,
    "pycharm": {
     "name": "#%% md\n"
    }
   }
  },
  {
   "cell_type": "code",
   "execution_count": 42,
   "outputs": [],
   "source": [
    "#creating list of columns names that needs to be either scaled or OHE\n",
    "continous = ['physical_health', 'mental_health', 'last_checkup' , 'excercise_30', 'sleep', 'weight_kg',\n",
    "             'height_m', 'alcohol_consumption_30']\n",
    "\n",
    "categorical = list(heart.columns.drop(continous))"
   ],
   "metadata": {
    "collapsed": false,
    "pycharm": {
     "name": "#%%\n"
    }
   }
  },
  {
   "cell_type": "code",
   "execution_count": 43,
   "outputs": [
    {
     "data": {
      "text/plain": "158521    0.0\n234402    1.0\n96015     0.0\n34        0.0\n243362    0.0\n         ... \n180922    0.0\n258355    0.0\n237796    0.0\n253112    0.0\n310884    0.0\nName: heart_disease, Length: 198916, dtype: float64"
     },
     "execution_count": 43,
     "metadata": {},
     "output_type": "execute_result"
    }
   ],
   "source": [
    "train"
   ],
   "metadata": {
    "collapsed": false,
    "pycharm": {
     "name": "#%%\n"
    }
   }
  },
  {
   "cell_type": "code",
   "execution_count": 45,
   "outputs": [],
   "source": [
    "# help to making input pipeline\n",
    "def df_to_dataset(dataframe, shuffle=True, batch_size=200):\n",
    "    df = heart.copy()\n",
    "    labels = target\n",
    "    df = {key: value[:,tf.newaxis] for key, value in heart.items()}\n",
    "    ds = tf.data.Dataset.from_tensor_slices((dict(df), labels))\n",
    "    if shuffle:\n",
    "        ds = ds.shuffle(buffer_size=len(heart))\n",
    "    ds = ds.batch(batch_size)\n",
    "    ds = ds.prefetch(batch_size)\n",
    "    return ds"
   ],
   "metadata": {
    "collapsed": false,
    "pycharm": {
     "name": "#%%\n"
    }
   }
  },
  {
   "cell_type": "code",
   "execution_count": 46,
   "outputs": [
    {
     "name": "stderr",
     "output_type": "stream",
     "text": [
      "C:\\Users\\xiao\\AppData\\Local\\Temp/ipykernel_2296/3061089781.py:5: FutureWarning: Support for multi-dimensional indexing (e.g. `obj[:, None]`) is deprecated and will be removed in a future version.  Convert to a numpy array before indexing instead.\n",
      "  df = {key: value[:,tf.newaxis] for key, value in heart.items()}\n"
     ]
    }
   ],
   "source": [
    "batch_size = 20\n",
    "train_ds = df_to_dataset(train, batch_size=batch_size)"
   ],
   "metadata": {
    "collapsed": false,
    "pycharm": {
     "name": "#%%\n"
    }
   }
  },
  {
   "cell_type": "code",
   "execution_count": 47,
   "outputs": [
    {
     "name": "stdout",
     "output_type": "stream",
     "text": [
      "Every feature: ['general_health', 'physical_health', 'mental_health', 'health_insurance', 'last_checkup', 'excercise_30', 'sleep', 'stroke', 'asthma', 'skin_cancer', 'other_cancer', 'copd_type_issue', 'arthritis_anyform', 'depressive_disorder', 'kidney_disease', 'diabetes', 'weight_kg', 'height_m', 'difficulty_walking', 'smoke100_lifetime', 'alcohol_consumption_30']\n",
      "A batch of sleep: tf.Tensor(\n",
      "[[7.]\n",
      " [7.]\n",
      " [7.]\n",
      " [8.]\n",
      " [8.]\n",
      " [7.]\n",
      " [8.]\n",
      " [7.]\n",
      " [8.]\n",
      " [8.]\n",
      " [8.]\n",
      " [7.]\n",
      " [7.]\n",
      " [7.]\n",
      " [7.]\n",
      " [7.]\n",
      " [7.]\n",
      " [6.]\n",
      " [8.]\n",
      " [8.]], shape=(20, 1), dtype=float64)\n",
      "A batch of targets: tf.Tensor([0. 0. 0. 0. 1. 0. 0. 0. 0. 0. 0. 1. 0. 0. 0. 1. 0. 0. 0. 0.], shape=(20,), dtype=float64)\n"
     ]
    }
   ],
   "source": [
    "#confirms that it works\n",
    "[(train_features, label_batch)] = train_ds.take(1)\n",
    "print('Every feature:', list(train_features.keys()))\n",
    "print('A batch of sleep:', train_features['sleep'])\n",
    "print('A batch of targets:', label_batch )"
   ],
   "metadata": {
    "collapsed": false,
    "pycharm": {
     "name": "#%%\n"
    }
   }
  },
  {
   "cell_type": "markdown",
   "source": [
    "# Functions"
   ],
   "metadata": {
    "collapsed": false,
    "pycharm": {
     "name": "#%% md\n"
    }
   }
  },
  {
   "cell_type": "code",
   "execution_count": 48,
   "outputs": [],
   "source": [
    "# function that creates the layer for each column for the CONTINUOUS features\n",
    "def get_normalization_layer(name,dataset):\n",
    "    '''\n",
    "    creates a layer for each continous feature as they each need to scaled and be their own layer\n",
    "    '''\n",
    "    # Create a Normalization layer for the feature.\n",
    "    normalizer = layers.Normalization(axis=None)\n",
    "\n",
    "    # Prepare a Dataset that only yields the feature.\n",
    "    feature_ds = dataset.map(lambda x, y: x[name])\n",
    "\n",
    "    # Learn the statistics of the data.\n",
    "    normalizer.adapt(feature_ds)\n",
    "\n",
    "    return normalizer"
   ],
   "metadata": {
    "collapsed": false,
    "pycharm": {
     "name": "#%%\n"
    }
   }
  },
  {
   "cell_type": "code",
   "execution_count": 49,
   "outputs": [
    {
     "data": {
      "text/plain": "<tf.Tensor: shape=(20, 1), dtype=float32, numpy=\narray([[-0.38896462],\n       [-0.38896462],\n       [-0.38896462],\n       [-0.28415087],\n       [-0.28415087],\n       [-0.38896462],\n       [-0.38896462],\n       [-0.38896462],\n       [ 2.7554474 ],\n       [-0.38896462],\n       [-0.38896462],\n       [-0.38896462],\n       [-0.38896462],\n       [-0.38896462],\n       [-0.38896462],\n       [ 1.7073101 ],\n       [-0.38896462],\n       [-0.38896462],\n       [-0.38896462],\n       [-0.38896462]], dtype=float32)>"
     },
     "execution_count": 49,
     "metadata": {},
     "output_type": "execute_result"
    }
   ],
   "source": [
    "testing_standarization = train_features['physical_health']\n",
    "layer = get_normalization_layer('physical_health', train_ds)\n",
    "layer(testing_standarization)"
   ],
   "metadata": {
    "collapsed": false,
    "pycharm": {
     "name": "#%%\n"
    }
   }
  },
  {
   "cell_type": "markdown",
   "source": [
    "#### Dealing with the categorical data"
   ],
   "metadata": {
    "collapsed": false,
    "pycharm": {
     "name": "#%% md\n"
    }
   }
  },
  {
   "cell_type": "code",
   "execution_count": 50,
   "outputs": [],
   "source": [
    "#creates the categorical layers for each column\n",
    "def get_category_encoding_layer(name, dataset,  max_tokens=None):\n",
    "    index = layers.IntegerLookup(max_tokens=max_tokens)\n",
    "\n",
    "    # Prepare a `tf.data.Dataset` that only yields the feature.\n",
    "    feature_ds = dataset.map(lambda x, y: x[name])\n",
    "\n",
    "    # Learn the set of possible values and assign them a fixed integer index.\n",
    "    index.adapt(feature_ds)\n",
    "\n",
    "    # Encode the integer indices.\n",
    "    encoder = layers.CategoryEncoding(num_tokens=index.vocabulary_size())\n",
    "\n",
    "    # Apply multi-hot encoding to the indices. The lambda function captures the\n",
    "    # layer, so you can use them, or include them in the Keras Functional model later.\n",
    "    return lambda feature: encoder(index(feature))"
   ],
   "metadata": {
    "collapsed": false,
    "pycharm": {
     "name": "#%%\n"
    }
   }
  },
  {
   "cell_type": "code",
   "execution_count": 51,
   "outputs": [
    {
     "data": {
      "text/plain": "<keras.layers.preprocessing.normalization.Normalization at 0x2812cfd56a0>"
     },
     "execution_count": 51,
     "metadata": {},
     "output_type": "execute_result"
    }
   ],
   "source": [
    "get_normalization_layer('general_health', train_ds)"
   ],
   "metadata": {
    "collapsed": false,
    "pycharm": {
     "name": "#%%\n"
    }
   }
  },
  {
   "cell_type": "markdown",
   "source": [
    "# working on our actual data instead of testing out part on these functions"
   ],
   "metadata": {
    "collapsed": false,
    "pycharm": {
     "name": "#%% md\n"
    }
   }
  },
  {
   "cell_type": "code",
   "execution_count": 52,
   "outputs": [],
   "source": [
    "all_inputs = []\n",
    "encoded_features = []\n",
    "\n",
    "#  Dealing with the continuous numbers\n",
    "for column_name in continous:\n",
    "    numeric_col = tf.keras.Input(shape=(1,), name=column_name)\n",
    "    normalization_layer = get_normalization_layer(column_name, train_ds)\n",
    "    encoded_numeric_col = normalization_layer(numeric_col)\n",
    "    all_inputs.append(numeric_col)\n",
    "    encoded_features.append(encoded_numeric_col)"
   ],
   "metadata": {
    "collapsed": false,
    "pycharm": {
     "name": "#%%\n"
    }
   }
  },
  {
   "cell_type": "code",
   "execution_count": 53,
   "outputs": [],
   "source": [
    "for column_name in categorical:\n",
    "    categorical_col = tf.keras.Input(shape=(1,), name=column_name)\n",
    "    encoding_layer = get_category_encoding_layer(column_name,train_ds)\n",
    "    encoded_categorical_col = encoding_layer(categorical_col)\n",
    "    all_inputs.append(categorical_col)\n",
    "    encoded_features.append(encoded_categorical_col)"
   ],
   "metadata": {
    "collapsed": false,
    "pycharm": {
     "name": "#%%\n"
    }
   }
  },
  {
   "cell_type": "code",
   "execution_count": 77,
   "outputs": [
    {
     "data": {
      "text/plain": "[<KerasTensor: shape=(None, 1) dtype=float32 (created by layer 'normalization_9')>,\n <KerasTensor: shape=(None, 1) dtype=float32 (created by layer 'normalization_10')>,\n <KerasTensor: shape=(None, 1) dtype=float32 (created by layer 'normalization_11')>,\n <KerasTensor: shape=(None, 1) dtype=float32 (created by layer 'normalization_12')>,\n <KerasTensor: shape=(None, 1) dtype=float32 (created by layer 'normalization_13')>,\n <KerasTensor: shape=(None, 1) dtype=float32 (created by layer 'normalization_14')>,\n <KerasTensor: shape=(None, 1) dtype=float32 (created by layer 'normalization_15')>,\n <KerasTensor: shape=(None, 1) dtype=float32 (created by layer 'normalization_16')>,\n <KerasTensor: shape=(None, 6) dtype=float32 (created by layer 'category_encoding')>,\n <KerasTensor: shape=(None, 3) dtype=float32 (created by layer 'category_encoding_1')>,\n <KerasTensor: shape=(None, 3) dtype=float32 (created by layer 'category_encoding_2')>,\n <KerasTensor: shape=(None, 3) dtype=float32 (created by layer 'category_encoding_3')>,\n <KerasTensor: shape=(None, 3) dtype=float32 (created by layer 'category_encoding_4')>,\n <KerasTensor: shape=(None, 3) dtype=float32 (created by layer 'category_encoding_5')>,\n <KerasTensor: shape=(None, 3) dtype=float32 (created by layer 'category_encoding_6')>,\n <KerasTensor: shape=(None, 3) dtype=float32 (created by layer 'category_encoding_7')>,\n <KerasTensor: shape=(None, 3) dtype=float32 (created by layer 'category_encoding_8')>,\n <KerasTensor: shape=(None, 3) dtype=float32 (created by layer 'category_encoding_9')>,\n <KerasTensor: shape=(None, 5) dtype=float32 (created by layer 'category_encoding_10')>,\n <KerasTensor: shape=(None, 3) dtype=float32 (created by layer 'category_encoding_11')>,\n <KerasTensor: shape=(None, 4) dtype=float32 (created by layer 'category_encoding_12')>]"
     },
     "execution_count": 77,
     "metadata": {},
     "output_type": "execute_result"
    }
   ],
   "source": [
    "encoded_features"
   ],
   "metadata": {
    "collapsed": false,
    "pycharm": {
     "name": "#%%\n"
    }
   }
  },
  {
   "cell_type": "code",
   "execution_count": 54,
   "outputs": [
    {
     "data": {
      "text/plain": "[<KerasTensor: shape=(None, 1) dtype=float32 (created by layer 'physical_health')>,\n <KerasTensor: shape=(None, 1) dtype=float32 (created by layer 'mental_health')>,\n <KerasTensor: shape=(None, 1) dtype=float32 (created by layer 'last_checkup')>,\n <KerasTensor: shape=(None, 1) dtype=float32 (created by layer 'excercise_30')>,\n <KerasTensor: shape=(None, 1) dtype=float32 (created by layer 'sleep')>,\n <KerasTensor: shape=(None, 1) dtype=float32 (created by layer 'weight_kg')>,\n <KerasTensor: shape=(None, 1) dtype=float32 (created by layer 'height_m')>,\n <KerasTensor: shape=(None, 1) dtype=float32 (created by layer 'alcohol_consumption_30')>,\n <KerasTensor: shape=(None, 1) dtype=float32 (created by layer 'general_health')>,\n <KerasTensor: shape=(None, 1) dtype=float32 (created by layer 'health_insurance')>,\n <KerasTensor: shape=(None, 1) dtype=float32 (created by layer 'stroke')>,\n <KerasTensor: shape=(None, 1) dtype=float32 (created by layer 'asthma')>,\n <KerasTensor: shape=(None, 1) dtype=float32 (created by layer 'skin_cancer')>,\n <KerasTensor: shape=(None, 1) dtype=float32 (created by layer 'other_cancer')>,\n <KerasTensor: shape=(None, 1) dtype=float32 (created by layer 'copd_type_issue')>,\n <KerasTensor: shape=(None, 1) dtype=float32 (created by layer 'arthritis_anyform')>,\n <KerasTensor: shape=(None, 1) dtype=float32 (created by layer 'depressive_disorder')>,\n <KerasTensor: shape=(None, 1) dtype=float32 (created by layer 'kidney_disease')>,\n <KerasTensor: shape=(None, 1) dtype=float32 (created by layer 'diabetes')>,\n <KerasTensor: shape=(None, 1) dtype=float32 (created by layer 'difficulty_walking')>,\n <KerasTensor: shape=(None, 1) dtype=float32 (created by layer 'smoke100_lifetime')>]"
     },
     "execution_count": 54,
     "metadata": {},
     "output_type": "execute_result"
    }
   ],
   "source": [
    "all_inputs"
   ],
   "metadata": {
    "collapsed": false,
    "pycharm": {
     "name": "#%%\n"
    }
   }
  },
  {
   "cell_type": "code",
   "execution_count": 71,
   "outputs": [
    {
     "data": {
      "text/plain": "<PrefetchDataset element_spec=({'general_health': TensorSpec(shape=(None, 1), dtype=tf.float64, name=None), 'physical_health': TensorSpec(shape=(None, 1), dtype=tf.float64, name=None), 'mental_health': TensorSpec(shape=(None, 1), dtype=tf.float64, name=None), 'health_insurance': TensorSpec(shape=(None, 1), dtype=tf.float64, name=None), 'last_checkup': TensorSpec(shape=(None, 1), dtype=tf.float64, name=None), 'excercise_30': TensorSpec(shape=(None, 1), dtype=tf.float64, name=None), 'sleep': TensorSpec(shape=(None, 1), dtype=tf.float64, name=None), 'stroke': TensorSpec(shape=(None, 1), dtype=tf.float64, name=None), 'asthma': TensorSpec(shape=(None, 1), dtype=tf.float64, name=None), 'skin_cancer': TensorSpec(shape=(None, 1), dtype=tf.float64, name=None), 'other_cancer': TensorSpec(shape=(None, 1), dtype=tf.float64, name=None), 'copd_type_issue': TensorSpec(shape=(None, 1), dtype=tf.float64, name=None), 'arthritis_anyform': TensorSpec(shape=(None, 1), dtype=tf.float64, name=None), 'depressive_disorder': TensorSpec(shape=(None, 1), dtype=tf.float64, name=None), 'kidney_disease': TensorSpec(shape=(None, 1), dtype=tf.float64, name=None), 'diabetes': TensorSpec(shape=(None, 1), dtype=tf.float64, name=None), 'weight_kg': TensorSpec(shape=(None, 1), dtype=tf.float64, name=None), 'height_m': TensorSpec(shape=(None, 1), dtype=tf.float64, name=None), 'difficulty_walking': TensorSpec(shape=(None, 1), dtype=tf.float64, name=None), 'smoke100_lifetime': TensorSpec(shape=(None, 1), dtype=tf.float64, name=None), 'alcohol_consumption_30': TensorSpec(shape=(None, 1), dtype=tf.float64, name=None)}, TensorSpec(shape=(None,), dtype=tf.float64, name=None))>"
     },
     "execution_count": 71,
     "metadata": {},
     "output_type": "execute_result"
    }
   ],
   "source": [
    "train_ds"
   ],
   "metadata": {
    "collapsed": false,
    "pycharm": {
     "name": "#%%\n"
    }
   }
  },
  {
   "cell_type": "code",
   "execution_count": 75,
   "outputs": [
    {
     "data": {
      "text/plain": "158521    0.0\n234402    1.0\n96015     0.0\n34        0.0\n243362    0.0\n         ... \n180922    0.0\n258355    0.0\n237796    0.0\n253112    0.0\n310884    0.0\nName: heart_disease, Length: 198916, dtype: float64"
     },
     "execution_count": 75,
     "metadata": {},
     "output_type": "execute_result"
    }
   ],
   "source": [
    "train"
   ],
   "metadata": {
    "collapsed": false,
    "pycharm": {
     "name": "#%%\n"
    }
   }
  },
  {
   "cell_type": "code",
   "execution_count": 76,
   "outputs": [
    {
     "data": {
      "text/plain": "<KerasTensor: shape=(None, 53) dtype=float32 (created by layer 'concatenate_4')>"
     },
     "execution_count": 76,
     "metadata": {},
     "output_type": "execute_result"
    }
   ],
   "source": [
    "all_features"
   ],
   "metadata": {
    "collapsed": false,
    "pycharm": {
     "name": "#%%\n"
    }
   }
  },
  {
   "cell_type": "code",
   "execution_count": null,
   "outputs": [],
   "source": [
    "batch_size = 2000\n",
    "train_ds = df_to_dataset(train, batch_size=batch_size)\n",
    "val_ds = df_to_dataset(val, shuffle=False, batch_size=batch_size)\n",
    "test_ds = df_to_dataset(test, shuffle=False, batch_size=batch_size)"
   ],
   "metadata": {
    "collapsed": false,
    "pycharm": {
     "name": "#%%\n"
    }
   }
  },
  {
   "cell_type": "code",
   "execution_count": 82,
   "outputs": [],
   "source": [
    "#uses functional keras API\n",
    "all_features = tf.keras.layers.concatenate(encoded_features)\n",
    "x = tf.keras.layers.Dense(53, activation=\"relu\")(all_features)\n",
    "x = tf.keras.layers.Dense(40, activation=\"relu\")(x)\n",
    "x = tf.keras.layers.Dropout(0.5)(x)\n",
    "output = tf.keras.layers.Dense(1, activation= 'sigmoid')(x)\n",
    "\n",
    "model = tf.keras.Model(all_inputs, output)"
   ],
   "metadata": {
    "collapsed": false,
    "pycharm": {
     "name": "#%%\n"
    }
   }
  },
  {
   "cell_type": "code",
   "execution_count": 83,
   "outputs": [],
   "source": [
    "model.compile(optimizer='adam',\n",
    "              loss=tf.keras.losses.BinaryCrossentropy(from_logits=True),\n",
    "              metrics=METRICS)"
   ],
   "metadata": {
    "collapsed": false,
    "pycharm": {
     "name": "#%%\n"
    }
   }
  },
  {
   "cell_type": "code",
   "execution_count": 84,
   "outputs": [
    {
     "name": "stdout",
     "output_type": "stream",
     "text": [
      "Epoch 1/10\n"
     ]
    },
    {
     "name": "stderr",
     "output_type": "stream",
     "text": [
      "C:\\Users\\xiao\\anaconda3\\lib\\site-packages\\tensorflow\\python\\util\\dispatch.py:1082: UserWarning: \"`binary_crossentropy` received `from_logits=True`, but the `output` argument was produced by a sigmoid or softmax activation and thus does not represent logits. Was this intended?\"\n",
      "  return dispatch_target(*args, **kwargs)\n"
     ]
    },
    {
     "name": "stdout",
     "output_type": "stream",
     "text": [
      "166/166 [==============================] - 14s 56ms/step - loss: 0.2984 - tp: 1858.0000 - fp: 5461.0000 - tn: 601519.0000 - fn: 54218.0000 - accuracy: 0.9100 - precision: 0.2539 - recall: 0.0331 - auc: 0.7449 - prc: 0.1947 - val_loss: 0.2412 - val_tp: 341.0000 - val_fp: 241.0000 - val_tn: 303249.0000 - val_fn: 27697.0000 - val_accuracy: 0.9157 - val_precision: 0.5859 - val_recall: 0.0122 - val_auc: 0.7994 - val_prc: 0.2929\n",
      "Epoch 2/10\n",
      "166/166 [==============================] - 12s 54ms/step - loss: 0.2479 - tp: 761.0000 - fp: 614.0000 - tn: 302876.0000 - fn: 27277.0000 - accuracy: 0.9159 - precision: 0.5535 - recall: 0.0271 - auc: 0.7818 - prc: 0.2811 - val_loss: 0.2379 - val_tp: 812.0000 - val_fp: 469.0000 - val_tn: 303021.0000 - val_fn: 27226.0000 - val_accuracy: 0.9165 - val_precision: 0.6339 - val_recall: 0.0290 - val_auc: 0.8072 - val_prc: 0.3093\n",
      "Epoch 3/10\n",
      "166/166 [==============================] - 12s 55ms/step - loss: 0.2458 - tp: 1028.0000 - fp: 768.0000 - tn: 302722.0000 - fn: 27010.0000 - accuracy: 0.9162 - precision: 0.5724 - recall: 0.0367 - auc: 0.7871 - prc: 0.2932 - val_loss: 0.2372 - val_tp: 966.0000 - val_fp: 551.0000 - val_tn: 302939.0000 - val_fn: 27072.0000 - val_accuracy: 0.9167 - val_precision: 0.6368 - val_recall: 0.0345 - val_auc: 0.8088 - val_prc: 0.3140\n",
      "Epoch 4/10\n",
      "166/166 [==============================] - 12s 55ms/step - loss: 0.2446 - tp: 1145.0000 - fp: 827.0000 - tn: 302663.0000 - fn: 26893.0000 - accuracy: 0.9164 - precision: 0.5806 - recall: 0.0408 - auc: 0.7897 - prc: 0.2973 - val_loss: 0.2369 - val_tp: 1145.0000 - val_fp: 696.0000 - val_tn: 302794.0000 - val_fn: 26893.0000 - val_accuracy: 0.9168 - val_precision: 0.6219 - val_recall: 0.0408 - val_auc: 0.8094 - val_prc: 0.3162\n",
      "Epoch 5/10\n",
      "166/166 [==============================] - 12s 58ms/step - loss: 0.2444 - tp: 1282.0000 - fp: 927.0000 - tn: 302563.0000 - fn: 26756.0000 - accuracy: 0.9165 - precision: 0.5804 - recall: 0.0457 - auc: 0.7901 - prc: 0.2997 - val_loss: 0.2369 - val_tp: 1127.0000 - val_fp: 673.0000 - val_tn: 302817.0000 - val_fn: 26911.0000 - val_accuracy: 0.9168 - val_precision: 0.6261 - val_recall: 0.0402 - val_auc: 0.8100 - val_prc: 0.3185\n",
      "Epoch 6/10\n",
      "166/166 [==============================] - 11s 53ms/step - loss: 0.2435 - tp: 1447.0000 - fp: 995.0000 - tn: 302495.0000 - fn: 26591.0000 - accuracy: 0.9168 - precision: 0.5925 - recall: 0.0516 - auc: 0.7920 - prc: 0.3034 - val_loss: 0.2361 - val_tp: 1460.0000 - val_fp: 927.0000 - val_tn: 302563.0000 - val_fn: 26578.0000 - val_accuracy: 0.9170 - val_precision: 0.6116 - val_recall: 0.0521 - val_auc: 0.8107 - val_prc: 0.3198\n",
      "Epoch 7/10\n",
      "166/166 [==============================] - 12s 54ms/step - loss: 0.2431 - tp: 1549.0000 - fp: 1084.0000 - tn: 302406.0000 - fn: 26489.0000 - accuracy: 0.9168 - precision: 0.5883 - recall: 0.0552 - auc: 0.7933 - prc: 0.3053 - val_loss: 0.2361 - val_tp: 1765.0000 - val_fp: 1205.0000 - val_tn: 302285.0000 - val_fn: 26273.0000 - val_accuracy: 0.9171 - val_precision: 0.5943 - val_recall: 0.0630 - val_auc: 0.8113 - val_prc: 0.3210\n",
      "Epoch 8/10\n",
      "166/166 [==============================] - 12s 55ms/step - loss: 0.2425 - tp: 1579.0000 - fp: 1113.0000 - tn: 302377.0000 - fn: 26459.0000 - accuracy: 0.9168 - precision: 0.5866 - recall: 0.0563 - auc: 0.7947 - prc: 0.3066 - val_loss: 0.2356 - val_tp: 1361.0000 - val_fp: 832.0000 - val_tn: 302658.0000 - val_fn: 26677.0000 - val_accuracy: 0.9170 - val_precision: 0.6206 - val_recall: 0.0485 - val_auc: 0.8118 - val_prc: 0.3221\n",
      "Epoch 9/10\n",
      "166/166 [==============================] - 12s 54ms/step - loss: 0.2423 - tp: 1467.0000 - fp: 1005.0000 - tn: 302485.0000 - fn: 26571.0000 - accuracy: 0.9168 - precision: 0.5934 - recall: 0.0523 - auc: 0.7947 - prc: 0.3079 - val_loss: 0.2355 - val_tp: 1538.0000 - val_fp: 972.0000 - val_tn: 302518.0000 - val_fn: 26500.0000 - val_accuracy: 0.9171 - val_precision: 0.6127 - val_recall: 0.0549 - val_auc: 0.8123 - val_prc: 0.3230\n",
      "Epoch 10/10\n",
      "166/166 [==============================] - 12s 54ms/step - loss: 0.2416 - tp: 1588.0000 - fp: 1058.0000 - tn: 302432.0000 - fn: 26450.0000 - accuracy: 0.9170 - precision: 0.6002 - recall: 0.0566 - auc: 0.7965 - prc: 0.3099 - val_loss: 0.2357 - val_tp: 1609.0000 - val_fp: 1033.0000 - val_tn: 302457.0000 - val_fn: 26429.0000 - val_accuracy: 0.9172 - val_precision: 0.6090 - val_recall: 0.0574 - val_auc: 0.8125 - val_prc: 0.3238\n"
     ]
    },
    {
     "data": {
      "text/plain": "<keras.callbacks.History at 0x28183e863d0>"
     },
     "execution_count": 84,
     "metadata": {},
     "output_type": "execute_result"
    }
   ],
   "source": [
    "model.fit(train_ds, epochs=10, validation_data=val_ds)"
   ],
   "metadata": {
    "collapsed": false,
    "pycharm": {
     "name": "#%%\n"
    }
   }
  },
  {
   "cell_type": "code",
   "execution_count": 85,
   "outputs": [
    {
     "name": "stdout",
     "output_type": "stream",
     "text": [
      "166/166 [==============================] - 3s 16ms/step - loss: 0.2357 - tp: 1609.0000 - fp: 1033.0000 - tn: 302457.0000 - fn: 26429.0000 - accuracy: 0.9172 - precision: 0.6090 - recall: 0.0574 - auc: 0.8125 - prc: 0.3238\n"
     ]
    },
    {
     "data": {
      "text/plain": "[0.2356855720281601,\n 1609.0,\n 1033.0,\n 302457.0,\n 26429.0,\n 0.9171653389930725,\n 0.6090083122253418,\n 0.057386405766010284,\n 0.8125298619270325,\n 0.3238392472267151]"
     },
     "execution_count": 85,
     "metadata": {},
     "output_type": "execute_result"
    }
   ],
   "source": [
    "model.evaluate(test_ds)"
   ],
   "metadata": {
    "collapsed": false,
    "pycharm": {
     "name": "#%%\n"
    }
   }
  },
  {
   "cell_type": "code",
   "execution_count": null,
   "outputs": [],
   "source": [
    "# Sequential API\n",
    "# model = tf.keras.Sequential([\n",
    "#     '''Pipeline/concating needed here''',\n",
    "#     tf.keras.layers.Dense(56, activation='relu'),\n",
    "#     tf.keras.layers.Dense(30, activation='relu'),\n",
    "#     tf.keras.layers.Dense(1)\n",
    "#   ])\n",
    "#\n",
    "# model.compile(optimizer='adam',\n",
    "#                 loss=tf.keras.losses.BinaryCrossentropy(from_logits=True),\n",
    "#                 metrics=METRICS)\n",
    "# model.fit(train_ds, epochs=10, validation_data=val_ds)"
   ],
   "metadata": {
    "collapsed": false,
    "pycharm": {
     "name": "#%%\n"
    }
   }
  },
  {
   "cell_type": "code",
   "execution_count": null,
   "outputs": [],
   "source": [],
   "metadata": {
    "collapsed": false,
    "pycharm": {
     "name": "#%%\n"
    }
   }
  },
  {
   "cell_type": "code",
   "execution_count": 58,
   "outputs": [],
   "source": [
    "METRICS = [\n",
    "    keras.metrics.TruePositives(name='tp'),\n",
    "    keras.metrics.FalsePositives(name='fp'),\n",
    "    keras.metrics.TrueNegatives(name='tn'),\n",
    "    keras.metrics.FalseNegatives(name='fn'),\n",
    "    keras.metrics.BinaryAccuracy(name='accuracy'),\n",
    "    keras.metrics.Precision(name='precision'),\n",
    "    keras.metrics.Recall(name='recall'),\n",
    "    keras.metrics.AUC(name='auc'),\n",
    "    keras.metrics.AUC(name='prc', curve='PR'), # precision-recall curve\n",
    "]\n"
   ],
   "metadata": {
    "collapsed": false,
    "pycharm": {
     "name": "#%%\n"
    }
   }
  },
  {
   "cell_type": "code",
   "execution_count": 66,
   "outputs": [],
   "source": [],
   "metadata": {
    "collapsed": false,
    "pycharm": {
     "name": "#%%\n"
    }
   }
  },
  {
   "cell_type": "code",
   "execution_count": null,
   "outputs": [],
   "source": [
    "# tf.keras.utils.plot_model(model, show_shapes=True, rankdir=\"LR\")"
   ],
   "metadata": {
    "collapsed": false,
    "pycharm": {
     "name": "#%%\n"
    }
   }
  },
  {
   "cell_type": "code",
   "execution_count": 60,
   "outputs": [
    {
     "name": "stderr",
     "output_type": "stream",
     "text": [
      "C:\\Users\\xiao\\AppData\\Local\\Temp/ipykernel_2296/3061089781.py:5: FutureWarning: Support for multi-dimensional indexing (e.g. `obj[:, None]`) is deprecated and will be removed in a future version.  Convert to a numpy array before indexing instead.\n",
      "  df = {key: value[:,tf.newaxis] for key, value in heart.items()}\n"
     ]
    }
   ],
   "source": [],
   "metadata": {
    "collapsed": false,
    "pycharm": {
     "name": "#%%\n"
    }
   }
  },
  {
   "cell_type": "code",
   "execution_count": 67,
   "outputs": [
    {
     "name": "stdout",
     "output_type": "stream",
     "text": [
      "Epoch 1/10\n"
     ]
    },
    {
     "ename": "InvalidArgumentError",
     "evalue": "Graph execution error:\n\nDetected at node 'assert_greater_equal/Assert/AssertGuard/Assert' defined at (most recent call last):\n    File \"C:\\Users\\xiao\\anaconda3\\lib\\runpy.py\", line 197, in _run_module_as_main\n      return _run_code(code, main_globals, None,\n    File \"C:\\Users\\xiao\\anaconda3\\lib\\runpy.py\", line 87, in _run_code\n      exec(code, run_globals)\n    File \"C:\\Users\\xiao\\anaconda3\\lib\\site-packages\\ipykernel_launcher.py\", line 16, in <module>\n      app.launch_new_instance()\n    File \"C:\\Users\\xiao\\anaconda3\\lib\\site-packages\\traitlets\\config\\application.py\", line 846, in launch_instance\n      app.start()\n    File \"C:\\Users\\xiao\\anaconda3\\lib\\site-packages\\ipykernel\\kernelapp.py\", line 677, in start\n      self.io_loop.start()\n    File \"C:\\Users\\xiao\\anaconda3\\lib\\site-packages\\tornado\\platform\\asyncio.py\", line 199, in start\n      self.asyncio_loop.run_forever()\n    File \"C:\\Users\\xiao\\anaconda3\\lib\\asyncio\\base_events.py\", line 596, in run_forever\n      self._run_once()\n    File \"C:\\Users\\xiao\\anaconda3\\lib\\asyncio\\base_events.py\", line 1890, in _run_once\n      handle._run()\n    File \"C:\\Users\\xiao\\anaconda3\\lib\\asyncio\\events.py\", line 80, in _run\n      self._context.run(self._callback, *self._args)\n    File \"C:\\Users\\xiao\\anaconda3\\lib\\site-packages\\ipykernel\\kernelbase.py\", line 457, in dispatch_queue\n      await self.process_one()\n    File \"C:\\Users\\xiao\\anaconda3\\lib\\site-packages\\ipykernel\\kernelbase.py\", line 446, in process_one\n      await dispatch(*args)\n    File \"C:\\Users\\xiao\\anaconda3\\lib\\site-packages\\ipykernel\\kernelbase.py\", line 353, in dispatch_shell\n      await result\n    File \"C:\\Users\\xiao\\anaconda3\\lib\\site-packages\\ipykernel\\kernelbase.py\", line 648, in execute_request\n      reply_content = await reply_content\n    File \"C:\\Users\\xiao\\anaconda3\\lib\\site-packages\\ipykernel\\ipkernel.py\", line 353, in do_execute\n      res = shell.run_cell(code, store_history=store_history, silent=silent)\n    File \"C:\\Users\\xiao\\anaconda3\\lib\\site-packages\\ipykernel\\zmqshell.py\", line 533, in run_cell\n      return super(ZMQInteractiveShell, self).run_cell(*args, **kwargs)\n    File \"C:\\Users\\xiao\\anaconda3\\lib\\site-packages\\IPython\\core\\interactiveshell.py\", line 2901, in run_cell\n      result = self._run_cell(\n    File \"C:\\Users\\xiao\\anaconda3\\lib\\site-packages\\IPython\\core\\interactiveshell.py\", line 2947, in _run_cell\n      return runner(coro)\n    File \"C:\\Users\\xiao\\anaconda3\\lib\\site-packages\\IPython\\core\\async_helpers.py\", line 68, in _pseudo_sync_runner\n      coro.send(None)\n    File \"C:\\Users\\xiao\\anaconda3\\lib\\site-packages\\IPython\\core\\interactiveshell.py\", line 3172, in run_cell_async\n      has_raised = await self.run_ast_nodes(code_ast.body, cell_name,\n    File \"C:\\Users\\xiao\\anaconda3\\lib\\site-packages\\IPython\\core\\interactiveshell.py\", line 3364, in run_ast_nodes\n      if (await self.run_code(code, result,  async_=asy)):\n    File \"C:\\Users\\xiao\\anaconda3\\lib\\site-packages\\IPython\\core\\interactiveshell.py\", line 3444, in run_code\n      exec(code_obj, self.user_global_ns, self.user_ns)\n    File \"C:\\Users\\xiao\\AppData\\Local\\Temp/ipykernel_2296/151378221.py\", line 1, in <module>\n      model.fit(train_ds, epochs=10, validation_data=val_ds)\n    File \"C:\\Users\\xiao\\anaconda3\\lib\\site-packages\\keras\\utils\\traceback_utils.py\", line 64, in error_handler\n      return fn(*args, **kwargs)\n    File \"C:\\Users\\xiao\\anaconda3\\lib\\site-packages\\keras\\engine\\training.py\", line 1409, in fit\n      tmp_logs = self.train_function(iterator)\n    File \"C:\\Users\\xiao\\anaconda3\\lib\\site-packages\\keras\\engine\\training.py\", line 1051, in train_function\n      return step_function(self, iterator)\n    File \"C:\\Users\\xiao\\anaconda3\\lib\\site-packages\\keras\\engine\\training.py\", line 1040, in step_function\n      outputs = model.distribute_strategy.run(run_step, args=(data,))\n    File \"C:\\Users\\xiao\\anaconda3\\lib\\site-packages\\keras\\engine\\training.py\", line 1030, in run_step\n      outputs = model.train_step(data)\n    File \"C:\\Users\\xiao\\anaconda3\\lib\\site-packages\\keras\\engine\\training.py\", line 894, in train_step\n      return self.compute_metrics(x, y, y_pred, sample_weight)\n    File \"C:\\Users\\xiao\\anaconda3\\lib\\site-packages\\keras\\engine\\training.py\", line 987, in compute_metrics\n      self.compiled_metrics.update_state(y, y_pred, sample_weight)\n    File \"C:\\Users\\xiao\\anaconda3\\lib\\site-packages\\keras\\engine\\compile_utils.py\", line 501, in update_state\n      metric_obj.update_state(y_t, y_p, sample_weight=mask)\n    File \"C:\\Users\\xiao\\anaconda3\\lib\\site-packages\\keras\\utils\\metrics_utils.py\", line 70, in decorated\n      update_op = update_state_fn(*args, **kwargs)\n    File \"C:\\Users\\xiao\\anaconda3\\lib\\site-packages\\keras\\metrics\\base_metric.py\", line 140, in update_state_fn\n      return ag_update_state(*args, **kwargs)\n    File \"C:\\Users\\xiao\\anaconda3\\lib\\site-packages\\keras\\metrics\\metrics.py\", line 483, in update_state\n      return metrics_utils.update_confusion_matrix_variables(\n    File \"C:\\Users\\xiao\\anaconda3\\lib\\site-packages\\keras\\utils\\metrics_utils.py\", line 602, in update_confusion_matrix_variables\n      tf.debugging.assert_greater_equal(\nNode: 'assert_greater_equal/Assert/AssertGuard/Assert'\nassertion failed: [predictions must be >= 0] [Condition x >= y did not hold element-wise:] [x (model_2/dense_8/BiasAdd:0) = ] [[1.03618062][-0.0436026827][1.20806384]...] [y (Cast_4/x:0) = ] [0]\n\t [[{{node assert_greater_equal/Assert/AssertGuard/Assert}}]] [Op:__inference_train_function_978674]",
     "output_type": "error",
     "traceback": [
      "\u001B[1;31m---------------------------------------------------------------------------\u001B[0m",
      "\u001B[1;31mInvalidArgumentError\u001B[0m                      Traceback (most recent call last)",
      "\u001B[1;32m~\\AppData\\Local\\Temp/ipykernel_2296/151378221.py\u001B[0m in \u001B[0;36m<module>\u001B[1;34m\u001B[0m\n\u001B[1;32m----> 1\u001B[1;33m \u001B[0mmodel\u001B[0m\u001B[1;33m.\u001B[0m\u001B[0mfit\u001B[0m\u001B[1;33m(\u001B[0m\u001B[0mtrain_ds\u001B[0m\u001B[1;33m,\u001B[0m \u001B[0mepochs\u001B[0m\u001B[1;33m=\u001B[0m\u001B[1;36m10\u001B[0m\u001B[1;33m,\u001B[0m \u001B[0mvalidation_data\u001B[0m\u001B[1;33m=\u001B[0m\u001B[0mval_ds\u001B[0m\u001B[1;33m)\u001B[0m\u001B[1;33m\u001B[0m\u001B[1;33m\u001B[0m\u001B[0m\n\u001B[0m",
      "\u001B[1;32m~\\anaconda3\\lib\\site-packages\\keras\\utils\\traceback_utils.py\u001B[0m in \u001B[0;36merror_handler\u001B[1;34m(*args, **kwargs)\u001B[0m\n\u001B[0;32m     65\u001B[0m     \u001B[1;32mexcept\u001B[0m \u001B[0mException\u001B[0m \u001B[1;32mas\u001B[0m \u001B[0me\u001B[0m\u001B[1;33m:\u001B[0m  \u001B[1;31m# pylint: disable=broad-except\u001B[0m\u001B[1;33m\u001B[0m\u001B[1;33m\u001B[0m\u001B[0m\n\u001B[0;32m     66\u001B[0m       \u001B[0mfiltered_tb\u001B[0m \u001B[1;33m=\u001B[0m \u001B[0m_process_traceback_frames\u001B[0m\u001B[1;33m(\u001B[0m\u001B[0me\u001B[0m\u001B[1;33m.\u001B[0m\u001B[0m__traceback__\u001B[0m\u001B[1;33m)\u001B[0m\u001B[1;33m\u001B[0m\u001B[1;33m\u001B[0m\u001B[0m\n\u001B[1;32m---> 67\u001B[1;33m       \u001B[1;32mraise\u001B[0m \u001B[0me\u001B[0m\u001B[1;33m.\u001B[0m\u001B[0mwith_traceback\u001B[0m\u001B[1;33m(\u001B[0m\u001B[0mfiltered_tb\u001B[0m\u001B[1;33m)\u001B[0m \u001B[1;32mfrom\u001B[0m \u001B[1;32mNone\u001B[0m\u001B[1;33m\u001B[0m\u001B[1;33m\u001B[0m\u001B[0m\n\u001B[0m\u001B[0;32m     68\u001B[0m     \u001B[1;32mfinally\u001B[0m\u001B[1;33m:\u001B[0m\u001B[1;33m\u001B[0m\u001B[1;33m\u001B[0m\u001B[0m\n\u001B[0;32m     69\u001B[0m       \u001B[1;32mdel\u001B[0m \u001B[0mfiltered_tb\u001B[0m\u001B[1;33m\u001B[0m\u001B[1;33m\u001B[0m\u001B[0m\n",
      "\u001B[1;32m~\\anaconda3\\lib\\site-packages\\tensorflow\\python\\eager\\execute.py\u001B[0m in \u001B[0;36mquick_execute\u001B[1;34m(op_name, num_outputs, inputs, attrs, ctx, name)\u001B[0m\n\u001B[0;32m     52\u001B[0m   \u001B[1;32mtry\u001B[0m\u001B[1;33m:\u001B[0m\u001B[1;33m\u001B[0m\u001B[1;33m\u001B[0m\u001B[0m\n\u001B[0;32m     53\u001B[0m     \u001B[0mctx\u001B[0m\u001B[1;33m.\u001B[0m\u001B[0mensure_initialized\u001B[0m\u001B[1;33m(\u001B[0m\u001B[1;33m)\u001B[0m\u001B[1;33m\u001B[0m\u001B[1;33m\u001B[0m\u001B[0m\n\u001B[1;32m---> 54\u001B[1;33m     tensors = pywrap_tfe.TFE_Py_Execute(ctx._handle, device_name, op_name,\n\u001B[0m\u001B[0;32m     55\u001B[0m                                         inputs, attrs, num_outputs)\n\u001B[0;32m     56\u001B[0m   \u001B[1;32mexcept\u001B[0m \u001B[0mcore\u001B[0m\u001B[1;33m.\u001B[0m\u001B[0m_NotOkStatusException\u001B[0m \u001B[1;32mas\u001B[0m \u001B[0me\u001B[0m\u001B[1;33m:\u001B[0m\u001B[1;33m\u001B[0m\u001B[1;33m\u001B[0m\u001B[0m\n",
      "\u001B[1;31mInvalidArgumentError\u001B[0m: Graph execution error:\n\nDetected at node 'assert_greater_equal/Assert/AssertGuard/Assert' defined at (most recent call last):\n    File \"C:\\Users\\xiao\\anaconda3\\lib\\runpy.py\", line 197, in _run_module_as_main\n      return _run_code(code, main_globals, None,\n    File \"C:\\Users\\xiao\\anaconda3\\lib\\runpy.py\", line 87, in _run_code\n      exec(code, run_globals)\n    File \"C:\\Users\\xiao\\anaconda3\\lib\\site-packages\\ipykernel_launcher.py\", line 16, in <module>\n      app.launch_new_instance()\n    File \"C:\\Users\\xiao\\anaconda3\\lib\\site-packages\\traitlets\\config\\application.py\", line 846, in launch_instance\n      app.start()\n    File \"C:\\Users\\xiao\\anaconda3\\lib\\site-packages\\ipykernel\\kernelapp.py\", line 677, in start\n      self.io_loop.start()\n    File \"C:\\Users\\xiao\\anaconda3\\lib\\site-packages\\tornado\\platform\\asyncio.py\", line 199, in start\n      self.asyncio_loop.run_forever()\n    File \"C:\\Users\\xiao\\anaconda3\\lib\\asyncio\\base_events.py\", line 596, in run_forever\n      self._run_once()\n    File \"C:\\Users\\xiao\\anaconda3\\lib\\asyncio\\base_events.py\", line 1890, in _run_once\n      handle._run()\n    File \"C:\\Users\\xiao\\anaconda3\\lib\\asyncio\\events.py\", line 80, in _run\n      self._context.run(self._callback, *self._args)\n    File \"C:\\Users\\xiao\\anaconda3\\lib\\site-packages\\ipykernel\\kernelbase.py\", line 457, in dispatch_queue\n      await self.process_one()\n    File \"C:\\Users\\xiao\\anaconda3\\lib\\site-packages\\ipykernel\\kernelbase.py\", line 446, in process_one\n      await dispatch(*args)\n    File \"C:\\Users\\xiao\\anaconda3\\lib\\site-packages\\ipykernel\\kernelbase.py\", line 353, in dispatch_shell\n      await result\n    File \"C:\\Users\\xiao\\anaconda3\\lib\\site-packages\\ipykernel\\kernelbase.py\", line 648, in execute_request\n      reply_content = await reply_content\n    File \"C:\\Users\\xiao\\anaconda3\\lib\\site-packages\\ipykernel\\ipkernel.py\", line 353, in do_execute\n      res = shell.run_cell(code, store_history=store_history, silent=silent)\n    File \"C:\\Users\\xiao\\anaconda3\\lib\\site-packages\\ipykernel\\zmqshell.py\", line 533, in run_cell\n      return super(ZMQInteractiveShell, self).run_cell(*args, **kwargs)\n    File \"C:\\Users\\xiao\\anaconda3\\lib\\site-packages\\IPython\\core\\interactiveshell.py\", line 2901, in run_cell\n      result = self._run_cell(\n    File \"C:\\Users\\xiao\\anaconda3\\lib\\site-packages\\IPython\\core\\interactiveshell.py\", line 2947, in _run_cell\n      return runner(coro)\n    File \"C:\\Users\\xiao\\anaconda3\\lib\\site-packages\\IPython\\core\\async_helpers.py\", line 68, in _pseudo_sync_runner\n      coro.send(None)\n    File \"C:\\Users\\xiao\\anaconda3\\lib\\site-packages\\IPython\\core\\interactiveshell.py\", line 3172, in run_cell_async\n      has_raised = await self.run_ast_nodes(code_ast.body, cell_name,\n    File \"C:\\Users\\xiao\\anaconda3\\lib\\site-packages\\IPython\\core\\interactiveshell.py\", line 3364, in run_ast_nodes\n      if (await self.run_code(code, result,  async_=asy)):\n    File \"C:\\Users\\xiao\\anaconda3\\lib\\site-packages\\IPython\\core\\interactiveshell.py\", line 3444, in run_code\n      exec(code_obj, self.user_global_ns, self.user_ns)\n    File \"C:\\Users\\xiao\\AppData\\Local\\Temp/ipykernel_2296/151378221.py\", line 1, in <module>\n      model.fit(train_ds, epochs=10, validation_data=val_ds)\n    File \"C:\\Users\\xiao\\anaconda3\\lib\\site-packages\\keras\\utils\\traceback_utils.py\", line 64, in error_handler\n      return fn(*args, **kwargs)\n    File \"C:\\Users\\xiao\\anaconda3\\lib\\site-packages\\keras\\engine\\training.py\", line 1409, in fit\n      tmp_logs = self.train_function(iterator)\n    File \"C:\\Users\\xiao\\anaconda3\\lib\\site-packages\\keras\\engine\\training.py\", line 1051, in train_function\n      return step_function(self, iterator)\n    File \"C:\\Users\\xiao\\anaconda3\\lib\\site-packages\\keras\\engine\\training.py\", line 1040, in step_function\n      outputs = model.distribute_strategy.run(run_step, args=(data,))\n    File \"C:\\Users\\xiao\\anaconda3\\lib\\site-packages\\keras\\engine\\training.py\", line 1030, in run_step\n      outputs = model.train_step(data)\n    File \"C:\\Users\\xiao\\anaconda3\\lib\\site-packages\\keras\\engine\\training.py\", line 894, in train_step\n      return self.compute_metrics(x, y, y_pred, sample_weight)\n    File \"C:\\Users\\xiao\\anaconda3\\lib\\site-packages\\keras\\engine\\training.py\", line 987, in compute_metrics\n      self.compiled_metrics.update_state(y, y_pred, sample_weight)\n    File \"C:\\Users\\xiao\\anaconda3\\lib\\site-packages\\keras\\engine\\compile_utils.py\", line 501, in update_state\n      metric_obj.update_state(y_t, y_p, sample_weight=mask)\n    File \"C:\\Users\\xiao\\anaconda3\\lib\\site-packages\\keras\\utils\\metrics_utils.py\", line 70, in decorated\n      update_op = update_state_fn(*args, **kwargs)\n    File \"C:\\Users\\xiao\\anaconda3\\lib\\site-packages\\keras\\metrics\\base_metric.py\", line 140, in update_state_fn\n      return ag_update_state(*args, **kwargs)\n    File \"C:\\Users\\xiao\\anaconda3\\lib\\site-packages\\keras\\metrics\\metrics.py\", line 483, in update_state\n      return metrics_utils.update_confusion_matrix_variables(\n    File \"C:\\Users\\xiao\\anaconda3\\lib\\site-packages\\keras\\utils\\metrics_utils.py\", line 602, in update_confusion_matrix_variables\n      tf.debugging.assert_greater_equal(\nNode: 'assert_greater_equal/Assert/AssertGuard/Assert'\nassertion failed: [predictions must be >= 0] [Condition x >= y did not hold element-wise:] [x (model_2/dense_8/BiasAdd:0) = ] [[1.03618062][-0.0436026827][1.20806384]...] [y (Cast_4/x:0) = ] [0]\n\t [[{{node assert_greater_equal/Assert/AssertGuard/Assert}}]] [Op:__inference_train_function_978674]"
     ]
    }
   ],
   "source": [],
   "metadata": {
    "collapsed": false,
    "pycharm": {
     "name": "#%%\n"
    }
   }
  },
  {
   "cell_type": "code",
   "execution_count": null,
   "outputs": [],
   "source": [
    "# # Addition of the normalization layer into Sequential layer\n",
    "# def get_basic_model():\n",
    "#   model = tf.keras.Sequential([\n",
    "#     normalizer,\n",
    "#     tf.keras.layers.Dense(10, activation='relu'),\n",
    "#     tf.keras.layers.Dense(10, activation='relu'),\n",
    "#     tf.keras.layers.Dense(1)\n",
    "#   ])\n",
    "#\n",
    "#   model.compile(optimizer='adam',\n",
    "#                 loss=tf.keras.losses.BinaryCrossentropy(from_logits=True),\n",
    "#                 metrics=['accuracy'])\n",
    "#   return model"
   ],
   "metadata": {
    "collapsed": false,
    "pycharm": {
     "name": "#%%\n"
    }
   }
  },
  {
   "cell_type": "code",
   "execution_count": null,
   "outputs": [],
   "source": [
    "# model = get_basic_model()\n",
    "# model.fit(continous_feat, target, epochs=15, batch_size=BATCH_SIZE)"
   ],
   "metadata": {
    "collapsed": false,
    "pycharm": {
     "name": "#%%\n"
    }
   }
  },
  {
   "cell_type": "code",
   "execution_count": null,
   "outputs": [],
   "source": [],
   "metadata": {
    "collapsed": false,
    "pycharm": {
     "name": "#%%\n"
    }
   }
  },
  {
   "cell_type": "code",
   "execution_count": null,
   "outputs": [],
   "source": [],
   "metadata": {
    "collapsed": false,
    "pycharm": {
     "name": "#%%\n"
    }
   }
  }
 ],
 "metadata": {
  "kernelspec": {
   "name": "new_tensor",
   "language": "python",
   "display_name": "new_tensor"
  },
  "language_info": {
   "codemirror_mode": {
    "name": "ipython",
    "version": 2
   },
   "file_extension": ".py",
   "mimetype": "text/x-python",
   "name": "python",
   "nbconvert_exporter": "python",
   "pygments_lexer": "ipython2",
   "version": "2.7.6"
  }
 },
 "nbformat": 4,
 "nbformat_minor": 0
}