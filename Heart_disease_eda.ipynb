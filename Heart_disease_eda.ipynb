{
 "cells": [
  {
   "cell_type": "markdown",
   "id": "17a50ff8",
   "metadata": {},
   "source": [
    "# Predicting Heart Disease"
   ]
  },
  {
   "cell_type": "markdown",
   "id": "fd71231e",
   "metadata": {},
   "source": [
    "Image"
   ]
  },
  {
   "cell_type": "markdown",
   "id": "7104b7bd",
   "metadata": {},
   "source": [
    "Author: Xiaohua Su\n",
    "\n",
    "Date: May 17th, 2022"
   ]
  },
  {
   "cell_type": "markdown",
   "id": "64f6b7af",
   "metadata": {},
   "source": [
    "# Overview"
   ]
  },
  {
   "cell_type": "markdown",
   "id": "746aceaa",
   "metadata": {},
   "source": [
    "As of 2020, heart disease is the leading cause of death in the US, with the disease claiming close to 700,000 that year. It is the leading cause of death regardless of gender and for most race/ethnicity. This disease can lead to early death in individuals, increase medicial visits and a lost of productivity in our economy. As such, it is important to try to address this.\n"
   ]
  },
  {
   "cell_type": "markdown",
   "id": "504fcd4b",
   "metadata": {},
   "source": [
    "# Business Problem"
   ]
  },
  {
   "cell_type": "markdown",
   "id": "350f5a10",
   "metadata": {},
   "source": [
    "With how prevalent heart disease is in the nation, it is important for doctors to discuss with their patients about early prevention. In order to do this, doctors would need to know more about a patient’s history in order to diagnose them with having heart disease, potentially requiring blood work in addition. Getting the results from the blood work usually happens after the patient’s is already out of the doctor’s office. Calls will then be made to discuss these results and potential follow up appointments will be made. \n",
    "\n",
    "Our model aims to predict whether a patient, who comes into a doctor’s office/hospital, has heart disease. By being able to predict if the patient has heart disease or not, we can then flag this patient for the doctor electronically. Instead of having to waiting for a phone call for a discussion on, that may not be between the patient and doctor, conversation between the doctor and patient about managing heart disease can begin. This flagging can help start the conversation between the doctor and patient about early prevention steps that can be made and can help lead the doctor in asking certain questions for further verification and testing."
   ]
  },
  {
   "cell_type": "markdown",
   "id": "25ad667c",
   "metadata": {},
   "source": [
    "# Data"
   ]
  },
  {
   "cell_type": "markdown",
   "id": "0698d5e3",
   "metadata": {},
   "source": [
    "The data was taken from the [CDC's 2020 Behavorial Risk Factor Surveillance System](https://www.cdc.gov/brfss/annual_data/annual_2020.html) (BRFSS). Due to how large the data is, this data was not uploaded to the github but can be found where the data was taken underneath the data files section.\n",
    "\n",
    "It is a survey data performed between 2020 to 2021 from the CDC to monitor people's health-behavior, chronic health conditions, and use of services to help manage their disease. The data contains information of the individual such as `race` and `gender` that we will not use to avoid these biases in our models. A new column was created as the data does not specifically have a column called heart disease but instead has two two columns called `cvdinfr4` and `cvdcrhd4` that corresponded with whether the individual was ever told/diagnose with having a heart attack and told that they had coronary heart disease. Both questions, get at the issue of heart disease."
   ]
  },
  {
   "cell_type": "markdown",
   "id": "f90f5b60",
   "metadata": {},
   "source": [
    "# Data Prep"
   ]
  },
  {
   "cell_type": "code",
   "execution_count": null,
   "id": "cec4df5d",
   "metadata": {},
   "outputs": [],
   "source": [
    "import pandas as pd\n",
    "import numpy as np\n",
    "import matplotlib.pyplot as plt\n",
    "import seaborn as sns"
   ]
  },
  {
   "cell_type": "code",
   "execution_count": null,
   "id": "06c688a1",
   "metadata": {},
   "outputs": [],
   "source": [
    "#display all columns in dataframe\n",
    "pd.set_option('display.max_columns', None)"
   ]
  },
  {
   "cell_type": "markdown",
   "id": "485364fb",
   "metadata": {},
   "source": [
    "## Inspection of Original Dataset"
   ]
  },
  {
   "cell_type": "code",
   "execution_count": null,
   "id": "67a835e3",
   "metadata": {},
   "outputs": [],
   "source": [
    "#load the data\n",
    "df = pd.read_sas('./LLCP2020.XPT')"
   ]
  },
  {
   "cell_type": "code",
   "execution_count": null,
   "id": "6b1abed1",
   "metadata": {},
   "outputs": [],
   "source": [
    "#Inspect the data\n",
    "df"
   ]
  },
  {
   "cell_type": "code",
   "execution_count": null,
   "id": "285fd833",
   "metadata": {},
   "outputs": [],
   "source": [
    "#cleaning the columns names up for easier access\n",
    "df.columns = [name.strip().lower() for name in df.columns]"
   ]
  },
  {
   "cell_type": "markdown",
   "id": "34896142",
   "metadata": {},
   "source": [
    "After looking at the data, it is clear that the code book is required to figure out what each column represents. Not only that, but it will be benefical to rename these columns after cleaning and dropping some of them."
   ]
  },
  {
   "cell_type": "code",
   "execution_count": null,
   "id": "c435ee78",
   "metadata": {},
   "outputs": [],
   "source": [
    "#verifying that this frequency matches with what's written in the code book\n",
    "#looking at the years this survey was conducted\n",
    "df.iyear.value_counts()"
   ]
  },
  {
   "cell_type": "code",
   "execution_count": null,
   "id": "5fe35755",
   "metadata": {},
   "outputs": [],
   "source": [
    "#heart attacks\n",
    "df.cvdinfr4.value_counts(normalize= True)"
   ]
  },
  {
   "cell_type": "code",
   "execution_count": null,
   "id": "c1dc9533",
   "metadata": {},
   "outputs": [],
   "source": [
    "df.cvdinfr4.isnull().sum()"
   ]
  },
  {
   "cell_type": "code",
   "execution_count": null,
   "id": "1e4fa00d",
   "metadata": {},
   "outputs": [],
   "source": [
    "#Coronary Heart Disease\n",
    "df.cvdcrhd4.value_counts(normalize= True)"
   ]
  },
  {
   "cell_type": "markdown",
   "id": "69fad682",
   "metadata": {},
   "source": [
    "1 = yes,  2 = no,  7 = Don't know/Not sure ,   9 = refused"
   ]
  },
  {
   "cell_type": "markdown",
   "id": "e501c7d3",
   "metadata": {},
   "source": [
    "We will look at the heart disease which is defined by the CDC as : stuff. As such, it is reasonable that we will combine heart attacks and coronary heart disease into a new column called heart disease after initial cleaning."
   ]
  },
  {
   "cell_type": "code",
   "execution_count": null,
   "id": "4bdff52e",
   "metadata": {},
   "outputs": [],
   "source": [
    "#creation of the heart_disease column\n",
    "conditions = [\n",
    "    (df.cvdcrhd4 == 1),\n",
    "    (df.cvdinfr4 == 1)\n",
    "]\n",
    "\n",
    "values = [1,1]\n",
    "\n",
    "df['heart_disease'] = np.select(conditions, values)"
   ]
  },
  {
   "cell_type": "code",
   "execution_count": null,
   "id": "b9b5ebfe",
   "metadata": {},
   "outputs": [],
   "source": [
    "df.heart_disease.value_counts()"
   ]
  },
  {
   "cell_type": "code",
   "execution_count": null,
   "id": "2e1a3c97",
   "metadata": {},
   "outputs": [],
   "source": [
    "df.duplicated()"
   ]
  },
  {
   "cell_type": "markdown",
   "id": "160ae118",
   "metadata": {},
   "source": [
    "***After looking at the code book.*** These will be are potential columns, I will want to keep as they can be/ are related to heart disease. Some are potentially environmental factors such as income. Some features while related to heart disease were a bit too fine grain for the business problem and or were not asked to the individual as it does not apply to them. As such, there 50% or more of missing or blanks and imputing would skew it highly: \n",
    "\n",
    "- GENHLTH : general health; Would you say that in general your health is\n",
    "\n",
    "- PHYSHLTH : Number of Days Physical Health Not Good; Now thinking about your physical health, which includes physical illness and injury, for how many days during the past 30 days was your physical health not good? \n",
    "\n",
    "- MENTHLTH : Number of Days Mental Health Not Good; Now thinking about your mental health, which includes stress, depression, and problems with emotions, for how many days during the past 30 days was your mental health not good? \n",
    "\n",
    "\n",
    "- POORHLTH : Poor Physical or Mental Health; During the past 30 days, for about how many days did poor physical or mental health keep you from doing your usual activities, such as self-care, work, or recreation? \n",
    "\n",
    "- HLTHPLN1 :  Have any health care coverage\n",
    "\n",
    "- PERSDOC2 : Multiple Health Care Professionals ; Do you have one person you think of as your personal doctor or health care - provider? (If ´No´ ask ´Is there more than one or is there no person who you think of as your personal doctor or health care provider?´.)\n",
    "\n",
    "- MEDCOST : past 12 months, Could Not See Doctor Because of Cost\n",
    "\n",
    "- CHECKUP1 : Length of time since last routine checkup\n",
    "\n",
    "- EXERANY2 : : Exercise in Past 30 Days \n",
    "\n",
    "- SLEPTIM1 : How Much Time Do You Sleep \n",
    "\n",
    "- CVDSTRK3 : Ever Diagnosed with a Stroke\n",
    "\n",
    "- ASTHMA3 : Ever Told Had Asthma \n",
    "\n",
    "- ASTHNOW  : Still Have Asthma \n",
    "\n",
    "- CHCSCNCR : (Ever told) you had skin cancer\n",
    "\n",
    "- CHCOCNCR : (Ever told) you had any other types of cancer?\n",
    "\n",
    "- CHCCOPD2 : (Ever told) (you had) chronic obstructive pulmonary disease, C.O.P.D., emphysema or chronic bronchitis?\n",
    "\n",
    "- HAVARTH4 : Told Had Arthritis; (Ever told) (you had) some form of arthritis, rheumatoid arthritis, gout, lupus, or fibromyalgia? (Arthritis diagnoses include: rheumatism, polymyalgia rheumatica; osteoarthritis (not osteporosis); tendonitis, bursitis, bunion,tennis elbow; carpal tunnel syndrome, tarsal tunnel syndrome; joint infection, etc.)\n",
    "\n",
    "-  ADDEPEV3 : (Ever told) (you had) a depressive disorder (including depression, major depression, dysthymia, or minor depression)?\n",
    "\n",
    "- CHCKDNY2 : Ever told you have kidney disease?\n",
    "\n",
    "- DIABETE4: (Ever told) you had diabetes; (Ever told) (you had) diabetes? (If ´Yes´ and respondent is female, ask ´Was this only when you were pregnant?´. If Respondent says pre-diabetes or borderline diabetes, use response code 4.)\n",
    "\n",
    "- EDUCA : Education Level\n",
    "\n",
    "- RENTHOM1 : Own or Rent Home\n",
    "\n",
    "- EMPLOY1 :  Employment Status\n",
    "\n",
    "- INCOME2 : Income Level \n",
    "\n",
    "- WEIGHT2 : : Reported Weight in Pounds\n",
    "\n",
    "- HEIGHT3 :  Reported Height in Feet and Inches \n",
    "\n",
    "- DIFFWALK : : Difficulty Walking or Climbing Stairs\n",
    "\n",
    "- SMOKE100 : SMOKE100; Have you smoked at least 100 cigarettes in your entire life? [Note: 5 packs = 100 cigarettes] \n",
    "\n",
    "- USENOW3 :  Use of Smokeless Tobacco Products; Do you currently use chewing tobacco, snuff, or snus every day, some days, or not at all? (Snus (Swedish for snuff) is a moist smokeless tobacco, usually sold in small pouches that are placed under the lip against the gum.)[Snus\n",
    "(rhymes with ´goose´)]\n",
    "\n",
    "- ALCDAY5 : Days in past 30 had alcoholic beverage \n",
    "\n",
    "- HIVRISK5 : Do Any High Risk Situations Apply\n",
    "\n",
    "- ECIGARET : Ever used an e-cigarette?"
   ]
  },
  {
   "cell_type": "markdown",
   "id": "f3e2e9dc",
   "metadata": {},
   "source": [
    "All other columns will be droppped as they contained information that will either introduce biass into the models such as the`imrace` and `colgsex` which refer to race and gender respectively, or they are finer details about some the columns above where over half the respondents had were not asked as it did not pertain to them, nor did I think it would be helpful to the model. Further columns will be drop in the process if they contained too many nulls or if later on it is determined that it's too similar to another features. No cleaning was done on the original dataset as we still need to create our heart disease dataframe."
   ]
  },
  {
   "cell_type": "markdown",
   "id": "a54e2974",
   "metadata": {},
   "source": [
    "## Creation of Heart Disease Dataset"
   ]
  },
  {
   "cell_type": "code",
   "execution_count": null,
   "id": "3d71dd60",
   "metadata": {},
   "outputs": [],
   "source": [
    "#Creating a heart_disease specific data frame\n",
    "heart_df = df[['genhlth', 'physhlth', 'menthlth', 'poorhlth', 'hlthpln1' , 'persdoc2' , 'medcost' , 'checkup1' ,\n",
    "                  'exerany2' , 'sleptim1' , 'cvdstrk3' , 'asthma3' , 'chcscncr' , 'chcocncr' , 'chccopd2' , 'havarth4' ,\n",
    "                  'addepev3' , 'chckdny2' , 'diabete4' , 'educa' , 'renthom1' , 'employ1' , 'income2' , 'weight2' ,\n",
    "                  'height3' , 'diffwalk' , 'smoke100' , 'usenow3' , 'alcday5' , 'hivrisk5' , 'ecigaret' ,\n",
    "              'cvdcrhd4', 'cvdinfr4' , 'heart_disease']]"
   ]
  },
  {
   "cell_type": "code",
   "execution_count": null,
   "id": "267be927",
   "metadata": {
    "scrolled": true
   },
   "outputs": [],
   "source": [
    "heart_df"
   ]
  },
  {
   "cell_type": "markdown",
   "id": "30e79edc",
   "metadata": {},
   "source": [
    "### Renaming our columns"
   ]
  },
  {
   "cell_type": "markdown",
   "id": "86d72fe9",
   "metadata": {},
   "source": [
    "Due to the nature of some of the column names, it is difficult to keep track of what some of these names represent. As such, they will be renamed into more interpretable name."
   ]
  },
  {
   "cell_type": "code",
   "execution_count": null,
   "id": "c9c42295",
   "metadata": {
    "scrolled": true
   },
   "outputs": [],
   "source": [
    "heart_df.rename(columns = { 'genhlth': 'general_health',\n",
    "                           'physhlth': 'physical_health',\n",
    "                           'menthlth': 'mental_health',\n",
    "                           'poorhlth' : 'poor_health30',\n",
    "                           'hlthpln1': 'health_insurance',\n",
    "                           'persdoc2':'health_care_doctors',\n",
    "                           'medcost':'no_doc_bc_cost',\n",
    "                           'checkup1':'last_checkup',\n",
    "                           'exerany2':'excercise_30',\n",
    "                           'sleptim1':'sleep',\n",
    "                           'cvdstrk3':'stroke',\n",
    "                           'asthma3':'asthma',\n",
    "                           'chcscncr':'skin_cancer',\n",
    "                           'chcocncr':'other_cancer',\n",
    "                           'chccopd2':'copd_type_issue',\n",
    "                           'havarth4':'arthritis_anyform',\n",
    "                           'addepev3':'depressive_disorder',\n",
    "                           'chckdny2':'kidney_disease',\n",
    "                           'diabete4':'diabetes',\n",
    "                           'educa':'education_lvl',\n",
    "                           'renthom1':'rent_own',\n",
    "                           'employ1':'employment_status',\n",
    "                           'income2':'income_level',\n",
    "                           'weight2':'weight_lbs',\n",
    "                           'height3':'height_ftandinch',\n",
    "                           'diffwalk':'difficulty_walking',\n",
    "                           'smoke100':'smoke100_lifetime',\n",
    "                           'usenow3':'smokeless_tobacco_products',\n",
    "                           'alcday5':'alcohol_consumption_30',\n",
    "                           'hivrisk5':'high_risk_situations',\n",
    "                           'cvdcrhd4':'coronary_heart_disease',\n",
    "                           'cvdinfr4':'heart_attack',\n",
    "                          }, inplace = True)"
   ]
  },
  {
   "cell_type": "code",
   "execution_count": null,
   "id": "598a31f3",
   "metadata": {},
   "outputs": [],
   "source": [
    "heart_df"
   ]
  },
  {
   "cell_type": "markdown",
   "id": "c461eb3f",
   "metadata": {},
   "source": [
    "### Cleaning our target"
   ]
  },
  {
   "cell_type": "markdown",
   "id": "83c36e88",
   "metadata": {},
   "source": [
    "Because our heart disease was created on the condition that someone responded yes to either they had a heart attack or has coronary heart disease, every row is filled in. When in reality there is some nulls in both the heart attack and coronary heart disease column."
   ]
  },
  {
   "cell_type": "code",
   "execution_count": null,
   "id": "9258626a",
   "metadata": {},
   "outputs": [],
   "source": [
    "heart_df.heart_attack.value_counts()"
   ]
  },
  {
   "cell_type": "code",
   "execution_count": null,
   "id": "4590b509",
   "metadata": {},
   "outputs": [],
   "source": [
    "heart_df.heart_attack.isna().sum()"
   ]
  },
  {
   "cell_type": "code",
   "execution_count": null,
   "id": "b0fa4a5d",
   "metadata": {},
   "outputs": [],
   "source": [
    "#dropping the nulls\n",
    "heart_df.dropna(subset= ['heart_attack', 'coronary_heart_disease'], inplace = True)"
   ]
  },
  {
   "cell_type": "code",
   "execution_count": null,
   "id": "6ef9f3f6",
   "metadata": {},
   "outputs": [],
   "source": [
    "heart_df.heart_attack.isna().sum()"
   ]
  },
  {
   "cell_type": "code",
   "execution_count": null,
   "id": "63e4449d",
   "metadata": {},
   "outputs": [],
   "source": [
    "heart_df.coronary_heart_disease.value_counts()"
   ]
  },
  {
   "cell_type": "code",
   "execution_count": null,
   "id": "b0ec5e7e",
   "metadata": {},
   "outputs": [],
   "source": [
    "heart_df.coronary_heart_disease.isna().sum()"
   ]
  },
  {
   "cell_type": "markdown",
   "id": "db75ccb9",
   "metadata": {},
   "source": [
    "Because these were used to create our target and is a bit more detailed. We willl be removing the individuals that refused to answer or were unsured as we want our target `heart_disease` to represent answers to either response as either a yes or no."
   ]
  },
  {
   "cell_type": "code",
   "execution_count": null,
   "id": "8413a741",
   "metadata": {},
   "outputs": [],
   "source": [
    "#subsetting where they responded with either 1, 2\n",
    "heart_df = heart_df[(heart_df['heart_attack'] != 7.0) & (heart_df['heart_attack'] != 9.0)]"
   ]
  },
  {
   "cell_type": "code",
   "execution_count": null,
   "id": "08abd166",
   "metadata": {},
   "outputs": [],
   "source": [
    "heart_df.heart_attack.value_counts()"
   ]
  },
  {
   "cell_type": "code",
   "execution_count": null,
   "id": "4347e81a",
   "metadata": {},
   "outputs": [],
   "source": [
    "#subsetting where they responded with either 1, 2\n",
    "heart_df = heart_df[(heart_df['coronary_heart_disease'] != 7.0) & (heart_df['coronary_heart_disease'] != 9.0)]"
   ]
  },
  {
   "cell_type": "code",
   "execution_count": null,
   "id": "6fd0d375",
   "metadata": {},
   "outputs": [],
   "source": [
    "heart_df.coronary_heart_disease.value_counts()"
   ]
  },
  {
   "cell_type": "code",
   "execution_count": null,
   "id": "15d9e0c6",
   "metadata": {},
   "outputs": [],
   "source": [
    "heart_df"
   ]
  },
  {
   "cell_type": "code",
   "execution_count": null,
   "id": "eef291d3",
   "metadata": {},
   "outputs": [],
   "source": [
    "heart_df.heart_disease.value_counts(normalize = True)"
   ]
  },
  {
   "cell_type": "markdown",
   "id": "dc56908e",
   "metadata": {},
   "source": [
    "We have a heavy imbalance where 92% of the individuals did not have either a coronary heart disease or heart attack, while 8% have it. As such, when we model, we will need to either SMOTE or undersample the majority.  "
   ]
  },
  {
   "cell_type": "markdown",
   "id": "d2eaaade",
   "metadata": {},
   "source": [
    "### Looking at our columns"
   ]
  },
  {
   "cell_type": "code",
   "execution_count": null,
   "id": "f726fe6e",
   "metadata": {},
   "outputs": [],
   "source": [
    "heart_df.info()"
   ]
  },
  {
   "cell_type": "code",
   "execution_count": null,
   "id": "6706f96b",
   "metadata": {},
   "outputs": [],
   "source": [
    "heart_df.general_health.value_counts()"
   ]
  },
  {
   "cell_type": "code",
   "execution_count": null,
   "id": "ac41aef8",
   "metadata": {},
   "outputs": [],
   "source": [
    "heart_df.poor_health30.value_counts()"
   ]
  },
  {
   "cell_type": "code",
   "execution_count": null,
   "id": "6771ad1d",
   "metadata": {},
   "outputs": [],
   "source": [
    "heart_df.poor_health30.isna().sum()"
   ]
  },
  {
   "cell_type": "markdown",
   "id": "17774aca",
   "metadata": {},
   "source": [
    "Close to half of the individuals were not asked this question or it's missing. Those that responded, majority fall into the none category. We will drop this column instead of imputing it as 'not applicable' since ~200k missing values is close to half of our dataset and that would not be a continous value."
   ]
  },
  {
   "cell_type": "code",
   "execution_count": null,
   "id": "6ea20dd7",
   "metadata": {},
   "outputs": [],
   "source": [
    "heart_df.drop(columns= ['poor_health30'], inplace = True)"
   ]
  },
  {
   "cell_type": "code",
   "execution_count": null,
   "id": "a898d113",
   "metadata": {},
   "outputs": [],
   "source": [
    "heart_df.head()"
   ]
  },
  {
   "cell_type": "code",
   "execution_count": null,
   "id": "8a2b4ca6",
   "metadata": {},
   "outputs": [],
   "source": [
    "heart_df.physical_health.value_counts()"
   ]
  },
  {
   "cell_type": "code",
   "execution_count": null,
   "id": "407a5bd9",
   "metadata": {},
   "outputs": [],
   "source": [
    "heart_df.physical_health.isna().sum()"
   ]
  },
  {
   "cell_type": "markdown",
   "id": "0416691b",
   "metadata": {},
   "source": [
    "Alot of people stated none (88) for physhealth. Will need to recode 88 to 0 to ensure that if any scaling is done, we don't get insane pulling. Not only that but 0 makes sense as they've 0 days out of 30 days of bad physical health."
   ]
  },
  {
   "cell_type": "code",
   "execution_count": null,
   "id": "cdfcbd12",
   "metadata": {},
   "outputs": [],
   "source": [
    "heart_df.mental_health.value_counts()"
   ]
  },
  {
   "cell_type": "code",
   "execution_count": null,
   "id": "27f62e08",
   "metadata": {},
   "outputs": [],
   "source": [
    "heart_df.alcohol_consumption_30.value_counts()"
   ]
  },
  {
   "cell_type": "markdown",
   "id": "b802e878",
   "metadata": {},
   "source": [
    "The 1__ and 2__ mean two different things. Those that are using the format 1__ refers to how many days in a WEEK the individual drinks, while 2__ refers to how many days in a MONTH. As such, cleaning will be made in the coding of these values to be able to use this feature in our modeling."
   ]
  },
  {
   "cell_type": "code",
   "execution_count": null,
   "id": "960048f9",
   "metadata": {},
   "outputs": [],
   "source": [
    "#working on fixing the alcohol. Changing all the weekly drinks to monthly\n",
    "\n",
    "# 101- 107 convert to days in a month\n",
    "\n",
    "#201 - 230 remove the 2 infront \n",
    "\n",
    "#filter by 1\n",
    "\n",
    "heart_df.alcohol_consumption_30 = heart_df.alcohol_consumption_30.astype(str)"
   ]
  },
  {
   "cell_type": "code",
   "execution_count": null,
   "id": "e93489d4",
   "metadata": {},
   "outputs": [],
   "source": [
    "heart_df.alcohol_consumption_30"
   ]
  },
  {
   "cell_type": "code",
   "execution_count": null,
   "id": "c995e881",
   "metadata": {},
   "outputs": [],
   "source": [
    "#subseting to just the dirnking\n",
    "heart_week = heart_df[heart_df.alcohol_consumption_30.str.startswith('1')]\n",
    "\n",
    "heart_week.alcohol_consumption_30  = heart_week.alcohol_consumption_30.str.replace(\"10\",\"\")"
   ]
  },
  {
   "cell_type": "code",
   "execution_count": null,
   "id": "834b8c05",
   "metadata": {},
   "outputs": [],
   "source": [
    "heart_week.alcohol_consumption_30.value_counts()"
   ]
  },
  {
   "cell_type": "code",
   "execution_count": null,
   "id": "21333acb",
   "metadata": {},
   "outputs": [],
   "source": [
    "heart_week.alcohol_consumption_30 = heart_week.alcohol_consumption_30.astype(float)"
   ]
  },
  {
   "cell_type": "code",
   "execution_count": null,
   "id": "17c06f40",
   "metadata": {},
   "outputs": [],
   "source": [
    "#calculating how much these individual consumed in a month\n",
    "heart_week.alcohol_consumption_30 = [x*4.3 for x in heart_week.alcohol_consumption_30]"
   ]
  },
  {
   "cell_type": "code",
   "execution_count": null,
   "id": "f8fab919",
   "metadata": {},
   "outputs": [],
   "source": [
    "#checking to verify that math was applied correctly\n",
    "heart_week.alcohol_consumption_30.value_counts()"
   ]
  },
  {
   "cell_type": "code",
   "execution_count": null,
   "id": "9ca226a0",
   "metadata": {},
   "outputs": [],
   "source": [
    "#subset the months drinking\n",
    "heart_month = heart_df[heart_df.alcohol_consumption_30.str.startswith('2')]"
   ]
  },
  {
   "cell_type": "code",
   "execution_count": null,
   "id": "30853a8e",
   "metadata": {},
   "outputs": [],
   "source": [
    "#converting to string\n",
    "heart_month.alcohol_consumption_30.astype(str)"
   ]
  },
  {
   "cell_type": "code",
   "execution_count": null,
   "id": "4e29e8b2",
   "metadata": {},
   "outputs": [],
   "source": [
    "#removing the 2 from the monthly\n",
    "heart_month.alcohol_consumption_30  = heart_month.alcohol_consumption_30.str.replace(\"2\",\"\", 1)"
   ]
  },
  {
   "cell_type": "code",
   "execution_count": null,
   "id": "eb498322",
   "metadata": {},
   "outputs": [],
   "source": [
    "heart_month.alcohol_consumption_30.value_counts()"
   ]
  },
  {
   "cell_type": "code",
   "execution_count": null,
   "id": "237c62b9",
   "metadata": {},
   "outputs": [],
   "source": [
    "heart_month.alcohol_consumption_30.astype(float)"
   ]
  },
  {
   "cell_type": "code",
   "execution_count": null,
   "id": "c6f6ba42",
   "metadata": {},
   "outputs": [],
   "source": [
    "heart_month.alcohol_consumption_30.value_counts()"
   ]
  },
  {
   "cell_type": "markdown",
   "id": "3afc6b52",
   "metadata": {},
   "source": [
    " "
   ]
  },
  {
   "cell_type": "code",
   "execution_count": null,
   "id": "cbf827f0",
   "metadata": {},
   "outputs": [],
   "source": [
    "heart_df.weight_lbs.value_counts()"
   ]
  },
  {
   "cell_type": "markdown",
   "id": "6dcd906b",
   "metadata": {},
   "source": [
    "Values between 50 and 0776 are weights in lbs.  Weights that start with 9___ are weights in kilograms. 9999.0  = refused, 7777 = not sure"
   ]
  },
  {
   "cell_type": "code",
   "execution_count": null,
   "id": "3bf56d54",
   "metadata": {},
   "outputs": [],
   "source": []
  },
  {
   "cell_type": "code",
   "execution_count": null,
   "id": "c0bfabd0",
   "metadata": {},
   "outputs": [],
   "source": []
  },
  {
   "cell_type": "code",
   "execution_count": null,
   "id": "fee0fa55",
   "metadata": {},
   "outputs": [],
   "source": []
  },
  {
   "cell_type": "code",
   "execution_count": null,
   "id": "f5f05cfe",
   "metadata": {},
   "outputs": [],
   "source": []
  },
  {
   "cell_type": "markdown",
   "id": "cabf718f",
   "metadata": {},
   "source": [
    "**Note** Most of the features have a 88.0 or some form of this to code for none instead of coding it as 0. As such we will now need to go into each column and recode it. I am recoding 88 to 0 to ensure that if any scaling is done, we don't get insane pulling. The 77 means they don't know/remember and 99 is they refused to answer the question. Will need to decide on what type of imputation to do on these ones or whether we'd like to drop it. "
   ]
  },
  {
   "cell_type": "code",
   "execution_count": null,
   "id": "072138d8",
   "metadata": {},
   "outputs": [],
   "source": [
    "#recoding using all features that contains 88.0, 7.0 and 9.0\n",
    "\n",
    "#def recoding(dataframe):  "
   ]
  },
  {
   "cell_type": "code",
   "execution_count": null,
   "id": "493718b8",
   "metadata": {},
   "outputs": [],
   "source": [
    "heart_df"
   ]
  },
  {
   "cell_type": "markdown",
   "id": "ee26372f",
   "metadata": {},
   "source": [
    "# Next Steps"
   ]
  },
  {
   "cell_type": "markdown",
   "id": "2f7360d9",
   "metadata": {},
   "source": [
    "- figuring out a way to incorporate all of the other types of heart conditions that fall under cardiovascular disease. This projects only looks at heart attack and CAD. While the true scale of the disease expands out to high blood pressure, congenitial heart disease etc."
   ]
  }
 ],
 "metadata": {
  "kernelspec": {
   "display_name": "Python (phase5)",
   "language": "python",
   "name": "phase5"
  },
  "language_info": {
   "codemirror_mode": {
    "name": "ipython",
    "version": 3
   },
   "file_extension": ".py",
   "mimetype": "text/x-python",
   "name": "python",
   "nbconvert_exporter": "python",
   "pygments_lexer": "ipython3",
   "version": "3.8.5"
  }
 },
 "nbformat": 4,
 "nbformat_minor": 5
}
